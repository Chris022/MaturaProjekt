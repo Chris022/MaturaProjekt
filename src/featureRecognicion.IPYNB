{
 "cells": [
  {
   "cell_type": "markdown",
   "metadata": {},
   "source": [
    "# Algorithm #"
   ]
  },
  {
   "cell_type": "code",
   "execution_count": 361,
   "metadata": {},
   "outputs": [],
   "source": [
    "from PIL import Image\n",
    "import numpy\n",
    "import matplotlib.pyplot as plt\n",
    "import math\n",
    "import operator\n",
    "import cv2"
   ]
  },
  {
   "cell_type": "markdown",
   "metadata": {},
   "source": [
    "## Load Image ##"
   ]
  },
  {
   "cell_type": "code",
   "execution_count": 362,
   "metadata": {},
   "outputs": [],
   "source": [
    "def loadImage(path, name):\n",
    "    image = cv2.imread('{path}/{name}'.format(path=path,name=name))\n",
    "    image = cv2.cvtColor(image, cv2.COLOR_RGB2GRAY)\n",
    "    image = 255 - image\n",
    "    return numpy.asarray(image)\n",
    "\n",
    "def thinnImage(image):\n",
    "    image = cv2.ximgproc.thinning(image)\n",
    "    return image"
   ]
  },
  {
   "cell_type": "code",
   "execution_count": 363,
   "metadata": {},
   "outputs": [
    {
     "data": {
      "text/plain": [
       "<matplotlib.image.AxesImage at 0x17ed1e73310>"
      ]
     },
     "execution_count": 363,
     "metadata": {},
     "output_type": "execute_result"
    },
    {
     "data": {
      "image/png": "[encoded data removed]",
      "text/plain": [
       "<Figure size 432x288 with 1 Axes>"
      ]
     },
     "metadata": {
      "needs_background": "light"
     },
     "output_type": "display_data"
    }
   ],
   "source": [
    "image = loadImage(\"./testImages\",\"1.png\")\n",
    "image = cv2.resize(image, (400,300), interpolation = cv2.INTER_AREA)\n",
    "\n",
    "#for y in range(0,len(image)):\n",
    "#    for x in range(0, len(image[y])):\n",
    "#        if image[y][x] > 110:\n",
    "#            image[y][x] = 255\n",
    "#        else:\n",
    "#            image[y][x] = 0\n",
    "\n",
    "cv2.imwrite(\"out.png\", 255 - image)\n",
    "\n",
    "image = thinnImage(image)\n",
    "\n",
    "cv2.imwrite(\"thinn.png\", 255 - image)\n",
    "\n",
    "plt.imshow(image, cmap=plt.cm.binary)"
   ]
  },
  {
   "cell_type": "markdown",
   "metadata": {},
   "source": [
    "## Filter ##\n",
    "\n",
    "Only odd numbers for filter lengths"
   ]
  },
  {
   "cell_type": "code",
   "execution_count": 364,
   "metadata": {},
   "outputs": [],
   "source": [
    "def getImagePart(filter, x, y):\n",
    "    imagePart = numpy.empty_like(filter)\n",
    "    imagePart[:] = filter\n",
    "    yOffset = -math.floor(len(imagePart)/2)\n",
    "    for fy in range(0 + yOffset, len(imagePart) + yOffset):\n",
    "        xOffset = -math.floor(len(imagePart[0])/2)\n",
    "        for fx in range(0 + xOffset, len(imagePart[0]) + xOffset):\n",
    "            try:\n",
    "                imagePart[fy - yOffset][fx - xOffset] = image[y + fy][x + fx]\n",
    "            except:\n",
    "                imagePart[fy - yOffset][fx - xOffset] = 0\n",
    "    return imagePart\n",
    "\n",
    "def whiteFilter(image):\n",
    "    filter = numpy.asarray([[0,0,0],[0,0,0],[0,0,0]])\n",
    "    image = numpy.asarray(image)\n",
    "    features = numpy.empty_like(image)\n",
    "    features[:] = image\n",
    "    for y in range(0,len(image)):\n",
    "        for x in range(0,len(image[y])):\n",
    "            if (filter == getImagePart(filter, x, y)).all():\n",
    "                features[y][x] = 255\n",
    "            else:\n",
    "                features[y][x] = 0\n",
    "    return features\n",
    "\n",
    "def applyFilter(filter, image, points):\n",
    "    image = numpy.asarray(image)\n",
    "    features = []\n",
    "    for (x, y) in points:\n",
    "        if (filter == getImagePart(filter, x, y)).all():\n",
    "            features.append((x,y))\n",
    "    return features"
   ]
  },
  {
   "cell_type": "code",
   "execution_count": 365,
   "metadata": {},
   "outputs": [],
   "source": [
    "whiteFeatures = whiteFilter(image)\n",
    "points = []\n",
    "for y in range(0, len(whiteFeatures)):\n",
    "    for x in range(0, len(whiteFeatures[y])):\n",
    "        if whiteFeatures[y][x] == 0:\n",
    "            points.append((x,y))"
   ]
  },
  {
   "cell_type": "code",
   "execution_count": 366,
   "metadata": {},
   "outputs": [
    {
     "name": "stdout",
     "output_type": "stream",
     "text": [
      "[(175, 159), (172, 166), (279, 180), (241, 224), (138, 209), (122, 211), (214, 160), (217, 166), (139, 199), (312, 181), (274, 224), (122, 200)]\n",
      "[(55, 178), (295, 180), (59, 136), (193, 159), (282, 180), (310, 180), (259, 223), (122, 206), (122, 201), (284, 152), (259, 206), (139, 204), (193, 205), (193, 111), (193, 167), (293, 149)]\n"
     ]
    }
   ],
   "source": [
    "filters = []\n",
    "filters.append([[0,0,0],[0,255,255],[0,0,0]])\n",
    "filters.append([[255,0,0],[0,255,0],[0,0,0]])\n",
    "\n",
    "endPointFilters = []\n",
    "for filter in filters:\n",
    "    for k in range(0,4):\n",
    "        endPointFilters.append(numpy.rot90(filter, k))\n",
    "\n",
    "endPoints = []\n",
    "for filter in endPointFilters:\n",
    "    endPoints = endPoints + applyFilter(filter, image, points)\n",
    "print(endPoints)\n",
    "\n",
    "\n",
    "filters = []\n",
    "filters.append([[0,0,0],[255,255,255],[0,255,0]])\n",
    "filters.append([[0,0,0],[255,0,255],[0,255,0]])\n",
    "filters.append([[255,0,0],[0,255,255],[0,255,0]])\n",
    "filters.append([[0,0,255],[255,255,255],[0,255,0]])\n",
    "filters.append([[255,0,0],[255,255,255],[0,255,0]])\n",
    "\n",
    "intersectionFilters = []\n",
    "for filter in filters:\n",
    "    for k in range(0,4):\n",
    "        intersectionFilters.append(numpy.rot90(filter, k))\n",
    "\n",
    "intersections = []\n",
    "for filter in intersectionFilters:\n",
    "    intersections = intersections + applyFilter(filter, image, points)\n",
    "print(intersections)\n"
   ]
  },
  {
   "cell_type": "markdown",
   "metadata": {},
   "source": [
    "Mark end points red and intersections green"
   ]
  },
  {
   "cell_type": "code",
   "execution_count": 367,
   "metadata": {},
   "outputs": [
    {
     "data": {
      "text/plain": [
       "<matplotlib.image.AxesImage at 0x17ed1edd580>"
      ]
     },
     "execution_count": 367,
     "metadata": {},
     "output_type": "execute_result"
    },
    {
     "data": {
      "image/png": "[encoded data removed]",
      "text/plain": [
       "<Figure size 432x288 with 1 Axes>"
      ]
     },
     "metadata": {
      "needs_background": "light"
     },
     "output_type": "display_data"
    }
   ],
   "source": [
    "outImage = []\n",
    "for y in range(0,len(image)):\n",
    "    row = []\n",
    "    for x in range(0,len(image[y])):\n",
    "        if image[y][x] >= 1:\n",
    "            row.append((0,0,0))\n",
    "        else:\n",
    "            row.append((255,255,255))\n",
    "    outImage.append(row)\n",
    "    \n",
    "for point in endPoints:\n",
    "    outImage[point[1]][point[0]] = (0,0,255)\n",
    "\n",
    "for point in intersections:\n",
    "    outImage[point[1]][point[0]] = (0,255,0)\n",
    "\n",
    "cv2.imwrite(\"points.png\", numpy.asarray(outImage))\n",
    "    \n",
    "plt.imshow(outImage, interpolation='bilinear')"
   ]
  }
 ],
 "metadata": {
  "interpreter": {
   "hash": "e5c3deade111fccd4fa92eff86d83ddd10bf433c556b75bb1aa6e942e768c411"
  },
  "kernelspec": {
   "display_name": "Python 3.9.7 64-bit",
   "name": "python3"
  },
  "language_info": {
   "codemirror_mode": {
    "name": "ipython",
    "version": 3
   },
   "file_extension": ".py",
   "mimetype": "text/x-python",
   "name": "python",
   "nbconvert_exporter": "python",
   "pygments_lexer": "ipython3",
   "version": "3.9.7"
  },
  "orig_nbformat": 4
 },
 "nbformat": 4,
 "nbformat_minor": 2
}
