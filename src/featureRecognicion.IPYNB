{
 "cells": [
  {
   "cell_type": "markdown",
   "metadata": {},
   "source": [
    "# Algorithm #"
   ]
  },
  {
   "cell_type": "code",
   "execution_count": 323,
   "metadata": {},
   "outputs": [],
   "source": [
    "from PIL import Image\n",
    "import numpy\n",
    "import matplotlib.pyplot as plt\n",
    "import math\n",
    "import operator\n",
    "import cv2"
   ]
  },
  {
   "cell_type": "markdown",
   "metadata": {},
   "source": [
    "## Load Image ##"
   ]
  },
  {
   "cell_type": "code",
   "execution_count": 324,
   "metadata": {},
   "outputs": [],
   "source": [
    "def loadImage(path, name):\n",
    "    image = cv2.imread('{path}/{name}'.format(path=path,name=name))\n",
    "    image = cv2.cvtColor(image, cv2.COLOR_RGB2GRAY)\n",
    "    image = 255 - image\n",
    "    return numpy.asarray(image)\n",
    "\n",
    "def thinnImage(image):\n",
    "    image = cv2.ximgproc.thinning(image)\n",
    "    return image"
   ]
  },
  {
   "cell_type": "code",
   "execution_count": 325,
   "metadata": {},
   "outputs": [
    {
     "data": {
      "text/plain": [
       "<matplotlib.image.AxesImage at 0x1b1459e5580>"
      ]
     },
     "execution_count": 325,
     "metadata": {},
     "output_type": "execute_result"
    },
    {
     "data": {
      "image/png": "[encoded data removed]",
      "text/plain": [
       "<Figure size 432x288 with 1 Axes>"
      ]
     },
     "metadata": {
      "needs_background": "light"
     },
     "output_type": "display_data"
    }
   ],
   "source": [
    "image = loadImage(\"./testImages\",\"1.png\")\n",
    "image = cv2.resize(image, (400,300), interpolation = cv2.INTER_AREA)\n",
    "\n",
    "#for y in range(0,len(image)):\n",
    "#    for x in range(0, len(image[y])):\n",
    "#        if image[y][x] > 110:\n",
    "#            image[y][x] = 255\n",
    "#        else:\n",
    "#            image[y][x] = 0\n",
    "\n",
    "cv2.imwrite(\"out.png\", 255 - image)\n",
    "\n",
    "image = thinnImage(image)\n",
    "\n",
    "cv2.imwrite(\"thinn.png\", 255 - image)\n",
    "\n",
    "plt.imshow(image, cmap=plt.cm.binary)"
   ]
  },
  {
   "cell_type": "markdown",
   "metadata": {},
   "source": [
    "## Filter ##\n",
    "\n",
    "Only odd numbers for filter lengths"
   ]
  },
  {
   "cell_type": "code",
   "execution_count": 326,
   "metadata": {},
   "outputs": [],
   "source": [
    "def getRegion(filter, x, y, image):\n",
    "    yOffset = math.floor(len(filter)/2)\n",
    "    xOffset = math.floor(len(filter[0])/2)\n",
    "    return image[y-yOffset:y+yOffset+1, x-xOffset:x+xOffset+1]\n",
    "\n",
    "def whiteFilter(image):\n",
    "    filter = numpy.asarray([[0,0,0],[0,0,0],[0,0,0]])\n",
    "    image = numpy.asarray(image)\n",
    "    features = numpy.empty_like(image)\n",
    "    for y in range(1,len(image)-1):\n",
    "        for x in range(1,len(image[y])-1):\n",
    "            if numpy.all(numpy.equal(filter, getRegion(filter, x, y, image))):\n",
    "                features[y][x] = 255\n",
    "            else:\n",
    "                features[y][x] = 0\n",
    "    return features\n",
    "\n",
    "def applyFilter(filter, image, points):\n",
    "    image = numpy.asarray(image)\n",
    "    features = []\n",
    "    for (x, y) in points:\n",
    "        if numpy.all(numpy.equal(filter, getRegion(filter, x, y, image))):\n",
    "            features.append((x,y))\n",
    "    return features"
   ]
  },
  {
   "cell_type": "code",
   "execution_count": 327,
   "metadata": {},
   "outputs": [],
   "source": [
    "whiteFeatures = whiteFilter(image)\n",
    "points = []\n",
    "for y in range(1, len(whiteFeatures)-1):\n",
    "    for x in range(1, len(whiteFeatures[y])-1):\n",
    "        if whiteFeatures[y][x] == 0:\n",
    "            points.append((x,y))"
   ]
  },
  {
   "cell_type": "code",
   "execution_count": 328,
   "metadata": {},
   "outputs": [],
   "source": [
    "def rotateFilters(filters):\n",
    "    rotatedFilters = []\n",
    "    for filter in filters:\n",
    "        for k in range(0,4):\n",
    "            rotatedFilters.append(numpy.rot90(filter, k))\n",
    "    return rotatedFilters"
   ]
  },
  {
   "cell_type": "code",
   "execution_count": 329,
   "metadata": {},
   "outputs": [],
   "source": [
    "filters = []\n",
    "filters.append([[0,0,0],[0,255,255],[0,0,0]])\n",
    "filters.append([[255,0,0],[0,255,0],[0,0,0]])\n",
    "\n",
    "endPointFilters = rotateFilters(filters)\n",
    "endPoints = []\n",
    "for filter in endPointFilters:\n",
    "    endPoints = endPoints + applyFilter(filter, image, points)\n",
    "#print(endPoints)\n",
    "\n",
    "\n",
    "filters = []\n",
    "filters.append([[0,0,0],[255,255,255],[0,255,0]])\n",
    "filters.append([[0,0,0],[255,0,255],[0,255,0]])\n",
    "filters.append([[255,0,0],[0,255,255],[0,255,0]])\n",
    "filters.append([[0,0,255],[255,255,255],[0,255,0]])\n",
    "filters.append([[255,0,0],[255,255,255],[0,255,0]])\n",
    "\n",
    "intersectionFilters = rotateFilters(filters)\n",
    "\n",
    "intersections = []\n",
    "for filter in intersectionFilters:\n",
    "    intersections = intersections + applyFilter(filter, image, points)\n",
    "#print(intersections)\n"
   ]
  },
  {
   "cell_type": "markdown",
   "metadata": {},
   "source": [
    "Mark end points red and intersections green"
   ]
  },
  {
   "cell_type": "code",
   "execution_count": 330,
   "metadata": {},
   "outputs": [
    {
     "data": {
      "text/plain": [
       "<matplotlib.image.AxesImage at 0x1b14604ee20>"
      ]
     },
     "execution_count": 330,
     "metadata": {},
     "output_type": "execute_result"
    },
    {
     "data": {
      "image/png": "[encoded data removed]",
      "text/plain": [
       "<Figure size 432x288 with 1 Axes>"
      ]
     },
     "metadata": {
      "needs_background": "light"
     },
     "output_type": "display_data"
    }
   ],
   "source": [
    "outImage = []\n",
    "for y in range(0,len(image)):\n",
    "    row = []\n",
    "    for x in range(0,len(image[y])):\n",
    "        if image[y][x] >= 1:\n",
    "            row.append((0,0,0))\n",
    "        else:\n",
    "            row.append((255,255,255))\n",
    "    outImage.append(row)\n",
    "    \n",
    "for point in endPoints:\n",
    "    outImage[point[1]][point[0]] = (0,0,255)\n",
    "\n",
    "for point in intersections:\n",
    "    outImage[point[1]][point[0]] = (0,255,0)\n",
    "\n",
    "cv2.imwrite(\"points.png\", numpy.asarray(outImage))\n",
    "    \n",
    "plt.imshow(outImage, interpolation='bilinear')"
   ]
  }
 ],
 "metadata": {
  "interpreter": {
   "hash": "6c255580c1376a53e8d62a65f4b290fc9e06ee65b5dbb546bacb4a0a6e644e58"
  },
  "kernelspec": {
   "display_name": "Python 3.9.7 64-bit (windows store)",
   "name": "python3"
  },
  "language_info": {
   "codemirror_mode": {
    "name": "ipython",
    "version": 3
   },
   "file_extension": ".py",
   "mimetype": "text/x-python",
   "name": "python",
   "nbconvert_exporter": "python",
   "pygments_lexer": "ipython3",
   "version": "3.9.7"
  },
  "orig_nbformat": 4
 },
 "nbformat": 4,
 "nbformat_minor": 2
}
