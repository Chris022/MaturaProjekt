{
 "cells": [
  {
   "cell_type": "markdown",
   "metadata": {},
   "source": [
    "# Bauteilerkennung mit KNN #\n",
    "\n",
    "### Imports ###"
   ]
  },
  {
   "cell_type": "code",
   "execution_count": 61,
   "metadata": {},
   "outputs": [],
   "source": [
    "from PIL import Image\n",
    "from numpy import asarray, argmin,argmax\n",
    "from matplotlib import pyplot\n",
    "import math\n",
    "import time"
   ]
  },
  {
   "cell_type": "markdown",
   "metadata": {},
   "source": [
    "### Load Trainings Data ###"
   ]
  },
  {
   "cell_type": "code",
   "execution_count": 35,
   "metadata": {},
   "outputs": [],
   "source": [
    "trainData = []\n",
    "numOfCaps = 1\n",
    "numOfRes = 1\n",
    "for x in range(0,numOfCaps):\n",
    "    image = Image.open('./trainingsImages/caps/{x}.png'.format(x=x)).convert('L')\n",
    "    data = 1 - asarray(image)/255\n",
    "    trainData.append([\"cap\",data])\n",
    "for x in range(0,numOfRes):\n",
    "    image = Image.open('./trainingsImages/resistors/{x}.png'.format(x=x)).convert('L')\n",
    "    data = 1 - asarray(image)/255\n",
    "    trainData.append([\"resistor\",data])\n",
    "for x in range(0,numOfRes):\n",
    "    image = Image.open('./trainingsImages/indu/{x}.png'.format(x=x)).convert('L')\n",
    "    data = 1 - asarray(image)/255\n",
    "    trainData.append([\"indu\",data])\n"
   ]
  },
  {
   "cell_type": "markdown",
   "metadata": {},
   "source": [
    "### KNN ###"
   ]
  },
  {
   "cell_type": "code",
   "execution_count": 39,
   "metadata": {},
   "outputs": [],
   "source": [
    "def distance(referenceImage,otherImage):\n",
    "    size = len(referenceImage)\n",
    "    sum_ = 0;\n",
    "    for x in range(0,size):\n",
    "        othersize = len(referenceImage[x])\n",
    "        for y in range(0,othersize):\n",
    "            sum_ += (referenceImage[x,y] - otherImage[x,y])**2\n",
    "    return math.sqrt(sum_)"
   ]
  },
  {
   "cell_type": "markdown",
   "metadata": {},
   "source": [
    "### Load test Data ###"
   ]
  },
  {
   "cell_type": "code",
   "execution_count": 59,
   "metadata": {},
   "outputs": [],
   "source": [
    "image = Image.open('./test.png').convert('L')\n",
    "testData = 1 - asarray(image)/255"
   ]
  },
  {
   "cell_type": "markdown",
   "metadata": {},
   "source": [
    "### Classify ###"
   ]
  },
  {
   "cell_type": "code",
   "execution_count": 64,
   "metadata": {},
   "outputs": [
    {
     "name": "stdout",
     "output_type": "stream",
     "text": [
      "My traingins data Size: 3\n",
      "My Guess cap\n",
      "It took me: 0.0525sec\n",
      "I am so shure: 14.557797975927379%\n"
     ]
    },
    {
     "data": {
      "text/plain": [
       "<matplotlib.image.AxesImage at 0x1fb0a53a668>"
      ]
     },
     "execution_count": 64,
     "metadata": {},
     "output_type": "execute_result"
    },
    {
     "data": {
      "image/png": "[encoded data removed]",
      "text/plain": [
       "<Figure size 432x288 with 1 Axes>"
      ]
     },
     "metadata": {
      "needs_background": "light"
     },
     "output_type": "display_data"
    }
   ],
   "source": [
    "trainImages = list(map(lambda x: x[1],trainData))\n",
    "trainLables = list(map(lambda x: x[0],trainData))\n",
    "\n",
    "tic = time.perf_counter()\n",
    "distances = list(map(lambda x: distance(testData,x),trainImages))\n",
    "toc = time.perf_counter()\n",
    "\n",
    "\n",
    "# Find minimal distance,get index and get the Lable of the training Image\n",
    "min_index = argmin(distances)\n",
    "min_dist = distances[min_index]\n",
    "print(\"My traingins data Size: \" + str(len(trainImages)))\n",
    "print(\"My Guess \" + str(trainLables[min_index]))\n",
    "print(f\"It took me: {toc - tic:0.4f}sec\")\n",
    "\n",
    "#get sencond min\n",
    "del distances[min_index]\n",
    "second_min_index = argmin(distances)\n",
    "second_min_dist = distances[second_min_index]\n",
    "\n",
    "#get maximum\n",
    "max_index = argmax(distances)\n",
    "max_dist = distances[max_index]\n",
    "\n",
    "print(\"I am so shure: \" + str(100*(second_min_dist-min_dist)/(max_dist-min_dist)) + \"%\")\n",
    "pyplot.imshow(testData, cmap=pyplot.cm.binary)"
   ]
  },
  {
   "cell_type": "code",
   "execution_count": null,
   "metadata": {},
   "outputs": [],
   "source": []
  }
 ],
 "metadata": {
  "interpreter": {
   "hash": "9d66e852610df40981e334512c6c7c214e455f2fd9544c01edeabeb4380a7094"
  },
  "kernelspec": {
   "display_name": "Python 3.7.1 64-bit",
   "name": "python3"
  },
  "language_info": {
   "codemirror_mode": {
    "name": "ipython",
    "version": 3
   },
   "file_extension": ".py",
   "mimetype": "text/x-python",
   "name": "python",
   "nbconvert_exporter": "python",
   "pygments_lexer": "ipython3",
   "version": "3.7.1"
  },
  "orig_nbformat": 4
 },
 "nbformat": 4,
 "nbformat_minor": 2
}
