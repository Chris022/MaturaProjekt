{
 "cells": [
  {
   "cell_type": "markdown",
   "source": [
    "# Bauteilerkennung mit KNN #\r\n",
    "\r\n",
    "### Imports ###"
   ],
   "metadata": {}
  },
  {
   "cell_type": "code",
   "execution_count": 48,
   "source": [
    "from PIL import Image\r\n",
    "from numpy import asarray, argmin,argmax\r\n",
    "from matplotlib import pyplot\r\n",
    "import math"
   ],
   "outputs": [],
   "metadata": {}
  },
  {
   "cell_type": "markdown",
   "source": [
    "### Load Trainings Data ###"
   ],
   "metadata": {}
  },
  {
   "cell_type": "code",
   "execution_count": 35,
   "source": [
    "trainData = []\r\n",
    "numOfCaps = 1\r\n",
    "numOfRes = 1\r\n",
    "for x in range(0,numOfCaps):\r\n",
    "    image = Image.open('./trainingsImages/caps/{x}.png'.format(x=x)).convert('L')\r\n",
    "    data = 1 - asarray(image)/255\r\n",
    "    trainData.append([\"cap\",data])\r\n",
    "for x in range(0,numOfRes):\r\n",
    "    image = Image.open('./trainingsImages/resistors/{x}.png'.format(x=x)).convert('L')\r\n",
    "    data = 1 - asarray(image)/255\r\n",
    "    trainData.append([\"resistor\",data])\r\n",
    "for x in range(0,numOfRes):\r\n",
    "    image = Image.open('./trainingsImages/indu/{x}.png'.format(x=x)).convert('L')\r\n",
    "    data = 1 - asarray(image)/255\r\n",
    "    trainData.append([\"indu\",data])\r\n"
   ],
   "outputs": [],
   "metadata": {}
  },
  {
   "cell_type": "markdown",
   "source": [
    "### KNN ###"
   ],
   "metadata": {}
  },
  {
   "cell_type": "code",
   "execution_count": 39,
   "source": [
    "def distance(referenceImage,otherImage):\r\n",
    "    size = len(referenceImage)\r\n",
    "    sum_ = 0;\r\n",
    "    for x in range(0,size):\r\n",
    "        othersize = len(referenceImage[x])\r\n",
    "        for y in range(0,othersize):\r\n",
    "            sum_ += (referenceImage[x,y] - otherImage[x,y])**2\r\n",
    "    return math.sqrt(sum_)"
   ],
   "outputs": [],
   "metadata": {}
  },
  {
   "cell_type": "markdown",
   "source": [
    "### Load trainings Data ###"
   ],
   "metadata": {}
  },
  {
   "cell_type": "code",
   "execution_count": 57,
   "source": [
    "image = Image.open('./test.png').convert('L')\r\n",
    "testData = 1 - asarray(image)/255"
   ],
   "outputs": [],
   "metadata": {}
  },
  {
   "cell_type": "markdown",
   "source": [
    "### Classify ###"
   ],
   "metadata": {}
  },
  {
   "cell_type": "code",
   "execution_count": 58,
   "source": [
    "trainImages = list(map(lambda x: x[1],trainData))\r\n",
    "trainLables = list(map(lambda x: x[0],trainData))\r\n",
    "\r\n",
    "distances = list(map(lambda x: distance(testData,x),trainImages))\r\n",
    "\r\n",
    "# Find minimal distance,get index and get the Lable of the training Image\r\n",
    "min_index = argmin(distances)\r\n",
    "min_dist = distances[min_index]\r\n",
    "print(\"My traingins data Size: \" + str(len(trainImages)))\r\n",
    "print(\"My Guess \" + str(trainLables[min_index]))\r\n",
    "\r\n",
    "#get sencond min\r\n",
    "del distances[min_index]\r\n",
    "second_min_index = argmin(distances)\r\n",
    "second_min_dist = distances[second_min_index]\r\n",
    "\r\n",
    "#get maximum\r\n",
    "max_index = argmax(distances)\r\n",
    "max_dist = distances[max_index]\r\n",
    "\r\n",
    "print(\"I am so shure: \" + str(100*(second_min_dist-min_dist)/(max_dist-min_dist)) + \"%\")\r\n",
    "pyplot.imshow(testData, cmap=pyplot.cm.binary)"
   ],
   "outputs": [
    {
     "output_type": "stream",
     "name": "stdout",
     "text": [
      "My traingins data Size: 3\n",
      "My Guess resistor\n",
      "I am so shure: 91.5182251248081%\n"
     ]
    },
    {
     "output_type": "execute_result",
     "data": {
      "text/plain": [
       "<matplotlib.image.AxesImage at 0x1fb0a3cd748>"
      ]
     },
     "metadata": {},
     "execution_count": 58
    },
    {
     "output_type": "display_data",
     "data": {
      "image/png": "[encoded data removed]",
      "text/plain": [
       "<Figure size 432x288 with 1 Axes>"
      ]
     },
     "metadata": {
      "needs_background": "light"
     }
    }
   ],
   "metadata": {}
  },
  {
   "cell_type": "code",
   "execution_count": null,
   "source": [],
   "outputs": [],
   "metadata": {}
  }
 ],
 "metadata": {
  "orig_nbformat": 4,
  "language_info": {
   "name": "python",
   "version": "3.7.1",
   "mimetype": "text/x-python",
   "codemirror_mode": {
    "name": "ipython",
    "version": 3
   },
   "pygments_lexer": "ipython3",
   "nbconvert_exporter": "python",
   "file_extension": ".py"
  },
  "kernelspec": {
   "name": "python3",
   "display_name": "Python 3.7.1 64-bit"
  },
  "interpreter": {
   "hash": "9d66e852610df40981e334512c6c7c214e455f2fd9544c01edeabeb4380a7094"
  }
 },
 "nbformat": 4,
 "nbformat_minor": 2
}