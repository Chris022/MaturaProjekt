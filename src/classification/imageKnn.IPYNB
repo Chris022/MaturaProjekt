{
 "cells": [
  {
   "cell_type": "markdown",
   "source": [
    "## Import Tenserflow ##"
   ],
   "metadata": {}
  },
  {
   "cell_type": "code",
   "execution_count": 98,
   "source": [
    "# TensorFlow and tf.keras\r\n",
    "import tensorflow as tf\r\n",
    "\r\n",
    "# Helper libraries\r\n",
    "import numpy as np\r\n",
    "import matplotlib.pyplot as plt\r\n",
    "\r\n",
    "import math"
   ],
   "outputs": [],
   "metadata": {}
  },
  {
   "cell_type": "markdown",
   "source": [
    "## Using the MINST Fashon dataset ##\r\n",
    "\r\n",
    "### Creates ###\r\n",
    "- train_images and train_labels -> numpy arrays containing the 28x28 Images and the corresponding lable   used for training\r\n",
    "- test_images and test_labels -> numpy arrays containing the 28x28 Images and the corresponding lable   used for testing"
   ],
   "metadata": {}
  },
  {
   "cell_type": "code",
   "execution_count": 99,
   "source": [
    "fashion_mnist = tf.keras.datasets.mnist\r\n",
    "\r\n",
    "(train_images, train_labels), (test_images, test_labels) = fashion_mnist.load_data()"
   ],
   "outputs": [],
   "metadata": {}
  },
  {
   "cell_type": "markdown",
   "source": [
    "## Label Names for the Labels ##"
   ],
   "metadata": {}
  },
  {
   "cell_type": "code",
   "execution_count": 100,
   "source": [
    "class_names = ['0', '1', '2', '3', '4',\r\n",
    "               '5', '6', '7', '8', '9']"
   ],
   "outputs": [],
   "metadata": {}
  },
  {
   "cell_type": "markdown",
   "source": [
    "## Prepocess the images ##\r\n",
    "\r\n",
    "The Image-Pixels fall into the range from 0 to 255\r\n",
    "but for the NN they should be between 0 and 1"
   ],
   "metadata": {}
  },
  {
   "cell_type": "code",
   "execution_count": 122,
   "source": [
    "train_images = (train_images / 255.0)[0:1000]\r\n",
    "train_labels = train_labels[0:1000]\r\n",
    "test_images = test_images / 255.0"
   ],
   "outputs": [],
   "metadata": {}
  },
  {
   "cell_type": "markdown",
   "source": [
    "## KNN ## "
   ],
   "metadata": {}
  },
  {
   "cell_type": "code",
   "execution_count": 102,
   "source": [
    "def distance(referenceImage,otherImage):\r\n",
    "    size = len(referenceImage)\r\n",
    "    sum_ = 0;\r\n",
    "    for x in range(0,size):\r\n",
    "        othersize = len(referenceImage[x])\r\n",
    "        for y in range(0,othersize):\r\n",
    "            sum_ += (referenceImage[x,y] - otherImage[x,y])**2\r\n",
    "    return math.sqrt(sum_)"
   ],
   "outputs": [],
   "metadata": {}
  },
  {
   "cell_type": "markdown",
   "source": [
    "Get the Index of the Image with the smallest Distance"
   ],
   "metadata": {}
  },
  {
   "cell_type": "code",
   "execution_count": 127,
   "source": [
    "test_image = test_images[22]\r\n",
    "test_label = test_labels[22]\r\n",
    "\r\n",
    "\r\n",
    "distances = list(map(lambda x: distance(test_image,x),train_images))\r\n",
    "\r\n",
    "min_index = np.argmin(distances)\r\n",
    "print(\"Anzahl der Testdaten: \"+str(len(train_images)))\r\n",
    "print(\"My Guess \" + str(class_names[train_labels[min_index]]))\r\n",
    "print(\"Original Lable \" + str(test_label))\r\n",
    "plt.imshow(test_image, cmap=plt.cm.binary)\r\n",
    "#plt.xlabel(class_names[train_labels])"
   ],
   "outputs": [
    {
     "output_type": "stream",
     "name": "stdout",
     "text": [
      "Anzahl der Testdaten: 1000\n",
      "My Guess6\n",
      "Original Lable6\n"
     ]
    },
    {
     "output_type": "execute_result",
     "data": {
      "text/plain": [
       "<matplotlib.image.AxesImage at 0x1fecfe2cf60>"
      ]
     },
     "metadata": {},
     "execution_count": 127
    },
    {
     "output_type": "display_data",
     "data": {
      "image/png": "[encoded data removed]",
      "text/plain": [
       "<Figure size 432x288 with 1 Axes>"
      ]
     },
     "metadata": {
      "needs_background": "light"
     }
    }
   ],
   "metadata": {}
  },
  {
   "cell_type": "code",
   "execution_count": null,
   "source": [],
   "outputs": [],
   "metadata": {}
  }
 ],
 "metadata": {
  "orig_nbformat": 4,
  "language_info": {
   "name": "python",
   "version": "3.7.1",
   "mimetype": "text/x-python",
   "codemirror_mode": {
    "name": "ipython",
    "version": 3
   },
   "pygments_lexer": "ipython3",
   "nbconvert_exporter": "python",
   "file_extension": ".py"
  },
  "kernelspec": {
   "name": "python3",
   "display_name": "Python 3.7.1 64-bit"
  },
  "interpreter": {
   "hash": "9d66e852610df40981e334512c6c7c214e455f2fd9544c01edeabeb4380a7094"
  }
 },
 "nbformat": 4,
 "nbformat_minor": 2
}