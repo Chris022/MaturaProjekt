{
 "cells": [
  {
   "cell_type": "markdown",
   "source": [
    "# KNN #\r\n",
    "**GOAL:**\r\n",
    "Find a fitting textcolor for a given background color"
   ],
   "metadata": {}
  },
  {
   "cell_type": "markdown",
   "source": [
    "## Prep Data ##\r\n",
    "\r\n",
    "### Color ##\r\n",
    "- Color from white 0 to black 1"
   ],
   "metadata": {}
  },
  {
   "cell_type": "code",
   "execution_count": null,
   "source": [],
   "outputs": [],
   "metadata": {}
  }
 ],
 "metadata": {
  "orig_nbformat": 4,
  "language_info": {
   "name": "python",
   "version": "3.7.1"
  },
  "kernelspec": {
   "name": "python3",
   "display_name": "Python 3.7.1 64-bit"
  },
  "interpreter": {
   "hash": "9d66e852610df40981e334512c6c7c214e455f2fd9544c01edeabeb4380a7094"
  }
 },
 "nbformat": 4,
 "nbformat_minor": 2
}