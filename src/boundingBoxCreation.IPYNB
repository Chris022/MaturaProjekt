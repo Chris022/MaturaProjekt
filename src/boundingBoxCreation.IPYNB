{
 "cells": [
  {
   "cell_type": "markdown",
   "metadata": {},
   "source": [
    "# Bounding Box Creation "
   ]
  },
  {
   "cell_type": "code",
   "execution_count": 132,
   "metadata": {},
   "outputs": [],
   "source": [
    "from PIL import Image\n",
    "import numpy\n",
    "import matplotlib.pyplot as plt\n",
    "import math\n",
    "import os,cv2\n",
    "import operator\n",
    "from typing import Type, NewType,List  # you have to import Type"
   ]
  },
  {
   "cell_type": "markdown",
   "metadata": {},
   "source": [
    "### Load Image ###"
   ]
  },
  {
   "cell_type": "code",
   "execution_count": 133,
   "metadata": {},
   "outputs": [],
   "source": [
    "def loadImage(path,name):\n",
    "    image = Image.open('{path}/{name}'.format(path=path,name=name)).convert('L')\n",
    "    testData = 255 - numpy.asarray(image)   \n",
    "    return testData"
   ]
  },
  {
   "cell_type": "code",
   "execution_count": 134,
   "metadata": {},
   "outputs": [
    {
     "data": {
      "text/plain": [
       "<matplotlib.image.AxesImage at 0x1e4d445cef0>"
      ]
     },
     "execution_count": 134,
     "metadata": {},
     "output_type": "execute_result"
    },
    {
     "data": {
      "image/png": "[encoded data removed]",
      "text/plain": [
       "<Figure size 432x288 with 1 Axes>"
      ]
     },
     "metadata": {
      "needs_background": "light"
     },
     "output_type": "display_data"
    }
   ],
   "source": [
    "image = loadImage(\"./testImages\",\"0.png\")\n",
    "plt.imshow(image, cmap=plt.cm.binary,interpolation=\"bilinear\")"
   ]
  },
  {
   "cell_type": "markdown",
   "metadata": {},
   "source": [
    "## Drawing Functions ##"
   ]
  },
  {
   "cell_type": "code",
   "execution_count": 135,
   "metadata": {},
   "outputs": [],
   "source": [
    "def createIndependetCopy(img):\n",
    "    newImg = numpy.empty_like(img)\n",
    "    newImg[:] = img\n",
    "    return newImg\n",
    "\n",
    "\n",
    "def drawCicle(image,center, radius,width=1,color=(0,0,0)):\n",
    "    for y in range(0,len(image)):\n",
    "        for x in range(0,len(image[y])):\n",
    "            dist = math.sqrt((center.x-x)**2 + (center.y-y)**2)\n",
    "            if dist <= radius+width and dist >= radius-width :\n",
    "                image[y][x] = color\n",
    "    return image\n",
    "                \n",
    "\n",
    "def drawRect(image,center, dist,color):\n",
    "    startX = math.floor(center.x-dist)\n",
    "    startY = math.floor(center.y-dist)\n",
    "\n",
    "    endX = math.floor(center.x+dist)\n",
    "    endY = math.floor(center.y+dist)\n",
    "\n",
    "    for x in range(startX,endX):\n",
    "        image[startY][x] = color\n",
    "        image[endY][x] = color\n",
    "\n",
    "    for y in range(startY,endY):\n",
    "        image[y][startX] = color\n",
    "        image[y][endX] = color\n",
    "\n",
    "    return image\n",
    "\n",
    "\n",
    "def cropRect(img,center, dist):\n",
    "    newImg = createIndependetCopy(img)\n",
    "    if dist % 2 != 0:\n",
    "        dist +=1\n",
    "    i = []\n",
    "    for y in range(0,len(newImg)):\n",
    "        for x in range(0,len(newImg[y])):\n",
    "           if x > center.x-dist and x <= center.x+dist and y > center.y-dist and y <= center.y+dist:\n",
    "               i.append(newImg[y][x])\n",
    "    return numpy.reshape(i,[dist*2,dist*2,3])"
   ]
  },
  {
   "cell_type": "markdown",
   "metadata": {},
   "source": [
    "## Define Features ##\n",
    "\n",
    "### Feature Types:\n",
    "- End Point\n",
    "- Intersection\n",
    "- Center"
   ]
  },
  {
   "cell_type": "code",
   "execution_count": 136,
   "metadata": {},
   "outputs": [],
   "source": [
    "class Point():\n",
    "    def __init__(self,x,y) -> None:\n",
    "        self.x = x\n",
    "        self.y = y\n",
    "    def __str__(self) -> None:\n",
    "        return '({x},{y})'.format(x=self.x,y=self.y)\n",
    "    def __repr__(self):\n",
    "        return str(self)\n",
    "class Feature(Point):\n",
    "    pass\n",
    "class EndPoint(Feature):\n",
    "    pass\n",
    "class Intersection(Feature):\n",
    "    pass\n",
    "class Center(Feature):\n",
    "    pass\n",
    "#define new Typealias\n",
    "point = Type[Point]"
   ]
  },
  {
   "cell_type": "markdown",
   "metadata": {},
   "source": [
    "## Other Classes ##"
   ]
  },
  {
   "cell_type": "code",
   "execution_count": 137,
   "metadata": {},
   "outputs": [],
   "source": [
    "class Rect():\n",
    "    def __init__(self,center: point,radius: int) -> None:\n",
    "        self.center = center\n",
    "        self.radius = radius\n",
    "    def __str__(self) -> None:\n",
    "        return 'Rect(center: {center},radius: {radius})'.format(x=self.x,y=self.y)\n",
    "    def __repr__(self):\n",
    "        return str(self)\n",
    "\n",
    "#define new Typealias\n",
    "rect = Type[Rect]"
   ]
  },
  {
   "cell_type": "markdown",
   "metadata": {},
   "source": [
    "## Feature functions ###"
   ]
  },
  {
   "cell_type": "code",
   "execution_count": 138,
   "metadata": {},
   "outputs": [],
   "source": [
    "def getDistance(point1,point2):\n",
    "    return math.sqrt((point1.x-point2.x)**2 + (point1.y-point2.y)**2)\n",
    "\n",
    "def getClosestPoint(point,pointList):\n",
    "    # remove the point form the point List\n",
    "    pointList = list(filter(lambda p: p != point,pointList))\n",
    "    distances = list(map(lambda p: getDistance(point,p),pointList))\n",
    "    indexOfMinimum = numpy.argmin(distances)\n",
    "    return pointList[indexOfMinimum]\n",
    "\n",
    "def getNClosestPoint(point,pointList,n):\n",
    "    # remove the point form the point List\n",
    "    pointList = list(filter(lambda p: p != point,pointList))\n",
    "    distances = numpy.array(list(map(lambda p: getDistance(point,p),pointList)))\n",
    "    indexiesOfMinima = (distances).argsort()[:n]\n",
    "    elements = list(map(lambda index: pointList[index],indexiesOfMinima))\n",
    "    return elements\n",
    "\n",
    "def getNearPoints(point,pointList,dist):\n",
    "    # remove the point form the point List\n",
    "    pointList = list(filter(lambda p: p != point,pointList))\n",
    "    # get the distances from the point to each point of the point List\n",
    "    distances = map(lambda p: getDistance(point,p),pointList)\n",
    "    distances = numpy.array(list(distances))\n",
    "\n",
    "    elements = []\n",
    "    # add every point, that has a distance smaller than dist to the elements array\n",
    "    for i in range(0,len(distances)):\n",
    "        if distances[i] <= dist:\n",
    "            elements.append(pointList[i])\n",
    "    return elements\n",
    "\n",
    "def getPointsThatAreInTheRect(points: List[point],box: rect) -> List[point]:\n",
    "    pointsIn = []\n",
    "    for point in points:\n",
    "        if point.x >= box.center.x - box.radius and point.x <= box.center.x + box.radius:\n",
    "            if point.y >= box.center.y - box.radius and point.y <= box.center.y + box.radius:\n",
    "                pointsIn.append(point)\n",
    "    return pointsIn\n"
   ]
  },
  {
   "cell_type": "markdown",
   "metadata": {},
   "source": [
    "### Set Features ###\n",
    "\n",
    "(In the Future this is replaced by featureRecognicion Algorithm)\n",
    "Features also need to be cleand"
   ]
  },
  {
   "cell_type": "code",
   "execution_count": 139,
   "metadata": {},
   "outputs": [],
   "source": [
    "endPointList = [EndPoint(181,201),\n",
    "                EndPoint(191,201),\n",
    "                EndPoint(183,225),\n",
    "                EndPoint(193,227),\n",
    "                EndPoint(133,233),\n",
    "                EndPoint(116,233)]\n",
    "\n",
    "intersectionList = [Intersection(245,161),\n",
    "                    Intersection(245,120),\n",
    "                    Intersection(196,50),\n",
    "                    Intersection(166,50),\n",
    "                    Intersection(92,141),\n",
    "                    Intersection(90,181),\n",
    "                    Intersection(182,215),\n",
    "                    Intersection(192,214),\n",
    "                    Intersection(125,218),\n",
    "                    Intersection(125,233)]"
   ]
  },
  {
   "cell_type": "markdown",
   "metadata": {},
   "source": [
    "## Print Feature Points"
   ]
  },
  {
   "cell_type": "code",
   "execution_count": 140,
   "metadata": {},
   "outputs": [
    {
     "data": {
      "text/plain": [
       "<matplotlib.image.AxesImage at 0x1e4d44d2470>"
      ]
     },
     "execution_count": 140,
     "metadata": {},
     "output_type": "execute_result"
    },
    {
     "data": {
      "image/png": "[encoded data removed]",
      "text/plain": [
       "<Figure size 432x288 with 1 Axes>"
      ]
     },
     "metadata": {
      "needs_background": "light"
     },
     "output_type": "display_data"
    }
   ],
   "source": [
    "#make a rgb copy form an 1 bit image\n",
    "outImage = []\n",
    "for y in range(0,len(image)):\n",
    "    row = []\n",
    "    for x in range(0,len(image[y])):\n",
    "        if image[y][x] >= 1:\n",
    "            row.append((0,0,0))\n",
    "        else:\n",
    "            row.append((255,255,255))\n",
    "    outImage.append(row)\n",
    "\n",
    "for endPoint in endPointList:\n",
    "    outImage[endPoint.y][endPoint.x] = (255,0,0)\n",
    "\n",
    "for intersection in intersectionList:\n",
    "    outImage[intersection.y][intersection.x] = (0,255,0)\n",
    "    \n",
    "plt.imshow(outImage, interpolation='bilinear')"
   ]
  },
  {
   "cell_type": "markdown",
   "metadata": {},
   "source": [
    "## Create Bounding Boxes ##\n",
    "\n",
    "Algorithm 1:\n",
    "1) for every intersection get the closest other intersection \n",
    "2) get the distance to the closest point\n",
    "3) get all nearest endpoints which are closer than 2 * the distance to the closest intersection\n",
    "4) if there are any endpoints:\n",
    "   1) get the distance form the intersection to the endpoint that is the largest and use this distance as radius\n",
    "5) if there arent any endpoints:\n",
    "   1) use the distance form the intersection to the closest intersection as radius\n",
    "6) create a center point between the intersection and the closest intersection\n",
    "7) draw a rect form the center point using the radius\n",
    "\n",
    "\n",
    "Improvement:\n",
    "Only create a bounding box if there are 0 or 4 Endpoints inside of it\n",
    "\n",
    "Algorithm 2:\n",
    "1) for every intersection get the 2 closest endpoints\n",
    "2) get the maximum distance between the intersection and the endpoints and use it as radius\n",
    "3) draw a rect form the intersection using the radius\n",
    "\n",
    "\n",
    "Imporvement:\n",
    "If there is a intersection point inside of the rectangle, remove it!"
   ]
  },
  {
   "cell_type": "code",
   "execution_count": 141,
   "metadata": {},
   "outputs": [
    {
     "ename": "TypeError",
     "evalue": "append() takes exactly one argument (0 given)",
     "output_type": "error",
     "traceback": [
      "\u001b[1;31m---------------------------------------------------------------------------\u001b[0m",
      "\u001b[1;31mTypeError\u001b[0m                                 Traceback (most recent call last)",
      "\u001b[1;32mC:\\Users\\CHRIST~1\\AppData\\Local\\Temp/ipykernel_14828/2119217384.py\u001b[0m in \u001b[0;36m<module>\u001b[1;34m\u001b[0m\n\u001b[0;32m     40\u001b[0m \u001b[1;33m\u001b[0m\u001b[0m\n\u001b[0;32m     41\u001b[0m \u001b[1;31m# Algorithm 2\u001b[0m\u001b[1;33m\u001b[0m\u001b[1;33m\u001b[0m\u001b[1;33m\u001b[0m\u001b[0m\n\u001b[1;32m---> 42\u001b[1;33m \u001b[1;33m(\u001b[0m\u001b[0mimageWithBlueRect\u001b[0m\u001b[1;33m,\u001b[0m\u001b[0mrectList2\u001b[0m\u001b[1;33m)\u001b[0m \u001b[1;33m=\u001b[0m \u001b[0malgorithm2\u001b[0m\u001b[1;33m(\u001b[0m\u001b[0mintersectionList\u001b[0m\u001b[1;33m,\u001b[0m\u001b[0mendPointList\u001b[0m\u001b[1;33m,\u001b[0m\u001b[0mimageWithBlueRect\u001b[0m\u001b[1;33m)\u001b[0m\u001b[1;33m\u001b[0m\u001b[1;33m\u001b[0m\u001b[0m\n\u001b[0m\u001b[0;32m     43\u001b[0m \u001b[1;33m\u001b[0m\u001b[0m\n\u001b[0;32m     44\u001b[0m \u001b[0mplt\u001b[0m\u001b[1;33m.\u001b[0m\u001b[0mimshow\u001b[0m\u001b[1;33m(\u001b[0m\u001b[0mimageWithGreenRect\u001b[0m\u001b[1;33m,\u001b[0m \u001b[0minterpolation\u001b[0m\u001b[1;33m=\u001b[0m\u001b[1;34m'bilinear'\u001b[0m\u001b[1;33m)\u001b[0m\u001b[1;33m\u001b[0m\u001b[1;33m\u001b[0m\u001b[0m\n",
      "\u001b[1;32mC:\\Users\\CHRIST~1\\AppData\\Local\\Temp/ipykernel_14828/2119217384.py\u001b[0m in \u001b[0;36malgorithm2\u001b[1;34m(intersectionList, endPointList, image)\u001b[0m\n\u001b[0;32m     29\u001b[0m         \u001b[0mintersectionPointsInBoundinBox\u001b[0m \u001b[1;33m=\u001b[0m \u001b[0mlen\u001b[0m\u001b[1;33m(\u001b[0m\u001b[0mgetPointsThatAreInTheRect\u001b[0m\u001b[1;33m(\u001b[0m\u001b[0mintersectionList\u001b[0m\u001b[1;33m,\u001b[0m\u001b[0mboundingBox\u001b[0m\u001b[1;33m)\u001b[0m\u001b[1;33m)\u001b[0m\u001b[1;33m\u001b[0m\u001b[1;33m\u001b[0m\u001b[0m\n\u001b[0;32m     30\u001b[0m         \u001b[1;32mif\u001b[0m \u001b[0mintersectionPointsInBoundinBox\u001b[0m \u001b[1;33m<=\u001b[0m \u001b[1;36m1\u001b[0m\u001b[1;33m:\u001b[0m\u001b[1;33m\u001b[0m\u001b[1;33m\u001b[0m\u001b[0m\n\u001b[1;32m---> 31\u001b[1;33m             \u001b[0mrectList\u001b[0m\u001b[1;33m.\u001b[0m\u001b[0mappend\u001b[0m\u001b[1;33m(\u001b[0m\u001b[1;33m)\u001b[0m\u001b[1;33m\u001b[0m\u001b[1;33m\u001b[0m\u001b[0m\n\u001b[0m\u001b[0;32m     32\u001b[0m             \u001b[0mimage\u001b[0m \u001b[1;33m=\u001b[0m \u001b[0mdrawRect\u001b[0m\u001b[1;33m(\u001b[0m\u001b[0mimage\u001b[0m\u001b[1;33m=\u001b[0m\u001b[0mimage\u001b[0m\u001b[1;33m,\u001b[0m\u001b[0mcenter\u001b[0m\u001b[1;33m=\u001b[0m\u001b[0mintersection\u001b[0m\u001b[1;33m,\u001b[0m\u001b[0mdist\u001b[0m\u001b[1;33m=\u001b[0m\u001b[0mdist\u001b[0m\u001b[1;33m,\u001b[0m\u001b[0mcolor\u001b[0m\u001b[1;33m=\u001b[0m\u001b[1;33m(\u001b[0m\u001b[1;36m0\u001b[0m\u001b[1;33m,\u001b[0m\u001b[1;36m0\u001b[0m\u001b[1;33m,\u001b[0m\u001b[1;36m255\u001b[0m\u001b[1;33m)\u001b[0m\u001b[1;33m)\u001b[0m\u001b[1;33m\u001b[0m\u001b[1;33m\u001b[0m\u001b[0m\n\u001b[0;32m     33\u001b[0m     \u001b[1;32mreturn\u001b[0m \u001b[0mimage\u001b[0m\u001b[1;33m,\u001b[0m\u001b[0mrectList\u001b[0m\u001b[1;33m\u001b[0m\u001b[1;33m\u001b[0m\u001b[0m\n",
      "\u001b[1;31mTypeError\u001b[0m: append() takes exactly one argument (0 given)"
     ]
    }
   ],
   "source": [
    "def algorithm1(intersectionList,endPointList,image):\n",
    "    rectList = []\n",
    "    for intersection in intersectionList:\n",
    "        closestPoint = getClosestPoint(intersection,intersectionList)\n",
    "        distToClosePoint = math.floor(getDistance(closestPoint,intersection))\n",
    "        nerestEndPoints = getNearPoints(intersection,endPointList,distToClosePoint*2)\n",
    "        if(len(nerestEndPoints) != 0):\n",
    "            dist = max(  list(  map(lambda x: getDistance(x,intersection),nerestEndPoints)))\n",
    "        else:\n",
    "            dist = distToClosePoint\n",
    "        center = Point((closestPoint.x-intersection.x)/2+intersection.x,(closestPoint.y-intersection.y)/2+intersection.y)\n",
    "        boundingBox = Rect(center,dist)\n",
    "        #improvement\n",
    "        #check if there are exactily 0 or 4 endpoins in the rect\n",
    "        endpointsInBoundingBox = len(getPointsThatAreInTheRect(endPointList,boundingBox))\n",
    "        if endpointsInBoundingBox == 0 or endpointsInBoundingBox == 4:\n",
    "            rectList.append(boundingBox)\n",
    "            image = drawRect(image=image,center=center,dist=dist,color=(0,255,0))\n",
    "    return image,rectList\n",
    "\n",
    "def algorithm2(intersectionList,endPointList,image):\n",
    "    rectList = []\n",
    "    for intersection in intersectionList:\n",
    "        closestPoints = getNClosestPoint(intersection,endPointList,n=2)\n",
    "        dist = max(list(map(lambda x: getDistance(x,intersection),closestPoints)))\n",
    "        boundingBox = Rect(intersection,dist)\n",
    "        #improvement\n",
    "        #check if there are any intersection points in the bounding box\n",
    "        intersectionPointsInBoundinBox = len(getPointsThatAreInTheRect(intersectionList,boundingBox))\n",
    "        if intersectionPointsInBoundinBox <= 1:\n",
    "            rectList.append(boundingBox)\n",
    "            image = drawRect(image=image,center=intersection,dist=dist,color=(0,0,255))   \n",
    "    return image,rectList\n",
    "\n",
    "imageWithGreenRect = createIndependetCopy(outImage)\n",
    "imageWithBlueRect = createIndependetCopy(outImage)\n",
    "\n",
    "# Algorithm 1\n",
    "(imageWithGreenRect,rectList1) = algorithm1(intersectionList,endPointList,imageWithGreenRect)\n",
    "\n",
    "# Algorithm 2 \n",
    "(imageWithBlueRect,rectList2) = algorithm2(intersectionList,endPointList,imageWithBlueRect)\n",
    "\n",
    "plt.imshow(imageWithGreenRect, interpolation='bilinear') \n",
    "plt.figure()\n",
    "plt.imshow(imageWithBlueRect, interpolation='bilinear') \n"
   ]
  },
  {
   "cell_type": "code",
   "execution_count": null,
   "metadata": {},
   "outputs": [],
   "source": []
  }
 ],
 "metadata": {
  "interpreter": {
   "hash": "9d66e852610df40981e334512c6c7c214e455f2fd9544c01edeabeb4380a7094"
  },
  "kernelspec": {
   "display_name": "Python 3.7.1 64-bit",
   "name": "python3"
  },
  "language_info": {
   "codemirror_mode": {
    "name": "ipython",
    "version": 3
   },
   "file_extension": ".py",
   "mimetype": "text/x-python",
   "name": "python",
   "nbconvert_exporter": "python",
   "pygments_lexer": "ipython3",
   "version": "3.7.1"
  },
  "orig_nbformat": 4
 },
 "nbformat": 4,
 "nbformat_minor": 2
}
