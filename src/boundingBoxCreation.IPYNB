{
 "cells": [
  {
   "cell_type": "markdown",
   "metadata": {},
   "source": [
    "# Bounding Box Creation "
   ]
  },
  {
   "cell_type": "code",
   "execution_count": 3,
   "metadata": {},
   "outputs": [],
   "source": [
    "from PIL import Image\n",
    "import numpy\n",
    "import matplotlib.pyplot as plt\n",
    "import math\n",
    "import os,cv2\n",
    "import operator"
   ]
  },
  {
   "cell_type": "markdown",
   "metadata": {},
   "source": [
    "### Load Image ###"
   ]
  },
  {
   "cell_type": "code",
   "execution_count": 4,
   "metadata": {},
   "outputs": [],
   "source": [
    "def loadImage(path,name):\n",
    "    image = Image.open('{path}/{name}'.format(path=path,name=name)).convert('L')\n",
    "    testData = 255 - numpy.asarray(image)   \n",
    "    return testData"
   ]
  },
  {
   "cell_type": "code",
   "execution_count": 5,
   "metadata": {},
   "outputs": [
    {
     "data": {
      "text/plain": [
       "<matplotlib.image.AxesImage at 0x27c48ff9898>"
      ]
     },
     "execution_count": 5,
     "metadata": {},
     "output_type": "execute_result"
    },
    {
     "data": {
      "image/png": "[encoded data removed]",
      "text/plain": [
       "<Figure size 432x288 with 1 Axes>"
      ]
     },
     "metadata": {
      "needs_background": "light"
     },
     "output_type": "display_data"
    }
   ],
   "source": [
    "image = loadImage(\"./testImages\",\"0.png\")\n",
    "plt.imshow(image, cmap=plt.cm.binary,interpolation=\"bilinear\")"
   ]
  },
  {
   "cell_type": "markdown",
   "metadata": {},
   "source": [
    "## Drawing Functions ##"
   ]
  },
  {
   "cell_type": "code",
   "execution_count": 6,
   "metadata": {},
   "outputs": [],
   "source": [
    "def createIndependetCopy(img):\n",
    "    newImg = numpy.empty_like(img)\n",
    "    newImg[:] = img\n",
    "    return newImg\n",
    "\n",
    "\n",
    "def drawCicle(image,center, radius,width=1,color=(0,0,0)):\n",
    "    for y in range(0,len(image)):\n",
    "        for x in range(0,len(image[y])):\n",
    "            dist = math.sqrt((center.x-x)**2 + (center.y-y)**2)\n",
    "            if dist <= radius+width and dist >= radius-width :\n",
    "                image[y][x] = color\n",
    "    return image\n",
    "                \n",
    "\n",
    "def drawRect(image,center, dist,color):\n",
    "    startX = math.floor(center.x-dist)\n",
    "    startY = math.floor(center.y-dist)\n",
    "\n",
    "    endX = math.floor(center.x+dist)\n",
    "    endY = math.floor(center.y+dist)\n",
    "\n",
    "    for x in range(startX,endX):\n",
    "        image[startY][x] = color\n",
    "        image[endY][x] = color\n",
    "\n",
    "    for y in range(startY,endY):\n",
    "        image[y][startX] = color\n",
    "        image[y][endX] = color\n",
    "\n",
    "    return image\n",
    "\n",
    "\n",
    "def cropRect(img,center, dist):\n",
    "    newImg = createIndependetCopy(img)\n",
    "    if dist % 2 != 0:\n",
    "        dist +=1\n",
    "    i = []\n",
    "    for y in range(0,len(newImg)):\n",
    "        for x in range(0,len(newImg[y])):\n",
    "           if x > center.x-dist and x <= center.x+dist and y > center.y-dist and y <= center.y+dist:\n",
    "               i.append(newImg[y][x])\n",
    "    return numpy.reshape(i,[dist*2,dist*2,3])"
   ]
  },
  {
   "cell_type": "markdown",
   "metadata": {},
   "source": [
    "## Define Features ##\n",
    "\n",
    "### Feature Types:\n",
    "- End Point\n",
    "- Intersection\n",
    "- Center"
   ]
  },
  {
   "cell_type": "code",
   "execution_count": 7,
   "metadata": {},
   "outputs": [],
   "source": [
    "class Point():\n",
    "    def __init__(self,x,y) -> None:\n",
    "        self.x = x\n",
    "        self.y = y\n",
    "    def __str__(self) -> None:\n",
    "        return '({x},{y})'.format(x=self.x,y=self.y)\n",
    "    def __repr__(self):\n",
    "        return str(self)\n",
    "class Feature(Point):\n",
    "    pass\n",
    "class EndPoint(Feature):\n",
    "    pass\n",
    "class Intersection(Feature):\n",
    "    pass\n",
    "class Center(Feature):\n",
    "    pass"
   ]
  },
  {
   "cell_type": "markdown",
   "metadata": {},
   "source": [
    "## Feature functions ###"
   ]
  },
  {
   "cell_type": "code",
   "execution_count": 8,
   "metadata": {},
   "outputs": [],
   "source": [
    "def getDistance(point1,point2):\n",
    "    return math.sqrt((point1.x-point2.x)**2 + (point1.y-point2.y)**2)\n",
    "\n",
    "def getClosestPoint(point,pointList):\n",
    "    # remove the point form the point List\n",
    "    pointList = list(filter(lambda p: p != point,pointList))\n",
    "    distances = list(map(lambda p: getDistance(point,p),pointList))\n",
    "    indexOfMinimum = numpy.argmin(distances)\n",
    "    return pointList[indexOfMinimum]\n",
    "\n",
    "def getNClosestPoint(point,pointList,n):\n",
    "    # remove the point form the point List\n",
    "    pointList = list(filter(lambda p: p != point,pointList))\n",
    "    distances = numpy.array(list(map(lambda p: getDistance(point,p),pointList)))\n",
    "    indexiesOfMinima = (distances).argsort()[:n]\n",
    "    elements = list(map(lambda index: pointList[index],indexiesOfMinima))\n",
    "    return elements\n",
    "\n",
    "# \n",
    "def getNearPoints(point,pointList,dist):\n",
    "    # remove the point form the point List\n",
    "    pointList = list(filter(lambda p: p != point,pointList))\n",
    "    # get the distances from the point to each point of the point List\n",
    "    distances = map(lambda p: getDistance(point,p),pointList)\n",
    "    distances = numpy.array(list(distances))\n",
    "    # add the index of each point \n",
    "    distancesIndexes = []\n",
    "    for i in range(0,len(distances)):\n",
    "        if distances[i] <= dist:\n",
    "            distancesIndexes.append(i)\n",
    "    elements = list(  map(lambda index: pointList[index],distancesIndexes)   )\n",
    "    return elements"
   ]
  },
  {
   "cell_type": "markdown",
   "metadata": {},
   "source": [
    "### Set Features ###\n",
    "\n",
    "(In the Future this is replaced by featureRecognicion Algorithm)\n",
    "Features also need to be cleand"
   ]
  },
  {
   "cell_type": "code",
   "execution_count": 9,
   "metadata": {},
   "outputs": [],
   "source": [
    "endPointList = [EndPoint(181,201),\n",
    "                EndPoint(191,201),\n",
    "                EndPoint(183,225),\n",
    "                EndPoint(193,227),\n",
    "                EndPoint(133,233),\n",
    "                EndPoint(116,233)]\n",
    "\n",
    "intersectionList = [Intersection(245,161),\n",
    "                    Intersection(245,120),\n",
    "                    Intersection(196,50),\n",
    "                    Intersection(166,50),\n",
    "                    Intersection(92,141),\n",
    "                    Intersection(90,181),\n",
    "                    Intersection(182,215),\n",
    "                    Intersection(192,214),\n",
    "                    Intersection(125,218),\n",
    "                    Intersection(125,233)]"
   ]
  },
  {
   "cell_type": "markdown",
   "metadata": {},
   "source": [
    "## Print Feature Points"
   ]
  },
  {
   "cell_type": "code",
   "execution_count": 10,
   "metadata": {},
   "outputs": [
    {
     "data": {
      "text/plain": [
       "<matplotlib.image.AxesImage at 0x27c490caf60>"
      ]
     },
     "execution_count": 10,
     "metadata": {},
     "output_type": "execute_result"
    },
    {
     "data": {
      "image/png": "[encoded data removed]",
      "text/plain": [
       "<Figure size 432x288 with 1 Axes>"
      ]
     },
     "metadata": {
      "needs_background": "light"
     },
     "output_type": "display_data"
    }
   ],
   "source": [
    "#make a rgb copy form an 1 bit image\n",
    "outImage = []\n",
    "for y in range(0,len(image)):\n",
    "    row = []\n",
    "    for x in range(0,len(image[y])):\n",
    "        if image[y][x] >= 1:\n",
    "            row.append((0,0,0))\n",
    "        else:\n",
    "            row.append((255,255,255))\n",
    "    outImage.append(row)\n",
    "\n",
    "for endPoint in endPointList:\n",
    "    outImage[endPoint.y][endPoint.x] = (255,0,0)\n",
    "\n",
    "for intersection in intersectionList:\n",
    "    outImage[intersection.y][intersection.x] = (0,255,0)\n",
    "    \n",
    "plt.imshow(outImage, interpolation='bilinear')"
   ]
  },
  {
   "cell_type": "markdown",
   "metadata": {},
   "source": [
    "## Create Bounding Boxes ##\n",
    "\n",
    "Algorithm:\n"
   ]
  },
  {
   "cell_type": "code",
   "execution_count": 12,
   "metadata": {},
   "outputs": [
    {
     "data": {
      "text/plain": [
       "<matplotlib.image.AxesImage at 0x27c49125fd0>"
      ]
     },
     "execution_count": 12,
     "metadata": {},
     "output_type": "execute_result"
    },
    {
     "data": {
      "image/png": "[encoded data removed]",
      "text/plain": [
       "<Figure size 432x288 with 1 Axes>"
      ]
     },
     "metadata": {
      "needs_background": "light"
     },
     "output_type": "display_data"
    },
    {
     "data": {
      "image/png": "[encoded data removed]",
      "text/plain": [
       "<Figure size 432x288 with 1 Axes>"
      ]
     },
     "metadata": {
      "needs_background": "light"
     },
     "output_type": "display_data"
    }
   ],
   "source": [
    "imageWithGreenRect = createIndependetCopy(outImage)\n",
    "imageWithBlueRect = createIndependetCopy(outImage)\n",
    "\n",
    "# Algorithm 1\n",
    "for intersection in intersectionList:\n",
    "    closestPoint = getClosestPoint(intersection,intersectionList)\n",
    "    distToClosePoint = math.floor(getDistance(closestPoint,intersection))\n",
    "    nerestPoints = getNearPoints(intersection,endPointList,distToClosePoint*2)\n",
    "    if(len(nerestPoints) != 0):\n",
    "        dist = max(  list(  map(lambda x: getDistance(x,intersection),nerestPoints)))\n",
    "    else:\n",
    "        dist = distToClosePoint\n",
    "    center = Point((closestPoint.x-intersection.x)/2+intersection.x,(closestPoint.y-intersection.y)/2+intersection.y)\n",
    "    #plt.imshow(cropRect(img=outImage,center=center,dist=dist), interpolation='bilinear')\n",
    "\n",
    "    imageWithGreenRect = drawRect(image=imageWithGreenRect,center=center,dist=dist,color=(0,255,0))\n",
    "\n",
    "# Algorithm 2 \n",
    "for intersection in intersectionList:\n",
    "    closestPoints = getNClosestPoint(intersection,endPointList,n=2)\n",
    "    dist = max(list(map(lambda x: getDistance(x,intersection),closestPoints)))\n",
    "    imageWithBlueRect = drawRect(image=imageWithBlueRect,center=intersection,dist=dist,color=(0,0,255))   \n",
    "\n",
    "plt.imshow(imageWithGreenRect, interpolation='bilinear') \n",
    "plt.figure()\n",
    "plt.imshow(imageWithBlueRect, interpolation='bilinear') \n"
   ]
  },
  {
   "cell_type": "code",
   "execution_count": null,
   "metadata": {},
   "outputs": [],
   "source": []
  }
 ],
 "metadata": {
  "interpreter": {
   "hash": "9d66e852610df40981e334512c6c7c214e455f2fd9544c01edeabeb4380a7094"
  },
  "kernelspec": {
   "display_name": "Python 3.7.1 64-bit",
   "name": "python3"
  },
  "language_info": {
   "codemirror_mode": {
    "name": "ipython",
    "version": 3
   },
   "file_extension": ".py",
   "mimetype": "text/x-python",
   "name": "python",
   "nbconvert_exporter": "python",
   "pygments_lexer": "ipython3",
   "version": "3.7.1"
  },
  "orig_nbformat": 4
 },
 "nbformat": 4,
 "nbformat_minor": 2
}
