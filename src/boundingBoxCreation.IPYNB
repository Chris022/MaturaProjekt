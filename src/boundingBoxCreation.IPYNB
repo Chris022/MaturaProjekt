{
 "cells": [
  {
   "cell_type": "markdown",
   "metadata": {},
   "source": [
    "# Bounding Box Creation "
   ]
  },
  {
   "cell_type": "code",
   "execution_count": 20,
   "metadata": {},
   "outputs": [],
   "source": [
    "from PIL import Image\n",
    "import numpy\n",
    "import matplotlib.pyplot as plt\n",
    "import math\n",
    "import os,cv2"
   ]
  },
  {
   "cell_type": "markdown",
   "metadata": {},
   "source": [
    "### Load Image ###"
   ]
  },
  {
   "cell_type": "code",
   "execution_count": 21,
   "metadata": {},
   "outputs": [],
   "source": [
    "def loadImage(path,name):\n",
    "    image = Image.open('{path}/{name}'.format(path=path,name=name)).convert('L')\n",
    "    testData = 255 - numpy.asarray(image)   \n",
    "    return testData"
   ]
  },
  {
   "cell_type": "code",
   "execution_count": 22,
   "metadata": {},
   "outputs": [
    {
     "data": {
      "text/plain": [
       "<matplotlib.image.AxesImage at 0x1bd7c610a90>"
      ]
     },
     "execution_count": 22,
     "metadata": {},
     "output_type": "execute_result"
    },
    {
     "data": {
      "image/png": "[encoded data removed]",
      "text/plain": [
       "<Figure size 432x288 with 1 Axes>"
      ]
     },
     "metadata": {
      "needs_background": "light"
     },
     "output_type": "display_data"
    }
   ],
   "source": [
    "image = loadImage(\"./testImages\",\"0.png\")\n",
    "plt.imshow(image, cmap=plt.cm.binary,interpolation=\"bilinear\")"
   ]
  },
  {
   "cell_type": "markdown",
   "metadata": {},
   "source": [
    "## Define Features ##\n",
    "\n",
    "### Feature Types:\n",
    "- End Point\n",
    "- Intersection\n",
    "- Center"
   ]
  },
  {
   "cell_type": "code",
   "execution_count": 23,
   "metadata": {},
   "outputs": [],
   "source": [
    "class Feature():\n",
    "    def __init__(self,x,y) -> None:\n",
    "        self.x = x\n",
    "        self.y = y\n",
    "\n",
    "class EndPoint(Feature):\n",
    "    pass\n",
    "class Intersection(Feature):\n",
    "    pass\n",
    "class Center(Feature):\n",
    "    pass"
   ]
  },
  {
   "cell_type": "markdown",
   "metadata": {},
   "source": [
    "## Feature functions ###"
   ]
  },
  {
   "cell_type": "code",
   "execution_count": 24,
   "metadata": {},
   "outputs": [],
   "source": [
    "def getDistance(point1,point2):\n",
    "    return math.sqrt((point1.x-point2.x)**2 + (point1.y-point2.y)**2)\n",
    "\n",
    "def getClosestPoint(point,pointList):\n",
    "    indexOfMinimum = numpy.argmin(map(lambda p: getDistance(point,p),pointList))\n",
    "    return pointList[indexOfMinimum]\n",
    "\n",
    "def getNClosestPoint(point,pointList,n):\n",
    "    indexiesOfMinima = (map(lambda p: getDistance(point,p),pointList)).argsort()[:n]\n",
    "    elements = map(lambda index: pointList[index],indexiesOfMinima)\n",
    "    return elements"
   ]
  },
  {
   "cell_type": "markdown",
   "metadata": {},
   "source": [
    "### Set Features ###\n",
    "\n",
    "(In the Future this is replaced by featureRecognicion Algorithm)\n",
    "Features also need to be cleand"
   ]
  },
  {
   "cell_type": "code",
   "execution_count": 25,
   "metadata": {},
   "outputs": [],
   "source": [
    "endPointList = [EndPoint(181,201),\n",
    "                EndPoint(191,201),\n",
    "                EndPoint(183,225),\n",
    "                EndPoint(193,227)]\n",
    "\n",
    "intersectionList = [Intersection(245,161),\n",
    "                Intersection(245,120),\n",
    "                Intersection(196,50),\n",
    "                Intersection(166,50),\n",
    "                Intersection(92,141),\n",
    "                Intersection(90,181),\n",
    "                Intersection(182,215),\n",
    "                Intersection(192,214)]"
   ]
  },
  {
   "cell_type": "markdown",
   "metadata": {},
   "source": [
    "## Print Feature Points"
   ]
  },
  {
   "cell_type": "code",
   "execution_count": 26,
   "metadata": {},
   "outputs": [
    {
     "data": {
      "text/plain": [
       "<matplotlib.image.AxesImage at 0x1bd7b52aba8>"
      ]
     },
     "execution_count": 26,
     "metadata": {},
     "output_type": "execute_result"
    },
    {
     "data": {
      "image/png": "[encoded data removed]",
      "text/plain": [
       "<Figure size 432x288 with 1 Axes>"
      ]
     },
     "metadata": {
      "needs_background": "light"
     },
     "output_type": "display_data"
    }
   ],
   "source": [
    "#make a rgb copy form an 1 bit image\n",
    "outImage = []\n",
    "for y in range(0,len(image)):\n",
    "    row = []\n",
    "    for x in range(0,len(image[y])):\n",
    "        if image[y][x] >= 1:\n",
    "            row.append((0,0,0))\n",
    "        else:\n",
    "            row.append((255,255,255))\n",
    "    outImage.append(row)\n",
    "\n",
    "for endPoint in endPointList:\n",
    "    outImage[endPoint.y][endPoint.x] = (255,0,0)\n",
    "\n",
    "for intersection in intersectionList:\n",
    "    outImage[intersection.y][intersection.x] = (0,255,0)\n",
    "    \n",
    "plt.imshow(outImage, interpolation='bilinear')"
   ]
  },
  {
   "cell_type": "code",
   "execution_count": null,
   "metadata": {},
   "outputs": [],
   "source": []
  }
 ],
 "metadata": {
  "interpreter": {
   "hash": "9d66e852610df40981e334512c6c7c214e455f2fd9544c01edeabeb4380a7094"
  },
  "kernelspec": {
   "display_name": "Python 3.7.1 64-bit",
   "name": "python3"
  },
  "language_info": {
   "codemirror_mode": {
    "name": "ipython",
    "version": 3
   },
   "file_extension": ".py",
   "mimetype": "text/x-python",
   "name": "python",
   "nbconvert_exporter": "python",
   "pygments_lexer": "ipython3",
   "version": "3.7.1"
  },
  "orig_nbformat": 4
 },
 "nbformat": 4,
 "nbformat_minor": 2
}
