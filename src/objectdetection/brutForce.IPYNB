{
 "cells": [
  {
   "cell_type": "code",
   "execution_count": 26,
   "source": [
    "import os,cv2"
   ],
   "outputs": [],
   "metadata": {}
  },
  {
   "cell_type": "code",
   "execution_count": 38,
   "source": [
    "im = cv2.imread(os.path.join(\"\",\"schaltung1.jpg\"))\r\n",
    "\r\n",
    "stepSize = 25\r\n",
    "sizes = [(50,50),(100,50),(100,100)]\r\n",
    "for aspectRatio in sizes:\r\n",
    "    for xi in range(0,800,stepSize):\r\n",
    "        for yi in range(0,600,stepSize):\r\n",
    "            img = im.copy()\r\n",
    "            x, y, w, h = xi,yi,aspectRatio[1],aspectRatio[0]\r\n",
    "            #check if image is only white\r\n",
    "            crop_img = img[y:y+h, x:x+w]\r\n",
    "            row,col,rgb = crop_img.shape\r\n",
    "            summe = 0\r\n",
    "            for i in range(row):\r\n",
    "                for j in range(col):\r\n",
    "                    summe += (255 - crop_img[i,j][0])/255\r\n",
    "\r\n",
    "            if (summe > 300):\r\n",
    "                cv2.rectangle(img, (x, y), (x+w, y+h), (0, 255, 0), 1, cv2.LINE_AA)\r\n",
    "                cv2.imwrite('Images/{widht}_{height}_{x}_{y}.png'.format(widht=aspectRatio[1],height=aspectRatio[0],x=xi,y=yi), img)\r\n"
   ],
   "outputs": [],
   "metadata": {}
  }
 ],
 "metadata": {
  "orig_nbformat": 4,
  "language_info": {
   "name": "python",
   "version": "3.7.1",
   "mimetype": "text/x-python",
   "codemirror_mode": {
    "name": "ipython",
    "version": 3
   },
   "pygments_lexer": "ipython3",
   "nbconvert_exporter": "python",
   "file_extension": ".py"
  },
  "kernelspec": {
   "name": "python3",
   "display_name": "Python 3.7.1 64-bit"
  },
  "interpreter": {
   "hash": "9d66e852610df40981e334512c6c7c214e455f2fd9544c01edeabeb4380a7094"
  }
 },
 "nbformat": 4,
 "nbformat_minor": 2
}