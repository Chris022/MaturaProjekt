{
 "cells": [
  {
   "cell_type": "code",
   "execution_count": 1,
   "source": [
    "import os,cv2\r\n",
    "import pandas as pd\r\n",
    "import matplotlib.pyplot as plt\r\n",
    "import numpy as np\r\n",
    "import tensorflow as tf\r\n",
    "\r\n",
    "cv2.setUseOptimized(True);\r\n",
    "ss = cv2.ximgproc.segmentation.createSelectiveSearchSegmentation()"
   ],
   "outputs": [],
   "metadata": {}
  },
  {
   "cell_type": "code",
   "execution_count": null,
   "source": [
    "im = cv2.imread(os.path.join(\"\",\"schaltung1.jpg\"))\r\n",
    "ss.setBaseImage(im)\r\n",
    "#ss.switchToSelectiveSearchFast()\r\n",
    "rects = ss.process()\r\n",
    "imOut = im.copy()\r\n",
    "for i, rect in (enumerate(rects)):\r\n",
    "    imSingel = im.copy()\r\n",
    "    x, y, w, h = rect\r\n",
    "#     print(x,y,w,h)\r\n",
    "#     imOut = imOut[x:x+w,y:y+h]\r\n",
    "    cv2.rectangle(imSingel, (x, y), (x+w, y+h), (0, 255, 0), 1, cv2.LINE_AA)\r\n",
    "    plt.imshow(imSingel)\r\n",
    "    plt.figure()\r\n",
    "plt.figure()\r\n",
    "plt.imshow(imOut)\r\n",
    "plt.figure()\r\n",
    "plt.imshow(im)"
   ],
   "outputs": [],
   "metadata": {}
  },
  {
   "cell_type": "code",
   "execution_count": null,
   "source": [],
   "outputs": [],
   "metadata": {}
  }
 ],
 "metadata": {
  "orig_nbformat": 4,
  "language_info": {
   "name": "python",
   "version": "3.7.1",
   "mimetype": "text/x-python",
   "codemirror_mode": {
    "name": "ipython",
    "version": 3
   },
   "pygments_lexer": "ipython3",
   "nbconvert_exporter": "python",
   "file_extension": ".py"
  },
  "kernelspec": {
   "name": "python3",
   "display_name": "Python 3.7.1 64-bit"
  },
  "interpreter": {
   "hash": "9d66e852610df40981e334512c6c7c214e455f2fd9544c01edeabeb4380a7094"
  }
 },
 "nbformat": 4,
 "nbformat_minor": 2
}