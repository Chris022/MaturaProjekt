{
 "cells": [
  {
   "cell_type": "code",
   "execution_count": null,
   "metadata": {},
   "outputs": [],
   "source": [
    "# Smarter Circuits #\n",
    "import sys\n",
    "sys.path.append('../')\n",
    "\n",
    "\n",
    "import imagePreprocessing as ip\n",
    "import graphGeneration as gg\n",
    "import cuircitGeneration as cg\n",
    "import componentClassification as cc\n",
    "import matplotlib.pyplot as plt\n",
    "import cv2\n",
    "import lib.utils as utils\n",
    "import os\n",
    "import numpy as np\n",
    "import random\n",
    "import string\n",
    "import igraph"
   ]
  },
  {
   "cell_type": "code",
   "execution_count": null,
   "metadata": {},
   "outputs": [],
   "source": [
    "name = \"1.png\"\n",
    "\n",
    "image = utils.loadImage(path=\"./../resources/testImages\",name=name, resize=(450,None))\n",
    "\n",
    "colorImage = utils.loadImage(path=\"./../resources/testImages\",name=name, resize=(450,None), color=True)\n",
    "\n",
    "#insert padding\n",
    "s1 = np.full((len(image),10),255)\n",
    "image = np.insert(image, [0], s1, axis=1)\n",
    "image = np.insert(image, [len(image[0])], s1, axis=1)\n",
    "s2 = np.full((10,len(image[0])),255)\n",
    "image = np.insert(image, [0], s2, axis=0)\n",
    "image = np.insert(image, [len(image)], s2, axis=0)\n",
    "\n",
    "s1 = np.full((len(colorImage),10,3),255)\n",
    "\n",
    "colorImage = np.insert(colorImage, [0], s1, axis=1)\n",
    "colorImage = np.insert(colorImage, [len(colorImage[0])], s1, axis=1)\n",
    "s2 = np.full((10,len(colorImage[0]),3),255)\n",
    "\n",
    "colorImage = np.insert(colorImage, [0], s2, axis=0)\n",
    "colorImage = np.insert(colorImage, [len(colorImage)], s2, axis=0)\n",
    "\n",
    "plt.imshow(image, cmap='gray')\n",
    "plt.figure()\n",
    "plt.imshow(colorImage)"
   ]
  },
  {
   "cell_type": "code",
   "execution_count": null,
   "metadata": {},
   "outputs": [],
   "source": [
    "preprocessedImage = ip.preprocessImage(image)\n",
    "utils.saveImage(name=\"preprocessed.png\", image=preprocessedImage)\n",
    "\n",
    "plt.imshow(preprocessedImage, cmap='gray')"
   ]
  },
  {
   "cell_type": "code",
   "execution_count": null,
   "metadata": {},
   "outputs": [],
   "source": [
    "#class_names = os.listdir('./../trainData')\n",
    "#\n",
    "#for class_name in class_names:\n",
    "#    data = os.listdir('./trainData/{class_name}'.format(class_name=class_name))\n",
    "\n",
    "def generateTrainData(boundingBoxes, image):\n",
    "    print(boundingBoxes)\n",
    "    counter = []\n",
    "    for box in boundingBoxes:\n",
    "        component = image[box[0][1]:box[1][1], box[0][0]:box[1][0]]\n",
    "        component = cv2.resize(component, (32,32), interpolation = cv2.INTER_AREA)\n",
    "        #utils.saveImage(path='./../resources/trainData/')\n",
    "        utils.saveImage(path='./../resources/trainData/', name=\"{i}.png\".format(i=''.join(random.choice(string.ascii_lowercase) for i in range(10))), image=component)"
   ]
  },
  {
   "cell_type": "code",
   "execution_count": null,
   "metadata": {},
   "outputs": [],
   "source": [
    "graph = gg.generateGraph(preprocessedImage)\n",
    "components = gg.getComponents(graph)\n",
    "bb = utils.fmap(lambda x: x[0],components)\n",
    "#generateTrainData(bb, image)\n",
    "\n",
    "def drawRect(image,boundingBox,color):\n",
    "    corner1 = boundingBox[0]\n",
    "    corner2 = boundingBox[1]\n",
    "    startX = corner1[0]\n",
    "    startY = corner1[1]\n",
    "\n",
    "    endX = corner2[0]\n",
    "    endY = corner2[1]\n",
    "\n",
    "    for x in range(startX,endX):\n",
    "        try:\n",
    "            image[startY][x] = color\n",
    "            image[endY][x] = color\n",
    "        except:\n",
    "            pass\n",
    "\n",
    "    for y in range(startY,endY):\n",
    "        try:\n",
    "            image[y][startX] = color\n",
    "            image[y][endX] = color\n",
    "        except:\n",
    "            pass\n",
    "\n",
    "    return image\n",
    "\n",
    "\n",
    "for comp in components:\n",
    "    drawRect(colorImage,comp[0],(255,0,0))\n",
    "#colorImage = cv2.cvtColor(255-colorImage, cv2.COLOR_BGR2RGB)\n",
    "plt.imshow(colorImage,interpolation=\"bilinear\")"
   ]
  },
  {
   "cell_type": "code",
   "execution_count": null,
   "metadata": {},
   "outputs": [],
   "source": [
    "#igraphUnion = utils.convertToIgraph(graph)\n",
    "#layout = igraphUnion.layout(\"large_graph\") #\"large_graph\"\n",
    "#igraph.plot(igraphUnion, layout=layout,bbox = (1000,1000))"
   ]
  },
  {
   "cell_type": "code",
   "execution_count": null,
   "metadata": {},
   "outputs": [],
   "source": [
    "cc.loadModel()\n",
    "\n",
    "predictions = []\n",
    "\n",
    "for comp in components:\n",
    "    box = comp[0]\n",
    "    matches = comp[1]\n",
    "    buildingType = cc.predict(box,image)#[0]\n",
    "    #rot = cc.predict(box,image)[1]\n",
    "    predictions.append((box,matches,buildingType))#,rot))\n",
    "print(len(predictions))"
   ]
  },
  {
   "cell_type": "code",
   "execution_count": null,
   "metadata": {},
   "outputs": [],
   "source": [
    "for i in range(0, len(predictions)):\n",
    "    #colorImage = utils.drawArrow(colorImage,predictions[i][0],predictions[i][3],[255,0,0])\n",
    "    if predictions[i][2] == \"inductor\":\n",
    "        #predictions[i] = (predictions[i][0],predictions[i][1],'resistor')#,predictions[i][3])\n",
    "        colorImage = utils.drawRect(colorImage,predictions[i][0],[255,0,0])\n",
    "    elif predictions[i][2] == \"resistor\":\n",
    "        colorImage = utils.drawRect(colorImage,predictions[i][0],[0,255,0])\n",
    "    elif predictions[i][2] == \"capacitor\":\n",
    "        colorImage = utils.drawRect(colorImage,predictions[i][0],[0,0,255])\n",
    "    elif predictions[i][2] == \"ground\":\n",
    "        colorImage = utils.drawRect(colorImage,predictions[i][0],[255,0,255])\n",
    "\n",
    "print(\"inductor -> blue\")\n",
    "print(\"resistor -> green\")\n",
    "print(\"capacitor -> red\")\n",
    "print(\"ground -> purple\")\n",
    "\n",
    "\n",
    "utils.saveImage(name=\"boundingBoxes.png\", image=colorImage, color=True)\n",
    "colorImage = cv2.cvtColor(colorImage, cv2.COLOR_BGR2RGB)\n",
    "plt.imshow(colorImage)"
   ]
  },
  {
   "cell_type": "code",
   "execution_count": null,
   "metadata": {},
   "outputs": [],
   "source": [
    "graph = cg.createLTSpiceFile(predictions,graph,\"./out.asc\")\n",
    "\n",
    "igraphUnion = utils.convertToIgraph(graph)\n",
    "layout = igraphUnion.layout(\"large_graph\") #\"large_graph\"\n",
    "igraph.plot(igraphUnion, layout=layout,bbox = (1000,1000))"
   ]
  }
 ],
 "metadata": {
  "interpreter": {
   "hash": "20a0bce9f656e196dac732331f9b5209e1e1145e71a26d7add7eff91b0fc8a87"
  },
  "kernelspec": {
   "display_name": "Python 3.9.7 64-bit",
   "language": "python",
   "name": "python3"
  },
  "language_info": {
   "codemirror_mode": {
    "name": "ipython",
    "version": 3
   },
   "file_extension": ".py",
   "mimetype": "text/x-python",
   "name": "python",
   "nbconvert_exporter": "python",
   "pygments_lexer": "ipython3",
   "version": "3.9.7"
  },
  "orig_nbformat": 4
 },
 "nbformat": 4,
 "nbformat_minor": 2
}
