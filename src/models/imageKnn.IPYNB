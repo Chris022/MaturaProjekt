{
 "cells": [
  {
   "cell_type": "markdown",
   "source": [
    "## Import Tenserflow ##"
   ],
   "metadata": {}
  },
  {
   "cell_type": "code",
   "execution_count": 18,
   "source": [
    "# TensorFlow and tf.keras\r\n",
    "import tensorflow as tf\r\n",
    "\r\n",
    "# Helper libraries\r\n",
    "import numpy as np\r\n",
    "import matplotlib.pyplot as plt\r\n",
    "\r\n",
    "import math"
   ],
   "outputs": [],
   "metadata": {}
  },
  {
   "cell_type": "markdown",
   "source": [
    "## Using the MINST Fashon dataset ##\r\n",
    "\r\n",
    "### Creates ###\r\n",
    "- train_images and train_labels -> numpy arrays containing the 28x28 Images and the corresponding lable   used for training\r\n",
    "- test_images and test_labels -> numpy arrays containing the 28x28 Images and the corresponding lable   used for testing"
   ],
   "metadata": {}
  },
  {
   "cell_type": "code",
   "execution_count": 3,
   "source": [
    "fashion_mnist = tf.keras.datasets.fashion_mnist\r\n",
    "\r\n",
    "(train_images, train_labels), (test_images, test_labels) = fashion_mnist.load_data()"
   ],
   "outputs": [],
   "metadata": {}
  },
  {
   "cell_type": "markdown",
   "source": [
    "## Label Names for the Labels ##"
   ],
   "metadata": {}
  },
  {
   "cell_type": "code",
   "execution_count": 4,
   "source": [
    "class_names = ['T-shirt/top', 'Trouser', 'Pullover', 'Dress', 'Coat',\r\n",
    "               'Sandal', 'Shirt', 'Sneaker', 'Bag', 'Ankle boot']"
   ],
   "outputs": [],
   "metadata": {}
  },
  {
   "cell_type": "markdown",
   "source": [
    "## Prepocess the images ##\r\n",
    "\r\n",
    "The Image-Pixels fall into the range from 0 to 255\r\n",
    "but for the NN they should be between 0 and 1"
   ],
   "metadata": {}
  },
  {
   "cell_type": "code",
   "execution_count": 5,
   "source": [
    "train_images = train_images / 255.0\r\n",
    "test_images = test_images / 255.0"
   ],
   "outputs": [],
   "metadata": {}
  },
  {
   "cell_type": "markdown",
   "source": [
    "## KNN ## "
   ],
   "metadata": {}
  },
  {
   "cell_type": "code",
   "execution_count": 21,
   "source": [
    "def compair(referenceImage,otherImage):\r\n",
    "    size = len(referenceImage)\r\n",
    "    sum_ = 0;\r\n",
    "    for x in range(0,size):\r\n",
    "        sum_ += (referenceImage[x]**2 - otherImage[x]**2)\r\n",
    "\r\n",
    "    return math.sqrt(sum_)\r\n",
    "\r\n",
    "compair([2,2,2,2],[1,1,1,1])"
   ],
   "outputs": [
    {
     "output_type": "execute_result",
     "data": {
      "text/plain": [
       "3.4641016151377544"
      ]
     },
     "metadata": {},
     "execution_count": 21
    }
   ],
   "metadata": {}
  },
  {
   "cell_type": "code",
   "execution_count": null,
   "source": [],
   "outputs": [],
   "metadata": {}
  }
 ],
 "metadata": {
  "orig_nbformat": 4,
  "language_info": {
   "name": "python",
   "version": "3.7.1",
   "mimetype": "text/x-python",
   "codemirror_mode": {
    "name": "ipython",
    "version": 3
   },
   "pygments_lexer": "ipython3",
   "nbconvert_exporter": "python",
   "file_extension": ".py"
  },
  "kernelspec": {
   "name": "python3",
   "display_name": "Python 3.7.1 64-bit"
  },
  "interpreter": {
   "hash": "9d66e852610df40981e334512c6c7c214e455f2fd9544c01edeabeb4380a7094"
  }
 },
 "nbformat": 4,
 "nbformat_minor": 2
}