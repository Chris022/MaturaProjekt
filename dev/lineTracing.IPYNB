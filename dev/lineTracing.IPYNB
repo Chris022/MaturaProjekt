{
 "cells": [
  {
   "cell_type": "markdown",
   "metadata": {},
   "source": [
    "# Line Tracing #\n",
    "\n",
    "## Idea ##\n",
    "\n",
    "Function: Main\n",
    "1) Load 1 pixel Image\n",
    "2) Give every pixel a id\n",
    "3) Select a Starting Point\n",
    "Function: Trace Line\n",
    "1) Check all Pixels surrounding the Starting Point"
   ]
  },
  {
   "cell_type": "code",
   "execution_count": 12,
   "metadata": {},
   "outputs": [],
   "source": [
    "import utils\n",
    "import classes\n",
    "import matplotlib.pyplot as plt\n",
    "import networkx as nx"
   ]
  },
  {
   "cell_type": "code",
   "execution_count": 13,
   "metadata": {},
   "outputs": [],
   "source": [
    "imageArray = utils.load1BitBWImage(\"./../src/testImages/\",\"0.png\")\n",
    "colorImage = utils.loadRGBImage(\"./../src/testImages/\",\"0.png\")"
   ]
  },
  {
   "cell_type": "code",
   "execution_count": 16,
   "metadata": {},
   "outputs": [
    {
     "name": "stdout",
     "output_type": "stream",
     "text": [
      "(174, 43)\n",
      "[165, 50]\n"
     ]
    },
    {
     "data": {
      "image/png": "[encoded data removed]",
      "text/plain": [
       "<Figure size 432x288 with 1 Axes>"
      ]
     },
     "metadata": {
      "needs_background": "light"
     },
     "output_type": "display_data"
    },
    {
     "data": {
      "image/png": "[encoded data removed]",
      "text/plain": [
       "<Figure size 864x864 with 1 Axes>"
      ]
     },
     "metadata": {},
     "output_type": "display_data"
    }
   ],
   "source": [
    "besucht = []\n",
    "G = nx.MultiDiGraph()\n",
    "\n",
    "def traceLine(image, currentPixel, pixelBefore,lastEdgePoint, start = -1):\n",
    "    global besucht,colorImage,G\n",
    "\n",
    "    \n",
    "    #start by checking if the current pixel was already visited\n",
    "    #exit if it has\n",
    "    if currentPixel in besucht:\n",
    "        colorImage[currentPixel[1]][currentPixel[0]] = (0,255,0,255)\n",
    "        if str(currentPixel) in G:\n",
    "            G.add_edge(lastEdgePoint,str(currentPixel))\n",
    "        \n",
    "        return\n",
    "    besucht.append(currentPixel)\n",
    "\n",
    "\n",
    "    #Recursive part\n",
    "    neighbourPixels = [[-1,-1],[0,-1],[1,-1], \\\n",
    "                       [-1,0],        [1,0],  \\\n",
    "                       [-1,1], [0,1], [1,1]]\n",
    "\n",
    "    validNeighbours=[]\n",
    "    for neib in neighbourPixels:\n",
    "        neighbourPixel = [currentPixel[0]+neib[0],currentPixel[1]+neib[1]]\n",
    "        if image[neighbourPixel[1]][neighbourPixel[0]] == 1:\n",
    "            if not neighbourPixel == pixelBefore:\n",
    "                validNeighbours.append(neighbourPixel)\n",
    "\n",
    "    if len(validNeighbours) > 1:\n",
    "        if start==0:\n",
    "            traceLine(image,validNeighbours[0],currentPixel,lastEdgePoint,start=1)\n",
    "        elif start==1:\n",
    "            besucht = []\n",
    "            traceLine(image,currentPixel,None,lastEdgePoint,start=-1)\n",
    "        else:\n",
    "            colorImage[currentPixel[1]][currentPixel[0]] = (0,0,255,255)\n",
    "            G.add_node(str(currentPixel))\n",
    "            if start == -2: G.add_edge(lastEdgePoint,str(currentPixel))\n",
    "            for validNeigbour in validNeighbours:\n",
    "                traceLine(image,validNeigbour,currentPixel,str(currentPixel),start=-2)\n",
    "    elif len(validNeighbours) == 0:\n",
    "        if start==0:\n",
    "            traceLine(image,validNeighbours[0],currentPixel,lastEdgePoint,start=1)\n",
    "        elif start==1:\n",
    "            besucht = [currentPixel]\n",
    "            traceLine(image,currentPixel,None,lastEdgePoint,start=-1)\n",
    "        else:\n",
    "            colorImage[currentPixel[1]][currentPixel[0]] = (255,0,0,255)\n",
    "            G.add_node(str(currentPixel),lenght=1)\n",
    "            G.add_edge(lastEdgePoint,str(currentPixel))\n",
    "    else:\n",
    "        for validNeigbour in validNeighbours:\n",
    "            traceLine(image,validNeigbour,currentPixel,lastEdgePoint,start)\n",
    "\n",
    "\n",
    "#traceLine(imageArray,startingPoint,pixelBefore,\"\",0)\n",
    "#plt.imshow(colorImage, interpolation='bilinear')\n",
    "\n",
    "class NodeType():\n",
    "    pass\n",
    "class EndNode(NodeType):\n",
    "    pass\n",
    "class IntersectionNode(NodeType):\n",
    "    pass \n",
    "class CornerNode(NodeType):\n",
    "    pass\n",
    "\n",
    "\n",
    "def getAdjacentPixel(image,currentPixel,blackList):\n",
    "    #AdjacentPixel Array       \n",
    "    adjacentPixels = [[-1,-1],[0,-1],[1,-1], \\\n",
    "                        [-1,0],        [1,0], \\\n",
    "                        [-1,1], [0,1], [1,1]]\n",
    "    validPixels = []\n",
    "    for adj in adjacentPixels:\n",
    "        adjacentPixel = [currentPixel[0]+adj[0],currentPixel[1]+adj[1]]\n",
    "        if image[adjacentPixel[1]][adjacentPixel[0]] == 1:\n",
    "            if not adjacentPixel in blackList:\n",
    "                validPixels.append(adjacentPixel)\n",
    "    return validPixels\n",
    "\n",
    "# gets first black pixel in image\n",
    "def findStaringPoint(image):\n",
    "    for y in range(0,len(image)):\n",
    "        for x in range(0,len(image)):\n",
    "            if image[y][x] == 1:\n",
    "                return (x,y)\n",
    "\n",
    "## Runs along line until it finds the first Intersection or the first Endpoint\n",
    "def findValidPoint(image,startPoint):\n",
    "    #visitedPixel = []\n",
    "    def recursiveFindValidPoint(currentPixel,lastPixel):\n",
    "        adjacentPixels = getAdjacentPixel(image,currentPixel,[])\n",
    "        if len(adjacentPixels) > 2:\n",
    "            return currentPixel\n",
    "        adjacentPixels = getAdjacentPixel(image,currentPixel,[lastPixel])    \n",
    "        return recursiveFindValidPoint(adjacentPixels[0],currentPixel)\n",
    "    return recursiveFindValidPoint(startPoint,None)\n",
    "\n",
    "def generateGraph(image,startPoint):\n",
    "    visitedPixels = []\n",
    "    graph = nx.MultiDiGraph()\n",
    "    graph.add_node(str(startPoint))\n",
    "\n",
    "    def recursiveGenerateGraph(currentPixel,lastPixel,lastGraphNode):\n",
    "\n",
    "        #End Recursion if loop ends\n",
    "        if currentPixel in visitedPixels:\n",
    "            if str(currentPixel) in graph:\n",
    "                graph.add_edge(lastGraphNode,str(currentPixel))\n",
    "            return\n",
    "\n",
    "        visitedPixels.append(currentPixel)\n",
    "        adjacentPixels = getAdjacentPixel(image,currentPixel,[lastPixel])\n",
    "        if len(adjacentPixels) == 0:\n",
    "            #ENDPOINT\n",
    "            graph.add_node(str(currentPixel),nodeType=EndNode())\n",
    "            graph.add_edge(lastGraphNode,str(currentPixel))\n",
    "        elif len(adjacentPixels) == 1:\n",
    "            #LINE\n",
    "            recursiveGenerateGraph(adjacentPixels[0],currentPixel,lastGraphNode)\n",
    "        else:\n",
    "            #INTERSECTION\n",
    "            if(str(currentPixel) != lastGraphNode):\n",
    "                graph.add_node(str(currentPixel),nodeType=IntersectionNode())\n",
    "                graph.add_edge(lastGraphNode,str(currentPixel))\n",
    "            for adjacentPixel in adjacentPixels:\n",
    "                recursiveGenerateGraph(adjacentPixel,currentPixel,str(currentPixel))\n",
    "\n",
    "    recursiveGenerateGraph(startPoint,None,str(startPoint))\n",
    "    return graph\n",
    "\n",
    "startingPoint = findStaringPoint(imageArray)\n",
    "print(startingPoint)\n",
    "\n",
    "startingPoint = findValidPoint(imageArray,startingPoint)\n",
    "print(startingPoint)\n",
    "\n",
    "G = generateGraph(imageArray,startingPoint)\n",
    "\n",
    "plt.imshow(colorImage, interpolation='bilinear')\n",
    "subax1 = plt.figure(121,figsize=(12,12))\n",
    "nx.draw(G, with_labels=True,connectionstyle='arc3, rad = 0.1')"
   ]
  },
  {
   "cell_type": "code",
   "execution_count": null,
   "metadata": {},
   "outputs": [],
   "source": []
  }
 ],
 "metadata": {
  "interpreter": {
   "hash": "9d66e852610df40981e334512c6c7c214e455f2fd9544c01edeabeb4380a7094"
  },
  "kernelspec": {
   "display_name": "Python 3.7.1 64-bit",
   "name": "python3"
  },
  "language_info": {
   "codemirror_mode": {
    "name": "ipython",
    "version": 3
   },
   "file_extension": ".py",
   "mimetype": "text/x-python",
   "name": "python",
   "nbconvert_exporter": "python",
   "pygments_lexer": "ipython3",
   "version": "3.7.1"
  },
  "orig_nbformat": 4
 },
 "nbformat": 4,
 "nbformat_minor": 2
}
