{
 "cells": [
  {
   "cell_type": "code",
   "execution_count": 91,
   "metadata": {},
   "outputs": [],
   "source": [
    "import numpy as np\n",
    "import math\n",
    "import cv2\n",
    "import utils\n",
    "#import matplotlib.pyplot as plt"
   ]
  },
  {
   "cell_type": "markdown",
   "metadata": {},
   "source": [
    "load image and generate binary image"
   ]
  },
  {
   "cell_type": "code",
   "execution_count": 92,
   "metadata": {},
   "outputs": [],
   "source": [
    "image = utils.loadImage(path=\"./../src/testImages\",name=\"raf2.png\")\n",
    "(thresh, binary) = cv2.threshold(image, 100, 255, cv2.THRESH_BINARY)\n",
    "\n",
    "\n",
    "kernel = cv2.getStructuringElement(cv2.MORPH_RECT,(3,3))\n",
    "binary = cv2.morphologyEx(binary, cv2.MORPH_CLOSE, kernel)\n",
    "kernel = cv2.getStructuringElement(cv2.MORPH_RECT,(2,2))\n",
    "binary = cv2.morphologyEx(binary, cv2.MORPH_OPEN, kernel)\n",
    "\n",
    "utils.saveImage(name=\"image.png\", image=image)\n",
    "utils.saveImage(name=\"binary.png\", image=binary)"
   ]
  },
  {
   "cell_type": "markdown",
   "metadata": {},
   "source": [
    "filter functions"
   ]
  },
  {
   "cell_type": "code",
   "execution_count": 93,
   "metadata": {},
   "outputs": [],
   "source": [
    "def getRegion(size, pos, image):\n",
    "    xOffset = math.floor(size[0]/2)\n",
    "    yOffset = math.floor(size[1]/2)\n",
    "    return image[pos[0]-xOffset:pos[0]+xOffset+1, pos[1]-yOffset:pos[1]+yOffset+1]\n",
    "\n",
    "def equal(filter, img):\n",
    "    for x in range(0, len(filter)):\n",
    "        for y in range(0, len(filter[0])):\n",
    "            if filter[x][y] != -1 and filter[x][y] != img[x][y]:\n",
    "                return False\n",
    "    return True\n",
    "\n",
    "def applyFilterOnPoints(filter, image, points):\n",
    "    size = (len(filter),len(filter[0]))\n",
    "    features = []\n",
    "    for (x, y) in points:\n",
    "        try:\n",
    "            if equal(filter, getRegion(size, (x, y), image)):\n",
    "                features.append((x,y))\n",
    "        except:\n",
    "            pass\n",
    "    return features\n",
    "\n",
    "def rotateFilter(filter):\n",
    "    rotatedFilters = []\n",
    "    for k in range(0,4):\n",
    "        rotatedFilters.append(np.rot90(filter, k))\n",
    "    return rotatedFilters"
   ]
  },
  {
   "cell_type": "markdown",
   "metadata": {},
   "source": [
    "get Black pixel"
   ]
  },
  {
   "cell_type": "code",
   "execution_count": 94,
   "metadata": {},
   "outputs": [],
   "source": [
    "points = []\n",
    "for x in range(0, len(binary)):\n",
    "    for y in range(0, len(binary[x])):\n",
    "        if binary[x][y] == 255:\n",
    "            points.append((x,y))"
   ]
  },
  {
   "cell_type": "markdown",
   "metadata": {},
   "source": [
    "remove black sections"
   ]
  },
  {
   "cell_type": "code",
   "execution_count": 95,
   "metadata": {},
   "outputs": [],
   "source": [
    "filter = np.full((13, 13), 255)\n",
    "features = applyFilterOnPoints(filter, binary, points)\n",
    "\n",
    "for (x,y) in features:\n",
    "    binary[x][y] = 0\n",
    "\n",
    "utils.saveImage(name=\"ohneSpulen.png\", image=binary)"
   ]
  },
  {
   "cell_type": "markdown",
   "metadata": {},
   "source": [
    "thinn image"
   ]
  },
  {
   "cell_type": "code",
   "execution_count": 96,
   "metadata": {},
   "outputs": [],
   "source": [
    "thinn = utils.thinnImage(binary)\n",
    "\n",
    "utils.saveImage(name=\"thinn.png\", image=thinn)"
   ]
  },
  {
   "cell_type": "markdown",
   "metadata": {},
   "source": [
    "replace certain features"
   ]
  },
  {
   "cell_type": "code",
   "execution_count": 97,
   "metadata": {},
   "outputs": [],
   "source": [
    "cross = [[0,255,0],[255,255,255],[0,255,0]]\n",
    "tcross = rotateFilter([[-1,0,-1],[255,255,255],[0,255,0]])\n",
    "corner = rotateFilter([[0,-1,-1],[-1,255,255],[-1,255,0]])\n",
    "\n",
    "crossFeatures = applyFilterOnPoints(cross, thinn, points)\n",
    "\n",
    "for (x,y) in crossFeatures:\n",
    "    thinn[x][y] = 0\n",
    "    thinn[x][y-1] = 0\n",
    "    thinn[x-1][y-1] = 255\n",
    "\n",
    "tcrossFeatures = []\n",
    "for filter in tcross:\n",
    "    tcrossFeatures = applyFilterOnPoints(filter, thinn, points)\n",
    "    for (x,y) in tcrossFeatures:\n",
    "        thinn[x][y] = 0\n",
    "\n",
    "\n",
    "for filter in corner:\n",
    "    cornerFeatures = applyFilterOnPoints(filter, thinn, points)\n",
    "    for (x,y) in cornerFeatures:\n",
    "        thinn[x][y] = 0\n",
    "\n",
    "\n",
    "\n",
    "utils.saveImage(name=\"modifiedThinn.png\", image=thinn)"
   ]
  }
 ],
 "metadata": {
  "interpreter": {
   "hash": "e5c3deade111fccd4fa92eff86d83ddd10bf433c556b75bb1aa6e942e768c411"
  },
  "kernelspec": {
   "display_name": "Python 3.9.7 64-bit",
   "name": "python3"
  },
  "language_info": {
   "codemirror_mode": {
    "name": "ipython",
    "version": 3
   },
   "file_extension": ".py",
   "mimetype": "text/x-python",
   "name": "python",
   "nbconvert_exporter": "python",
   "pygments_lexer": "ipython3",
   "version": "3.9.7"
  },
  "orig_nbformat": 4
 },
 "nbformat": 4,
 "nbformat_minor": 2
}
