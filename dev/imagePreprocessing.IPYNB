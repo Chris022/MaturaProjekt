{
 "cells": [
  {
   "cell_type": "code",
   "execution_count": 469,
   "metadata": {},
   "outputs": [],
   "source": [
    "import numpy as np\n",
    "import cv2\n",
    "import utils\n",
    "#import matplotlib.pyplot as plt"
   ]
  },
  {
   "cell_type": "markdown",
   "metadata": {},
   "source": [
    "load image and generate binary image"
   ]
  },
  {
   "cell_type": "code",
   "execution_count": 470,
   "metadata": {},
   "outputs": [],
   "source": [
    "image = utils.loadImage(path=\"./../src/testImages\",name=\"raf1.png\")\n",
    "(thresh, binary) = cv2.threshold(image, 100, 255, cv2.THRESH_BINARY)\n",
    "\n",
    "\n",
    "#kernel = cv2.getStructuringElement(cv2.MORPH_RECT,(3,3))\n",
    "#binary = cv2.morphologyEx(binary, cv2.MORPH_CLOSE, kernel)\n",
    "#kernel = cv2.getStructuringElement(cv2.MORPH_RECT,(2,2))\n",
    "#binary = cv2.morphologyEx(binary, cv2.MORPH_OPEN, kernel)\n",
    "\n",
    "utils.saveImage(name=\"image.png\", image=image)\n",
    "utils.saveImage(name=\"binary.png\", image=binary)"
   ]
  },
  {
   "cell_type": "markdown",
   "metadata": {},
   "source": [
    "filter functions"
   ]
  },
  {
   "cell_type": "code",
   "execution_count": 471,
   "metadata": {},
   "outputs": [],
   "source": [
    "def getRegion(pos, image):\n",
    "    return np.transpose(image[pos[0]-1:pos[0]+2, pos[1]-1:pos[1]+2])\n",
    "\n",
    "def equal(filter, img):\n",
    "    for x in range(0, len(filter)):\n",
    "        for y in range(0, len(filter[0])):\n",
    "            if filter[x][y] != -1 and filter[x][y] != img[x][y]:\n",
    "                return False\n",
    "    return True\n",
    "\n",
    "def applyFilterOnPoints(filter, image, points):\n",
    "    features = []\n",
    "    for (x, y) in points:\n",
    "        try:\n",
    "            if equal(filter, getRegion((x, y), image)):\n",
    "                features.append((x,y))\n",
    "        except:\n",
    "            pass\n",
    "    return features\n",
    "\n",
    "def rotateFilter(filter):\n",
    "    rotatedFilters = []\n",
    "    for k in range(0,4):\n",
    "        rotatedFilters.append(np.rot90(filter, k))\n",
    "    return rotatedFilters"
   ]
  },
  {
   "cell_type": "markdown",
   "metadata": {},
   "source": [
    "get Black pixel"
   ]
  },
  {
   "cell_type": "code",
   "execution_count": 472,
   "metadata": {},
   "outputs": [],
   "source": [
    "points = []\n",
    "for x in range(0, len(binary)):\n",
    "    for y in range(0, len(binary[x])):\n",
    "        if binary[x][y] == 255:\n",
    "            points.append((x,y))"
   ]
  },
  {
   "cell_type": "markdown",
   "metadata": {},
   "source": [
    "remove black sections"
   ]
  },
  {
   "cell_type": "code",
   "execution_count": 473,
   "metadata": {},
   "outputs": [],
   "source": [
    "filter = np.full((13, 13), 255)\n",
    "features = applyFilterOnPoints(filter, binary, points)\n",
    "\n",
    "for (x,y) in features:\n",
    "    binary[x][y] = 0\n",
    "\n",
    "utils.saveImage(name=\"ohneSpulen.png\", image=binary)"
   ]
  },
  {
   "cell_type": "markdown",
   "metadata": {},
   "source": [
    "thinn image"
   ]
  },
  {
   "cell_type": "code",
   "execution_count": 474,
   "metadata": {},
   "outputs": [],
   "source": [
    "thinn = utils.thinnImage(binary)\n",
    "\n",
    "utils.saveImage(name=\"thinn.png\", image=thinn)"
   ]
  },
  {
   "cell_type": "markdown",
   "metadata": {},
   "source": [
    "replace certain features"
   ]
  },
  {
   "cell_type": "code",
   "execution_count": 475,
   "metadata": {},
   "outputs": [],
   "source": [
    "def addFeature(feature, replacement, rotate=True, flip=False):\n",
    "    features = []\n",
    "    if rotate:\n",
    "        feature = rotateFilter(feature)\n",
    "        replacement = rotateFilter(replacement)\n",
    "        for i in range(0,4):\n",
    "            features.append([feature[i], replacement[i]])\n",
    "    else:\n",
    "        features.append([feature, replacement])\n",
    "\n",
    "    if flip:\n",
    "        flipped = []\n",
    "        for i in range(0, len(features)):\n",
    "            flipped += [np.flip(features[i][0],1), np.flip(features[i][1],1)]\n",
    "            pass \n",
    "        features += flipped\n",
    "    return features"
   ]
  },
  {
   "cell_type": "code",
   "execution_count": 476,
   "metadata": {},
   "outputs": [],
   "source": [
    "def getFeatures():\n",
    "    features = []\n",
    "\n",
    "    feature = [[0,255,0],[255,255,255],[0,255,0]]\n",
    "    replacement = [[255,0,0],[0,0,0],[255,0,255]]\n",
    "    features += addFeature(feature, replacement, rotate=False)\n",
    "\n",
    "    feature = [[0,255,-1],[-1,255,255],[255,255,-1]]\n",
    "    replacement = [[0,255,255],[-1,255,0],[255,255,-1]]\n",
    "    features += addFeature(feature, replacement, flip=True)\n",
    "\n",
    "    feature = [[-1,0,255],[255,255,0],[0,255,-1]]\n",
    "    replacement = [[-1,0,255],[255,0,255],[0,255,-1]]\n",
    "    features += addFeature(feature, replacement)\n",
    "\n",
    "    feature = [[-1,0,-1],[255,255,255],[0,255,0]]\n",
    "    replacement = [[-1,0,-1],[255,0,255],[0,255,0]]\n",
    "    features += addFeature(feature, replacement)\n",
    "\n",
    "    feature = [[-1,0,0],[255,255,0],[0,255,-1]]\n",
    "    replacement = [[-1,0,0],[255,0,0],[0,255,-1]]\n",
    "    features += addFeature(feature, replacement)\n",
    "\n",
    "    return features"
   ]
  },
  {
   "cell_type": "code",
   "execution_count": 477,
   "metadata": {},
   "outputs": [],
   "source": [
    "features = getFeatures()\n",
    "\n",
    "for feature in features:\n",
    "    featureList = applyFilterOnPoints(feature[0], thinn, points)\n",
    "    for (xOff, yOff) in featureList:\n",
    "        for y in range(0, len(feature[1])):\n",
    "            for x in range(0, len(feature[1][y])):\n",
    "                if feature[1][y][x] != -1:\n",
    "                    thinn[xOff + x - 1][yOff + y - 1] = feature[1][y][x]\n",
    "\n",
    "utils.saveImage(name=\"modifiedThinn.png\", image=thinn)"
   ]
  }
 ],
 "metadata": {
  "interpreter": {
   "hash": "e5c3deade111fccd4fa92eff86d83ddd10bf433c556b75bb1aa6e942e768c411"
  },
  "kernelspec": {
   "display_name": "Python 3.9.7 64-bit",
   "name": "python3"
  },
  "language_info": {
   "codemirror_mode": {
    "name": "ipython",
    "version": 3
   },
   "file_extension": ".py",
   "mimetype": "text/x-python",
   "name": "python",
   "nbconvert_exporter": "python",
   "pygments_lexer": "ipython3",
   "version": "3.9.7"
  },
  "orig_nbformat": 4
 },
 "nbformat": 4,
 "nbformat_minor": 2
}
