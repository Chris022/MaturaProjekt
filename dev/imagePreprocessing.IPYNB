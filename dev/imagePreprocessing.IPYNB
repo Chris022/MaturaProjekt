{
 "cells": [
  {
   "cell_type": "code",
   "execution_count": 167,
   "metadata": {},
   "outputs": [],
   "source": [
    "from PIL import Image\n",
    "import numpy as np\n",
    "import matplotlib.pyplot as plt\n",
    "import math\n",
    "import operator\n",
    "import cv2"
   ]
  },
  {
   "cell_type": "markdown",
   "metadata": {},
   "source": [
    "image functions"
   ]
  },
  {
   "cell_type": "code",
   "execution_count": 168,
   "metadata": {},
   "outputs": [],
   "source": [
    "def loadImage(path, name):\n",
    "    image = cv2.imread('{path}/{name}'.format(path=path,name=name))\n",
    "    image = cv2.cvtColor(image, cv2.COLOR_RGB2GRAY)\n",
    "    image = cv2.resize(image, (400,300), interpolation = cv2.INTER_AREA)\n",
    "    image = 255 - image\n",
    "    image = np.transpose(image)\n",
    "    return np.asarray(image)\n",
    "\n",
    "def saveImage(name, image, invert = True):\n",
    "    image = np.transpose(image)\n",
    "    if invert:\n",
    "        cv2.imwrite('./img/' + name, 255 - image)\n",
    "    else:\n",
    "        cv2.imwrite('./img/' + name, image)\n",
    "\n",
    "def thinnImage(image):\n",
    "    image = cv2.ximgproc.thinning(image)\n",
    "    return image"
   ]
  },
  {
   "cell_type": "markdown",
   "metadata": {},
   "source": [
    "load image and generate binary image"
   ]
  },
  {
   "cell_type": "code",
   "execution_count": 169,
   "metadata": {},
   "outputs": [],
   "source": [
    "image = loadImage(\"./../src/testImages\",\"1.png\")\n",
    "(thresh, binary) = cv2.threshold(image, 127, 255, cv2.THRESH_BINARY)\n",
    "\n",
    "saveImage(\"image.png\", image)\n",
    "saveImage(\"binary.png\", binary)"
   ]
  },
  {
   "cell_type": "markdown",
   "metadata": {},
   "source": [
    "filter functions"
   ]
  },
  {
   "cell_type": "code",
   "execution_count": 170,
   "metadata": {},
   "outputs": [],
   "source": [
    "def getRegion(size, pos, image):\n",
    "    xOffset = math.floor(size[0]/2)\n",
    "    yOffset = math.floor(size[1]/2)\n",
    "    return image[pos[0]-xOffset:pos[0]+xOffset+1, pos[1]-yOffset:pos[1]+yOffset+1]\n",
    "\n",
    "def equal(filter, img):\n",
    "    for x in range(0, len(filter)):\n",
    "        for y in range(0, len(filter[0])):\n",
    "            if filter[x][y] != -1 and filter[x][y] != img[x][y]:\n",
    "                return False\n",
    "    return True\n",
    "\n",
    "def applyFilterOnPoints(filter, image, points):\n",
    "    size = (len(filter),len(filter[0]))\n",
    "    features = []\n",
    "    for (x, y) in points:\n",
    "        if equal(filter, getRegion(size, (x, y), image)):\n",
    "            features.append((x,y))\n",
    "    return features\n",
    "\n",
    "def rotateFilter(filter):\n",
    "    rotatedFilters = []\n",
    "    for k in range(0,4):\n",
    "        rotatedFilters.append(np.rot90(filter, k))\n",
    "    return rotatedFilters"
   ]
  },
  {
   "cell_type": "markdown",
   "metadata": {},
   "source": [
    "get Black pixel"
   ]
  },
  {
   "cell_type": "code",
   "execution_count": 171,
   "metadata": {},
   "outputs": [],
   "source": [
    "points = []\n",
    "for x in range(0, len(binary)):\n",
    "    for y in range(0, len(binary[x])):\n",
    "        if binary[x][y] == 255:\n",
    "            points.append((x,y))"
   ]
  },
  {
   "cell_type": "markdown",
   "metadata": {},
   "source": [
    "remove black sections"
   ]
  },
  {
   "cell_type": "code",
   "execution_count": 172,
   "metadata": {},
   "outputs": [],
   "source": [
    "filter = np.full((13, 13), 255)\n",
    "features = applyFilterOnPoints(filter, binary, points)\n",
    "\n",
    "for (x,y) in features:\n",
    "    binary[x][y] = 0\n",
    "\n",
    "saveImage(\"ohneSpulen.png\", binary)"
   ]
  },
  {
   "cell_type": "markdown",
   "metadata": {},
   "source": [
    "thinn image"
   ]
  },
  {
   "cell_type": "code",
   "execution_count": 173,
   "metadata": {},
   "outputs": [],
   "source": [
    "thinn = thinnImage(binary)\n",
    "\n",
    "saveImage(\"thinn.png\", thinn)"
   ]
  },
  {
   "cell_type": "markdown",
   "metadata": {},
   "source": [
    "replace certain features"
   ]
  },
  {
   "cell_type": "code",
   "execution_count": 174,
   "metadata": {},
   "outputs": [],
   "source": [
    "cross = [[0,255,0],[255,255,255],[0,255,0]]\n",
    "tcross = rotateFilter([[-1,0,-1],[255,255,255],[0,255,0]])\n",
    "corner = rotateFilter([[-1,-1,-1],[-1,255,255],[-1,255,0]])\n",
    "\n",
    "crossFeatures = applyFilterOnPoints(cross, thinn, points)\n",
    "\n",
    "for (x,y) in crossFeatures:\n",
    "    thinn[x][y] = 0\n",
    "    thinn[x][y-1] = 0\n",
    "    thinn[x-1][y-1] = 255\n",
    "\n",
    "tcrossFeatures = []\n",
    "for filter in tcross:\n",
    "    tcrossFeatures += applyFilterOnPoints(filter, thinn, points)\n",
    "\n",
    "for (x,y) in tcrossFeatures:\n",
    "    thinn[x][y] = 0\n",
    "\n",
    "for filter in corner:\n",
    "    cornerFeatures = applyFilterOnPoints(filter, thinn, points)\n",
    "    for (x,y) in cornerFeatures:\n",
    "        thinn[x][y] = 0\n",
    "\n",
    "\n",
    "\n",
    "saveImage(\"modifiedThinn.png\", thinn)"
   ]
  }
 ],
 "metadata": {
  "interpreter": {
   "hash": "e5c3deade111fccd4fa92eff86d83ddd10bf433c556b75bb1aa6e942e768c411"
  },
  "kernelspec": {
   "display_name": "Python 3.9.7 64-bit",
   "name": "python3"
  },
  "language_info": {
   "codemirror_mode": {
    "name": "ipython",
    "version": 3
   },
   "file_extension": ".py",
   "mimetype": "text/x-python",
   "name": "python",
   "nbconvert_exporter": "python",
   "pygments_lexer": "ipython3",
   "version": "3.9.7"
  },
  "orig_nbformat": 4
 },
 "nbformat": 4,
 "nbformat_minor": 2
}
