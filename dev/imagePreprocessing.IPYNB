{
 "cells": [
  {
   "cell_type": "code",
   "execution_count": 4,
   "metadata": {},
   "outputs": [],
   "source": [
    "import sys\n",
    "sys.path.append('../')\n",
    "\n",
    "import numpy as np\n",
    "import cv2\n",
    "import lib.utils as utils\n",
    "import math\n",
    "import matplotlib.pyplot as plt"
   ]
  },
  {
   "cell_type": "markdown",
   "metadata": {},
   "source": [
    "load image and generate binary image"
   ]
  },
  {
   "cell_type": "code",
   "execution_count": 3,
   "metadata": {},
   "outputs": [
    {
     "ename": "error",
     "evalue": "OpenCV(4.5.4-dev) D:\\a\\opencv-python\\opencv-python\\opencv\\modules\\imgproc\\src\\color.cpp:182: error: (-215:Assertion failed) !_src.empty() in function 'cv::cvtColor'\n",
     "output_type": "error",
     "traceback": [
      "\u001b[1;31m---------------------------------------------------------------------------\u001b[0m",
      "\u001b[1;31merror\u001b[0m                                     Traceback (most recent call last)",
      "\u001b[1;32mC:\\Users\\MARKUS~1\\AppData\\Local\\Temp/ipykernel_22184/3353781928.py\u001b[0m in \u001b[0;36m<module>\u001b[1;34m\u001b[0m\n\u001b[1;32m----> 1\u001b[1;33m \u001b[0mimage\u001b[0m \u001b[1;33m=\u001b[0m \u001b[0mutils\u001b[0m\u001b[1;33m.\u001b[0m\u001b[0mloadImage\u001b[0m\u001b[1;33m(\u001b[0m\u001b[0mpath\u001b[0m\u001b[1;33m=\u001b[0m\u001b[1;34m\"./../resources/testImages\"\u001b[0m\u001b[1;33m,\u001b[0m\u001b[0mname\u001b[0m\u001b[1;33m=\u001b[0m\u001b[1;34m\"hand2.png\"\u001b[0m\u001b[1;33m,\u001b[0m \u001b[0mresize\u001b[0m\u001b[1;33m=\u001b[0m\u001b[1;33m(\u001b[0m\u001b[1;36m850\u001b[0m\u001b[1;33m,\u001b[0m\u001b[1;32mNone\u001b[0m\u001b[1;33m)\u001b[0m\u001b[1;33m)\u001b[0m\u001b[1;33m\u001b[0m\u001b[1;33m\u001b[0m\u001b[0m\n\u001b[0m\u001b[0;32m      2\u001b[0m \u001b[1;33m(\u001b[0m\u001b[0mthresh\u001b[0m\u001b[1;33m,\u001b[0m \u001b[0mbinary\u001b[0m\u001b[1;33m)\u001b[0m \u001b[1;33m=\u001b[0m \u001b[0mcv2\u001b[0m\u001b[1;33m.\u001b[0m\u001b[0mthreshold\u001b[0m\u001b[1;33m(\u001b[0m\u001b[0mimage\u001b[0m\u001b[1;33m,\u001b[0m \u001b[1;36m100\u001b[0m\u001b[1;33m,\u001b[0m \u001b[1;36m255\u001b[0m\u001b[1;33m,\u001b[0m \u001b[0mcv2\u001b[0m\u001b[1;33m.\u001b[0m\u001b[0mTHRESH_BINARY\u001b[0m\u001b[1;33m)\u001b[0m\u001b[1;33m\u001b[0m\u001b[1;33m\u001b[0m\u001b[0m\n\u001b[0;32m      3\u001b[0m \u001b[1;33m\u001b[0m\u001b[0m\n\u001b[0;32m      4\u001b[0m \u001b[1;33m\u001b[0m\u001b[0m\n\u001b[0;32m      5\u001b[0m \u001b[0mimg\u001b[0m \u001b[1;33m=\u001b[0m \u001b[0mcv2\u001b[0m\u001b[1;33m.\u001b[0m\u001b[0mmedianBlur\u001b[0m\u001b[1;33m(\u001b[0m\u001b[0mimage\u001b[0m\u001b[1;33m,\u001b[0m\u001b[1;36m5\u001b[0m\u001b[1;33m)\u001b[0m\u001b[1;33m\u001b[0m\u001b[1;33m\u001b[0m\u001b[0m\n",
      "\u001b[1;32mc:\\Users\\Markus Mayrhofer\\Documents\\GitHub\\MaturaProjekt\\dev\\..\\lib\\utils.py\u001b[0m in \u001b[0;36mloadImage\u001b[1;34m(path, name, transpose, resize, invert, color)\u001b[0m\n\u001b[0;32m     24\u001b[0m     \u001b[0mimage\u001b[0m \u001b[1;33m=\u001b[0m \u001b[0mcv2\u001b[0m\u001b[1;33m.\u001b[0m\u001b[0mimread\u001b[0m\u001b[1;33m(\u001b[0m\u001b[1;34m'{path}/{name}'\u001b[0m\u001b[1;33m.\u001b[0m\u001b[0mformat\u001b[0m\u001b[1;33m(\u001b[0m\u001b[0mpath\u001b[0m\u001b[1;33m=\u001b[0m\u001b[0mpath\u001b[0m\u001b[1;33m,\u001b[0m\u001b[0mname\u001b[0m\u001b[1;33m=\u001b[0m\u001b[0mname\u001b[0m\u001b[1;33m)\u001b[0m\u001b[1;33m)\u001b[0m\u001b[1;33m\u001b[0m\u001b[1;33m\u001b[0m\u001b[0m\n\u001b[0;32m     25\u001b[0m     \u001b[1;32mif\u001b[0m \u001b[1;32mnot\u001b[0m \u001b[0mcolor\u001b[0m\u001b[1;33m:\u001b[0m\u001b[1;33m\u001b[0m\u001b[1;33m\u001b[0m\u001b[0m\n\u001b[1;32m---> 26\u001b[1;33m         \u001b[0mimage\u001b[0m \u001b[1;33m=\u001b[0m \u001b[0mcv2\u001b[0m\u001b[1;33m.\u001b[0m\u001b[0mcvtColor\u001b[0m\u001b[1;33m(\u001b[0m\u001b[0mimage\u001b[0m\u001b[1;33m,\u001b[0m \u001b[0mcv2\u001b[0m\u001b[1;33m.\u001b[0m\u001b[0mCOLOR_BGR2GRAY\u001b[0m\u001b[1;33m)\u001b[0m\u001b[1;33m\u001b[0m\u001b[1;33m\u001b[0m\u001b[0m\n\u001b[0m\u001b[0;32m     27\u001b[0m \u001b[1;33m\u001b[0m\u001b[0m\n\u001b[0;32m     28\u001b[0m     \u001b[0mwidth\u001b[0m \u001b[1;33m=\u001b[0m \u001b[0mlen\u001b[0m\u001b[1;33m(\u001b[0m\u001b[0mimage\u001b[0m\u001b[1;33m[\u001b[0m\u001b[1;36m0\u001b[0m\u001b[1;33m]\u001b[0m\u001b[1;33m)\u001b[0m\u001b[1;33m\u001b[0m\u001b[1;33m\u001b[0m\u001b[0m\n",
      "\u001b[1;31merror\u001b[0m: OpenCV(4.5.4-dev) D:\\a\\opencv-python\\opencv-python\\opencv\\modules\\imgproc\\src\\color.cpp:182: error: (-215:Assertion failed) !_src.empty() in function 'cv::cvtColor'\n"
     ]
    }
   ],
   "source": [
    "image = utils.loadImage(path=\"./../resources/testImages\",name=\"hand2.jpg\", resize=(850,None))\n",
    "(thresh, binary) = cv2.threshold(image, 100, 255, cv2.THRESH_BINARY)\n",
    "\n",
    "\n",
    "img = cv2.medianBlur(image,5)\n",
    "binary = cv2.adaptiveThreshold(img,255,cv2.ADAPTIVE_THRESH_GAUSSIAN_C, cv2.THRESH_BINARY,11,2)\n",
    "\n",
    "#kernel = cv2.getStructuringElement(cv2.MORPH_RECT,(3,3))\n",
    "#binary = cv2.morphologyEx(binary, cv2.MORPH_CLOSE, kernel)\n",
    "#kernel = cv2.getStructuringElement(cv2.MORPH_RECT,(2,2))\n",
    "#binary = cv2.morphologyEx(binary, cv2.MORPH_OPEN, kernel)\n",
    "\n",
    "utils.saveImage(name=\"image.png\", image=image)\n",
    "utils.saveImage(name=\"binary.png\", image=binary)\n",
    "\n",
    "plt.figure(figsize=(10,10))\n",
    "plt.subplot(1,2,1)\n",
    "plt.imshow(image, interpolation=\"bilinear\", cmap=\"gray\")\n",
    "plt.subplot(1,2,2)\n",
    "plt.imshow(binary, interpolation=\"bilinear\", cmap=\"gray\")\n",
    "plt.show()\n"
   ]
  },
  {
   "cell_type": "markdown",
   "metadata": {},
   "source": [
    "filter functions"
   ]
  },
  {
   "cell_type": "code",
   "execution_count": 3,
   "metadata": {},
   "outputs": [],
   "source": [
    "def getRegion(size, pos, image):\n",
    "    xOff = math.floor(size[0]/2)\n",
    "    yOff = math.floor(size[1]/2)\n",
    "    return image[pos[1]-yOff:pos[1]+yOff+1, pos[0]-xOff:pos[0]+xOff+1]\n",
    "\n",
    "def equal(filter, img):\n",
    "    for y in range(0, len(filter)):\n",
    "        for x in range(0, len(filter[y])):\n",
    "            if filter[y][x] != -1 and filter[y][x] != img[y][x]:\n",
    "                return False\n",
    "    return True\n",
    "\n",
    "def applyFilterOnPoints(filter, image, points):\n",
    "    features = []\n",
    "    size = [len(filter), len(filter[0])]\n",
    "    for (x, y) in points:\n",
    "        try:\n",
    "            if equal(filter, getRegion(size, (x, y), image)):\n",
    "                features.append((x,y))\n",
    "        except:\n",
    "            pass\n",
    "    return features\n",
    "\n",
    "def rotateFilter(filter):\n",
    "    rotatedFilters = []\n",
    "    for k in range(0,4):\n",
    "        rotatedFilters.append(np.rot90(filter, k))\n",
    "    return rotatedFilters"
   ]
  },
  {
   "cell_type": "markdown",
   "metadata": {},
   "source": [
    "get Black pixel"
   ]
  },
  {
   "cell_type": "code",
   "execution_count": 4,
   "metadata": {},
   "outputs": [],
   "source": [
    "points = []\n",
    "for y in range(0, len(binary)):\n",
    "    for x in range(0, len(binary[y])):\n",
    "        if binary[y][x] == 0:\n",
    "            points.append((x,y))"
   ]
  },
  {
   "cell_type": "markdown",
   "metadata": {},
   "source": [
    "remove black sections"
   ]
  },
  {
   "cell_type": "code",
   "execution_count": 5,
   "metadata": {},
   "outputs": [
    {
     "data": {
      "text/plain": [
       "<matplotlib.image.AxesImage at 0x1378fab1a00>"
      ]
     },
     "execution_count": 5,
     "metadata": {},
     "output_type": "execute_result"
    },
    {
     "data": {
      "image/png": "[encoded data removed]",
      "text/plain": [
       "<Figure size 432x288 with 1 Axes>"
      ]
     },
     "metadata": {
      "needs_background": "light"
     },
     "output_type": "display_data"
    }
   ],
   "source": [
    "filter = np.full((13, 13), 0)\n",
    "features = applyFilterOnPoints(filter, binary, points)\n",
    "\n",
    "for (x,y) in features:\n",
    "    binary[y][x] = 255\n",
    "\n",
    "utils.saveImage(name=\"ohneSpulen.png\", image=binary)\n",
    "plt.imshow(binary, interpolation=\"bilinear\", cmap=\"gray\")"
   ]
  },
  {
   "cell_type": "markdown",
   "metadata": {},
   "source": [
    "thinn image"
   ]
  },
  {
   "cell_type": "code",
   "execution_count": 6,
   "metadata": {},
   "outputs": [
    {
     "data": {
      "text/plain": [
       "<matplotlib.image.AxesImage at 0x1378f907460>"
      ]
     },
     "execution_count": 6,
     "metadata": {},
     "output_type": "execute_result"
    },
    {
     "data": {
      "image/png": "[encoded data removed]",
      "text/plain": [
       "<Figure size 432x288 with 1 Axes>"
      ]
     },
     "metadata": {
      "needs_background": "light"
     },
     "output_type": "display_data"
    }
   ],
   "source": [
    "thinn = utils.thinnImage(binary)\n",
    "\n",
    "utils.saveImage(name=\"thinn.png\", image=thinn)\n",
    "plt.imshow(thinn, interpolation=\"bilinear\", cmap=\"gray\")"
   ]
  },
  {
   "cell_type": "markdown",
   "metadata": {},
   "source": [
    "replace certain features"
   ]
  },
  {
   "cell_type": "code",
   "execution_count": 7,
   "metadata": {},
   "outputs": [],
   "source": [
    "def addFeature(feature, replacement, rotate=True, flip=False):\n",
    "    features = []\n",
    "    if rotate:\n",
    "        feature = rotateFilter(feature)\n",
    "        replacement = rotateFilter(replacement)\n",
    "        for i in range(0,4):\n",
    "            features.append([feature[i], replacement[i]])\n",
    "    else:\n",
    "        features.append([feature, replacement])\n",
    "    if flip:\n",
    "        flipped = []\n",
    "        for i in range(0, len(features)):\n",
    "            flipped.append([np.flip(features[i][0],1), np.flip(features[i][1],1)])\n",
    "        features += flipped\n",
    "    return features"
   ]
  },
  {
   "cell_type": "code",
   "execution_count": 8,
   "metadata": {},
   "outputs": [],
   "source": [
    "def getFeatures():\n",
    "    features = []\n",
    "    \n",
    "    feature = [[255,0,255],[0,0,0],[255,0,255]]\n",
    "    replacement = [[255,0,255],[0,255,0],[255,0,255]]\n",
    "    features += addFeature(feature, replacement, rotate=False)\n",
    "\n",
    "    feature = [[255,0,-1],[-1,0,0],[0,0,-1]]\n",
    "    #replacement = [[255,0,0],[-1,0,255],[0,0,-1]]\n",
    "    replacement = [[255,0,255],[-1,0,0],[0,255,-1]]\n",
    "    features += addFeature(feature, replacement, flip=True)\n",
    "\n",
    "    feature = [[-1,255,0],[0,0,255],[255,0,-1]]\n",
    "    replacement = [[-1,255,0],[0,255,0],[255,0,-1]]\n",
    "    features += addFeature(feature, replacement)\n",
    "    \n",
    "    feature = [[-1,255,-1],[0,0,0],[255,0,255]]\n",
    "    replacement = [[-1,255,-1],[0,255,0],[255,0,255]]\n",
    "    features += addFeature(feature, replacement)\n",
    "    \n",
    "    feature = [[-1,255,255],[0,0,255],[255,0,-1]]\n",
    "    replacement = [[-1,255,255],[0,255,255],[255,0,-1]]\n",
    "    features += addFeature(feature, replacement)\n",
    "\n",
    "    return features"
   ]
  },
  {
   "cell_type": "code",
   "execution_count": 9,
   "metadata": {},
   "outputs": [
    {
     "data": {
      "text/plain": [
       "<matplotlib.image.AxesImage at 0x1378d847d00>"
      ]
     },
     "execution_count": 9,
     "metadata": {},
     "output_type": "execute_result"
    },
    {
     "data": {
      "image/png": "[encoded data removed]",
      "text/plain": [
       "<Figure size 432x288 with 1 Axes>"
      ]
     },
     "metadata": {
      "needs_background": "light"
     },
     "output_type": "display_data"
    }
   ],
   "source": [
    "features = getFeatures()\n",
    "\n",
    "for feature in features:\n",
    "    featureList = applyFilterOnPoints(feature[0], thinn, points)\n",
    "    for (xOff, yOff) in featureList:\n",
    "        for y in range(0, len(feature[1])):\n",
    "            for x in range(0, len(feature[1][y])):\n",
    "                if feature[1][y][x] != -1:\n",
    "                    thinn[yOff + y - 1][xOff + x - 1] = feature[1][y][x]\n",
    "\n",
    "utils.saveImage(name=\"modifiedThinn.png\", image=thinn)\n",
    "plt.imshow(thinn, interpolation=\"bilinear\", cmap=\"gray\")"
   ]
  }
 ],
 "metadata": {
  "interpreter": {
   "hash": "e5c3deade111fccd4fa92eff86d83ddd10bf433c556b75bb1aa6e942e768c411"
  },
  "kernelspec": {
   "display_name": "Python 3.9.7 64-bit",
   "name": "python3"
  },
  "language_info": {
   "codemirror_mode": {
    "name": "ipython",
    "version": 3
   },
   "file_extension": ".py",
   "mimetype": "text/x-python",
   "name": "python",
   "nbconvert_exporter": "python",
   "pygments_lexer": "ipython3",
   "version": "3.9.7"
  },
  "orig_nbformat": 4
 },
 "nbformat": 4,
 "nbformat_minor": 2
}
