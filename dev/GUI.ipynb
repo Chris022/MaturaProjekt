{
 "cells": [
  {
   "cell_type": "code",
   "execution_count": 16,
   "metadata": {},
   "outputs": [],
   "source": [
    "import sys\n",
    "sys.path.append('../')\n",
    "\n",
    "import numpy as np\n",
    "import cv2\n",
    "import lib.utils as utils\n",
    "import matplotlib.pyplot as plt\n",
    "\n",
    "from lib.gui.cropImage import CropImage\n",
    "\n",
    "from tkinter import *\n",
    "\n",
    "from PIL import Image as PIL_Image, ImageTk as PIL_ImageTk"
   ]
  },
  {
   "cell_type": "code",
   "execution_count": 17,
   "metadata": {},
   "outputs": [],
   "source": [
    "image = utils.loadImage(path=\"./../resources/testImages\",name=\"hand2.jpg\", resize=(500,None))\n",
    "image_size = (image.shape[1], image.shape[0])\n",
    "\n",
    "#(thresh, binary) = cv2.threshold(image, 100, 255, cv2.THRESH_BINARY)\n",
    "\n",
    "#plt.imshow(image, interpolation=\"bilinear\", cmap=\"gray\")"
   ]
  },
  {
   "cell_type": "code",
   "execution_count": 18,
   "metadata": {},
   "outputs": [],
   "source": [
    "def next():\n",
    "    print(ci.get_rect())\n",
    "    ci.add()\n",
    "    pass\n",
    "\n",
    "def back():\n",
    "    print(ci.get_rect())\n",
    "    ci.remove()\n",
    "    pass"
   ]
  },
  {
   "cell_type": "code",
   "execution_count": 19,
   "metadata": {},
   "outputs": [
    {
     "name": "stdout",
     "output_type": "stream",
     "text": [
      "[(0, 0), (500, 666)]\n",
      "[(0, 0), (500, 666)]\n",
      "[(0, 0), (500, 666)]\n",
      "[(0, 0), (500, 666)]\n",
      "[(0, 0), (500, 666)]\n",
      "[(0, 0), (500, 666)]\n",
      "[(0, 0), (500, 666)]\n",
      "[(0, 0), (500, 666)]\n",
      "[(0, 0), (500, 666)]\n"
     ]
    }
   ],
   "source": [
    "root = Tk()\n",
    "root.title(\"Smarter Circuits\")\n",
    "root.geometry(\"900x600\")\n",
    "\n",
    "ci = CropImage(root, image)\n",
    "\n",
    "back_button = Button(root, text='Back', width=10, height=2, command=back)\n",
    "back_button.grid(row=0, column=1, sticky=E+W)\n",
    "\n",
    "next_button = Button(root, text='Next', width=10, height=2, command=next)\n",
    "next_button.grid(row=1, column=1, sticky=E+W)\n",
    "\n",
    "#canvas = Canvas(root, width=image_size[0], height=image_size[1])      \n",
    "#canvas.pack()\n",
    "#tkImg = convertImage(image)\n",
    "#canvas_img = canvas.create_image(20,20, anchor=NW, image=tkImg)\n",
    "##canvas.create_rectangle(20, 20, 50, 50, fill='red')\n",
    "#\n",
    "#s1_value = DoubleVar()\n",
    "#s1 = Scale(root, from_=0, to=255, length=200, orient=HORIZONTAL, variable=s1_value, command=s1_changed)\n",
    "#s1.set(100)\n",
    "#s1.pack()\n",
    "\n",
    "\n",
    "root.mainloop()"
   ]
  },
  {
   "cell_type": "code",
   "execution_count": 20,
   "metadata": {},
   "outputs": [],
   "source": [
    "#def s1_changed(event):\n",
    "#    global tkImg\n",
    "#    (thresh, binary) = cv2.threshold(image, s1.get(), 255, cv2.THRESH_BINARY)\n",
    "#    #binary = cv2.adaptiveThreshold(image,255,cv2.ADAPTIVE_THRESH_GAUSSIAN_C,cv2.THRESH_BINARY,11,s1.get()/20)\n",
    "#    #blur = cv2.GaussianBlur(image,(5,5),s1.get())\n",
    "#    #ret3,binary = cv2.threshold(blur,0,255,cv2.THRESH_BINARY+cv2.THRESH_OTSU)\n",
    "#    tkImg = convertImage(binary)\n",
    "#    canvas.itemconfig(canvas_img, image=tkImg)"
   ]
  }
 ],
 "metadata": {
  "interpreter": {
   "hash": "e5c3deade111fccd4fa92eff86d83ddd10bf433c556b75bb1aa6e942e768c411"
  },
  "kernelspec": {
   "display_name": "Python 3.9.7 64-bit",
   "language": "python",
   "name": "python3"
  },
  "language_info": {
   "codemirror_mode": {
    "name": "ipython",
    "version": 3
   },
   "file_extension": ".py",
   "mimetype": "text/x-python",
   "name": "python",
   "nbconvert_exporter": "python",
   "pygments_lexer": "ipython3",
   "version": "3.9.7"
  },
  "orig_nbformat": 4
 },
 "nbformat": 4,
 "nbformat_minor": 2
}
