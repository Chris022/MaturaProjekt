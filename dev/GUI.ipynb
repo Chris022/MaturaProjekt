{
 "cells": [
  {
   "cell_type": "code",
   "execution_count": 1,
   "metadata": {},
   "outputs": [],
   "source": [
    "import sys\n",
    "sys.path.append('../')\n",
    "\n",
    "import numpy as np\n",
    "import cv2\n",
    "import lib.utils as utils\n",
    "import matplotlib.pyplot as plt\n",
    "\n",
    "from lib.gui.openFile import OpenFile\n",
    "from lib.gui.cropImage import CropImage\n",
    "from lib.gui.createBinary import CreateBinary\n",
    "from lib.gui.detectCircuit import DetectCircuit\n",
    "\n",
    "from tkinter import *\n",
    "\n",
    "from PIL import Image as PIL_Image, ImageTk as PIL_ImageTk"
   ]
  },
  {
   "cell_type": "code",
   "execution_count": 2,
   "metadata": {},
   "outputs": [],
   "source": [
    "image = utils.loadImage(path=\"./../resources/testImages\",name=\"hand2.jpg\", resize=(500,None))\n",
    "#image_size = (image.shape[1], image.shape[0])\n",
    "\n",
    "#(thresh, binary) = cv2.threshold(image, 100, 255, cv2.THRESH_BINARY)\n",
    "\n",
    "#plt.imshow(image, interpolation=\"bilinear\", cmap=\"gray\")"
   ]
  },
  {
   "cell_type": "code",
   "execution_count": 3,
   "metadata": {},
   "outputs": [],
   "source": [
    "def get_frames(root, next):\n",
    "    frames = []\n",
    "    data = [-1]\n",
    "    frames.append(OpenFile(root, next))\n",
    "    frames.append(CropImage(root, (0.01,0.01,0.7,0.95)))\n",
    "    frames.append(CreateBinary(root, (0.01,0.01,0.7,0.95)))\n",
    "    frames.append(DetectCircuit(root, (0.01,0.01,0.7,0.95)))\n",
    "    \n",
    "\n",
    "    data = data * len(frames)\n",
    "\n",
    "    return frames, data"
   ]
  },
  {
   "cell_type": "code",
   "execution_count": 4,
   "metadata": {},
   "outputs": [],
   "source": [
    "def next():\n",
    "    global frames, frame_data, frame_index\n",
    "    if frame_index < len(frames)-1:\n",
    "        frame_data[frame_index] = frames[frame_index].remove()\n",
    "        frame_index += 1\n",
    "        frames[frame_index].add(frame_data[frame_index-1])\n",
    "\n",
    "def back():\n",
    "    global frames, frame_data, frame_index\n",
    "    if frame_index > 0:\n",
    "        frame_data[frame_index] = frames[frame_index].remove()\n",
    "        frame_index -= 1\n",
    "        if frame_index > 0:\n",
    "            frames[frame_index].add(frame_data[frame_index-1])\n",
    "        else:\n",
    "            frames[frame_index].add(-1)"
   ]
  },
  {
   "cell_type": "code",
   "execution_count": 5,
   "metadata": {},
   "outputs": [],
   "source": [
    "def resize(event):\n",
    "    global size, frames, frame_index\n",
    "    new_size = (event.width, event.height)\n",
    "\n",
    "    if str(event.widget) != '.':\n",
    "        return\n",
    "    \n",
    "    if new_size != size:\n",
    "        #print(\"EVEEEEENT\")\n",
    "        frames[frame_index].resize()#(event.width-size[0], event.height-size[1]))\n",
    "        size = new_size"
   ]
  },
  {
   "cell_type": "code",
   "execution_count": 6,
   "metadata": {},
   "outputs": [
    {
     "name": "stdout",
     "output_type": "stream",
     "text": [
      "[   Vector: [2 red {'coordinates': [292.0325203252033, 102.11382113821138]} ]   ,    Vector: [7 yellow {'coordinates': [310.8943089430894, 158.0487804878049]} ]   ,    Vector: [6 red {'coordinates': [295.9349593495935, 160.65040650406505]} ]   ,    Vector: [8 yellow {'coordinates': [306.3414634146341, 104.0650406504065]} ]   ,    Vector: [4 yellow {'coordinates': [280.9756097560976, 158.0487804878049]} ]   ,    Vector: [3 yellow {'coordinates': [282.9268292682927, 106.01626016260163]} ]   ]\n",
      "[   Vector: [29 yellow {'coordinates': [58.53658536585366, 147.64227642276424]} ]   ,    Vector: [28 red {'coordinates': [41.6260162601626, 155.4471544715447]} ]   ,    Vector: [26 yellow {'coordinates': [31.21951219512195, 80.65040650406505]} ]   ,    Vector: [30 yellow {'coordinates': [59.1869918699187, 77.39837398373983]} ]   ,    Vector: [25 red {'coordinates': [45.52845528455285, 75.44715447154472]} ]   ,    Vector: [27 yellow {'coordinates': [33.82113821138211, 154.14634146341464]} ]   ]\n",
      "[   Vector: [81 red {'coordinates': [218.46153846153845, 28.71794871794872]} ]   ,    Vector: [80 yellow {'coordinates': [219.48717948717947, 43.07692307692308]} ]   ,    Vector: [79 yellow {'coordinates': [272.8205128205128, 46.15384615384615]} ]   ,    Vector: [82 yellow {'coordinates': [224.6153846153846, 20.512820512820515]} ]   ,    Vector: [1 yellow {'coordinates': [273.84615384615387, 24.615384615384617]} ]   ,    Vector: [2 red {'coordinates': [274.87179487179486, 30.76923076923077]} ]   ]\n",
      "[   Vector: [31 yellow {'coordinates': [204.10256410256412, 330.2564102564103]} ]   ,    Vector: [29 yellow {'coordinates': [182.56410256410257, 334.35897435897436]} ]   ,    Vector: [32 yellow {'coordinates': [201.02564102564102, 289.2307692307692]} ]   ,    Vector: [27 red {'coordinates': [185.64102564102564, 290.2564102564103]} ]   ,    Vector: [28 yellow {'coordinates': [178.46153846153845, 296.4102564102564]} ]   ,    Vector: [30 red {'coordinates': [192.82051282051282, 335.38461538461536]} ]   ]\n",
      "[   Vector: [55 yellow {'coordinates': [422.56410256410254, 206.15384615384616]} ]   ,    Vector: [53 red {'coordinates': [435.8974358974359, 162.05128205128204]} ]   ,    Vector: [58 yellow {'coordinates': [443.0769230769231, 163.07692307692307]} ]   ,    Vector: [56 red {'coordinates': [432.8205128205128, 207.17948717948718]} ]   ,    Vector: [57 yellow {'coordinates': [451.28205128205127, 196.92307692307693]} ]   ,    Vector: [54 yellow {'coordinates': [418.46153846153845, 170.25641025641025]} ]   ]\n",
      "[   Vector: [74 yellow {'coordinates': [364.1025641025641, 320.0]} ]   ,    Vector: [73 red {'coordinates': [351.79487179487177, 328.20512820512823]} ]   ,    Vector: [75 yellow {'coordinates': [357.94871794871796, 281.02564102564105]} ]   ,    Vector: [72 yellow {'coordinates': [341.53846153846155, 327.1794871794872]} ]   ,    Vector: [70 red {'coordinates': [348.71794871794873, 281.02564102564105]} ]   ,    Vector: [71 yellow {'coordinates': [338.46153846153845, 287.1794871794872]} ]   ]\n",
      "[   Vector: [96 yellow {'coordinates': [185.64102564102564, 43.07692307692308]} ]   ,    Vector: [84 yellow {'coordinates': [179.48717948717947, 17.435897435897434]} ]   ,    Vector: [85 yellow {'coordinates': [132.30769230769232, 24.615384615384617]} ]   ,    Vector: [95 yellow {'coordinates': [134.35897435897436, 49.23076923076923]} ]   ,    Vector: [83 red {'coordinates': [186.66666666666666, 29.743589743589745]} ]   ,    Vector: [86 red {'coordinates': [131.28205128205127, 31.794871794871796]} ]   ]\n",
      "[   Vector: [126 red {'coordinates': [84.1025641025641, 148.71794871794873]} ]   ,    Vector: [127 red {'coordinates': [88.2051282051282, 228.71794871794873]} ]   ]\n"
     ]
    }
   ],
   "source": [
    "root = Tk()\n",
    "\n",
    "size = (900,600)\n",
    "\n",
    "root.title('Smarter Circuits')\n",
    "root.geometry('{x}x{y}'.format(x=size[0], y=size[1]))\n",
    "\n",
    "root.bind('<Configure>', resize)\n",
    "\n",
    "frames, frame_data = get_frames(root, next)\n",
    "frame_index = 0\n",
    "\n",
    "frames[0].add(image)\n",
    "\n",
    "back_button = Button(root, text='Back', command=back)\n",
    "back_button.place(relx=0.8, rely=0.9, relwidth=0.1, relheight=0.05)\n",
    "\n",
    "next_button = Button(root, text='Next', command=next)\n",
    "next_button.place(relx=0.8, rely=0.8, relwidth=0.1, relheight=0.05)\n",
    "\n",
    "#canvas = Canvas(root, width=image_size[0], height=image_size[1])      \n",
    "#canvas.pack()\n",
    "#tkImg = convertImage(image)\n",
    "#canvas_img = canvas.create_image(20,20, anchor=NW, image=tkImg)\n",
    "##canvas.create_rectangle(20, 20, 50, 50, fill='red')\n",
    "#\n",
    "#s1_value = DoubleVar()\n",
    "#s1 = Scale(root, from_=0, to=255, length=200, orient=HORIZONTAL, variable=s1_value, command=s1_changed)\n",
    "#s1.set(100)\n",
    "#s1.pack()\n",
    "\n",
    "\n",
    "root.mainloop()"
   ]
  }
 ],
 "metadata": {
  "interpreter": {
   "hash": "e5c3deade111fccd4fa92eff86d83ddd10bf433c556b75bb1aa6e942e768c411"
  },
  "kernelspec": {
   "display_name": "Python 3.9.7 64-bit",
   "language": "python",
   "name": "python3"
  },
  "language_info": {
   "codemirror_mode": {
    "name": "ipython",
    "version": 3
   },
   "file_extension": ".py",
   "mimetype": "text/x-python",
   "name": "python",
   "nbconvert_exporter": "python",
   "pygments_lexer": "ipython3",
   "version": "3.9.7"
  },
  "orig_nbformat": 4
 },
 "nbformat": 4,
 "nbformat_minor": 2
}
