{
 "cells": [
  {
   "cell_type": "code",
   "execution_count": 1,
   "metadata": {},
   "outputs": [],
   "source": [
    "import sys\n",
    "sys.path.append('../')\n",
    "\n",
    "import numpy as np\n",
    "import cv2\n",
    "import lib.utils as utils\n",
    "import matplotlib.pyplot as plt\n",
    "\n",
    "from lib.gui.openFile import OpenFile\n",
    "from lib.gui.cropImage import CropImage\n",
    "from lib.gui.createBinary import CreateBinary\n",
    "from lib.gui.detectCircuit import DetectCircuit\n",
    "\n",
    "from tkinter import *\n",
    "\n",
    "from PIL import Image as PIL_Image, ImageTk as PIL_ImageTk"
   ]
  },
  {
   "cell_type": "code",
   "execution_count": 2,
   "metadata": {},
   "outputs": [],
   "source": [
    "#image = utils.loadImage(path=\"./../resources/testImages\",name=\"hand2.jpg\", resize=(500,None))\n",
    "#image_size = (image.shape[1], image.shape[0])\n",
    "\n",
    "#(thresh, binary) = cv2.threshold(image, 100, 255, cv2.THRESH_BINARY)\n",
    "\n",
    "#plt.imshow(image, interpolation=\"bilinear\", cmap=\"gray\")"
   ]
  },
  {
   "cell_type": "code",
   "execution_count": 3,
   "metadata": {},
   "outputs": [
    {
     "data": {
      "image/svg+xml": "<?xml version=\"1.0\" encoding=\"UTF-8\"?>\n<svg xmlns=\"http://www.w3.org/2000/svg\" xmlns:xlink=\"http://www.w3.org/1999/xlink\" width=\"1100pt\" height=\"600pt\" viewBox=\"0 0 1100 600\" version=\"1.1\">\n<g id=\"surface2\">\n<rect x=\"0\" y=\"0\" width=\"1100\" height=\"600\" style=\"fill:rgb(100%,100%,100%);fill-opacity:1;stroke:none;\"/>\n<path style=\"fill:none;stroke-width:1;stroke-linecap:butt;stroke-linejoin:miter;stroke:rgb(0%,0%,0%);stroke-opacity:1;stroke-miterlimit:10;\" d=\"M 704.0625 324.679688 L 678.003906 281.003906 \"/>\n<path style=\"fill:none;stroke-width:1;stroke-linecap:butt;stroke-linejoin:miter;stroke:rgb(0%,0%,0%);stroke-opacity:1;stroke-miterlimit:10;\" d=\"M 678.003906 281.003906 L 614.339844 224.476563 \"/>\n<path style=\"fill:none;stroke-width:1;stroke-linecap:butt;stroke-linejoin:miter;stroke:rgb(0%,0%,0%);stroke-opacity:1;stroke-miterlimit:10;\" d=\"M 614.339844 224.476563 L 472.8125 212.261719 \"/>\n<path style=\"fill:none;stroke-width:1;stroke-linecap:butt;stroke-linejoin:miter;stroke:rgb(0%,0%,0%);stroke-opacity:1;stroke-miterlimit:10;\" d=\"M 472.8125 212.261719 L 332.902344 199.871094 \"/>\n<path style=\"fill:none;stroke-width:1;stroke-linecap:butt;stroke-linejoin:miter;stroke:rgb(0%,0%,0%);stroke-opacity:1;stroke-miterlimit:10;\" d=\"M 332.902344 199.871094 L 323.109375 177.078125 \"/>\n<path style=\"fill:none;stroke-width:1;stroke-linecap:butt;stroke-linejoin:miter;stroke:rgb(0%,0%,0%);stroke-opacity:1;stroke-miterlimit:10;\" d=\"M 332.902344 199.871094 L 302.890625 219.613281 \"/>\n<path style=\"fill:none;stroke-width:1;stroke-linecap:butt;stroke-linejoin:miter;stroke:rgb(0%,0%,0%);stroke-opacity:1;stroke-miterlimit:10;\" d=\"M 614.339844 224.476563 L 695.363281 176.683594 \"/>\n<path style=\"fill:none;stroke-width:1;stroke-linecap:butt;stroke-linejoin:miter;stroke:rgb(0%,0%,0%);stroke-opacity:1;stroke-miterlimit:10;\" d=\"M 695.363281 176.683594 L 771.21875 149.113281 \"/>\n<path style=\"fill:none;stroke-width:1;stroke-linecap:butt;stroke-linejoin:miter;stroke:rgb(0%,0%,0%);stroke-opacity:1;stroke-miterlimit:10;\" d=\"M 771.21875 149.113281 L 828.496094 117.042969 \"/>\n<path style=\"fill:none;stroke-width:1;stroke-linecap:butt;stroke-linejoin:miter;stroke:rgb(0%,0%,0%);stroke-opacity:1;stroke-miterlimit:10;\" d=\"M 828.496094 117.042969 L 856.6875 83.335938 \"/>\n<path style=\"fill:none;stroke-width:1;stroke-linecap:butt;stroke-linejoin:miter;stroke:rgb(0%,0%,0%);stroke-opacity:1;stroke-miterlimit:10;\" d=\"M 856.6875 83.335938 L 788.355469 104.644531 \"/>\n<path style=\"fill:none;stroke-width:1;stroke-linecap:butt;stroke-linejoin:miter;stroke:rgb(0%,0%,0%);stroke-opacity:1;stroke-miterlimit:10;\" d=\"M 788.355469 104.644531 L 733.441406 137.480469 \"/>\n<path style=\"fill:none;stroke-width:1;stroke-linecap:butt;stroke-linejoin:miter;stroke:rgb(0%,0%,0%);stroke-opacity:1;stroke-miterlimit:10;\" d=\"M 695.363281 176.683594 L 733.441406 137.480469 \"/>\n<path style=\"fill:none;stroke-width:1;stroke-linecap:butt;stroke-linejoin:miter;stroke:rgb(0%,0%,0%);stroke-opacity:1;stroke-miterlimit:10;\" d=\"M 856.6875 83.335938 L 918.125 48.441406 \"/>\n<path style=\"fill:none;stroke-width:1;stroke-linecap:butt;stroke-linejoin:miter;stroke:rgb(0%,0%,0%);stroke-opacity:1;stroke-miterlimit:10;\" d=\"M 918.125 48.441406 L 932.332031 20 \"/>\n<path style=\"fill:none;stroke-width:1;stroke-linecap:butt;stroke-linejoin:miter;stroke:rgb(0%,0%,0%);stroke-opacity:1;stroke-miterlimit:10;\" d=\"M 918.125 48.441406 L 978.121094 34.507813 \"/>\n<path style=\"fill:none;stroke-width:1;stroke-linecap:butt;stroke-linejoin:miter;stroke:rgb(0%,0%,0%);stroke-opacity:1;stroke-miterlimit:10;\" d=\"M 678.003906 281.003906 L 742.96875 316.523438 \"/>\n<path style=\"fill:none;stroke-width:1;stroke-linecap:butt;stroke-linejoin:miter;stroke:rgb(0%,0%,0%);stroke-opacity:1;stroke-miterlimit:10;\" d=\"M 742.96875 316.523438 L 789.828125 355.40625 \"/>\n<path style=\"fill:none;stroke-width:1;stroke-linecap:butt;stroke-linejoin:miter;stroke:rgb(0%,0%,0%);stroke-opacity:1;stroke-miterlimit:10;\" d=\"M 789.828125 355.40625 L 812.222656 394.761719 \"/>\n<path style=\"fill:none;stroke-width:1;stroke-linecap:butt;stroke-linejoin:miter;stroke:rgb(0%,0%,0%);stroke-opacity:1;stroke-miterlimit:10;\" d=\"M 812.222656 394.761719 L 749.535156 363.894531 \"/>\n<path style=\"fill:none;stroke-width:1;stroke-linecap:butt;stroke-linejoin:miter;stroke:rgb(0%,0%,0%);stroke-opacity:1;stroke-miterlimit:10;\" d=\"M 812.222656 394.761719 L 869.667969 441.507813 \"/>\n<path style=\"fill:none;stroke-width:1;stroke-linecap:butt;stroke-linejoin:miter;stroke:rgb(0%,0%,0%);stroke-opacity:1;stroke-miterlimit:10;\" d=\"M 869.667969 441.507813 L 924.515625 485.878906 \"/>\n<path style=\"fill:none;stroke-width:1;stroke-linecap:butt;stroke-linejoin:miter;stroke:rgb(0%,0%,0%);stroke-opacity:1;stroke-miterlimit:10;\" d=\"M 1021.582031 551.519531 L 1080 566.078125 \"/>\n<path style=\"fill:none;stroke-width:1;stroke-linecap:butt;stroke-linejoin:miter;stroke:rgb(0%,0%,0%);stroke-opacity:1;stroke-miterlimit:10;\" d=\"M 1021.582031 551.519531 L 1032.226563 580 \"/>\n<path style=\"fill:none;stroke-width:1;stroke-linecap:butt;stroke-linejoin:miter;stroke:rgb(0%,0%,0%);stroke-opacity:1;stroke-miterlimit:10;\" d=\"M 704.0625 324.679688 L 749.535156 363.894531 \"/>\n<path style=\"fill:none;stroke-width:1;stroke-linecap:butt;stroke-linejoin:miter;stroke:rgb(0%,0%,0%);stroke-opacity:1;stroke-miterlimit:10;\" d=\"M 150.925781 203.027344 L 200.527344 187.527344 \"/>\n<path style=\"fill:none;stroke-width:1;stroke-linecap:butt;stroke-linejoin:miter;stroke:rgb(0%,0%,0%);stroke-opacity:1;stroke-miterlimit:10;\" d=\"M 200.527344 187.527344 L 171.222656 164.703125 \"/>\n<path style=\"fill:none;stroke-width:1;stroke-linecap:butt;stroke-linejoin:miter;stroke:rgb(0%,0%,0%);stroke-opacity:1;stroke-miterlimit:10;\" d=\"M 200.527344 187.527344 L 91.0625 177.035156 \"/>\n<path style=\"fill:none;stroke-width:1;stroke-linecap:butt;stroke-linejoin:miter;stroke:rgb(0%,0%,0%);stroke-opacity:1;stroke-miterlimit:10;\" d=\"M 91.0625 177.035156 L 20 182.308594 \"/>\n<path style=\"fill:none;stroke-width:1;stroke-linecap:butt;stroke-linejoin:miter;stroke:rgb(0%,0%,0%);stroke-opacity:1;stroke-miterlimit:10;\" d=\"M 91.0625 177.035156 L 32.90625 159.175781 \"/>\n<path style=\"fill:none;stroke-width:1;stroke-linecap:butt;stroke-linejoin:miter;stroke:rgb(0%,100%,0%);stroke-opacity:1;stroke-miterlimit:10;\" d=\"M 332.902344 199.871094 L 200.527344 187.527344 \"/>\n<path style=\"fill:none;stroke-width:1;stroke-linecap:butt;stroke-linejoin:miter;stroke:rgb(0%,0%,0%);stroke-opacity:1;stroke-miterlimit:10;\" d=\"M 924.515625 485.878906 C 929.25 505.476563 941.6875 515.746094 961.828125 516.6875 \"/>\n<path style=\"fill:none;stroke-width:1;stroke-linecap:butt;stroke-linejoin:miter;stroke:rgb(0%,0%,0%);stroke-opacity:1;stroke-miterlimit:10;\" d=\"M 924.515625 485.878906 C 944.65625 486.820313 957.09375 497.089844 961.828125 516.6875 \"/>\n<path style=\"fill:none;stroke-width:1;stroke-linecap:butt;stroke-linejoin:miter;stroke:rgb(0%,0%,0%);stroke-opacity:1;stroke-miterlimit:10;\" d=\"M 943.789063 539.449219 L 961.828125 516.6875 \"/>\n<path style=\"fill:none;stroke-width:1;stroke-linecap:butt;stroke-linejoin:miter;stroke:rgb(0%,0%,0%);stroke-opacity:1;stroke-miterlimit:10;\" d=\"M 1021.582031 551.519531 L 961.828125 516.6875 \"/>\n<path style=\"fill-rule:nonzero;fill:rgb(100%,100%,0%);fill-opacity:1;stroke-width:1;stroke-linecap:butt;stroke-linejoin:miter;stroke:rgb(0%,0%,0%);stroke-opacity:1;stroke-miterlimit:10;\" d=\"M 714.0625 324.679688 C 714.0625 330.203125 709.585938 334.679688 704.0625 334.679688 C 698.539063 334.679688 694.0625 330.203125 694.0625 324.679688 C 694.0625 319.15625 698.539063 314.679688 704.0625 314.679688 C 709.585938 314.679688 714.0625 319.15625 714.0625 324.679688 \"/>\n<path style=\"fill-rule:nonzero;fill:rgb(100%,0%,0%);fill-opacity:1;stroke-width:1;stroke-linecap:butt;stroke-linejoin:miter;stroke:rgb(0%,0%,0%);stroke-opacity:1;stroke-miterlimit:10;\" d=\"M 688.003906 281.003906 C 688.003906 286.527344 683.527344 291.003906 678.003906 291.003906 C 672.480469 291.003906 668.003906 286.527344 668.003906 281.003906 C 668.003906 275.480469 672.480469 271.003906 678.003906 271.003906 C 683.527344 271.003906 688.003906 275.480469 688.003906 281.003906 \"/>\n<path style=\"fill-rule:nonzero;fill:rgb(100%,0%,0%);fill-opacity:1;stroke-width:1;stroke-linecap:butt;stroke-linejoin:miter;stroke:rgb(0%,0%,0%);stroke-opacity:1;stroke-miterlimit:10;\" d=\"M 624.339844 224.476563 C 624.339844 230 619.863281 234.476563 614.339844 234.476563 C 608.816406 234.476563 604.339844 230 604.339844 224.476563 C 604.339844 218.953125 608.816406 214.476563 614.339844 214.476563 C 619.863281 214.476563 624.339844 218.953125 624.339844 224.476563 \"/>\n<path style=\"fill-rule:nonzero;fill:rgb(100%,100%,0%);fill-opacity:1;stroke-width:1;stroke-linecap:butt;stroke-linejoin:miter;stroke:rgb(0%,0%,0%);stroke-opacity:1;stroke-miterlimit:10;\" d=\"M 482.8125 212.261719 C 482.8125 217.785156 478.335938 222.261719 472.8125 222.261719 C 467.289063 222.261719 462.8125 217.785156 462.8125 212.261719 C 462.8125 206.738281 467.289063 202.261719 472.8125 202.261719 C 478.335938 202.261719 482.8125 206.738281 482.8125 212.261719 \"/>\n<path style=\"fill-rule:nonzero;fill:rgb(100%,100%,100%);fill-opacity:1;stroke-width:1;stroke-linecap:butt;stroke-linejoin:miter;stroke:rgb(0%,0%,0%);stroke-opacity:1;stroke-miterlimit:10;\" d=\"M 342.902344 199.871094 C 342.902344 205.394531 338.421875 209.871094 332.902344 209.871094 C 327.378906 209.871094 322.902344 205.394531 322.902344 199.871094 C 322.902344 194.347656 327.378906 189.871094 332.902344 189.871094 C 338.421875 189.871094 342.902344 194.347656 342.902344 199.871094 \"/>\n<path style=\"fill-rule:nonzero;fill:rgb(0%,0%,100%);fill-opacity:1;stroke-width:1;stroke-linecap:butt;stroke-linejoin:miter;stroke:rgb(0%,0%,0%);stroke-opacity:1;stroke-miterlimit:10;\" d=\"M 333.109375 177.078125 C 333.109375 182.597656 328.632813 187.078125 323.109375 187.078125 C 317.585938 187.078125 313.109375 182.597656 313.109375 177.078125 C 313.109375 171.554688 317.585938 167.078125 323.109375 167.078125 C 328.632813 167.078125 333.109375 171.554688 333.109375 177.078125 \"/>\n<path style=\"fill-rule:nonzero;fill:rgb(0%,0%,100%);fill-opacity:1;stroke-width:1;stroke-linecap:butt;stroke-linejoin:miter;stroke:rgb(0%,0%,0%);stroke-opacity:1;stroke-miterlimit:10;\" d=\"M 312.890625 219.613281 C 312.890625 225.136719 308.410156 229.613281 302.890625 229.613281 C 297.367188 229.613281 292.890625 225.136719 292.890625 219.613281 C 292.890625 214.089844 297.367188 209.613281 302.890625 209.613281 C 308.410156 209.613281 312.890625 214.089844 312.890625 219.613281 \"/>\n<path style=\"fill-rule:nonzero;fill:rgb(100%,0%,0%);fill-opacity:1;stroke-width:1;stroke-linecap:butt;stroke-linejoin:miter;stroke:rgb(0%,0%,0%);stroke-opacity:1;stroke-miterlimit:10;\" d=\"M 705.363281 176.683594 C 705.363281 182.203125 700.886719 186.683594 695.363281 186.683594 C 689.839844 186.683594 685.363281 182.203125 685.363281 176.683594 C 685.363281 171.160156 689.839844 166.683594 695.363281 166.683594 C 700.886719 166.683594 705.363281 171.160156 705.363281 176.683594 \"/>\n<path style=\"fill-rule:nonzero;fill:rgb(100%,100%,0%);fill-opacity:1;stroke-width:1;stroke-linecap:butt;stroke-linejoin:miter;stroke:rgb(0%,0%,0%);stroke-opacity:1;stroke-miterlimit:10;\" d=\"M 781.21875 149.113281 C 781.21875 154.636719 776.742188 159.113281 771.21875 159.113281 C 765.695313 159.113281 761.21875 154.636719 761.21875 149.113281 C 761.21875 143.589844 765.695313 139.113281 771.21875 139.113281 C 776.742188 139.113281 781.21875 143.589844 781.21875 149.113281 \"/>\n<path style=\"fill-rule:nonzero;fill:rgb(100%,100%,0%);fill-opacity:1;stroke-width:1;stroke-linecap:butt;stroke-linejoin:miter;stroke:rgb(0%,0%,0%);stroke-opacity:1;stroke-miterlimit:10;\" d=\"M 838.496094 117.042969 C 838.496094 122.566406 834.019531 127.042969 828.496094 127.042969 C 822.972656 127.042969 818.496094 122.566406 818.496094 117.042969 C 818.496094 111.519531 822.972656 107.042969 828.496094 107.042969 C 834.019531 107.042969 838.496094 111.519531 838.496094 117.042969 \"/>\n<path style=\"fill-rule:nonzero;fill:rgb(100%,0%,0%);fill-opacity:1;stroke-width:1;stroke-linecap:butt;stroke-linejoin:miter;stroke:rgb(0%,0%,0%);stroke-opacity:1;stroke-miterlimit:10;\" d=\"M 866.6875 83.335938 C 866.6875 88.859375 862.210938 93.335938 856.6875 93.335938 C 851.167969 93.335938 846.6875 88.859375 846.6875 83.335938 C 846.6875 77.8125 851.167969 73.335938 856.6875 73.335938 C 862.210938 73.335938 866.6875 77.8125 866.6875 83.335938 \"/>\n<path style=\"fill-rule:nonzero;fill:rgb(100%,100%,0%);fill-opacity:1;stroke-width:1;stroke-linecap:butt;stroke-linejoin:miter;stroke:rgb(0%,0%,0%);stroke-opacity:1;stroke-miterlimit:10;\" d=\"M 798.355469 104.644531 C 798.355469 110.164063 793.875 114.644531 788.355469 114.644531 C 782.832031 114.644531 778.355469 110.164063 778.355469 104.644531 C 778.355469 99.121094 782.832031 94.644531 788.355469 94.644531 C 793.875 94.644531 798.355469 99.121094 798.355469 104.644531 \"/>\n<path style=\"fill-rule:nonzero;fill:rgb(100%,100%,0%);fill-opacity:1;stroke-width:1;stroke-linecap:butt;stroke-linejoin:miter;stroke:rgb(0%,0%,0%);stroke-opacity:1;stroke-miterlimit:10;\" d=\"M 743.441406 137.480469 C 743.441406 143.003906 738.964844 147.480469 733.441406 147.480469 C 727.917969 147.480469 723.441406 143.003906 723.441406 137.480469 C 723.441406 131.960938 727.917969 127.480469 733.441406 127.480469 C 738.964844 127.480469 743.441406 131.960938 743.441406 137.480469 \"/>\n<path style=\"fill-rule:nonzero;fill:rgb(100%,0%,0%);fill-opacity:1;stroke-width:1;stroke-linecap:butt;stroke-linejoin:miter;stroke:rgb(0%,0%,0%);stroke-opacity:1;stroke-miterlimit:10;\" d=\"M 928.125 48.441406 C 928.125 53.964844 923.648438 58.441406 918.125 58.441406 C 912.601563 58.441406 908.125 53.964844 908.125 48.441406 C 908.125 42.917969 912.601563 38.441406 918.125 38.441406 C 923.648438 38.441406 928.125 42.917969 928.125 48.441406 \"/>\n<path style=\"fill-rule:nonzero;fill:rgb(0%,0%,100%);fill-opacity:1;stroke-width:1;stroke-linecap:butt;stroke-linejoin:miter;stroke:rgb(0%,0%,0%);stroke-opacity:1;stroke-miterlimit:10;\" d=\"M 942.332031 20 C 942.332031 25.523438 937.855469 30 932.332031 30 C 926.808594 30 922.332031 25.523438 922.332031 20 C 922.332031 14.476563 926.808594 10 932.332031 10 C 937.855469 10 942.332031 14.476563 942.332031 20 \"/>\n<path style=\"fill-rule:nonzero;fill:rgb(0%,0%,100%);fill-opacity:1;stroke-width:1;stroke-linecap:butt;stroke-linejoin:miter;stroke:rgb(0%,0%,0%);stroke-opacity:1;stroke-miterlimit:10;\" d=\"M 988.121094 34.507813 C 988.121094 40.027344 983.644531 44.507813 978.121094 44.507813 C 972.597656 44.507813 968.121094 40.027344 968.121094 34.507813 C 968.121094 28.984375 972.597656 24.507813 978.121094 24.507813 C 983.644531 24.507813 988.121094 28.984375 988.121094 34.507813 \"/>\n<path style=\"fill-rule:nonzero;fill:rgb(100%,100%,0%);fill-opacity:1;stroke-width:1;stroke-linecap:butt;stroke-linejoin:miter;stroke:rgb(0%,0%,0%);stroke-opacity:1;stroke-miterlimit:10;\" d=\"M 752.96875 316.523438 C 752.96875 322.046875 748.492188 326.523438 742.96875 326.523438 C 737.445313 326.523438 732.96875 322.046875 732.96875 316.523438 C 732.96875 311 737.445313 306.523438 742.96875 306.523438 C 748.492188 306.523438 752.96875 311 752.96875 316.523438 \"/>\n<path style=\"fill-rule:nonzero;fill:rgb(100%,100%,0%);fill-opacity:1;stroke-width:1;stroke-linecap:butt;stroke-linejoin:miter;stroke:rgb(0%,0%,0%);stroke-opacity:1;stroke-miterlimit:10;\" d=\"M 799.828125 355.40625 C 799.828125 360.929688 795.347656 365.40625 789.828125 365.40625 C 784.304688 365.40625 779.828125 360.929688 779.828125 355.40625 C 779.828125 349.882813 784.304688 345.40625 789.828125 345.40625 C 795.347656 345.40625 799.828125 349.882813 799.828125 355.40625 \"/>\n<path style=\"fill-rule:nonzero;fill:rgb(100%,0%,0%);fill-opacity:1;stroke-width:1;stroke-linecap:butt;stroke-linejoin:miter;stroke:rgb(0%,0%,0%);stroke-opacity:1;stroke-miterlimit:10;\" d=\"M 822.222656 394.761719 C 822.222656 400.28125 817.746094 404.761719 812.222656 404.761719 C 806.703125 404.761719 802.222656 400.28125 802.222656 394.761719 C 802.222656 389.238281 806.703125 384.761719 812.222656 384.761719 C 817.746094 384.761719 822.222656 389.238281 822.222656 394.761719 \"/>\n<path style=\"fill-rule:nonzero;fill:rgb(100%,100%,0%);fill-opacity:1;stroke-width:1;stroke-linecap:butt;stroke-linejoin:miter;stroke:rgb(0%,0%,0%);stroke-opacity:1;stroke-miterlimit:10;\" d=\"M 759.535156 363.894531 C 759.535156 369.414063 755.058594 373.894531 749.535156 373.894531 C 744.011719 373.894531 739.535156 369.414063 739.535156 363.894531 C 739.535156 358.371094 744.011719 353.894531 749.535156 353.894531 C 755.058594 353.894531 759.535156 358.371094 759.535156 363.894531 \"/>\n<path style=\"fill-rule:nonzero;fill:rgb(100%,100%,0%);fill-opacity:1;stroke-width:1;stroke-linecap:butt;stroke-linejoin:miter;stroke:rgb(0%,0%,0%);stroke-opacity:1;stroke-miterlimit:10;\" d=\"M 879.667969 441.507813 C 879.667969 447.03125 875.191406 451.507813 869.667969 451.507813 C 864.144531 451.507813 859.667969 447.03125 859.667969 441.507813 C 859.667969 435.984375 864.144531 431.507813 869.667969 431.507813 C 875.191406 431.507813 879.667969 435.984375 879.667969 441.507813 \"/>\n<path style=\"fill-rule:nonzero;fill:rgb(100%,0%,0%);fill-opacity:1;stroke-width:1;stroke-linecap:butt;stroke-linejoin:miter;stroke:rgb(0%,0%,0%);stroke-opacity:1;stroke-miterlimit:10;\" d=\"M 934.515625 485.878906 C 934.515625 491.402344 930.039063 495.878906 924.515625 495.878906 C 918.992188 495.878906 914.515625 491.402344 914.515625 485.878906 C 914.515625 480.355469 918.992188 475.878906 924.515625 475.878906 C 930.039063 475.878906 934.515625 480.355469 934.515625 485.878906 \"/>\n<path style=\"fill-rule:nonzero;fill:rgb(0%,0%,100%);fill-opacity:1;stroke-width:1;stroke-linecap:butt;stroke-linejoin:miter;stroke:rgb(0%,0%,0%);stroke-opacity:1;stroke-miterlimit:10;\" d=\"M 953.789063 539.449219 C 953.789063 544.972656 949.3125 549.449219 943.789063 549.449219 C 938.265625 549.449219 933.789063 544.972656 933.789063 539.449219 C 933.789063 533.925781 938.265625 529.449219 943.789063 529.449219 C 949.3125 529.449219 953.789063 533.925781 953.789063 539.449219 \"/>\n<path style=\"fill-rule:nonzero;fill:rgb(100%,0%,0%);fill-opacity:1;stroke-width:1;stroke-linecap:butt;stroke-linejoin:miter;stroke:rgb(0%,0%,0%);stroke-opacity:1;stroke-miterlimit:10;\" d=\"M 1031.582031 551.519531 C 1031.582031 557.042969 1027.105469 561.519531 1021.582031 561.519531 C 1016.058594 561.519531 1011.582031 557.042969 1011.582031 551.519531 C 1011.582031 546 1016.058594 541.519531 1021.582031 541.519531 C 1027.105469 541.519531 1031.582031 546 1031.582031 551.519531 \"/>\n<path style=\"fill-rule:nonzero;fill:rgb(0%,0%,100%);fill-opacity:1;stroke-width:1;stroke-linecap:butt;stroke-linejoin:miter;stroke:rgb(0%,0%,0%);stroke-opacity:1;stroke-miterlimit:10;\" d=\"M 1090 566.078125 C 1090 571.601563 1085.523438 576.078125 1080 576.078125 C 1074.476563 576.078125 1070 571.601563 1070 566.078125 C 1070 560.554688 1074.476563 556.078125 1080 556.078125 C 1085.523438 556.078125 1090 560.554688 1090 566.078125 \"/>\n<path style=\"fill-rule:nonzero;fill:rgb(0%,0%,100%);fill-opacity:1;stroke-width:1;stroke-linecap:butt;stroke-linejoin:miter;stroke:rgb(0%,0%,0%);stroke-opacity:1;stroke-miterlimit:10;\" d=\"M 1042.226563 580 C 1042.226563 585.523438 1037.75 590 1032.226563 590 C 1026.707031 590 1022.226563 585.523438 1022.226563 580 C 1022.226563 574.476563 1026.707031 570 1032.226563 570 C 1037.75 570 1042.226563 574.476563 1042.226563 580 \"/>\n<path style=\"fill-rule:nonzero;fill:rgb(0%,0%,100%);fill-opacity:1;stroke-width:1;stroke-linecap:butt;stroke-linejoin:miter;stroke:rgb(0%,0%,0%);stroke-opacity:1;stroke-miterlimit:10;\" d=\"M 160.925781 203.027344 C 160.925781 208.550781 156.449219 213.027344 150.925781 213.027344 C 145.402344 213.027344 140.925781 208.550781 140.925781 203.027344 C 140.925781 197.503906 145.402344 193.027344 150.925781 193.027344 C 156.449219 193.027344 160.925781 197.503906 160.925781 203.027344 \"/>\n<path style=\"fill-rule:nonzero;fill:rgb(100%,100%,100%);fill-opacity:1;stroke-width:1;stroke-linecap:butt;stroke-linejoin:miter;stroke:rgb(0%,0%,0%);stroke-opacity:1;stroke-miterlimit:10;\" d=\"M 210.527344 187.527344 C 210.527344 193.050781 206.050781 197.527344 200.527344 197.527344 C 195.003906 197.527344 190.527344 193.050781 190.527344 187.527344 C 190.527344 182.003906 195.003906 177.527344 200.527344 177.527344 C 206.050781 177.527344 210.527344 182.003906 210.527344 187.527344 \"/>\n<path style=\"fill-rule:nonzero;fill:rgb(0%,0%,100%);fill-opacity:1;stroke-width:1;stroke-linecap:butt;stroke-linejoin:miter;stroke:rgb(0%,0%,0%);stroke-opacity:1;stroke-miterlimit:10;\" d=\"M 181.222656 164.703125 C 181.222656 170.226563 176.746094 174.703125 171.222656 174.703125 C 165.699219 174.703125 161.222656 170.226563 161.222656 164.703125 C 161.222656 159.179688 165.699219 154.703125 171.222656 154.703125 C 176.746094 154.703125 181.222656 159.179688 181.222656 164.703125 \"/>\n<path style=\"fill-rule:nonzero;fill:rgb(100%,0%,0%);fill-opacity:1;stroke-width:1;stroke-linecap:butt;stroke-linejoin:miter;stroke:rgb(0%,0%,0%);stroke-opacity:1;stroke-miterlimit:10;\" d=\"M 101.0625 177.035156 C 101.0625 182.554688 96.585938 187.035156 91.0625 187.035156 C 85.539063 187.035156 81.0625 182.554688 81.0625 177.035156 C 81.0625 171.511719 85.539063 167.035156 91.0625 167.035156 C 96.585938 167.035156 101.0625 171.511719 101.0625 177.035156 \"/>\n<path style=\"fill-rule:nonzero;fill:rgb(0%,0%,100%);fill-opacity:1;stroke-width:1;stroke-linecap:butt;stroke-linejoin:miter;stroke:rgb(0%,0%,0%);stroke-opacity:1;stroke-miterlimit:10;\" d=\"M 30 182.308594 C 30 187.832031 25.523438 192.308594 20 192.308594 C 14.476563 192.308594 10 187.832031 10 182.308594 C 10 176.785156 14.476563 172.308594 20 172.308594 C 25.523438 172.308594 30 176.785156 30 182.308594 \"/>\n<path style=\"fill-rule:nonzero;fill:rgb(0%,0%,100%);fill-opacity:1;stroke-width:1;stroke-linecap:butt;stroke-linejoin:miter;stroke:rgb(0%,0%,0%);stroke-opacity:1;stroke-miterlimit:10;\" d=\"M 42.90625 159.175781 C 42.90625 164.699219 38.425781 169.175781 32.90625 169.175781 C 27.382813 169.175781 22.90625 164.699219 22.90625 159.175781 C 22.90625 153.65625 27.382813 149.175781 32.90625 149.175781 C 38.425781 149.175781 42.90625 153.65625 42.90625 159.175781 \"/>\n<path style=\"fill-rule:nonzero;fill:rgb(100%,0%,0%);fill-opacity:1;stroke-width:1;stroke-linecap:butt;stroke-linejoin:miter;stroke:rgb(0%,0%,0%);stroke-opacity:1;stroke-miterlimit:10;\" d=\"M 971.828125 516.6875 C 971.828125 522.210938 967.351563 526.6875 961.828125 526.6875 C 956.308594 526.6875 951.828125 522.210938 951.828125 516.6875 C 951.828125 511.164063 956.308594 506.6875 961.828125 506.6875 C 967.351563 506.6875 971.828125 511.164063 971.828125 516.6875 \"/>\n</g>\n</svg>\n",
      "text/plain": [
       "<igraph.drawing.Plot at 0x237faf22070>"
      ]
     },
     "execution_count": 3,
     "metadata": {
      "image/svg+xml": {
       "isolated": true
      }
     },
     "output_type": "execute_result"
    }
   ],
   "source": []
  },
  {
   "cell_type": "code",
   "execution_count": 4,
   "metadata": {},
   "outputs": [],
   "source": [
    "def get_frames(root, next):\n",
    "    frames = []\n",
    "    data = [-1]\n",
    "    frames.append(OpenFile(root, next))\n",
    "    frames.append(CropImage(root, (0.01,0.01,0.7,0.95)))\n",
    "    frames.append(CreateBinary(root, (0.01,0.01,0.7,0.95)))\n",
    "    frames.append(DetectCircuit(root, (0.01,0.01,0.7,0.95)))\n",
    "    \n",
    "\n",
    "    data = data * len(frames)\n",
    "\n",
    "    return frames, data"
   ]
  },
  {
   "cell_type": "code",
   "execution_count": 5,
   "metadata": {},
   "outputs": [],
   "source": [
    "def next():\n",
    "    global frames, frame_data, frame_index\n",
    "    if frame_index < len(frames)-1:\n",
    "        frame_data[frame_index] = frames[frame_index].remove()\n",
    "        frame_index += 1\n",
    "        frames[frame_index].add(frame_data[frame_index-1])\n",
    "\n",
    "def back():\n",
    "    global frames, frame_data, frame_index\n",
    "    if frame_index > 0:\n",
    "        frame_data[frame_index] = frames[frame_index].remove()\n",
    "        frame_index -= 1\n",
    "        if frame_index > 0:\n",
    "            frames[frame_index].add(frame_data[frame_index-1])\n",
    "        else:\n",
    "            frames[frame_index].add(-1)"
   ]
  },
  {
   "cell_type": "code",
   "execution_count": 6,
   "metadata": {},
   "outputs": [],
   "source": [
    "def resize(event):\n",
    "    global size, frames, frame_index\n",
    "    new_size = (event.width, event.height)\n",
    "\n",
    "    if str(event.widget) != '.':\n",
    "        return\n",
    "    \n",
    "    if new_size != size:\n",
    "        #print(\"EVEEEEENT\")\n",
    "        frames[frame_index].resize()#(event.width-size[0], event.height-size[1]))\n",
    "        size = new_size"
   ]
  },
  {
   "cell_type": "code",
   "execution_count": 7,
   "metadata": {},
   "outputs": [
    {
     "name": "stdout",
     "output_type": "stream",
     "text": [
      "resistor\n",
      "inductor\n",
      "ground\n",
      "ground\n",
      "ground\n",
      "capacitor\n",
      "voltage\n"
     ]
    }
   ],
   "source": [
    "root = Tk()\n",
    "\n",
    "size = (900,600)\n",
    "\n",
    "root.title('Smarter Circuits')\n",
    "root.geometry('{x}x{y}'.format(x=size[0], y=size[1]))\n",
    "\n",
    "root.bind('<Configure>', resize)\n",
    "\n",
    "frames, frame_data = get_frames(root, next)\n",
    "frame_index = 0\n",
    "\n",
    "frames[0].add()\n",
    "\n",
    "back_button = Button(root, text='Back', command=back)\n",
    "back_button.place(relx=0.8, rely=0.9, relwidth=0.1, relheight=0.05)\n",
    "\n",
    "next_button = Button(root, text='Next', command=next)\n",
    "next_button.place(relx=0.8, rely=0.8, relwidth=0.1, relheight=0.05)\n",
    "\n",
    "#canvas = Canvas(root, width=image_size[0], height=image_size[1])      \n",
    "#canvas.pack()\n",
    "#tkImg = convertImage(image)\n",
    "#canvas_img = canvas.create_image(20,20, anchor=NW, image=tkImg)\n",
    "##canvas.create_rectangle(20, 20, 50, 50, fill='red')\n",
    "#\n",
    "#s1_value = DoubleVar()\n",
    "#s1 = Scale(root, from_=0, to=255, length=200, orient=HORIZONTAL, variable=s1_value, command=s1_changed)\n",
    "#s1.set(100)\n",
    "#s1.pack()\n",
    "\n",
    "\n",
    "root.mainloop()"
   ]
  }
 ],
 "metadata": {
  "interpreter": {
   "hash": "e5c3deade111fccd4fa92eff86d83ddd10bf433c556b75bb1aa6e942e768c411"
  },
  "kernelspec": {
   "display_name": "Python 3.9.7 64-bit",
   "language": "python",
   "name": "python3"
  },
  "language_info": {
   "codemirror_mode": {
    "name": "ipython",
    "version": 3
   },
   "file_extension": ".py",
   "mimetype": "text/x-python",
   "name": "python",
   "nbconvert_exporter": "python",
   "pygments_lexer": "ipython3",
   "version": "3.9.7"
  },
  "orig_nbformat": 4
 },
 "nbformat": 4,
 "nbformat_minor": 2
}
