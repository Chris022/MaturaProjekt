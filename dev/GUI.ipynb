{
 "cells": [
  {
   "cell_type": "code",
   "execution_count": 15,
   "metadata": {},
   "outputs": [],
   "source": [
    "import sys\n",
    "sys.path.append('../')\n",
    "\n",
    "import numpy as np\n",
    "import cv2\n",
    "import lib.utils as utils\n",
    "import matplotlib.pyplot as plt\n",
    "\n",
    "from lib.gui.cropImage import CropImage\n",
    "\n",
    "from tkinter import *\n",
    "\n",
    "from PIL import Image as PIL_Image, ImageTk as PIL_ImageTk"
   ]
  },
  {
   "cell_type": "code",
   "execution_count": 16,
   "metadata": {},
   "outputs": [],
   "source": [
    "image = utils.loadImage(path=\"./../resources/testImages\",name=\"hand2.jpg\", resize=(500,None))\n",
    "#image_size = (image.shape[1], image.shape[0])\n",
    "\n",
    "#(thresh, binary) = cv2.threshold(image, 100, 255, cv2.THRESH_BINARY)\n",
    "\n",
    "#plt.imshow(image, interpolation=\"bilinear\", cmap=\"gray\")"
   ]
  },
  {
   "cell_type": "code",
   "execution_count": 17,
   "metadata": {},
   "outputs": [],
   "source": [
    "def get_frames(root):\n",
    "    frames = []\n",
    "    data = [-1]\n",
    "    frames.append(CropImage(root, (0.01,0.01,0.7,0.95)))\n",
    "\n",
    "    data = data * len(frames)\n",
    "\n",
    "    return frames, data"
   ]
  },
  {
   "cell_type": "code",
   "execution_count": 18,
   "metadata": {},
   "outputs": [],
   "source": [
    "def next():\n",
    "    global frames, frame_data, frame_index\n",
    "    if frame_index < len(frames)-1:\n",
    "        frame_data[frame_index] = frames[frame_index].remove()\n",
    "        frame_index += 1\n",
    "        frames[frame_index].add(frame_data[frame_index-1])\n",
    "\n",
    "def back():\n",
    "    global frames, frame_data, frame_index\n",
    "    if frame_index > 0:\n",
    "        frame_data[frame_index] = frames[frame_index].remove()\n",
    "        frame_index -= 1\n",
    "        if frame_index > 0:\n",
    "            frames[frame_index].add(frame_data[frame_index-1])\n",
    "        else:\n",
    "            frames[frame_index].add(-1)"
   ]
  },
  {
   "cell_type": "code",
   "execution_count": 19,
   "metadata": {},
   "outputs": [],
   "source": [
    "def resize(event):\n",
    "    global size, frames, frame_index\n",
    "    new_size = (event.width, event.height)\n",
    "\n",
    "    if str(event.widget) != '.':\n",
    "        return\n",
    "    \n",
    "    if new_size != size:\n",
    "        #print(\"EVEEEEENT\")\n",
    "        frames[frame_index].resize()#(event.width-size[0], event.height-size[1]))\n",
    "        size = new_size"
   ]
  },
  {
   "cell_type": "code",
   "execution_count": 20,
   "metadata": {},
   "outputs": [],
   "source": [
    "root = Tk()\n",
    "\n",
    "size = (900,600)\n",
    "\n",
    "root.title('Smarter Circuits')\n",
    "root.geometry('{x}x{y}'.format(x=size[0], y=size[1]))\n",
    "\n",
    "root.bind('<Configure>', resize)\n",
    "\n",
    "frames, frame_data = get_frames(root)\n",
    "frame_index = 0\n",
    "\n",
    "frames[0].add(image)\n",
    "\n",
    "back_button = Button(root, text='Back', width=10, height=2, command=back)\n",
    "back_button.place(relx=0.8, rely=0.6, relwidth=0.1, relheight=0.05)\n",
    "\n",
    "next_button = Button(root, text='Next', width=10, height=2, command=next)\n",
    "next_button.place(relx=0.8, rely=0.7, relwidth=0.1, relheight=0.05)\n",
    "\n",
    "#canvas = Canvas(root, width=image_size[0], height=image_size[1])      \n",
    "#canvas.pack()\n",
    "#tkImg = convertImage(image)\n",
    "#canvas_img = canvas.create_image(20,20, anchor=NW, image=tkImg)\n",
    "##canvas.create_rectangle(20, 20, 50, 50, fill='red')\n",
    "#\n",
    "#s1_value = DoubleVar()\n",
    "#s1 = Scale(root, from_=0, to=255, length=200, orient=HORIZONTAL, variable=s1_value, command=s1_changed)\n",
    "#s1.set(100)\n",
    "#s1.pack()\n",
    "\n",
    "\n",
    "root.mainloop()"
   ]
  },
  {
   "cell_type": "code",
   "execution_count": 21,
   "metadata": {},
   "outputs": [],
   "source": [
    "#def s1_changed(event):\n",
    "#    global tkImg\n",
    "#    (thresh, binary) = cv2.threshold(image, s1.get(), 255, cv2.THRESH_BINARY)\n",
    "#    #binary = cv2.adaptiveThreshold(image,255,cv2.ADAPTIVE_THRESH_GAUSSIAN_C,cv2.THRESH_BINARY,11,s1.get()/20)\n",
    "#    #blur = cv2.GaussianBlur(image,(5,5),s1.get())\n",
    "#    #ret3,binary = cv2.threshold(blur,0,255,cv2.THRESH_BINARY+cv2.THRESH_OTSU)\n",
    "#    tkImg = convertImage(binary)\n",
    "#    canvas.itemconfig(canvas_img, image=tkImg)"
   ]
  }
 ],
 "metadata": {
  "interpreter": {
   "hash": "e5c3deade111fccd4fa92eff86d83ddd10bf433c556b75bb1aa6e942e768c411"
  },
  "kernelspec": {
   "display_name": "Python 3.9.7 64-bit",
   "language": "python",
   "name": "python3"
  },
  "language_info": {
   "codemirror_mode": {
    "name": "ipython",
    "version": 3
   },
   "file_extension": ".py",
   "mimetype": "text/x-python",
   "name": "python",
   "nbconvert_exporter": "python",
   "pygments_lexer": "ipython3",
   "version": "3.9.7"
  },
  "orig_nbformat": 4
 },
 "nbformat": 4,
 "nbformat_minor": 2
}
