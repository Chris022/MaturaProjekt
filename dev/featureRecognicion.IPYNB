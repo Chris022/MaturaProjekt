{
 "cells": [
  {
   "cell_type": "markdown",
   "metadata": {},
   "source": [
    "# Algorithm #"
   ]
  },
  {
   "cell_type": "code",
   "execution_count": 20,
   "metadata": {},
   "outputs": [],
   "source": [
    "from PIL import Image\n",
    "import numpy\n",
    "import matplotlib.pyplot as plt\n",
    "import math\n",
    "#import operator\n",
    "import cv2"
   ]
  },
  {
   "cell_type": "markdown",
   "metadata": {},
   "source": [
    "## Load Image ##"
   ]
  },
  {
   "cell_type": "code",
   "execution_count": 21,
   "metadata": {},
   "outputs": [],
   "source": [
    "def loadImage(path, name):\n",
    "    image = cv2.imread('{path}/{name}'.format(path=path,name=name))\n",
    "    image = cv2.cvtColor(image, cv2.COLOR_RGB2GRAY)\n",
    "    image = 255 - image\n",
    "    return numpy.asarray(image)\n",
    "\n",
    "def thinnImage(image):\n",
    "    image = cv2.ximgproc.thinning(image)\n",
    "    return image"
   ]
  },
  {
   "cell_type": "code",
   "execution_count": 22,
   "metadata": {},
   "outputs": [
    {
     "data": {
      "text/plain": [
       "<matplotlib.image.AxesImage at 0x25def33ce20>"
      ]
     },
     "execution_count": 22,
     "metadata": {},
     "output_type": "execute_result"
    },
    {
     "data": {
      "image/png": "[encoded data removed]",
      "text/plain": [
       "<Figure size 432x288 with 1 Axes>"
      ]
     },
     "metadata": {
      "needs_background": "light"
     },
     "output_type": "display_data"
    }
   ],
   "source": [
    "image = loadImage(\"./../src/testImages\",\"raf1.png\")\n",
    "image = cv2.resize(image, (400,300), interpolation = cv2.INTER_AREA)\n",
    "\n",
    "#for y in range(0,len(image)):\n",
    "#    for x in range(0, len(image[y])):\n",
    "#        if image[y][x] > 1:\n",
    "#            image[y][x] = 255\n",
    "#        else:\n",
    "#            image[y][x] = 0\n",
    "\n",
    "cv2.imwrite(\"out.png\", 255 - image)\n",
    "\n",
    "image = thinnImage(image)\n",
    "\n",
    "cv2.imwrite(\"thinn.png\", 255 - image)\n",
    "\n",
    "plt.imshow(image, cmap=plt.cm.binary)"
   ]
  },
  {
   "cell_type": "markdown",
   "metadata": {},
   "source": [
    "## Filter ##\n",
    "\n",
    "Only odd numbers for filter lengths"
   ]
  },
  {
   "cell_type": "code",
   "execution_count": 23,
   "metadata": {},
   "outputs": [],
   "source": [
    "def getRegion(filter, x, y, image):\n",
    "    yOffset = math.floor(len(filter)/2)\n",
    "    xOffset = math.floor(len(filter[0])/2)\n",
    "    return image[y-yOffset:y+yOffset+1, x-xOffset:x+xOffset+1]\n",
    "\n",
    "def whiteFilter(image):\n",
    "    filter = numpy.asarray([[0,0,0],[0,0,0],[0,0,0]])\n",
    "    image = numpy.asarray(image)\n",
    "    features = numpy.empty_like(image)\n",
    "    for y in range(1,len(image)-1):\n",
    "        for x in range(1,len(image[y])-1):\n",
    "            if numpy.all(numpy.equal(filter, getRegion(filter, x, y, image))):\n",
    "                features[y][x] = 255\n",
    "            else:\n",
    "                features[y][x] = 0\n",
    "    return features\n",
    "\n",
    "def applyFilter(filter, image, points):\n",
    "    image = numpy.asarray(image)\n",
    "    features = []\n",
    "    for (x, y) in points:\n",
    "        if numpy.all(numpy.equal(filter, getRegion(filter, x, y, image))):\n",
    "            features.append((x,y))\n",
    "    return features"
   ]
  },
  {
   "cell_type": "code",
   "execution_count": 24,
   "metadata": {},
   "outputs": [],
   "source": [
    "whiteFeatures = whiteFilter(image)\n",
    "points = []\n",
    "for y in range(1, len(whiteFeatures)-1):\n",
    "    for x in range(1, len(whiteFeatures[y])-1):\n",
    "        if whiteFeatures[y][x] == 0:\n",
    "            points.append((x,y))"
   ]
  },
  {
   "cell_type": "code",
   "execution_count": 25,
   "metadata": {},
   "outputs": [],
   "source": [
    "def rotateFilters(filters):\n",
    "    rotatedFilters = []\n",
    "    for filter in filters:\n",
    "        for k in range(0,4):\n",
    "            rotatedFilters.append(numpy.rot90(filter, k))\n",
    "    return rotatedFilters"
   ]
  },
  {
   "cell_type": "code",
   "execution_count": 26,
   "metadata": {},
   "outputs": [],
   "source": [
    "filters = []\n",
    "filters.append([[0,0,0],[0,255,255],[0,0,0]])\n",
    "filters.append([[255,0,0],[0,255,0],[0,0,0]])\n",
    "\n",
    "endPointFilters = rotateFilters(filters)\n",
    "endPoints = []\n",
    "for filter in endPointFilters:\n",
    "    endPoints = endPoints + applyFilter(filter, image, points)\n",
    "#print(endPoints)\n",
    "\n",
    "\n",
    "filters = []\n",
    "filters.append([[0,0,0],[255,255,255],[0,255,0]])\n",
    "filters.append([[0,0,0],[255,0,255],[0,255,0]])\n",
    "filters.append([[255,0,0],[0,255,255],[0,255,0]])\n",
    "filters.append([[0,0,255],[255,255,255],[0,255,0]])\n",
    "filters.append([[255,0,0],[255,255,255],[0,255,0]])\n",
    "filters.append([[0,255,0],[0,255,255],[255,255,255]])\n",
    "filters.append([[255,0,255],[0,255,255],[0,255,0]])\n",
    "filters.append([[255,0,255],[255,255,0],[0,255,0]])\n",
    "\n",
    "intersectionFilters = rotateFilters(filters)\n",
    "\n",
    "intersections = []\n",
    "for filter in intersectionFilters:\n",
    "    intersections = intersections + applyFilter(filter, image, points)\n"
   ]
  },
  {
   "cell_type": "code",
   "execution_count": 27,
   "metadata": {},
   "outputs": [],
   "source": [
    "filteredIntersections = []\n",
    "\n",
    "filteredIntersections.append(intersections[0])\n",
    "intersections.remove(intersections[0])\n",
    "\n",
    "for inter in intersections:\n",
    "    connected = False\n",
    "    for filtered in filteredIntersections:\n",
    "        dist = math.sqrt((inter[0] - filtered[0])**2 + (inter[1] - filtered[1])**2)\n",
    "        if dist < 2:\n",
    "            connected = True\n",
    "    if not connected:\n",
    "        filteredIntersections.append(inter)\n",
    "\n",
    "intersections = []\n",
    "intersections = intersections + filteredIntersections"
   ]
  },
  {
   "cell_type": "markdown",
   "metadata": {},
   "source": [
    "Mark end points red and intersections green"
   ]
  },
  {
   "cell_type": "code",
   "execution_count": 28,
   "metadata": {},
   "outputs": [
    {
     "data": {
      "text/plain": [
       "<matplotlib.image.AxesImage at 0x25def3ac940>"
      ]
     },
     "execution_count": 28,
     "metadata": {},
     "output_type": "execute_result"
    },
    {
     "data": {
      "image/png": "[encoded data removed]",
      "text/plain": [
       "<Figure size 432x288 with 1 Axes>"
      ]
     },
     "metadata": {
      "needs_background": "light"
     },
     "output_type": "display_data"
    }
   ],
   "source": [
    "outImage = []\n",
    "for y in range(0,len(image)):\n",
    "    row = []\n",
    "    for x in range(0,len(image[y])):\n",
    "        if image[y][x] >= 1:\n",
    "            row.append((0,0,0))\n",
    "        else:\n",
    "            row.append((255,255,255))\n",
    "    outImage.append(row)\n",
    "    \n",
    "for point in endPoints:\n",
    "    outImage[point[1]][point[0]] = (0,0,255)\n",
    "\n",
    "for point in intersections:\n",
    "    outImage[point[1]][point[0]] = (0,255,0)\n",
    "\n",
    "cv2.imwrite(\"points.png\", numpy.asarray(outImage))\n",
    "    \n",
    "plt.imshow(outImage, interpolation='bilinear')"
   ]
  },
  {
   "cell_type": "code",
   "execution_count": 30,
   "metadata": {},
   "outputs": [
    {
     "name": "stdout",
     "output_type": "stream",
     "text": [
      "37\n",
      "35\n"
     ]
    }
   ],
   "source": [
    "list1 = [(72,197), (138,338), (147,200), (153,254), (172,103), (246,205), (108,44), (169,47), (193,160), (30,199), (129,336), (138,198), (194,339), (261,257), (275,112), (92,280), (102,131), (193,239), (147,207), (172,47), (192,153), (99,167), (193,203), (228,257), (94,314), (99,198), (211,203), (281,51), (112,44), (193,255), (252,110), (197,106), (119,255), (218,106), (220,256), (96,255), (123,100)]\n",
    "print(len(list1))\n",
    "list2 = []\n",
    "\n",
    "list2.append(list1[0])\n",
    "list1.remove(list1[0])\n",
    "\n",
    "for inter in list1:\n",
    "    connected = False\n",
    "    for filtered in list2:\n",
    "        dist = math.sqrt((inter[0] - filtered[0])**2 + (inter[1] - filtered[1])**2)\n",
    "        if dist < 5:\n",
    "            connected = True\n",
    "    if not connected:\n",
    "        list2.append(inter)\n",
    "\n",
    "print(len(list2))"
   ]
  }
 ],
 "metadata": {
  "interpreter": {
   "hash": "e5c3deade111fccd4fa92eff86d83ddd10bf433c556b75bb1aa6e942e768c411"
  },
  "kernelspec": {
   "display_name": "Python 3.9.7 64-bit",
   "name": "python3"
  },
  "language_info": {
   "codemirror_mode": {
    "name": "ipython",
    "version": 3
   },
   "file_extension": ".py",
   "mimetype": "text/x-python",
   "name": "python",
   "nbconvert_exporter": "python",
   "pygments_lexer": "ipython3",
   "version": "3.9.7"
  },
  "orig_nbformat": 4
 },
 "nbformat": 4,
 "nbformat_minor": 2
}
