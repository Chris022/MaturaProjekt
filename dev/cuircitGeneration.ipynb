{
 "cells": [
  {
   "cell_type": "code",
   "execution_count": 1,
   "metadata": {},
   "outputs": [
    {
     "ename": "ImportError",
     "evalue": "cannot import name 'POSSIBLE_ROTATIONS' from partially initialized module 'lib.constants' (most likely due to a circular import) (c:\\Users\\Christoph Weberbauer\\Documents\\Schule\\Maturaprojekt\\MaturaProjekt\\dev\\..\\lib\\constants.py)",
     "output_type": "error",
     "traceback": [
      "\u001b[1;31m---------------------------------------------------------------------------\u001b[0m",
      "\u001b[1;31mImportError\u001b[0m                               Traceback (most recent call last)",
      "\u001b[1;32mC:\\Users\\CHRIST~1\\AppData\\Local\\Temp/ipykernel_16600/111885504.py\u001b[0m in \u001b[0;36m<module>\u001b[1;34m\u001b[0m\n\u001b[0;32m      6\u001b[0m \u001b[1;32mfrom\u001b[0m \u001b[0mlib\u001b[0m\u001b[1;33m.\u001b[0m\u001b[0mgraphLib\u001b[0m\u001b[1;33m.\u001b[0m\u001b[0medge\u001b[0m \u001b[1;32mimport\u001b[0m \u001b[0mEdge\u001b[0m\u001b[1;33m\u001b[0m\u001b[1;33m\u001b[0m\u001b[0m\n\u001b[0;32m      7\u001b[0m \u001b[1;33m\u001b[0m\u001b[0m\n\u001b[1;32m----> 8\u001b[1;33m \u001b[1;32mfrom\u001b[0m \u001b[0mlib\u001b[0m\u001b[1;33m.\u001b[0m\u001b[0mconstants\u001b[0m \u001b[1;32mimport\u001b[0m \u001b[1;33m*\u001b[0m\u001b[1;33m\u001b[0m\u001b[1;33m\u001b[0m\u001b[0m\n\u001b[0m\u001b[0;32m      9\u001b[0m \u001b[1;32mimport\u001b[0m \u001b[0mlib\u001b[0m\u001b[1;33m.\u001b[0m\u001b[0mutils\u001b[0m \u001b[1;32mas\u001b[0m \u001b[0mutils\u001b[0m\u001b[1;33m\u001b[0m\u001b[1;33m\u001b[0m\u001b[0m\n\u001b[0;32m     10\u001b[0m \u001b[1;33m\u001b[0m\u001b[0m\n",
      "\u001b[1;32mc:\\Users\\Christoph Weberbauer\\Documents\\Schule\\Maturaprojekt\\MaturaProjekt\\dev\\..\\lib\\constants.py\u001b[0m in \u001b[0;36m<module>\u001b[1;34m\u001b[0m\n\u001b[1;32m----> 1\u001b[1;33m \u001b[1;32mfrom\u001b[0m \u001b[0mlib\u001b[0m\u001b[1;33m.\u001b[0m\u001b[0mcomponents\u001b[0m\u001b[1;33m.\u001b[0m\u001b[0mresistor\u001b[0m \u001b[1;32mimport\u001b[0m \u001b[0mResistor\u001b[0m\u001b[1;33m\u001b[0m\u001b[1;33m\u001b[0m\u001b[0m\n\u001b[0m\u001b[0;32m      2\u001b[0m \u001b[1;32mfrom\u001b[0m \u001b[0mlib\u001b[0m\u001b[1;33m.\u001b[0m\u001b[0mcomponents\u001b[0m\u001b[1;33m.\u001b[0m\u001b[0mground\u001b[0m \u001b[1;32mimport\u001b[0m \u001b[0mGround\u001b[0m\u001b[1;33m\u001b[0m\u001b[1;33m\u001b[0m\u001b[0m\n\u001b[0;32m      3\u001b[0m \u001b[1;33m\u001b[0m\u001b[0m\n\u001b[0;32m      4\u001b[0m \u001b[0mINTERSECTION_COLOR\u001b[0m \u001b[1;33m=\u001b[0m \u001b[1;34m\"red\"\u001b[0m\u001b[1;33m\u001b[0m\u001b[1;33m\u001b[0m\u001b[0m\n\u001b[0;32m      5\u001b[0m \u001b[0mEND_COLOR\u001b[0m \u001b[1;33m=\u001b[0m \u001b[1;34m\"blue\"\u001b[0m\u001b[1;33m\u001b[0m\u001b[1;33m\u001b[0m\u001b[0m\n",
      "\u001b[1;32mc:\\Users\\Christoph Weberbauer\\Documents\\Schule\\Maturaprojekt\\MaturaProjekt\\dev\\..\\lib\\components\\resistor.py\u001b[0m in \u001b[0;36m<module>\u001b[1;34m\u001b[0m\n\u001b[0;32m      1\u001b[0m \u001b[1;32mfrom\u001b[0m \u001b[0mmath\u001b[0m \u001b[1;32mimport\u001b[0m \u001b[0mdist\u001b[0m\u001b[1;33m\u001b[0m\u001b[1;33m\u001b[0m\u001b[0m\n\u001b[0;32m      2\u001b[0m \u001b[1;33m\u001b[0m\u001b[0m\n\u001b[1;32m----> 3\u001b[1;33m \u001b[1;32mfrom\u001b[0m \u001b[0mlib\u001b[0m\u001b[1;33m.\u001b[0m\u001b[0mcomponents\u001b[0m\u001b[1;33m.\u001b[0m\u001b[0mbaseComponent\u001b[0m \u001b[1;32mimport\u001b[0m \u001b[0mBaseComponent\u001b[0m\u001b[1;33m\u001b[0m\u001b[1;33m\u001b[0m\u001b[0m\n\u001b[0m\u001b[0;32m      4\u001b[0m \u001b[1;33m\u001b[0m\u001b[0m\n\u001b[0;32m      5\u001b[0m \u001b[1;31m#        |-------------|\u001b[0m\u001b[1;33m\u001b[0m\u001b[1;33m\u001b[0m\u001b[0m\n",
      "\u001b[1;32mc:\\Users\\Christoph Weberbauer\\Documents\\Schule\\Maturaprojekt\\MaturaProjekt\\dev\\..\\lib\\components\\baseComponent.py\u001b[0m in \u001b[0;36m<module>\u001b[1;34m\u001b[0m\n\u001b[0;32m      1\u001b[0m \u001b[1;32mfrom\u001b[0m \u001b[0mabc\u001b[0m \u001b[1;32mimport\u001b[0m \u001b[0mABC\u001b[0m\u001b[1;33m,\u001b[0m \u001b[0mabstractmethod\u001b[0m\u001b[1;33m\u001b[0m\u001b[1;33m\u001b[0m\u001b[0m\n\u001b[1;32m----> 2\u001b[1;33m \u001b[1;32mfrom\u001b[0m \u001b[0mlib\u001b[0m\u001b[1;33m.\u001b[0m\u001b[0mconstants\u001b[0m \u001b[1;32mimport\u001b[0m \u001b[0mPOSSIBLE_ROTATIONS\u001b[0m\u001b[1;33m\u001b[0m\u001b[1;33m\u001b[0m\u001b[0m\n\u001b[0m\u001b[0;32m      3\u001b[0m \u001b[1;32mfrom\u001b[0m \u001b[0mlib\u001b[0m\u001b[1;33m.\u001b[0m\u001b[0mutils\u001b[0m \u001b[1;32mimport\u001b[0m \u001b[0mfmap\u001b[0m\u001b[1;33m\u001b[0m\u001b[1;33m\u001b[0m\u001b[0m\n\u001b[0;32m      4\u001b[0m \u001b[1;33m\u001b[0m\u001b[0m\n\u001b[0;32m      5\u001b[0m \u001b[1;32mclass\u001b[0m \u001b[0mBaseComponent\u001b[0m\u001b[1;33m(\u001b[0m\u001b[0mABC\u001b[0m\u001b[1;33m)\u001b[0m\u001b[1;33m:\u001b[0m\u001b[1;33m\u001b[0m\u001b[1;33m\u001b[0m\u001b[0m\n",
      "\u001b[1;31mImportError\u001b[0m: cannot import name 'POSSIBLE_ROTATIONS' from partially initialized module 'lib.constants' (most likely due to a circular import) (c:\\Users\\Christoph Weberbauer\\Documents\\Schule\\Maturaprojekt\\MaturaProjekt\\dev\\..\\lib\\constants.py)"
     ]
    }
   ],
   "source": [
    "import sys\n",
    "sys.path.append('../')\n",
    "\n",
    "import lib.graphLib.graph as g\n",
    "from lib.graphLib.vertex import Vertex\n",
    "from lib.graphLib.edge import Edge\n",
    "\n",
    "from lib.constants import *\n",
    "import lib.utils as utils\n",
    "\n",
    "import igraph\n",
    "import copy\n",
    "import drawSvg as draw\n",
    "import math"
   ]
  },
  {
   "cell_type": "markdown",
   "metadata": {},
   "source": [
    "##### Generate Test data"
   ]
  },
  {
   "cell_type": "code",
   "execution_count": null,
   "metadata": {},
   "outputs": [
    {
     "data": {
      "image/svg+xml": "<?xml version=\"1.0\" encoding=\"UTF-8\"?>\n<svg xmlns=\"http://www.w3.org/2000/svg\" xmlns:xlink=\"http://www.w3.org/1999/xlink\" width=\"200pt\" height=\"200pt\" viewBox=\"0 0 200 200\" version=\"1.1\">\n<g id=\"surface56\">\n<rect x=\"0\" y=\"0\" width=\"200\" height=\"200\" style=\"fill:rgb(100%,100%,100%);fill-opacity:1;stroke:none;\"/>\n<path style=\"fill:none;stroke-width:1;stroke-linecap:butt;stroke-linejoin:miter;stroke:rgb(0%,0%,0%);stroke-opacity:1;stroke-miterlimit:10;\" d=\"M 29.398438 126.175781 L 45.097656 168.640625 \"/>\n<path style=\"fill:none;stroke-width:1;stroke-linecap:butt;stroke-linejoin:miter;stroke:rgb(0%,0%,0%);stroke-opacity:1;stroke-miterlimit:10;\" d=\"M 45.097656 168.640625 L 85.363281 180 \"/>\n<path style=\"fill:none;stroke-width:1;stroke-linecap:butt;stroke-linejoin:miter;stroke:rgb(0%,0%,0%);stroke-opacity:1;stroke-miterlimit:10;\" d=\"M 85.363281 180 L 102.730469 150.1875 \"/>\n<path style=\"fill:none;stroke-width:1;stroke-linecap:butt;stroke-linejoin:miter;stroke:rgb(0%,0%,0%);stroke-opacity:1;stroke-miterlimit:10;\" d=\"M 102.730469 150.1875 L 64.0625 152.121094 \"/>\n<path style=\"fill:none;stroke-width:1;stroke-linecap:butt;stroke-linejoin:miter;stroke:rgb(0%,0%,0%);stroke-opacity:1;stroke-miterlimit:10;\" d=\"M 64.0625 152.121094 L 20 151.53125 \"/>\n<path style=\"fill:none;stroke-width:1;stroke-linecap:butt;stroke-linejoin:miter;stroke:rgb(0%,0%,0%);stroke-opacity:1;stroke-miterlimit:10;\" d=\"M 29.398438 126.175781 L 20 151.53125 \"/>\n<path style=\"fill:none;stroke-width:1;stroke-linecap:butt;stroke-linejoin:miter;stroke:rgb(0%,0%,0%);stroke-opacity:1;stroke-miterlimit:10;\" d=\"M 102.730469 150.1875 L 121.425781 118.265625 \"/>\n<path style=\"fill:none;stroke-width:1;stroke-linecap:butt;stroke-linejoin:miter;stroke:rgb(0%,0%,0%);stroke-opacity:1;stroke-miterlimit:10;\" d=\"M 121.425781 118.265625 L 114.339844 81.046875 \"/>\n<path style=\"fill:none;stroke-width:1;stroke-linecap:butt;stroke-linejoin:miter;stroke:rgb(0%,0%,0%);stroke-opacity:1;stroke-miterlimit:10;\" d=\"M 114.339844 81.046875 L 75.089844 72.347656 \"/>\n<path style=\"fill:none;stroke-width:1;stroke-linecap:butt;stroke-linejoin:miter;stroke:rgb(0%,0%,0%);stroke-opacity:1;stroke-miterlimit:10;\" d=\"M 75.089844 72.347656 L 41.203125 90.761719 \"/>\n<path style=\"fill:none;stroke-width:1;stroke-linecap:butt;stroke-linejoin:miter;stroke:rgb(0%,0%,0%);stroke-opacity:1;stroke-miterlimit:10;\" d=\"M 29.398438 126.175781 L 41.203125 90.761719 \"/>\n<path style=\"fill:none;stroke-width:1;stroke-linecap:butt;stroke-linejoin:miter;stroke:rgb(0%,0%,0%);stroke-opacity:1;stroke-miterlimit:10;\" d=\"M 114.339844 81.046875 L 142.171875 55.652344 \"/>\n<path style=\"fill:none;stroke-width:1;stroke-linecap:butt;stroke-linejoin:miter;stroke:rgb(0%,0%,0%);stroke-opacity:1;stroke-miterlimit:10;\" d=\"M 142.171875 55.652344 L 141.601563 20 \"/>\n<path style=\"fill:none;stroke-width:1;stroke-linecap:butt;stroke-linejoin:miter;stroke:rgb(0%,0%,0%);stroke-opacity:1;stroke-miterlimit:10;\" d=\"M 142.171875 55.652344 L 180 55.691406 \"/>\n<path style=\"fill-rule:nonzero;fill:rgb(100%,0%,0%);fill-opacity:1;stroke-width:1;stroke-linecap:butt;stroke-linejoin:miter;stroke:rgb(0%,0%,0%);stroke-opacity:1;stroke-miterlimit:10;\" d=\"M 39.398438 126.175781 C 39.398438 131.695313 34.921875 136.175781 29.398438 136.175781 C 23.875 136.175781 19.398438 131.695313 19.398438 126.175781 C 19.398438 120.652344 23.875 116.175781 29.398438 116.175781 C 34.921875 116.175781 39.398438 120.652344 39.398438 126.175781 \"/>\n<path style=\"fill-rule:nonzero;fill:rgb(100%,100%,0%);fill-opacity:1;stroke-width:1;stroke-linecap:butt;stroke-linejoin:miter;stroke:rgb(0%,0%,0%);stroke-opacity:1;stroke-miterlimit:10;\" d=\"M 55.097656 168.640625 C 55.097656 174.164063 50.617188 178.640625 45.097656 178.640625 C 39.574219 178.640625 35.097656 174.164063 35.097656 168.640625 C 35.097656 163.117188 39.574219 158.640625 45.097656 158.640625 C 50.617188 158.640625 55.097656 163.117188 55.097656 168.640625 \"/>\n<path style=\"fill-rule:nonzero;fill:rgb(100%,100%,0%);fill-opacity:1;stroke-width:1;stroke-linecap:butt;stroke-linejoin:miter;stroke:rgb(0%,0%,0%);stroke-opacity:1;stroke-miterlimit:10;\" d=\"M 95.363281 180 C 95.363281 185.523438 90.886719 190 85.363281 190 C 79.84375 190 75.363281 185.523438 75.363281 180 C 75.363281 174.476563 79.84375 170 85.363281 170 C 90.886719 170 95.363281 174.476563 95.363281 180 \"/>\n<path style=\"fill-rule:nonzero;fill:rgb(100%,0%,0%);fill-opacity:1;stroke-width:1;stroke-linecap:butt;stroke-linejoin:miter;stroke:rgb(0%,0%,0%);stroke-opacity:1;stroke-miterlimit:10;\" d=\"M 112.730469 150.1875 C 112.730469 155.710938 108.253906 160.1875 102.730469 160.1875 C 97.207031 160.1875 92.730469 155.710938 92.730469 150.1875 C 92.730469 144.664063 97.207031 140.1875 102.730469 140.1875 C 108.253906 140.1875 112.730469 144.664063 112.730469 150.1875 \"/>\n<path style=\"fill-rule:nonzero;fill:rgb(100%,100%,0%);fill-opacity:1;stroke-width:1;stroke-linecap:butt;stroke-linejoin:miter;stroke:rgb(0%,0%,0%);stroke-opacity:1;stroke-miterlimit:10;\" d=\"M 74.0625 152.121094 C 74.0625 157.640625 69.582031 162.121094 64.0625 162.121094 C 58.539063 162.121094 54.0625 157.640625 54.0625 152.121094 C 54.0625 146.597656 58.539063 142.121094 64.0625 142.121094 C 69.582031 142.121094 74.0625 146.597656 74.0625 152.121094 \"/>\n<path style=\"fill-rule:nonzero;fill:rgb(100%,100%,0%);fill-opacity:1;stroke-width:1;stroke-linecap:butt;stroke-linejoin:miter;stroke:rgb(0%,0%,0%);stroke-opacity:1;stroke-miterlimit:10;\" d=\"M 30 151.53125 C 30 157.050781 25.523438 161.53125 20 161.53125 C 14.476563 161.53125 10 157.050781 10 151.53125 C 10 146.007813 14.476563 141.53125 20 141.53125 C 25.523438 141.53125 30 146.007813 30 151.53125 \"/>\n<path style=\"fill-rule:nonzero;fill:rgb(100%,100%,0%);fill-opacity:1;stroke-width:1;stroke-linecap:butt;stroke-linejoin:miter;stroke:rgb(0%,0%,0%);stroke-opacity:1;stroke-miterlimit:10;\" d=\"M 131.425781 118.265625 C 131.425781 123.789063 126.949219 128.265625 121.425781 128.265625 C 115.902344 128.265625 111.425781 123.789063 111.425781 118.265625 C 111.425781 112.742188 115.902344 108.265625 121.425781 108.265625 C 126.949219 108.265625 131.425781 112.742188 131.425781 118.265625 \"/>\n<path style=\"fill-rule:nonzero;fill:rgb(100%,0%,0%);fill-opacity:1;stroke-width:1;stroke-linecap:butt;stroke-linejoin:miter;stroke:rgb(0%,0%,0%);stroke-opacity:1;stroke-miterlimit:10;\" d=\"M 124.339844 81.046875 C 124.339844 86.570313 119.859375 91.046875 114.339844 91.046875 C 108.816406 91.046875 104.339844 86.570313 104.339844 81.046875 C 104.339844 75.523438 108.816406 71.046875 114.339844 71.046875 C 119.859375 71.046875 124.339844 75.523438 124.339844 81.046875 \"/>\n<path style=\"fill-rule:nonzero;fill:rgb(100%,100%,0%);fill-opacity:1;stroke-width:1;stroke-linecap:butt;stroke-linejoin:miter;stroke:rgb(0%,0%,0%);stroke-opacity:1;stroke-miterlimit:10;\" d=\"M 85.089844 72.347656 C 85.089844 77.871094 80.613281 82.347656 75.089844 82.347656 C 69.566406 82.347656 65.089844 77.871094 65.089844 72.347656 C 65.089844 66.824219 69.566406 62.347656 75.089844 62.347656 C 80.613281 62.347656 85.089844 66.824219 85.089844 72.347656 \"/>\n<path style=\"fill-rule:nonzero;fill:rgb(100%,100%,0%);fill-opacity:1;stroke-width:1;stroke-linecap:butt;stroke-linejoin:miter;stroke:rgb(0%,0%,0%);stroke-opacity:1;stroke-miterlimit:10;\" d=\"M 51.203125 90.761719 C 51.203125 96.285156 46.726563 100.761719 41.203125 100.761719 C 35.679688 100.761719 31.203125 96.285156 31.203125 90.761719 C 31.203125 85.238281 35.679688 80.761719 41.203125 80.761719 C 46.726563 80.761719 51.203125 85.238281 51.203125 90.761719 \"/>\n<path style=\"fill-rule:nonzero;fill:rgb(100%,0%,0%);fill-opacity:1;stroke-width:1;stroke-linecap:butt;stroke-linejoin:miter;stroke:rgb(0%,0%,0%);stroke-opacity:1;stroke-miterlimit:10;\" d=\"M 152.171875 55.652344 C 152.171875 61.171875 147.695313 65.652344 142.171875 65.652344 C 136.648438 65.652344 132.171875 61.171875 132.171875 55.652344 C 132.171875 50.128906 136.648438 45.652344 142.171875 45.652344 C 147.695313 45.652344 152.171875 50.128906 152.171875 55.652344 \"/>\n<path style=\"fill-rule:nonzero;fill:rgb(0%,0%,100%);fill-opacity:1;stroke-width:1;stroke-linecap:butt;stroke-linejoin:miter;stroke:rgb(0%,0%,0%);stroke-opacity:1;stroke-miterlimit:10;\" d=\"M 151.601563 20 C 151.601563 25.523438 147.125 30 141.601563 30 C 136.078125 30 131.601563 25.523438 131.601563 20 C 131.601563 14.476563 136.078125 10 141.601563 10 C 147.125 10 151.601563 14.476563 151.601563 20 \"/>\n<path style=\"fill-rule:nonzero;fill:rgb(0%,0%,100%);fill-opacity:1;stroke-width:1;stroke-linecap:butt;stroke-linejoin:miter;stroke:rgb(0%,0%,0%);stroke-opacity:1;stroke-miterlimit:10;\" d=\"M 190 55.691406 C 190 61.214844 185.523438 65.691406 180 65.691406 C 174.476563 65.691406 170 61.214844 170 55.691406 C 170 50.167969 174.476563 45.691406 180 45.691406 C 185.523438 45.691406 190 50.167969 190 55.691406 \"/>\n</g>\n</svg>\n",
      "text/plain": [
       "<igraph.drawing.Plot at 0x1fe2287b0a0>"
      ]
     },
     "execution_count": 25,
     "metadata": {
      "image/svg+xml": {
       "isolated": true
      }
     },
     "output_type": "execute_result"
    }
   ],
   "source": [
    "graph = g.Graph()\n",
    "\n",
    "v0 = Vertex(\"red\",attr={\"coordinates\":[165,50]})\n",
    "v1 = Vertex(\"yellow\",attr={\"coordinates\":[169,57]})\n",
    "v2 = Vertex(\"yellow\",attr={\"coordinates\":[196,52]})\n",
    "v3 = Vertex(\"red\",attr={\"coordinates\":[197,50]})\n",
    "v4 = Vertex(\"yellow\",attr={\"coordinates\":[193,43]})\n",
    "v5 = Vertex(\"yellow\",attr={\"coordinates\":[166,47]})\n",
    "\n",
    "v6 = Vertex(\"yellow\",attr={\"coordinates\":[242,47]})\n",
    "v7 = Vertex(\"red\",attr={\"coordinates\":[244,211]})\n",
    "v8 = Vertex(\"yellow\",attr={\"coordinates\":[90,220]})\n",
    "v9 = Vertex(\"yellow\",attr={\"coordinates\":[92,56]})\n",
    "\n",
    "v10 = Vertex(\"red\",attr={\"coordinates\":[245,240]})\n",
    "v11 = Vertex(\"blue\",attr={\"coordinates\":[259,241]})\n",
    "v12 = Vertex(\"blue\",attr={\"coordinates\":[229,241]})\n",
    "\n",
    "graph.addVertices([v0,v1,v2,v3,v4,v5,v6,v7,v8,v9,v10,v11,v12])\n",
    "graph.addEdge(Edge(),v0.id,v1.id)\n",
    "graph.addEdge(Edge(),v1.id,v2.id)\n",
    "graph.addEdge(Edge(),v2.id,v3.id)\n",
    "graph.addEdge(Edge(),v3.id,v4.id)\n",
    "graph.addEdge(Edge(),v4.id,v5.id)\n",
    "graph.addEdge(Edge(),v5.id,v0.id)\n",
    "\n",
    "graph.addEdge(Edge(),v3.id,v6.id)\n",
    "graph.addEdge(Edge(),v6.id,v7.id)\n",
    "graph.addEdge(Edge(),v7.id,v8.id)\n",
    "graph.addEdge(Edge(),v8.id,v9.id)\n",
    "graph.addEdge(Edge(),v9.id,v0.id)\n",
    "\n",
    "graph.addEdge(Edge(),v7.id,v10.id)\n",
    "graph.addEdge(Edge(),v10.id,v11.id)\n",
    "graph.addEdge(Edge(),v10.id,v12.id)\n",
    "\n",
    "buildingParts = [\n",
    "    (\"resistor\",90,[v0,v1,v2,v3,v4,v5]),\n",
    "    (\"ground\",90,[v10,v11,v12,])\n",
    "]\n",
    "\n",
    "igraphUnion = utils.convertToIgraph(graph)\n",
    "layout = igraphUnion.layout(\"kk\") #\"large_graph\"\n",
    "igraph.plot(igraphUnion, layout=layout,bbox = (200,200))"
   ]
  },
  {
   "cell_type": "markdown",
   "metadata": {},
   "source": [
    "### Convert Coordinates to Relative Values"
   ]
  },
  {
   "cell_type": "code",
   "execution_count": null,
   "metadata": {},
   "outputs": [],
   "source": [
    "#get lenght of the longest resistor\n",
    "len = -1\n",
    "for buildingPart in buildingParts:\n",
    "    vertices = buildingPart[2]\n",
    "    rotation = buildingPart[1]\n",
    "    type_ = buildingPart[0]\n",
    "\n",
    "    if not type_ == CLASS_NAMES[\"res\"]:\n",
    "        continue\n",
    "    \n",
    "    xVals = list(map(lambda v: v.attr[\"coordinates\"][0],vertices))\n",
    "    yVals = list(map(lambda v: v.attr[\"coordinates\"][1],vertices))\n",
    "\n",
    "    xDist = max(xVals) - min(xVals)\n",
    "    yDist = max(yVals) - min(yVals)\n",
    "\n",
    "    if xDist > yDist:\n",
    "        if xDist > len:\n",
    "            len = xDist\n",
    "    else:\n",
    "        if yDist > len:\n",
    "            len = yDist\n",
    "\n",
    "\n",
    "#convert all coordinates to values, relative to the resistor\n",
    "for vertex in graph.ve.values():\n",
    "    x = vertex.attr[\"coordinates\"][0]\n",
    "    y = vertex.attr[\"coordinates\"][1]\n",
    "    vertex.attr[\"coordinates\"] = [x/len,y/len]"
   ]
  },
  {
   "cell_type": "markdown",
   "metadata": {},
   "source": [
    "### Snap Coordinates to Grid "
   ]
  },
  {
   "cell_type": "code",
   "execution_count": null,
   "metadata": {},
   "outputs": [],
   "source": [
    "\n",
    "for vertex in graph.ve.values():\n",
    "    gridSize = 1\n",
    "    x = math.floor(vertex.attr[\"coordinates\"][0]/gridSize)*gridSize\n",
    "    y = math.floor(vertex.attr[\"coordinates\"][1]/gridSize)*gridSize\n",
    "    vertex.attr[\"coordinates\"] = [x,y]"
   ]
  },
  {
   "cell_type": "markdown",
   "metadata": {},
   "source": [
    "### Modify Graph"
   ]
  },
  {
   "cell_type": "code",
   "execution_count": null,
   "metadata": {},
   "outputs": [
    {
     "data": {
      "image/svg+xml": "<?xml version=\"1.0\" encoding=\"UTF-8\"?>\n<svg xmlns=\"http://www.w3.org/2000/svg\" xmlns:xlink=\"http://www.w3.org/1999/xlink\" width=\"200pt\" height=\"200pt\" viewBox=\"0 0 200 200\" version=\"1.1\">\n<defs>\n<g>\n<symbol overflow=\"visible\" id=\"glyph0-0\">\n<path style=\"stroke:none;\" d=\"M 1.75 0 L 1.75 -8.75 L 8.75 -8.75 L 8.75 0 Z M 1.96875 -0.21875 L 8.53125 -0.21875 L 8.53125 -8.53125 L 1.96875 -8.53125 Z M 1.96875 -0.21875 \"/>\n</symbol>\n<symbol overflow=\"visible\" id=\"glyph0-1\">\n<path style=\"stroke:none;\" d=\"M 0.910156 0 L 0.910156 -7.257813 L 2.015625 -7.257813 L 2.015625 -6.160156 C 2.296875 -6.667969 2.554688 -7.007813 2.796875 -7.175781 C 3.03125 -7.335938 3.296875 -7.417969 3.589844 -7.421875 C 4 -7.417969 4.421875 -7.285156 4.851563 -7.027344 L 4.429688 -5.886719 C 4.125 -6.0625 3.824219 -6.152344 3.527344 -6.152344 C 3.257813 -6.152344 3.015625 -6.070313 2.800781 -5.910156 C 2.585938 -5.746094 2.433594 -5.519531 2.34375 -5.234375 C 2.207031 -4.792969 2.136719 -4.316406 2.140625 -3.800781 L 2.140625 0 Z M 0.910156 0 \"/>\n</symbol>\n<symbol overflow=\"visible\" id=\"glyph0-2\">\n<path style=\"stroke:none;\" d=\"M 5.890625 -2.335938 L 7.164063 -2.179688 C 6.960938 -1.4375 6.589844 -0.859375 6.046875 -0.449219 C 5.503906 -0.0390625 4.8125 0.164063 3.972656 0.164063 C 2.910156 0.164063 2.066406 -0.160156 1.445313 -0.816406 C 0.820313 -1.464844 0.507813 -2.382813 0.511719 -3.570313 C 0.507813 -4.785156 0.824219 -5.734375 1.453125 -6.410156 C 2.082031 -7.082031 2.898438 -7.417969 3.902344 -7.421875 C 4.871094 -7.417969 5.664063 -7.085938 6.28125 -6.429688 C 6.894531 -5.765625 7.199219 -4.839844 7.203125 -3.644531 C 7.199219 -3.570313 7.199219 -3.460938 7.199219 -3.316406 L 1.785156 -3.316406 C 1.828125 -2.515625 2.054688 -1.902344 2.460938 -1.480469 C 2.867188 -1.054688 3.371094 -0.84375 3.976563 -0.847656 C 4.425781 -0.84375 4.8125 -0.960938 5.132813 -1.203125 C 5.453125 -1.4375 5.703125 -1.816406 5.890625 -2.335938 Z M 1.851563 -4.328125 L 5.90625 -4.328125 C 5.851563 -4.933594 5.695313 -5.390625 5.441406 -5.703125 C 5.046875 -6.171875 4.539063 -6.410156 3.917969 -6.414063 C 3.351563 -6.410156 2.875 -6.21875 2.492188 -5.84375 C 2.101563 -5.460938 1.890625 -4.957031 1.851563 -4.328125 Z M 1.851563 -4.328125 \"/>\n</symbol>\n<symbol overflow=\"visible\" id=\"glyph0-3\">\n<path style=\"stroke:none;\" d=\"M 0.429688 -2.167969 L 1.648438 -2.359375 C 1.710938 -1.867188 1.902344 -1.492188 2.21875 -1.234375 C 2.527344 -0.972656 2.964844 -0.84375 3.527344 -0.847656 C 4.089844 -0.84375 4.507813 -0.957031 4.785156 -1.191406 C 5.054688 -1.417969 5.191406 -1.691406 5.195313 -2.003906 C 5.191406 -2.28125 5.070313 -2.5 4.832031 -2.660156 C 4.660156 -2.769531 4.242188 -2.90625 3.574219 -3.078125 C 2.671875 -3.300781 2.046875 -3.5 1.699219 -3.667969 C 1.347656 -3.832031 1.082031 -4.058594 0.90625 -4.355469 C 0.722656 -4.644531 0.632813 -4.972656 0.636719 -5.332031 C 0.632813 -5.652344 0.707031 -5.949219 0.855469 -6.230469 C 1.003906 -6.503906 1.203125 -6.734375 1.460938 -6.917969 C 1.648438 -7.054688 1.910156 -7.171875 2.246094 -7.273438 C 2.574219 -7.367188 2.929688 -7.417969 3.308594 -7.421875 C 3.875 -7.417969 4.375 -7.335938 4.808594 -7.175781 C 5.234375 -7.007813 5.550781 -6.785156 5.761719 -6.507813 C 5.964844 -6.226563 6.109375 -5.851563 6.1875 -5.386719 L 4.984375 -5.222656 C 4.925781 -5.589844 4.765625 -5.882813 4.507813 -6.097656 C 4.242188 -6.304688 3.875 -6.410156 3.398438 -6.414063 C 2.832031 -6.410156 2.425781 -6.316406 2.1875 -6.132813 C 1.941406 -5.941406 1.820313 -5.722656 1.824219 -5.476563 C 1.820313 -5.3125 1.871094 -5.167969 1.976563 -5.046875 C 2.070313 -4.910156 2.226563 -4.800781 2.445313 -4.71875 C 2.566406 -4.667969 2.929688 -4.5625 3.535156 -4.402344 C 4.402344 -4.167969 5.011719 -3.980469 5.355469 -3.832031 C 5.699219 -3.683594 5.96875 -3.464844 6.164063 -3.183594 C 6.359375 -2.898438 6.457031 -2.550781 6.460938 -2.132813 C 6.457031 -1.71875 6.335938 -1.332031 6.101563 -0.972656 C 5.859375 -0.609375 5.515625 -0.328125 5.066406 -0.132813 C 4.613281 0.0664063 4.101563 0.164063 3.535156 0.164063 C 2.585938 0.164063 1.867188 -0.03125 1.375 -0.421875 C 0.878906 -0.8125 0.5625 -1.394531 0.429688 -2.167969 Z M 0.429688 -2.167969 \"/>\n</symbol>\n<symbol overflow=\"visible\" id=\"glyph0-4\">\n<path style=\"stroke:none;\" d=\"M 0.929688 -8.605469 L 0.929688 -10.023438 L 2.160156 -10.023438 L 2.160156 -8.605469 Z M 0.929688 0 L 0.929688 -7.257813 L 2.160156 -7.257813 L 2.160156 0 Z M 0.929688 0 \"/>\n</symbol>\n<symbol overflow=\"visible\" id=\"glyph0-5\">\n<path style=\"stroke:none;\" d=\"M 3.609375 -1.101563 L 3.789063 -0.015625 C 3.4375 0.0585938 3.128906 0.09375 2.859375 0.09375 C 2.410156 0.09375 2.0625 0.0234375 1.816406 -0.117188 C 1.570313 -0.257813 1.394531 -0.441406 1.296875 -0.671875 C 1.195313 -0.902344 1.148438 -1.386719 1.148438 -2.125 L 1.148438 -6.304688 L 0.246094 -6.304688 L 0.246094 -7.257813 L 1.148438 -7.257813 L 1.148438 -9.058594 L 2.371094 -9.796875 L 2.371094 -7.257813 L 3.609375 -7.257813 L 3.609375 -6.304688 L 2.371094 -6.304688 L 2.371094 -2.058594 C 2.367188 -1.703125 2.386719 -1.476563 2.433594 -1.378906 C 2.472656 -1.277344 2.546875 -1.199219 2.648438 -1.140625 C 2.746094 -1.082031 2.886719 -1.054688 3.070313 -1.054688 C 3.203125 -1.054688 3.382813 -1.070313 3.609375 -1.101563 Z M 3.609375 -1.101563 \"/>\n</symbol>\n<symbol overflow=\"visible\" id=\"glyph0-6\">\n<path style=\"stroke:none;\" d=\"M 0.464844 -3.628906 C 0.460938 -4.972656 0.835938 -5.96875 1.585938 -6.617188 C 2.207031 -7.148438 2.96875 -7.417969 3.867188 -7.421875 C 4.867188 -7.417969 5.683594 -7.089844 6.316406 -6.441406 C 6.949219 -5.785156 7.265625 -4.882813 7.265625 -3.734375 C 7.265625 -2.796875 7.125 -2.0625 6.84375 -1.527344 C 6.5625 -0.992188 6.152344 -0.578125 5.621094 -0.28125 C 5.082031 0.015625 4.5 0.164063 3.867188 0.164063 C 2.851563 0.164063 2.027344 -0.160156 1.402344 -0.8125 C 0.773438 -1.460938 0.460938 -2.398438 0.464844 -3.628906 Z M 1.730469 -3.628906 C 1.726563 -2.695313 1.929688 -2 2.335938 -1.539063 C 2.738281 -1.074219 3.25 -0.84375 3.867188 -0.847656 C 4.476563 -0.84375 4.984375 -1.074219 5.390625 -1.542969 C 5.796875 -2.003906 6 -2.714844 6 -3.671875 C 6 -4.566406 5.792969 -5.246094 5.386719 -5.710938 C 4.976563 -6.171875 4.472656 -6.402344 3.867188 -6.40625 C 3.25 -6.402344 2.738281 -6.171875 2.335938 -5.714844 C 1.929688 -5.25 1.726563 -4.554688 1.730469 -3.628906 Z M 1.730469 -3.628906 \"/>\n</symbol>\n<symbol overflow=\"visible\" id=\"glyph0-7\">\n<path style=\"stroke:none;\" d=\"M 0.695313 0.601563 L 1.894531 0.78125 C 1.941406 1.144531 2.082031 1.414063 2.3125 1.585938 C 2.613281 1.8125 3.03125 1.925781 3.5625 1.929688 C 4.128906 1.925781 4.566406 1.8125 4.878906 1.585938 C 5.1875 1.355469 5.398438 1.035156 5.507813 0.628906 C 5.570313 0.375 5.597656 -0.148438 5.597656 -0.949219 C 5.058594 -0.316406 4.390625 0 3.589844 0 C 2.589844 0 1.816406 -0.359375 1.273438 -1.078125 C 0.722656 -1.796875 0.449219 -2.660156 0.453125 -3.671875 C 0.449219 -4.363281 0.574219 -5.003906 0.828125 -5.589844 C 1.074219 -6.175781 1.4375 -6.625 1.917969 -6.945313 C 2.390625 -7.257813 2.949219 -7.417969 3.59375 -7.421875 C 4.449219 -7.417969 5.15625 -7.070313 5.714844 -6.382813 L 5.714844 -7.257813 L 6.851563 -7.257813 L 6.851563 -0.984375 C 6.847656 0.144531 6.734375 0.945313 6.503906 1.417969 C 6.273438 1.886719 5.90625 2.257813 5.410156 2.535156 C 4.910156 2.804688 4.296875 2.941406 3.570313 2.945313 C 2.699219 2.941406 2 2.746094 1.46875 2.359375 C 0.933594 1.96875 0.675781 1.382813 0.695313 0.601563 Z M 1.714844 -3.757813 C 1.710938 -2.804688 1.898438 -2.113281 2.28125 -1.675781 C 2.65625 -1.238281 3.132813 -1.019531 3.703125 -1.019531 C 4.269531 -1.019531 4.742188 -1.234375 5.128906 -1.671875 C 5.507813 -2.101563 5.699219 -2.785156 5.703125 -3.71875 C 5.699219 -4.605469 5.503906 -5.273438 5.109375 -5.726563 C 4.714844 -6.175781 4.238281 -6.402344 3.683594 -6.40625 C 3.132813 -6.402344 2.667969 -6.179688 2.289063 -5.738281 C 1.902344 -5.289063 1.710938 -4.628906 1.714844 -3.757813 Z M 1.714844 -3.757813 \"/>\n</symbol>\n<symbol overflow=\"visible\" id=\"glyph0-8\">\n<path style=\"stroke:none;\" d=\"M 5.679688 0 L 5.679688 -1.066406 C 5.109375 -0.246094 4.34375 0.164063 3.375 0.164063 C 2.945313 0.164063 2.542969 0.0820313 2.175781 -0.0820313 C 1.800781 -0.246094 1.527344 -0.449219 1.347656 -0.699219 C 1.167969 -0.945313 1.039063 -1.25 0.96875 -1.613281 C 0.914063 -1.851563 0.890625 -2.234375 0.894531 -2.761719 L 0.894531 -7.257813 L 2.125 -7.257813 L 2.125 -3.234375 C 2.121094 -2.589844 2.148438 -2.15625 2.203125 -1.933594 C 2.277344 -1.609375 2.4375 -1.355469 2.691406 -1.171875 C 2.941406 -0.984375 3.253906 -0.890625 3.625 -0.894531 C 3.988281 -0.890625 4.332031 -0.984375 4.660156 -1.175781 C 4.980469 -1.363281 5.210938 -1.621094 5.347656 -1.949219 C 5.480469 -2.273438 5.546875 -2.746094 5.550781 -3.371094 L 5.550781 -7.257813 L 6.78125 -7.257813 L 6.78125 0 Z M 5.679688 0 \"/>\n</symbol>\n<symbol overflow=\"visible\" id=\"glyph0-9\">\n<path style=\"stroke:none;\" d=\"M 0.921875 0 L 0.921875 -7.257813 L 2.03125 -7.257813 L 2.03125 -6.226563 C 2.558594 -7.019531 3.328125 -7.417969 4.339844 -7.421875 C 4.773438 -7.417969 5.175781 -7.339844 5.546875 -7.1875 C 5.910156 -7.027344 6.183594 -6.820313 6.371094 -6.570313 C 6.550781 -6.3125 6.679688 -6.011719 6.753906 -5.660156 C 6.796875 -5.433594 6.820313 -5.035156 6.820313 -4.464844 L 6.820313 0 L 5.59375 0 L 5.59375 -4.414063 C 5.589844 -4.914063 5.542969 -5.289063 5.449219 -5.539063 C 5.351563 -5.785156 5.179688 -5.984375 4.9375 -6.136719 C 4.691406 -6.28125 4.40625 -6.355469 4.082031 -6.359375 C 3.554688 -6.355469 3.101563 -6.191406 2.722656 -5.859375 C 2.339844 -5.523438 2.148438 -4.890625 2.152344 -3.964844 L 2.152344 0 Z M 0.921875 0 \"/>\n</symbol>\n<symbol overflow=\"visible\" id=\"glyph0-10\">\n<path style=\"stroke:none;\" d=\"M 5.632813 0 L 5.632813 -0.914063 C 5.167969 -0.195313 4.492188 0.164063 3.601563 0.164063 C 3.019531 0.164063 2.488281 0.0078125 2.003906 -0.3125 C 1.519531 -0.628906 1.140625 -1.074219 0.875 -1.648438 C 0.605469 -2.21875 0.472656 -2.878906 0.476563 -3.625 C 0.472656 -4.347656 0.59375 -5.003906 0.839844 -5.59375 C 1.078125 -6.183594 1.441406 -6.636719 1.925781 -6.949219 C 2.40625 -7.261719 2.945313 -7.417969 3.546875 -7.421875 C 3.980469 -7.417969 4.371094 -7.324219 4.714844 -7.144531 C 5.054688 -6.957031 5.332031 -6.71875 5.550781 -6.425781 L 5.550781 -10.023438 L 6.773438 -10.023438 L 6.773438 0 Z M 1.742188 -3.625 C 1.738281 -2.691406 1.933594 -1.996094 2.328125 -1.535156 C 2.71875 -1.074219 3.183594 -0.84375 3.71875 -0.847656 C 4.253906 -0.84375 4.710938 -1.0625 5.085938 -1.507813 C 5.460938 -1.945313 5.648438 -2.617188 5.652344 -3.519531 C 5.648438 -4.511719 5.457031 -5.242188 5.078125 -5.707031 C 4.691406 -6.171875 4.21875 -6.402344 3.664063 -6.40625 C 3.113281 -6.402344 2.65625 -6.179688 2.292969 -5.734375 C 1.921875 -5.285156 1.738281 -4.582031 1.742188 -3.625 Z M 1.742188 -3.625 \"/>\n</symbol>\n</g>\n</defs>\n<g id=\"surface62\">\n<rect x=\"0\" y=\"0\" width=\"200\" height=\"200\" style=\"fill:rgb(100%,100%,100%);fill-opacity:1;stroke:none;\"/>\n<path style=\"fill:none;stroke-width:1;stroke-linecap:butt;stroke-linejoin:miter;stroke:rgb(0%,0%,0%);stroke-opacity:1;stroke-miterlimit:10;\" d=\"M 130.402344 20 L 88.324219 24.746094 \"/>\n<path style=\"fill:none;stroke-width:1;stroke-linecap:butt;stroke-linejoin:miter;stroke:rgb(0%,0%,0%);stroke-opacity:1;stroke-miterlimit:10;\" d=\"M 88.324219 24.746094 L 64.121094 64.257813 \"/>\n<path style=\"fill:none;stroke-width:1;stroke-linecap:butt;stroke-linejoin:miter;stroke:rgb(0%,0%,0%);stroke-opacity:1;stroke-miterlimit:10;\" d=\"M 64.121094 64.257813 L 22.894531 88.5625 \"/>\n<path style=\"fill:none;stroke-width:1;stroke-linecap:butt;stroke-linejoin:miter;stroke:rgb(0%,0%,0%);stroke-opacity:1;stroke-miterlimit:10;\" d=\"M 22.894531 88.5625 L 20 134.464844 \"/>\n<path style=\"fill:none;stroke-width:1;stroke-linecap:butt;stroke-linejoin:miter;stroke:rgb(0%,0%,0%);stroke-opacity:1;stroke-miterlimit:10;\" d=\"M 42.019531 171.542969 L 20 134.464844 \"/>\n<path style=\"fill:none;stroke-width:1;stroke-linecap:butt;stroke-linejoin:miter;stroke:rgb(0%,0%,0%);stroke-opacity:1;stroke-miterlimit:10;\" d=\"M 64.121094 64.257813 L 101.125 93.402344 \"/>\n<path style=\"fill-rule:nonzero;fill:rgb(100%,100%,0%);fill-opacity:1;stroke-width:1;stroke-linecap:butt;stroke-linejoin:miter;stroke:rgb(0%,0%,0%);stroke-opacity:1;stroke-miterlimit:10;\" d=\"M 52.019531 171.542969 C 52.019531 177.066406 47.542969 181.542969 42.019531 181.542969 C 36.496094 181.542969 32.019531 177.066406 32.019531 171.542969 C 32.019531 166.019531 36.496094 161.542969 42.019531 161.542969 C 47.542969 161.542969 52.019531 166.019531 52.019531 171.542969 \"/>\n<path style=\"fill-rule:nonzero;fill:rgb(100%,100%,0%);fill-opacity:1;stroke-width:1;stroke-linecap:butt;stroke-linejoin:miter;stroke:rgb(0%,0%,0%);stroke-opacity:1;stroke-miterlimit:10;\" d=\"M 140.402344 20 C 140.402344 25.523438 135.921875 30 130.402344 30 C 124.878906 30 120.402344 25.523438 120.402344 20 C 120.402344 14.476563 124.878906 10 130.402344 10 C 135.921875 10 140.402344 14.476563 140.402344 20 \"/>\n<path style=\"fill-rule:nonzero;fill:rgb(100%,100%,0%);fill-opacity:1;stroke-width:1;stroke-linecap:butt;stroke-linejoin:miter;stroke:rgb(0%,0%,0%);stroke-opacity:1;stroke-miterlimit:10;\" d=\"M 98.324219 24.746094 C 98.324219 30.269531 93.847656 34.746094 88.324219 34.746094 C 82.800781 34.746094 78.324219 30.269531 78.324219 24.746094 C 78.324219 19.226563 82.800781 14.746094 88.324219 14.746094 C 93.847656 14.746094 98.324219 19.226563 98.324219 24.746094 \"/>\n<path style=\"fill-rule:nonzero;fill:rgb(100%,0%,0%);fill-opacity:1;stroke-width:1;stroke-linecap:butt;stroke-linejoin:miter;stroke:rgb(0%,0%,0%);stroke-opacity:1;stroke-miterlimit:10;\" d=\"M 74.121094 64.257813 C 74.121094 69.78125 69.644531 74.257813 64.121094 74.257813 C 58.597656 74.257813 54.121094 69.78125 54.121094 64.257813 C 54.121094 58.734375 58.597656 54.257813 64.121094 54.257813 C 69.644531 54.257813 74.121094 58.734375 74.121094 64.257813 \"/>\n<path style=\"fill-rule:nonzero;fill:rgb(100%,100%,0%);fill-opacity:1;stroke-width:1;stroke-linecap:butt;stroke-linejoin:miter;stroke:rgb(0%,0%,0%);stroke-opacity:1;stroke-miterlimit:10;\" d=\"M 32.894531 88.5625 C 32.894531 94.085938 28.414063 98.5625 22.894531 98.5625 C 17.371094 98.5625 12.894531 94.085938 12.894531 88.5625 C 12.894531 83.039063 17.371094 78.5625 22.894531 78.5625 C 28.414063 78.5625 32.894531 83.039063 32.894531 88.5625 \"/>\n<path style=\"fill-rule:nonzero;fill:rgb(100%,100%,0%);fill-opacity:1;stroke-width:1;stroke-linecap:butt;stroke-linejoin:miter;stroke:rgb(0%,0%,0%);stroke-opacity:1;stroke-miterlimit:10;\" d=\"M 30 134.464844 C 30 139.988281 25.523438 144.464844 20 144.464844 C 14.476563 144.464844 10 139.988281 10 134.464844 C 10 128.941406 14.476563 124.464844 20 124.464844 C 25.523438 124.464844 30 128.941406 30 134.464844 \"/>\n<path style=\"fill-rule:nonzero;fill:rgb(100%,100%,0%);fill-opacity:1;stroke-width:1;stroke-linecap:butt;stroke-linejoin:miter;stroke:rgb(0%,0%,0%);stroke-opacity:1;stroke-miterlimit:10;\" d=\"M 111.125 93.402344 C 111.125 98.925781 106.648438 103.402344 101.125 103.402344 C 95.601563 103.402344 91.125 98.925781 91.125 93.402344 C 91.125 87.878906 95.601563 83.402344 101.125 83.402344 C 106.648438 83.402344 111.125 87.878906 111.125 93.402344 \"/>\n<path style=\"fill-rule:nonzero;fill:rgb(0%,100%,0%);fill-opacity:1;stroke-width:1;stroke-linecap:butt;stroke-linejoin:miter;stroke:rgb(0%,0%,0%);stroke-opacity:1;stroke-miterlimit:10;\" d=\"M 190 113.425781 C 190 118.949219 185.523438 123.425781 180 123.425781 C 174.476563 123.425781 170 118.949219 170 113.425781 C 170 107.902344 174.476563 103.425781 180 103.425781 C 185.523438 103.425781 190 107.902344 190 113.425781 \"/>\n<path style=\"fill-rule:nonzero;fill:rgb(0%,100%,0%);fill-opacity:1;stroke-width:1;stroke-linecap:butt;stroke-linejoin:miter;stroke:rgb(0%,0%,0%);stroke-opacity:1;stroke-miterlimit:10;\" d=\"M 143.191406 180 C 143.191406 185.523438 138.714844 190 133.191406 190 C 127.667969 190 123.191406 185.523438 123.191406 180 C 123.191406 174.476563 127.667969 170 133.191406 170 C 138.714844 170 143.191406 174.476563 143.191406 180 \"/>\n<g style=\"fill:rgb(0%,0%,0%);fill-opacity:1;\">\n  <use xlink:href=\"#glyph0-1\" x=\"156.5\" y=\"119.9375\"/>\n  <use xlink:href=\"#glyph0-2\" x=\"161.162109\" y=\"119.9375\"/>\n  <use xlink:href=\"#glyph0-3\" x=\"168.948242\" y=\"119.9375\"/>\n  <use xlink:href=\"#glyph0-4\" x=\"175.948242\" y=\"119.9375\"/>\n  <use xlink:href=\"#glyph0-3\" x=\"179.058594\" y=\"119.9375\"/>\n  <use xlink:href=\"#glyph0-5\" x=\"186.058594\" y=\"119.9375\"/>\n  <use xlink:href=\"#glyph0-6\" x=\"189.948242\" y=\"119.9375\"/>\n  <use xlink:href=\"#glyph0-1\" x=\"197.734375\" y=\"119.9375\"/>\n</g>\n<g style=\"fill:rgb(0%,0%,0%);fill-opacity:1;\">\n  <use xlink:href=\"#glyph0-7\" x=\"111.675781\" y=\"186.511719\"/>\n  <use xlink:href=\"#glyph0-1\" x=\"119.461914\" y=\"186.511719\"/>\n  <use xlink:href=\"#glyph0-6\" x=\"124.124023\" y=\"186.511719\"/>\n  <use xlink:href=\"#glyph0-8\" x=\"131.910156\" y=\"186.511719\"/>\n  <use xlink:href=\"#glyph0-9\" x=\"139.696289\" y=\"186.511719\"/>\n  <use xlink:href=\"#glyph0-10\" x=\"147.482422\" y=\"186.511719\"/>\n</g>\n</g>\n</svg>\n",
      "text/plain": [
       "<igraph.drawing.Plot at 0x1fe64393d90>"
      ]
     },
     "execution_count": 28,
     "metadata": {
      "image/svg+xml": {
       "isolated": true
      }
     },
     "output_type": "execute_result"
    }
   ],
   "source": [
    "#Get all the vertices connected to a building part\n",
    "for buildingPart in buildingParts:\n",
    "    vertices = buildingPart[2]\n",
    "    rotation = buildingPart[1]\n",
    "    type_ = buildingPart[0]\n",
    "\n",
    "    #get all intersections\n",
    "    intersectionVertices = list (filter(lambda v: v.color == INTERSECTION_COLOR,vertices) )\n",
    "\n",
    "    #match LTSpice Model connections with graph Model connections\n",
    "    connectionMap = {}\n",
    "    connectionMap = CLASS_OBJECTS[type_].connect(rotation,intersectionVertices)\n",
    "\n",
    "    #get center of the component\n",
    "    xVals = list(map(lambda v: v.attr[\"coordinates\"][0],vertices))\n",
    "    yVals = list(map(lambda v: v.attr[\"coordinates\"][1],vertices))\n",
    "\n",
    "    xDist = max(xVals) - min(xVals)\n",
    "    yDist = max(yVals) - min(yVals)\n",
    "    center = [min(xVals)+xDist/2,min(yVals)+yDist/2]\n",
    "\n",
    "    #delete all vertices of the component accept the intersection points, change type to edge for them!\n",
    "    for vertex in vertices:\n",
    "        if vertex.color == INTERSECTION_COLOR:\n",
    "            vertex.color = CORNER_COLOR\n",
    "            continue\n",
    "        graph.deleteVertex(vertex.id)\n",
    "    \n",
    "    #add UNCONECTED component Vertex\n",
    "    component = Vertex(\n",
    "            color=COMPONENT_COLOR,\n",
    "            label=type_,\n",
    "            attr={\"connectionMap\":connectionMap,\"type\":type_,\"coordinates\":center,\"rotation\":rotation}\n",
    "        )\n",
    "    graph.addVertex(component)\n",
    "\n",
    "igraphUnion = utils.convertToIgraph(graph)\n",
    "layout = igraphUnion.layout(\"fr\") #\"large_graph\"\n",
    "igraph.plot(igraphUnion, layout=layout,bbox = (200,200))"
   ]
  },
  {
   "cell_type": "code",
   "execution_count": null,
   "metadata": {},
   "outputs": [
    {
     "data": {
      "image/svg+xml": "<?xml version=\"1.0\" encoding=\"UTF-8\"?>\n<svg xmlns=\"http://www.w3.org/2000/svg\" xmlns:xlink=\"http://www.w3.org/1999/xlink\" width=\"200pt\" height=\"200pt\" viewBox=\"0 0 200 200\" version=\"1.1\">\n<defs>\n<g>\n<symbol overflow=\"visible\" id=\"glyph0-0\">\n<path style=\"stroke:none;\" d=\"M 1.75 0 L 1.75 -8.75 L 8.75 -8.75 L 8.75 0 Z M 1.96875 -0.21875 L 8.53125 -0.21875 L 8.53125 -8.53125 L 1.96875 -8.53125 Z M 1.96875 -0.21875 \"/>\n</symbol>\n<symbol overflow=\"visible\" id=\"glyph0-1\">\n<path style=\"stroke:none;\" d=\"M 0.910156 0 L 0.910156 -7.257813 L 2.015625 -7.257813 L 2.015625 -6.160156 C 2.296875 -6.667969 2.554688 -7.007813 2.796875 -7.175781 C 3.03125 -7.335938 3.296875 -7.417969 3.589844 -7.421875 C 4 -7.417969 4.421875 -7.285156 4.851563 -7.027344 L 4.429688 -5.886719 C 4.125 -6.0625 3.824219 -6.152344 3.527344 -6.152344 C 3.257813 -6.152344 3.015625 -6.070313 2.800781 -5.910156 C 2.585938 -5.746094 2.433594 -5.519531 2.34375 -5.234375 C 2.207031 -4.792969 2.136719 -4.316406 2.140625 -3.800781 L 2.140625 0 Z M 0.910156 0 \"/>\n</symbol>\n<symbol overflow=\"visible\" id=\"glyph0-2\">\n<path style=\"stroke:none;\" d=\"M 5.890625 -2.335938 L 7.164063 -2.179688 C 6.960938 -1.4375 6.589844 -0.859375 6.046875 -0.449219 C 5.503906 -0.0390625 4.8125 0.164063 3.972656 0.164063 C 2.910156 0.164063 2.066406 -0.160156 1.445313 -0.816406 C 0.820313 -1.464844 0.507813 -2.382813 0.511719 -3.570313 C 0.507813 -4.785156 0.824219 -5.734375 1.453125 -6.410156 C 2.082031 -7.082031 2.898438 -7.417969 3.902344 -7.421875 C 4.871094 -7.417969 5.664063 -7.085938 6.28125 -6.429688 C 6.894531 -5.765625 7.199219 -4.839844 7.203125 -3.644531 C 7.199219 -3.570313 7.199219 -3.460938 7.199219 -3.316406 L 1.785156 -3.316406 C 1.828125 -2.515625 2.054688 -1.902344 2.460938 -1.480469 C 2.867188 -1.054688 3.371094 -0.84375 3.976563 -0.847656 C 4.425781 -0.84375 4.8125 -0.960938 5.132813 -1.203125 C 5.453125 -1.4375 5.703125 -1.816406 5.890625 -2.335938 Z M 1.851563 -4.328125 L 5.90625 -4.328125 C 5.851563 -4.933594 5.695313 -5.390625 5.441406 -5.703125 C 5.046875 -6.171875 4.539063 -6.410156 3.917969 -6.414063 C 3.351563 -6.410156 2.875 -6.21875 2.492188 -5.84375 C 2.101563 -5.460938 1.890625 -4.957031 1.851563 -4.328125 Z M 1.851563 -4.328125 \"/>\n</symbol>\n<symbol overflow=\"visible\" id=\"glyph0-3\">\n<path style=\"stroke:none;\" d=\"M 0.429688 -2.167969 L 1.648438 -2.359375 C 1.710938 -1.867188 1.902344 -1.492188 2.21875 -1.234375 C 2.527344 -0.972656 2.964844 -0.84375 3.527344 -0.847656 C 4.089844 -0.84375 4.507813 -0.957031 4.785156 -1.191406 C 5.054688 -1.417969 5.191406 -1.691406 5.195313 -2.003906 C 5.191406 -2.28125 5.070313 -2.5 4.832031 -2.660156 C 4.660156 -2.769531 4.242188 -2.90625 3.574219 -3.078125 C 2.671875 -3.300781 2.046875 -3.5 1.699219 -3.667969 C 1.347656 -3.832031 1.082031 -4.058594 0.90625 -4.355469 C 0.722656 -4.644531 0.632813 -4.972656 0.636719 -5.332031 C 0.632813 -5.652344 0.707031 -5.949219 0.855469 -6.230469 C 1.003906 -6.503906 1.203125 -6.734375 1.460938 -6.917969 C 1.648438 -7.054688 1.910156 -7.171875 2.246094 -7.273438 C 2.574219 -7.367188 2.929688 -7.417969 3.308594 -7.421875 C 3.875 -7.417969 4.375 -7.335938 4.808594 -7.175781 C 5.234375 -7.007813 5.550781 -6.785156 5.761719 -6.507813 C 5.964844 -6.226563 6.109375 -5.851563 6.1875 -5.386719 L 4.984375 -5.222656 C 4.925781 -5.589844 4.765625 -5.882813 4.507813 -6.097656 C 4.242188 -6.304688 3.875 -6.410156 3.398438 -6.414063 C 2.832031 -6.410156 2.425781 -6.316406 2.1875 -6.132813 C 1.941406 -5.941406 1.820313 -5.722656 1.824219 -5.476563 C 1.820313 -5.3125 1.871094 -5.167969 1.976563 -5.046875 C 2.070313 -4.910156 2.226563 -4.800781 2.445313 -4.71875 C 2.566406 -4.667969 2.929688 -4.5625 3.535156 -4.402344 C 4.402344 -4.167969 5.011719 -3.980469 5.355469 -3.832031 C 5.699219 -3.683594 5.96875 -3.464844 6.164063 -3.183594 C 6.359375 -2.898438 6.457031 -2.550781 6.460938 -2.132813 C 6.457031 -1.71875 6.335938 -1.332031 6.101563 -0.972656 C 5.859375 -0.609375 5.515625 -0.328125 5.066406 -0.132813 C 4.613281 0.0664063 4.101563 0.164063 3.535156 0.164063 C 2.585938 0.164063 1.867188 -0.03125 1.375 -0.421875 C 0.878906 -0.8125 0.5625 -1.394531 0.429688 -2.167969 Z M 0.429688 -2.167969 \"/>\n</symbol>\n<symbol overflow=\"visible\" id=\"glyph0-4\">\n<path style=\"stroke:none;\" d=\"M 0.929688 -8.605469 L 0.929688 -10.023438 L 2.160156 -10.023438 L 2.160156 -8.605469 Z M 0.929688 0 L 0.929688 -7.257813 L 2.160156 -7.257813 L 2.160156 0 Z M 0.929688 0 \"/>\n</symbol>\n<symbol overflow=\"visible\" id=\"glyph0-5\">\n<path style=\"stroke:none;\" d=\"M 3.609375 -1.101563 L 3.789063 -0.015625 C 3.4375 0.0585938 3.128906 0.09375 2.859375 0.09375 C 2.410156 0.09375 2.0625 0.0234375 1.816406 -0.117188 C 1.570313 -0.257813 1.394531 -0.441406 1.296875 -0.671875 C 1.195313 -0.902344 1.148438 -1.386719 1.148438 -2.125 L 1.148438 -6.304688 L 0.246094 -6.304688 L 0.246094 -7.257813 L 1.148438 -7.257813 L 1.148438 -9.058594 L 2.371094 -9.796875 L 2.371094 -7.257813 L 3.609375 -7.257813 L 3.609375 -6.304688 L 2.371094 -6.304688 L 2.371094 -2.058594 C 2.367188 -1.703125 2.386719 -1.476563 2.433594 -1.378906 C 2.472656 -1.277344 2.546875 -1.199219 2.648438 -1.140625 C 2.746094 -1.082031 2.886719 -1.054688 3.070313 -1.054688 C 3.203125 -1.054688 3.382813 -1.070313 3.609375 -1.101563 Z M 3.609375 -1.101563 \"/>\n</symbol>\n<symbol overflow=\"visible\" id=\"glyph0-6\">\n<path style=\"stroke:none;\" d=\"M 0.464844 -3.628906 C 0.460938 -4.972656 0.835938 -5.96875 1.585938 -6.617188 C 2.207031 -7.148438 2.96875 -7.417969 3.867188 -7.421875 C 4.867188 -7.417969 5.683594 -7.089844 6.316406 -6.441406 C 6.949219 -5.785156 7.265625 -4.882813 7.265625 -3.734375 C 7.265625 -2.796875 7.125 -2.0625 6.84375 -1.527344 C 6.5625 -0.992188 6.152344 -0.578125 5.621094 -0.28125 C 5.082031 0.015625 4.5 0.164063 3.867188 0.164063 C 2.851563 0.164063 2.027344 -0.160156 1.402344 -0.8125 C 0.773438 -1.460938 0.460938 -2.398438 0.464844 -3.628906 Z M 1.730469 -3.628906 C 1.726563 -2.695313 1.929688 -2 2.335938 -1.539063 C 2.738281 -1.074219 3.25 -0.84375 3.867188 -0.847656 C 4.476563 -0.84375 4.984375 -1.074219 5.390625 -1.542969 C 5.796875 -2.003906 6 -2.714844 6 -3.671875 C 6 -4.566406 5.792969 -5.246094 5.386719 -5.710938 C 4.976563 -6.171875 4.472656 -6.402344 3.867188 -6.40625 C 3.25 -6.402344 2.738281 -6.171875 2.335938 -5.714844 C 1.929688 -5.25 1.726563 -4.554688 1.730469 -3.628906 Z M 1.730469 -3.628906 \"/>\n</symbol>\n<symbol overflow=\"visible\" id=\"glyph0-7\">\n<path style=\"stroke:none;\" d=\"M 0.695313 0.601563 L 1.894531 0.78125 C 1.941406 1.144531 2.082031 1.414063 2.3125 1.585938 C 2.613281 1.8125 3.03125 1.925781 3.5625 1.929688 C 4.128906 1.925781 4.566406 1.8125 4.878906 1.585938 C 5.1875 1.355469 5.398438 1.035156 5.507813 0.628906 C 5.570313 0.375 5.597656 -0.148438 5.597656 -0.949219 C 5.058594 -0.316406 4.390625 0 3.589844 0 C 2.589844 0 1.816406 -0.359375 1.273438 -1.078125 C 0.722656 -1.796875 0.449219 -2.660156 0.453125 -3.671875 C 0.449219 -4.363281 0.574219 -5.003906 0.828125 -5.589844 C 1.074219 -6.175781 1.4375 -6.625 1.917969 -6.945313 C 2.390625 -7.257813 2.949219 -7.417969 3.59375 -7.421875 C 4.449219 -7.417969 5.15625 -7.070313 5.714844 -6.382813 L 5.714844 -7.257813 L 6.851563 -7.257813 L 6.851563 -0.984375 C 6.847656 0.144531 6.734375 0.945313 6.503906 1.417969 C 6.273438 1.886719 5.90625 2.257813 5.410156 2.535156 C 4.910156 2.804688 4.296875 2.941406 3.570313 2.945313 C 2.699219 2.941406 2 2.746094 1.46875 2.359375 C 0.933594 1.96875 0.675781 1.382813 0.695313 0.601563 Z M 1.714844 -3.757813 C 1.710938 -2.804688 1.898438 -2.113281 2.28125 -1.675781 C 2.65625 -1.238281 3.132813 -1.019531 3.703125 -1.019531 C 4.269531 -1.019531 4.742188 -1.234375 5.128906 -1.671875 C 5.507813 -2.101563 5.699219 -2.785156 5.703125 -3.71875 C 5.699219 -4.605469 5.503906 -5.273438 5.109375 -5.726563 C 4.714844 -6.175781 4.238281 -6.402344 3.683594 -6.40625 C 3.132813 -6.402344 2.667969 -6.179688 2.289063 -5.738281 C 1.902344 -5.289063 1.710938 -4.628906 1.714844 -3.757813 Z M 1.714844 -3.757813 \"/>\n</symbol>\n<symbol overflow=\"visible\" id=\"glyph0-8\">\n<path style=\"stroke:none;\" d=\"M 5.679688 0 L 5.679688 -1.066406 C 5.109375 -0.246094 4.34375 0.164063 3.375 0.164063 C 2.945313 0.164063 2.542969 0.0820313 2.175781 -0.0820313 C 1.800781 -0.246094 1.527344 -0.449219 1.347656 -0.699219 C 1.167969 -0.945313 1.039063 -1.25 0.96875 -1.613281 C 0.914063 -1.851563 0.890625 -2.234375 0.894531 -2.761719 L 0.894531 -7.257813 L 2.125 -7.257813 L 2.125 -3.234375 C 2.121094 -2.589844 2.148438 -2.15625 2.203125 -1.933594 C 2.277344 -1.609375 2.4375 -1.355469 2.691406 -1.171875 C 2.941406 -0.984375 3.253906 -0.890625 3.625 -0.894531 C 3.988281 -0.890625 4.332031 -0.984375 4.660156 -1.175781 C 4.980469 -1.363281 5.210938 -1.621094 5.347656 -1.949219 C 5.480469 -2.273438 5.546875 -2.746094 5.550781 -3.371094 L 5.550781 -7.257813 L 6.78125 -7.257813 L 6.78125 0 Z M 5.679688 0 \"/>\n</symbol>\n<symbol overflow=\"visible\" id=\"glyph0-9\">\n<path style=\"stroke:none;\" d=\"M 0.921875 0 L 0.921875 -7.257813 L 2.03125 -7.257813 L 2.03125 -6.226563 C 2.558594 -7.019531 3.328125 -7.417969 4.339844 -7.421875 C 4.773438 -7.417969 5.175781 -7.339844 5.546875 -7.1875 C 5.910156 -7.027344 6.183594 -6.820313 6.371094 -6.570313 C 6.550781 -6.3125 6.679688 -6.011719 6.753906 -5.660156 C 6.796875 -5.433594 6.820313 -5.035156 6.820313 -4.464844 L 6.820313 0 L 5.59375 0 L 5.59375 -4.414063 C 5.589844 -4.914063 5.542969 -5.289063 5.449219 -5.539063 C 5.351563 -5.785156 5.179688 -5.984375 4.9375 -6.136719 C 4.691406 -6.28125 4.40625 -6.355469 4.082031 -6.359375 C 3.554688 -6.355469 3.101563 -6.191406 2.722656 -5.859375 C 2.339844 -5.523438 2.148438 -4.890625 2.152344 -3.964844 L 2.152344 0 Z M 0.921875 0 \"/>\n</symbol>\n<symbol overflow=\"visible\" id=\"glyph0-10\">\n<path style=\"stroke:none;\" d=\"M 5.632813 0 L 5.632813 -0.914063 C 5.167969 -0.195313 4.492188 0.164063 3.601563 0.164063 C 3.019531 0.164063 2.488281 0.0078125 2.003906 -0.3125 C 1.519531 -0.628906 1.140625 -1.074219 0.875 -1.648438 C 0.605469 -2.21875 0.472656 -2.878906 0.476563 -3.625 C 0.472656 -4.347656 0.59375 -5.003906 0.839844 -5.59375 C 1.078125 -6.183594 1.441406 -6.636719 1.925781 -6.949219 C 2.40625 -7.261719 2.945313 -7.417969 3.546875 -7.421875 C 3.980469 -7.417969 4.371094 -7.324219 4.714844 -7.144531 C 5.054688 -6.957031 5.332031 -6.71875 5.550781 -6.425781 L 5.550781 -10.023438 L 6.773438 -10.023438 L 6.773438 0 Z M 1.742188 -3.625 C 1.738281 -2.691406 1.933594 -1.996094 2.328125 -1.535156 C 2.71875 -1.074219 3.183594 -0.84375 3.71875 -0.847656 C 4.253906 -0.84375 4.710938 -1.0625 5.085938 -1.507813 C 5.460938 -1.945313 5.648438 -2.617188 5.652344 -3.519531 C 5.648438 -4.511719 5.457031 -5.242188 5.078125 -5.707031 C 4.691406 -6.171875 4.21875 -6.402344 3.664063 -6.40625 C 3.113281 -6.402344 2.65625 -6.179688 2.292969 -5.734375 C 1.921875 -5.285156 1.738281 -4.582031 1.742188 -3.625 Z M 1.742188 -3.625 \"/>\n</symbol>\n<symbol overflow=\"visible\" id=\"glyph0-11\">\n<path style=\"stroke:none;\" d=\"M 5.660156 -2.660156 L 6.871094 -2.5 C 6.734375 -1.664063 6.394531 -1.011719 5.855469 -0.542969 C 5.308594 -0.0703125 4.640625 0.164063 3.847656 0.164063 C 2.851563 0.164063 2.054688 -0.160156 1.453125 -0.808594 C 0.847656 -1.457031 0.542969 -2.386719 0.546875 -3.601563 C 0.542969 -4.382813 0.675781 -5.070313 0.9375 -5.660156 C 1.195313 -6.246094 1.589844 -6.683594 2.121094 -6.980469 C 2.652344 -7.269531 3.230469 -7.417969 3.855469 -7.421875 C 4.644531 -7.417969 5.289063 -7.21875 5.789063 -6.824219 C 6.289063 -6.421875 6.609375 -5.855469 6.753906 -5.125 L 5.558594 -4.941406 C 5.441406 -5.425781 5.238281 -5.792969 4.953125 -6.042969 C 4.660156 -6.285156 4.3125 -6.410156 3.902344 -6.414063 C 3.28125 -6.410156 2.777344 -6.1875 2.390625 -5.746094 C 2.003906 -5.296875 1.808594 -4.59375 1.8125 -3.636719 C 1.808594 -2.65625 1.996094 -1.945313 2.371094 -1.507813 C 2.742188 -1.0625 3.230469 -0.84375 3.835938 -0.847656 C 4.316406 -0.84375 4.71875 -0.992188 5.042969 -1.289063 C 5.367188 -1.585938 5.574219 -2.042969 5.660156 -2.660156 Z M 5.660156 -2.660156 \"/>\n</symbol>\n</g>\n</defs>\n<g id=\"surface68\">\n<rect x=\"0\" y=\"0\" width=\"200\" height=\"200\" style=\"fill:rgb(100%,100%,100%);fill-opacity:1;stroke:none;\"/>\n<path style=\"fill:none;stroke-width:1;stroke-linecap:butt;stroke-linejoin:miter;stroke:rgb(0%,0%,0%);stroke-opacity:1;stroke-miterlimit:10;\" d=\"M 77.285156 20 L 64.546875 43.179688 \"/>\n<path style=\"fill:none;stroke-width:1;stroke-linecap:butt;stroke-linejoin:miter;stroke:rgb(0%,0%,0%);stroke-opacity:1;stroke-miterlimit:10;\" d=\"M 70.699219 71.667969 L 64.546875 43.179688 \"/>\n<path style=\"fill:none;stroke-width:1;stroke-linecap:butt;stroke-linejoin:miter;stroke:rgb(0%,0%,0%);stroke-opacity:1;stroke-miterlimit:10;\" d=\"M 70.699219 71.667969 L 84.960938 99.980469 \"/>\n<path style=\"fill:none;stroke-width:1;stroke-linecap:butt;stroke-linejoin:miter;stroke:rgb(0%,0%,0%);stroke-opacity:1;stroke-miterlimit:10;\" d=\"M 105.027344 128.035156 L 84.960938 99.980469 \"/>\n<path style=\"fill:none;stroke-width:1;stroke-linecap:butt;stroke-linejoin:miter;stroke:rgb(0%,0%,0%);stroke-opacity:1;stroke-miterlimit:10;\" d=\"M 105.027344 128.035156 L 139.078125 135.007813 \"/>\n<path style=\"fill:none;stroke-width:1;stroke-linecap:butt;stroke-linejoin:miter;stroke:rgb(0%,0%,0%);stroke-opacity:1;stroke-miterlimit:10;\" d=\"M 168.925781 127.523438 L 139.078125 135.007813 \"/>\n<path style=\"fill:none;stroke-width:1;stroke-linecap:butt;stroke-linejoin:miter;stroke:rgb(0%,0%,0%);stroke-opacity:1;stroke-miterlimit:10;\" d=\"M 168.925781 127.523438 L 180 99.609375 \"/>\n<path style=\"fill:none;stroke-width:1;stroke-linecap:butt;stroke-linejoin:miter;stroke:rgb(0%,0%,0%);stroke-opacity:1;stroke-miterlimit:10;\" d=\"M 173.734375 70.066406 L 180 99.609375 \"/>\n<path style=\"fill:none;stroke-width:1;stroke-linecap:butt;stroke-linejoin:miter;stroke:rgb(0%,0%,0%);stroke-opacity:1;stroke-miterlimit:10;\" d=\"M 138.179688 25.65625 L 157.574219 45.203125 \"/>\n<path style=\"fill:none;stroke-width:1;stroke-linecap:butt;stroke-linejoin:miter;stroke:rgb(0%,0%,0%);stroke-opacity:1;stroke-miterlimit:10;\" d=\"M 173.734375 70.066406 L 157.574219 45.203125 \"/>\n<path style=\"fill:none;stroke-width:1;stroke-linecap:butt;stroke-linejoin:miter;stroke:rgb(0%,0%,0%);stroke-opacity:1;stroke-miterlimit:10;\" d=\"M 105.027344 128.035156 L 91.890625 155.921875 \"/>\n<path style=\"fill:none;stroke-width:1;stroke-linecap:butt;stroke-linejoin:miter;stroke:rgb(0%,0%,0%);stroke-opacity:1;stroke-miterlimit:10;\" d=\"M 101.730469 180 L 91.890625 155.921875 \"/>\n<path style=\"fill-rule:nonzero;fill:rgb(100%,100%,0%);fill-opacity:1;stroke-width:1;stroke-linecap:butt;stroke-linejoin:miter;stroke:rgb(0%,0%,0%);stroke-opacity:1;stroke-miterlimit:10;\" d=\"M 148.179688 25.65625 C 148.179688 31.179688 143.703125 35.65625 138.179688 35.65625 C 132.65625 35.65625 128.179688 31.179688 128.179688 25.65625 C 128.179688 20.132813 132.65625 15.65625 138.179688 15.65625 C 143.703125 15.65625 148.179688 20.132813 148.179688 25.65625 \"/>\n<path style=\"fill-rule:nonzero;fill:rgb(100%,100%,0%);fill-opacity:1;stroke-width:1;stroke-linecap:butt;stroke-linejoin:miter;stroke:rgb(0%,0%,0%);stroke-opacity:1;stroke-miterlimit:10;\" d=\"M 87.285156 20 C 87.285156 25.523438 82.808594 30 77.285156 30 C 71.761719 30 67.285156 25.523438 67.285156 20 C 67.285156 14.476563 71.761719 10 77.285156 10 C 82.808594 10 87.285156 14.476563 87.285156 20 \"/>\n<path style=\"fill-rule:nonzero;fill:rgb(100%,100%,0%);fill-opacity:1;stroke-width:1;stroke-linecap:butt;stroke-linejoin:miter;stroke:rgb(0%,0%,0%);stroke-opacity:1;stroke-miterlimit:10;\" d=\"M 80.699219 71.667969 C 80.699219 77.191406 76.222656 81.667969 70.699219 81.667969 C 65.175781 81.667969 60.699219 77.191406 60.699219 71.667969 C 60.699219 66.144531 65.175781 61.667969 70.699219 61.667969 C 76.222656 61.667969 80.699219 66.144531 80.699219 71.667969 \"/>\n<path style=\"fill-rule:nonzero;fill:rgb(100%,0%,0%);fill-opacity:1;stroke-width:1;stroke-linecap:butt;stroke-linejoin:miter;stroke:rgb(0%,0%,0%);stroke-opacity:1;stroke-miterlimit:10;\" d=\"M 115.027344 128.035156 C 115.027344 133.558594 110.550781 138.035156 105.027344 138.035156 C 99.503906 138.035156 95.027344 133.558594 95.027344 128.035156 C 95.027344 122.511719 99.503906 118.035156 105.027344 118.035156 C 110.550781 118.035156 115.027344 122.511719 115.027344 128.035156 \"/>\n<path style=\"fill-rule:nonzero;fill:rgb(100%,100%,0%);fill-opacity:1;stroke-width:1;stroke-linecap:butt;stroke-linejoin:miter;stroke:rgb(0%,0%,0%);stroke-opacity:1;stroke-miterlimit:10;\" d=\"M 178.925781 127.523438 C 178.925781 133.046875 174.449219 137.523438 168.925781 137.523438 C 163.402344 137.523438 158.925781 133.046875 158.925781 127.523438 C 158.925781 122 163.402344 117.523438 168.925781 117.523438 C 174.449219 117.523438 178.925781 122 178.925781 127.523438 \"/>\n<path style=\"fill-rule:nonzero;fill:rgb(100%,100%,0%);fill-opacity:1;stroke-width:1;stroke-linecap:butt;stroke-linejoin:miter;stroke:rgb(0%,0%,0%);stroke-opacity:1;stroke-miterlimit:10;\" d=\"M 183.734375 70.066406 C 183.734375 75.589844 179.257813 80.066406 173.734375 80.066406 C 168.210938 80.066406 163.734375 75.589844 163.734375 70.066406 C 163.734375 64.542969 168.210938 60.066406 173.734375 60.066406 C 179.257813 60.066406 183.734375 64.542969 183.734375 70.066406 \"/>\n<path style=\"fill-rule:nonzero;fill:rgb(100%,100%,0%);fill-opacity:1;stroke-width:1;stroke-linecap:butt;stroke-linejoin:miter;stroke:rgb(0%,0%,0%);stroke-opacity:1;stroke-miterlimit:10;\" d=\"M 111.730469 180 C 111.730469 185.523438 107.253906 190 101.730469 190 C 96.207031 190 91.730469 185.523438 91.730469 180 C 91.730469 174.476563 96.207031 170 101.730469 170 C 107.253906 170 111.730469 174.476563 111.730469 180 \"/>\n<path style=\"fill-rule:nonzero;fill:rgb(0%,100%,0%);fill-opacity:1;stroke-width:1;stroke-linecap:butt;stroke-linejoin:miter;stroke:rgb(0%,0%,0%);stroke-opacity:1;stroke-miterlimit:10;\" d=\"M 43.636719 138.246094 C 43.636719 143.769531 39.160156 148.246094 33.636719 148.246094 C 28.113281 148.246094 23.636719 143.769531 23.636719 138.246094 C 23.636719 132.722656 28.113281 128.246094 33.636719 128.246094 C 39.160156 128.246094 43.636719 132.722656 43.636719 138.246094 \"/>\n<path style=\"fill-rule:nonzero;fill:rgb(0%,100%,0%);fill-opacity:1;stroke-width:1;stroke-linecap:butt;stroke-linejoin:miter;stroke:rgb(0%,0%,0%);stroke-opacity:1;stroke-miterlimit:10;\" d=\"M 30 85.394531 C 30 90.917969 25.523438 95.394531 20 95.394531 C 14.476563 95.394531 10 90.917969 10 85.394531 C 10 79.875 14.476563 75.394531 20 75.394531 C 25.523438 75.394531 30 79.875 30 85.394531 \"/>\n<path style=\"fill-rule:nonzero;fill:rgb(100%,75.294118%,79.607843%);fill-opacity:1;stroke-width:1;stroke-linecap:butt;stroke-linejoin:miter;stroke:rgb(0%,0%,0%);stroke-opacity:1;stroke-miterlimit:10;\" d=\"M 74.546875 43.179688 C 74.546875 48.703125 70.070313 53.179688 64.546875 53.179688 C 59.023438 53.179688 54.546875 48.703125 54.546875 43.179688 C 54.546875 37.660156 59.023438 33.179688 64.546875 33.179688 C 70.070313 33.179688 74.546875 37.660156 74.546875 43.179688 \"/>\n<path style=\"fill-rule:nonzero;fill:rgb(100%,75.294118%,79.607843%);fill-opacity:1;stroke-width:1;stroke-linecap:butt;stroke-linejoin:miter;stroke:rgb(0%,0%,0%);stroke-opacity:1;stroke-miterlimit:10;\" d=\"M 94.960938 99.980469 C 94.960938 105.503906 90.484375 109.980469 84.960938 109.980469 C 79.4375 109.980469 74.960938 105.503906 74.960938 99.980469 C 74.960938 94.457031 79.4375 89.980469 84.960938 89.980469 C 90.484375 89.980469 94.960938 94.457031 94.960938 99.980469 \"/>\n<path style=\"fill-rule:nonzero;fill:rgb(100%,75.294118%,79.607843%);fill-opacity:1;stroke-width:1;stroke-linecap:butt;stroke-linejoin:miter;stroke:rgb(0%,0%,0%);stroke-opacity:1;stroke-miterlimit:10;\" d=\"M 149.078125 135.007813 C 149.078125 140.53125 144.601563 145.007813 139.078125 145.007813 C 133.558594 145.007813 129.078125 140.53125 129.078125 135.007813 C 129.078125 129.484375 133.558594 125.007813 139.078125 125.007813 C 144.601563 125.007813 149.078125 129.484375 149.078125 135.007813 \"/>\n<path style=\"fill-rule:nonzero;fill:rgb(100%,75.294118%,79.607843%);fill-opacity:1;stroke-width:1;stroke-linecap:butt;stroke-linejoin:miter;stroke:rgb(0%,0%,0%);stroke-opacity:1;stroke-miterlimit:10;\" d=\"M 190 99.609375 C 190 105.132813 185.523438 109.609375 180 109.609375 C 174.476563 109.609375 170 105.132813 170 99.609375 C 170 94.085938 174.476563 89.609375 180 89.609375 C 185.523438 89.609375 190 94.085938 190 99.609375 \"/>\n<path style=\"fill-rule:nonzero;fill:rgb(100%,75.294118%,79.607843%);fill-opacity:1;stroke-width:1;stroke-linecap:butt;stroke-linejoin:miter;stroke:rgb(0%,0%,0%);stroke-opacity:1;stroke-miterlimit:10;\" d=\"M 167.574219 45.203125 C 167.574219 50.726563 163.097656 55.203125 157.574219 55.203125 C 152.054688 55.203125 147.574219 50.726563 147.574219 45.203125 C 147.574219 39.679688 152.054688 35.203125 157.574219 35.203125 C 163.097656 35.203125 167.574219 39.679688 167.574219 45.203125 \"/>\n<path style=\"fill-rule:nonzero;fill:rgb(100%,75.294118%,79.607843%);fill-opacity:1;stroke-width:1;stroke-linecap:butt;stroke-linejoin:miter;stroke:rgb(0%,0%,0%);stroke-opacity:1;stroke-miterlimit:10;\" d=\"M 101.890625 155.921875 C 101.890625 161.445313 97.414063 165.921875 91.890625 165.921875 C 86.367188 165.921875 81.890625 161.445313 81.890625 155.921875 C 81.890625 150.398438 86.367188 145.921875 91.890625 145.921875 C 97.414063 145.921875 101.890625 150.398438 101.890625 155.921875 \"/>\n<g style=\"fill:rgb(0%,0%,0%);fill-opacity:1;\">\n  <use xlink:href=\"#glyph0-1\" x=\"10.136719\" y=\"144.757813\"/>\n  <use xlink:href=\"#glyph0-2\" x=\"14.798828\" y=\"144.757813\"/>\n  <use xlink:href=\"#glyph0-3\" x=\"22.584961\" y=\"144.757813\"/>\n  <use xlink:href=\"#glyph0-4\" x=\"29.584961\" y=\"144.757813\"/>\n  <use xlink:href=\"#glyph0-3\" x=\"32.695313\" y=\"144.757813\"/>\n  <use xlink:href=\"#glyph0-5\" x=\"39.695313\" y=\"144.757813\"/>\n  <use xlink:href=\"#glyph0-6\" x=\"43.584961\" y=\"144.757813\"/>\n  <use xlink:href=\"#glyph0-1\" x=\"51.371094\" y=\"144.757813\"/>\n</g>\n<g style=\"fill:rgb(0%,0%,0%);fill-opacity:1;\">\n  <use xlink:href=\"#glyph0-7\" x=\"-1.515625\" y=\"91.90625\"/>\n  <use xlink:href=\"#glyph0-1\" x=\"6.270508\" y=\"91.90625\"/>\n  <use xlink:href=\"#glyph0-6\" x=\"10.932617\" y=\"91.90625\"/>\n  <use xlink:href=\"#glyph0-8\" x=\"18.71875\" y=\"91.90625\"/>\n  <use xlink:href=\"#glyph0-9\" x=\"26.504883\" y=\"91.90625\"/>\n  <use xlink:href=\"#glyph0-10\" x=\"34.291016\" y=\"91.90625\"/>\n</g>\n<g style=\"fill:rgb(0%,0%,0%);fill-opacity:1;\">\n  <use xlink:href=\"#glyph0-11\" x=\"53.46875\" y=\"48.394531\"/>\n  <use xlink:href=\"#glyph0-6\" x=\"60.46875\" y=\"48.394531\"/>\n  <use xlink:href=\"#glyph0-9\" x=\"68.254883\" y=\"48.394531\"/>\n</g>\n<g style=\"fill:rgb(0%,0%,0%);fill-opacity:1;\">\n  <use xlink:href=\"#glyph0-11\" x=\"73.882813\" y=\"105.191406\"/>\n  <use xlink:href=\"#glyph0-6\" x=\"80.882813\" y=\"105.191406\"/>\n  <use xlink:href=\"#glyph0-9\" x=\"88.668945\" y=\"105.191406\"/>\n</g>\n<g style=\"fill:rgb(0%,0%,0%);fill-opacity:1;\">\n  <use xlink:href=\"#glyph0-11\" x=\"128.003906\" y=\"140.21875\"/>\n  <use xlink:href=\"#glyph0-6\" x=\"135.003906\" y=\"140.21875\"/>\n  <use xlink:href=\"#glyph0-9\" x=\"142.790039\" y=\"140.21875\"/>\n</g>\n<g style=\"fill:rgb(0%,0%,0%);fill-opacity:1;\">\n  <use xlink:href=\"#glyph0-11\" x=\"168.921875\" y=\"104.820313\"/>\n  <use xlink:href=\"#glyph0-6\" x=\"175.921875\" y=\"104.820313\"/>\n  <use xlink:href=\"#glyph0-9\" x=\"183.708008\" y=\"104.820313\"/>\n</g>\n<g style=\"fill:rgb(0%,0%,0%);fill-opacity:1;\">\n  <use xlink:href=\"#glyph0-11\" x=\"146.5\" y=\"50.414063\"/>\n  <use xlink:href=\"#glyph0-6\" x=\"153.5\" y=\"50.414063\"/>\n  <use xlink:href=\"#glyph0-9\" x=\"161.286133\" y=\"50.414063\"/>\n</g>\n<g style=\"fill:rgb(0%,0%,0%);fill-opacity:1;\">\n  <use xlink:href=\"#glyph0-11\" x=\"80.8125\" y=\"161.132813\"/>\n  <use xlink:href=\"#glyph0-6\" x=\"87.8125\" y=\"161.132813\"/>\n  <use xlink:href=\"#glyph0-9\" x=\"95.598633\" y=\"161.132813\"/>\n</g>\n</g>\n</svg>\n",
      "text/plain": [
       "<igraph.drawing.Plot at 0x1fe227eb520>"
      ]
     },
     "execution_count": 29,
     "metadata": {
      "image/svg+xml": {
       "isolated": true
      }
     },
     "output_type": "execute_result"
    }
   ],
   "source": [
    "#for every Edge\n",
    "#freeze graph\n",
    "frozenGraph = copy.deepcopy(graph)\n",
    "for edge in frozenGraph.ed.values():\n",
    "\n",
    "    #get Vertices connected to Edge\n",
    "    vertices = graph.getVerticesForEdge(edge.id)\n",
    "    \n",
    "    #insert Connection Vertex\n",
    "    connection = Vertex(\n",
    "        color=CONNECTION_COLOR,\n",
    "        label=\"con\",\n",
    "        attr={\n",
    "            \"from\"  :vertices[0].attr[\"coordinates\"],\n",
    "            \"to\"    :vertices[1].attr[\"coordinates\"],\n",
    "        }\n",
    "    )\n",
    "    graph.insertVertexByEdge(edge.id,connection)\n",
    "\n",
    "\n",
    "igraphUnion = utils.convertToIgraph(graph)\n",
    "layout = igraphUnion.layout(\"fr\") #\"large_graph\"\n",
    "igraph.plot(igraphUnion, layout=layout,bbox = (200,200))\n"
   ]
  },
  {
   "cell_type": "markdown",
   "metadata": {},
   "source": [
    "### Draw the Cuircit"
   ]
  },
  {
   "cell_type": "code",
   "execution_count": null,
   "metadata": {},
   "outputs": [
    {
     "data": {
      "text/html": [
       "<img src=\"data:image/svg+xml;base64,PD94bWwgdmVyc2lvbj0iMS4wIiBlbmNvZGluZz0iVVRGLTgiPz4KPHN2ZyB4bWxucz0iaHR0cDovL3d3dy53My5vcmcvMjAwMC9zdmciIHhtbG5zOnhsaW5rPSJodHRwOi8vd3d3LnczLm9yZy8xOTk5L3hsaW5rIgogICAgIHdpZHRoPSI1MDAiIGhlaWdodD0iNTAwIiB2aWV3Qm94PSIwIC01MDAgNTAwIDUwMCI+CjxkZWZzPgo8L2RlZnM+CjxyZWN0IHg9IjIwMC4wIiB5PSItNDcwLjAiIHdpZHRoPSI0MCIgaGVpZ2h0PSIyMCIgc3Ryb2tlPSIjMTI0OGZmIiAvPgo8cGF0aCBkPSJNMjAwLjAsLTQ2MC4wIEwyMDAsLTQ2MCIgc3Ryb2tlPSIjZmY0NDc3IiAvPgo8cGF0aCBkPSJNMjQwLjAsLTQ2MC4wIEwyNDAsLTQ2MCIgc3Ryb2tlPSIjZmY0NDc3IiAvPgo8cGF0aCBkPSJNMjgwLC0yMjAgTDI1MCwtMjIwIiBzdHJva2U9IiNmZjQ0NzciIC8+CjxwYXRoIGQ9Ik0yODAsLTIyMCBMMzEwLC0yMjAiIHN0cm9rZT0iI2ZmNDQ3NyIgLz4KPHBhdGggZD0iTTI0MCwtNDYwIEwyODAsLTQ2MCIgc3Ryb2tlPSIjZmY0NDc3IiAvPgo8cGF0aCBkPSJNMjgwLC00NjAgTDI4MCwtMjYwIiBzdHJva2U9IiNmZjQ0NzciIC8+CjxwYXRoIGQ9Ik0yODAsLTI2MCBMODAsLTI2MCIgc3Ryb2tlPSIjZmY0NDc3IiAvPgo8cGF0aCBkPSJNODAsLTI2MCBMODAsLTQ2MCIgc3Ryb2tlPSIjZmY0NDc3IiAvPgo8cGF0aCBkPSJNMjAwLC00NjAgTDgwLC00NjAiIHN0cm9rZT0iI2ZmNDQ3NyIgLz4KPHBhdGggZD0iTTI4MCwtMjYwIEwyODAsLTIyMCIgc3Ryb2tlPSIjZmY0NDc3IiAvPgo8Y2lyY2xlIGN4PSIyODAiIGN5PSItMjYwIiByPSI1IiAvPgo8L3N2Zz4=\">"
      ],
      "text/plain": [
       "<drawSvg.drawing.Drawing at 0x1fe643a87f0>"
      ]
     },
     "execution_count": 30,
     "metadata": {},
     "output_type": "execute_result"
    }
   ],
   "source": [
    "\n",
    "width,height = 500,500\n",
    "d = draw.Drawing(width, height,displayInline=False)\n",
    "\n",
    "relativeFactor = 40\n",
    "\n",
    "\n",
    "def drawResistor(resistorVertex):\n",
    "\n",
    "    resistorWidth = relativeFactor\n",
    "    resistorHeight = 20\n",
    "\n",
    "    coordinates = [resistorVertex.attr[\"coordinates\"][0]*relativeFactor,resistorVertex.attr[\"coordinates\"][1]*relativeFactor]\n",
    "    rotation = resistorVertex.attr[\"rotation\"]\n",
    "\n",
    "    #connect Resistor to connectionpoints\n",
    "    connectionPoint1 = [coordinates[0],coordinates[1]]\n",
    "    to1 = resistorVertex.attr[\"connectionMap\"][0]\n",
    "\n",
    "    connectionPoint2 = [coordinates[0],coordinates[1]]\n",
    "    to2 = resistorVertex.attr[\"connectionMap\"][1]\n",
    "\n",
    "    if rotation == 0 or rotation == 180:\n",
    "        d.append(draw.Rectangle(coordinates[0]-resistorWidth/2,height-coordinates[1]-resistorHeight/2,resistorWidth,resistorHeight, stroke='#1248ff'))\n",
    "\n",
    "        d.append(draw.Lines(connectionPoint1[0]-resistorWidth/2,height-connectionPoint1[1], to1[0]*relativeFactor, height-to1[1]*relativeFactor ,stroke=\"#ff4477\"))\n",
    "        d.append(draw.Lines(connectionPoint2[0]+resistorWidth/2,height-connectionPoint2[1], to2[0]*relativeFactor, height-to2[1]*relativeFactor ,stroke=\"#ff4477\"))\n",
    "    else:\n",
    "        d.append(draw.Rectangle(coordinates[0]-resistorWidth/2,height-coordinates[1]-resistorHeight/2,resistorHeight,resistorWidth, stroke='#1248ff'))\n",
    "\n",
    "        d.append(draw.Lines(connectionPoint1[0],height-(connectionPoint1[1]-resistorWidth/2), to1[0]*relativeFactor, height-to1[1]*relativeFactor ,stroke=\"#ff4477\"))\n",
    "        d.append(draw.Lines(connectionPoint2[0],height-(connectionPoint2[1]+resistorWidth/2), to2[0]*relativeFactor, height-to2[1]*relativeFactor ,stroke=\"#ff4477\"))\n",
    "\n",
    "def drawWire(connectionVertex):\n",
    "    from_ = connectionVertex.attr[\"from\"]\n",
    "    to_ = connectionVertex.attr[\"to\"]\n",
    "    d.append(draw.Lines(from_[0]*relativeFactor, height-from_[1]*relativeFactor, to_[0]*relativeFactor,width-to_[1]*relativeFactor,stroke=\"#ff4477\"))\n",
    "\n",
    "def drawGround(groundVertex):\n",
    "    groundSize = 30\n",
    "\n",
    "    coordinates = [groundVertex.attr[\"connectionMap\"][0][0]*relativeFactor,groundVertex.attr[\"connectionMap\"][0][1]*relativeFactor]\n",
    "\n",
    "    d.append(draw.Lines(coordinates[0],height-coordinates[1], coordinates[0]-groundSize, height-coordinates[1] ,stroke=\"#ff4477\"))\n",
    "    d.append(draw.Lines(coordinates[0],height-coordinates[1], coordinates[0]+groundSize, height-coordinates[1] ,stroke=\"#ff4477\"))\n",
    "\n",
    "def drawIntersection(intersectionVertex):\n",
    "    coordinates = [intersectionVertex.attr[\"coordinates\"][0]*relativeFactor,intersectionVertex.attr[\"coordinates\"][1]*relativeFactor]\n",
    "\n",
    "    d.append(draw.Circle(coordinates[0],height-coordinates[1],5))\n",
    "\n",
    "for vertex in graph.ve.values():\n",
    "    if not vertex.color == COMPONENT_COLOR:\n",
    "        continue\n",
    "    if vertex.attr[\"type\"] == CLASS_NAMES[\"res\"]:\n",
    "        drawResistor(vertex)\n",
    "    elif vertex.attr[\"type\"] == CLASS_NAMES[\"gnd\"]:\n",
    "        drawGround(vertex)\n",
    "for vertex in graph.ve.values():\n",
    "    if not vertex.color == CONNECTION_COLOR:\n",
    "        continue\n",
    "    drawWire(vertex)\n",
    "for vertex in graph.ve.values():\n",
    "    if not vertex.color == INTERSECTION_COLOR:\n",
    "        continue\n",
    "    drawIntersection(vertex)\n",
    "d"
   ]
  },
  {
   "cell_type": "code",
   "execution_count": null,
   "metadata": {},
   "outputs": [],
   "source": [
    "def generateWire(text,connectionVertex):\n",
    "    from_ = connectionVertex.attr[\"from\"]\n",
    "    to_ = connectionVertex.attr[\"to\"]\n",
    "    text += \"WIRE {x1} {y1} {x2} {y2}\".format(x1= from_[0],y1 = from_[1],x2=to_[0],y2=to_[1])\n",
    "    return text\n",
    "\n",
    "\n",
    "def generateResistor(text,resistorVertex):\n",
    "\n",
    "    coordinates = [resistorVertex.attr[\"coordinates\"][0]*relativeFactor,resistorVertex.attr[\"coordinates\"][1]*relativeFactor]\n",
    "    rotation = resistorVertex.attr[\"rotation\"]\n",
    "\n",
    "    #connect Resistor to connectionpoints\n",
    "    connectionPoint1 = [coordinates[0],coordinates[1]]\n",
    "    to1 = resistorVertex.attr[\"connectionMap\"][0]\n",
    "\n",
    "    connectionPoint2 = [coordinates[0],coordinates[1]]\n",
    "    to2 = resistorVertex.attr[\"connectionMap\"][1]\n",
    "\n",
    "    if rotation == 0 or rotation == 180:\n",
    "        text += \"SYMBOL res {x} {y} R90\".format(x=coordinates[0]+64,y=coordinates[1]-16)\n",
    "\n",
    "        text += \"WIRE {x1} {y1} {x2} {y2}\".format(x1= coordinates[0]-32,y1 =coordinates[1],x2=to1[0]*relativeFactor,y2=to1[1]*relativeFactor)\n",
    "        #d.append(draw.Lines(connectionPoint2[0]+resistorWidth/2,height-connectionPoint2[1], to2[0]*relativeFactor, height-to2[1]*relativeFactor ,stroke=\"#ff4477\"))\n",
    "    else:\n",
    "        pass\n",
    "        #d.append(draw.Rectangle(coordinates[0]-resistorWidth/2,height-coordinates[1]-resistorHeight/2,resistorHeight,resistorWidth, stroke='#1248ff'))\n",
    "#\n",
    "        #d.append(draw.Lines(connectionPoint1[0],height-(connectionPoint1[1]-resistorWidth/2), to1[0]*relativeFactor, height-to1[1]*relativeFactor ,stroke=\"#ff4477\"))\n",
    "        #d.append(draw.Lines(connectionPoint2[0],height-(connectionPoint2[1]+resistorWidth/2), to2[0]*relativeFactor, height-to2[1]*relativeFactor ,stroke=\"#ff4477\"))\n"
   ]
  }
 ],
 "metadata": {
  "interpreter": {
   "hash": "8d5f16fa311e9108f7b45528f5d2ae06d943147531887e316d30e7954f06f46e"
  },
  "kernelspec": {
   "display_name": "Python 3.9.7 64-bit",
   "language": "python",
   "name": "python3"
  },
  "language_info": {
   "codemirror_mode": {
    "name": "ipython",
    "version": 3
   },
   "file_extension": ".py",
   "mimetype": "text/x-python",
   "name": "python",
   "nbconvert_exporter": "python",
   "pygments_lexer": "ipython3",
   "version": "3.9.7"
  },
  "orig_nbformat": 4
 },
 "nbformat": 4,
 "nbformat_minor": 2
}
