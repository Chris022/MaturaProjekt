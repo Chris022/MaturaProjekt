{
 "cells": [
  {
   "cell_type": "code",
   "execution_count": 231,
   "metadata": {},
   "outputs": [],
   "source": [
    "import sys\n",
    "sys.path.append('../')\n",
    "\n",
    "import lib.graphLib.graph as g\n",
    "from lib.graphLib.vertex import Vertex\n",
    "from lib.graphLib.edge import Edge\n",
    "\n",
    "from lib.constants import *\n",
    "import lib.utils as utils\n",
    "\n",
    "import igraph\n",
    "import copy\n",
    "import drawSvg as draw\n",
    "import math"
   ]
  },
  {
   "cell_type": "markdown",
   "metadata": {},
   "source": [
    "##### Generate Test data"
   ]
  },
  {
   "cell_type": "code",
   "execution_count": 232,
   "metadata": {},
   "outputs": [
    {
     "data": {
      "image/svg+xml": "<?xml version=\"1.0\" encoding=\"UTF-8\"?>\n<svg xmlns=\"http://www.w3.org/2000/svg\" xmlns:xlink=\"http://www.w3.org/1999/xlink\" width=\"200pt\" height=\"200pt\" viewBox=\"0 0 200 200\" version=\"1.1\">\n<g id=\"surface584\">\n<rect x=\"0\" y=\"0\" width=\"200\" height=\"200\" style=\"fill:rgb(100%,100%,100%);fill-opacity:1;stroke:none;\"/>\n<path style=\"fill:none;stroke-width:1;stroke-linecap:butt;stroke-linejoin:miter;stroke:rgb(0%,0%,0%);stroke-opacity:1;stroke-miterlimit:10;\" d=\"M 29.398438 126.175781 L 45.097656 168.640625 \"/>\n<path style=\"fill:none;stroke-width:1;stroke-linecap:butt;stroke-linejoin:miter;stroke:rgb(0%,0%,0%);stroke-opacity:1;stroke-miterlimit:10;\" d=\"M 45.097656 168.640625 L 85.363281 180 \"/>\n<path style=\"fill:none;stroke-width:1;stroke-linecap:butt;stroke-linejoin:miter;stroke:rgb(0%,0%,0%);stroke-opacity:1;stroke-miterlimit:10;\" d=\"M 85.363281 180 L 102.730469 150.1875 \"/>\n<path style=\"fill:none;stroke-width:1;stroke-linecap:butt;stroke-linejoin:miter;stroke:rgb(0%,0%,0%);stroke-opacity:1;stroke-miterlimit:10;\" d=\"M 102.730469 150.1875 L 64.0625 152.121094 \"/>\n<path style=\"fill:none;stroke-width:1;stroke-linecap:butt;stroke-linejoin:miter;stroke:rgb(0%,0%,0%);stroke-opacity:1;stroke-miterlimit:10;\" d=\"M 64.0625 152.121094 L 20 151.53125 \"/>\n<path style=\"fill:none;stroke-width:1;stroke-linecap:butt;stroke-linejoin:miter;stroke:rgb(0%,0%,0%);stroke-opacity:1;stroke-miterlimit:10;\" d=\"M 29.398438 126.175781 L 20 151.53125 \"/>\n<path style=\"fill:none;stroke-width:1;stroke-linecap:butt;stroke-linejoin:miter;stroke:rgb(0%,0%,0%);stroke-opacity:1;stroke-miterlimit:10;\" d=\"M 102.730469 150.1875 L 121.425781 118.265625 \"/>\n<path style=\"fill:none;stroke-width:1;stroke-linecap:butt;stroke-linejoin:miter;stroke:rgb(0%,0%,0%);stroke-opacity:1;stroke-miterlimit:10;\" d=\"M 121.425781 118.265625 L 114.339844 81.046875 \"/>\n<path style=\"fill:none;stroke-width:1;stroke-linecap:butt;stroke-linejoin:miter;stroke:rgb(0%,0%,0%);stroke-opacity:1;stroke-miterlimit:10;\" d=\"M 114.339844 81.046875 L 75.089844 72.347656 \"/>\n<path style=\"fill:none;stroke-width:1;stroke-linecap:butt;stroke-linejoin:miter;stroke:rgb(0%,0%,0%);stroke-opacity:1;stroke-miterlimit:10;\" d=\"M 75.089844 72.347656 L 41.203125 90.761719 \"/>\n<path style=\"fill:none;stroke-width:1;stroke-linecap:butt;stroke-linejoin:miter;stroke:rgb(0%,0%,0%);stroke-opacity:1;stroke-miterlimit:10;\" d=\"M 29.398438 126.175781 L 41.203125 90.761719 \"/>\n<path style=\"fill:none;stroke-width:1;stroke-linecap:butt;stroke-linejoin:miter;stroke:rgb(0%,0%,0%);stroke-opacity:1;stroke-miterlimit:10;\" d=\"M 114.339844 81.046875 L 142.171875 55.652344 \"/>\n<path style=\"fill:none;stroke-width:1;stroke-linecap:butt;stroke-linejoin:miter;stroke:rgb(0%,0%,0%);stroke-opacity:1;stroke-miterlimit:10;\" d=\"M 142.171875 55.652344 L 141.601563 20 \"/>\n<path style=\"fill:none;stroke-width:1;stroke-linecap:butt;stroke-linejoin:miter;stroke:rgb(0%,0%,0%);stroke-opacity:1;stroke-miterlimit:10;\" d=\"M 142.171875 55.652344 L 180 55.691406 \"/>\n<path style=\"fill-rule:nonzero;fill:rgb(100%,0%,0%);fill-opacity:1;stroke-width:1;stroke-linecap:butt;stroke-linejoin:miter;stroke:rgb(0%,0%,0%);stroke-opacity:1;stroke-miterlimit:10;\" d=\"M 39.398438 126.175781 C 39.398438 131.695313 34.921875 136.175781 29.398438 136.175781 C 23.875 136.175781 19.398438 131.695313 19.398438 126.175781 C 19.398438 120.652344 23.875 116.175781 29.398438 116.175781 C 34.921875 116.175781 39.398438 120.652344 39.398438 126.175781 \"/>\n<path style=\"fill-rule:nonzero;fill:rgb(100%,100%,0%);fill-opacity:1;stroke-width:1;stroke-linecap:butt;stroke-linejoin:miter;stroke:rgb(0%,0%,0%);stroke-opacity:1;stroke-miterlimit:10;\" d=\"M 55.097656 168.640625 C 55.097656 174.164063 50.617188 178.640625 45.097656 178.640625 C 39.574219 178.640625 35.097656 174.164063 35.097656 168.640625 C 35.097656 163.117188 39.574219 158.640625 45.097656 158.640625 C 50.617188 158.640625 55.097656 163.117188 55.097656 168.640625 \"/>\n<path style=\"fill-rule:nonzero;fill:rgb(100%,100%,0%);fill-opacity:1;stroke-width:1;stroke-linecap:butt;stroke-linejoin:miter;stroke:rgb(0%,0%,0%);stroke-opacity:1;stroke-miterlimit:10;\" d=\"M 95.363281 180 C 95.363281 185.523438 90.886719 190 85.363281 190 C 79.84375 190 75.363281 185.523438 75.363281 180 C 75.363281 174.476563 79.84375 170 85.363281 170 C 90.886719 170 95.363281 174.476563 95.363281 180 \"/>\n<path style=\"fill-rule:nonzero;fill:rgb(100%,0%,0%);fill-opacity:1;stroke-width:1;stroke-linecap:butt;stroke-linejoin:miter;stroke:rgb(0%,0%,0%);stroke-opacity:1;stroke-miterlimit:10;\" d=\"M 112.730469 150.1875 C 112.730469 155.710938 108.253906 160.1875 102.730469 160.1875 C 97.207031 160.1875 92.730469 155.710938 92.730469 150.1875 C 92.730469 144.664063 97.207031 140.1875 102.730469 140.1875 C 108.253906 140.1875 112.730469 144.664063 112.730469 150.1875 \"/>\n<path style=\"fill-rule:nonzero;fill:rgb(100%,100%,0%);fill-opacity:1;stroke-width:1;stroke-linecap:butt;stroke-linejoin:miter;stroke:rgb(0%,0%,0%);stroke-opacity:1;stroke-miterlimit:10;\" d=\"M 74.0625 152.121094 C 74.0625 157.640625 69.582031 162.121094 64.0625 162.121094 C 58.539063 162.121094 54.0625 157.640625 54.0625 152.121094 C 54.0625 146.597656 58.539063 142.121094 64.0625 142.121094 C 69.582031 142.121094 74.0625 146.597656 74.0625 152.121094 \"/>\n<path style=\"fill-rule:nonzero;fill:rgb(100%,100%,0%);fill-opacity:1;stroke-width:1;stroke-linecap:butt;stroke-linejoin:miter;stroke:rgb(0%,0%,0%);stroke-opacity:1;stroke-miterlimit:10;\" d=\"M 30 151.53125 C 30 157.050781 25.523438 161.53125 20 161.53125 C 14.476563 161.53125 10 157.050781 10 151.53125 C 10 146.007813 14.476563 141.53125 20 141.53125 C 25.523438 141.53125 30 146.007813 30 151.53125 \"/>\n<path style=\"fill-rule:nonzero;fill:rgb(100%,100%,0%);fill-opacity:1;stroke-width:1;stroke-linecap:butt;stroke-linejoin:miter;stroke:rgb(0%,0%,0%);stroke-opacity:1;stroke-miterlimit:10;\" d=\"M 131.425781 118.265625 C 131.425781 123.789063 126.949219 128.265625 121.425781 128.265625 C 115.902344 128.265625 111.425781 123.789063 111.425781 118.265625 C 111.425781 112.742188 115.902344 108.265625 121.425781 108.265625 C 126.949219 108.265625 131.425781 112.742188 131.425781 118.265625 \"/>\n<path style=\"fill-rule:nonzero;fill:rgb(100%,0%,0%);fill-opacity:1;stroke-width:1;stroke-linecap:butt;stroke-linejoin:miter;stroke:rgb(0%,0%,0%);stroke-opacity:1;stroke-miterlimit:10;\" d=\"M 124.339844 81.046875 C 124.339844 86.570313 119.859375 91.046875 114.339844 91.046875 C 108.816406 91.046875 104.339844 86.570313 104.339844 81.046875 C 104.339844 75.523438 108.816406 71.046875 114.339844 71.046875 C 119.859375 71.046875 124.339844 75.523438 124.339844 81.046875 \"/>\n<path style=\"fill-rule:nonzero;fill:rgb(100%,100%,0%);fill-opacity:1;stroke-width:1;stroke-linecap:butt;stroke-linejoin:miter;stroke:rgb(0%,0%,0%);stroke-opacity:1;stroke-miterlimit:10;\" d=\"M 85.089844 72.347656 C 85.089844 77.871094 80.613281 82.347656 75.089844 82.347656 C 69.566406 82.347656 65.089844 77.871094 65.089844 72.347656 C 65.089844 66.824219 69.566406 62.347656 75.089844 62.347656 C 80.613281 62.347656 85.089844 66.824219 85.089844 72.347656 \"/>\n<path style=\"fill-rule:nonzero;fill:rgb(100%,100%,0%);fill-opacity:1;stroke-width:1;stroke-linecap:butt;stroke-linejoin:miter;stroke:rgb(0%,0%,0%);stroke-opacity:1;stroke-miterlimit:10;\" d=\"M 51.203125 90.761719 C 51.203125 96.285156 46.726563 100.761719 41.203125 100.761719 C 35.679688 100.761719 31.203125 96.285156 31.203125 90.761719 C 31.203125 85.238281 35.679688 80.761719 41.203125 80.761719 C 46.726563 80.761719 51.203125 85.238281 51.203125 90.761719 \"/>\n<path style=\"fill-rule:nonzero;fill:rgb(100%,0%,0%);fill-opacity:1;stroke-width:1;stroke-linecap:butt;stroke-linejoin:miter;stroke:rgb(0%,0%,0%);stroke-opacity:1;stroke-miterlimit:10;\" d=\"M 152.171875 55.652344 C 152.171875 61.171875 147.695313 65.652344 142.171875 65.652344 C 136.648438 65.652344 132.171875 61.171875 132.171875 55.652344 C 132.171875 50.128906 136.648438 45.652344 142.171875 45.652344 C 147.695313 45.652344 152.171875 50.128906 152.171875 55.652344 \"/>\n<path style=\"fill-rule:nonzero;fill:rgb(0%,0%,100%);fill-opacity:1;stroke-width:1;stroke-linecap:butt;stroke-linejoin:miter;stroke:rgb(0%,0%,0%);stroke-opacity:1;stroke-miterlimit:10;\" d=\"M 151.601563 20 C 151.601563 25.523438 147.125 30 141.601563 30 C 136.078125 30 131.601563 25.523438 131.601563 20 C 131.601563 14.476563 136.078125 10 141.601563 10 C 147.125 10 151.601563 14.476563 151.601563 20 \"/>\n<path style=\"fill-rule:nonzero;fill:rgb(0%,0%,100%);fill-opacity:1;stroke-width:1;stroke-linecap:butt;stroke-linejoin:miter;stroke:rgb(0%,0%,0%);stroke-opacity:1;stroke-miterlimit:10;\" d=\"M 190 55.691406 C 190 61.214844 185.523438 65.691406 180 65.691406 C 174.476563 65.691406 170 61.214844 170 55.691406 C 170 50.167969 174.476563 45.691406 180 45.691406 C 185.523438 45.691406 190 50.167969 190 55.691406 \"/>\n</g>\n</svg>\n",
      "text/plain": [
       "<igraph.drawing.Plot at 0x263fbf7c2b0>"
      ]
     },
     "execution_count": 232,
     "metadata": {
      "image/svg+xml": {
       "isolated": true
      }
     },
     "output_type": "execute_result"
    }
   ],
   "source": [
    "graph = g.Graph()\n",
    "\n",
    "v0 = Vertex(\"red\",attr={\"coordinates\":[165,50]})\n",
    "v1 = Vertex(\"yellow\",attr={\"coordinates\":[169,57]})\n",
    "v2 = Vertex(\"yellow\",attr={\"coordinates\":[196,52]})\n",
    "v3 = Vertex(\"red\",attr={\"coordinates\":[197,50]})\n",
    "v4 = Vertex(\"yellow\",attr={\"coordinates\":[193,43]})\n",
    "v5 = Vertex(\"yellow\",attr={\"coordinates\":[166,47]})\n",
    "\n",
    "v6 = Vertex(\"yellow\",attr={\"coordinates\":[242,47]})\n",
    "v7 = Vertex(\"red\",attr={\"coordinates\":[244,211]})\n",
    "v8 = Vertex(\"yellow\",attr={\"coordinates\":[90,220]})\n",
    "v9 = Vertex(\"yellow\",attr={\"coordinates\":[92,56]})\n",
    "\n",
    "v10 = Vertex(\"red\",attr={\"coordinates\":[245,240]})\n",
    "v11 = Vertex(\"blue\",attr={\"coordinates\":[259,241]})\n",
    "v12 = Vertex(\"blue\",attr={\"coordinates\":[229,241]})\n",
    "\n",
    "graph.addVertices([v0,v1,v2,v3,v4,v5,v6,v7,v8,v9,v10,v11,v12])\n",
    "graph.addEdge(Edge(),v0.id,v1.id)\n",
    "graph.addEdge(Edge(),v1.id,v2.id)\n",
    "graph.addEdge(Edge(),v2.id,v3.id)\n",
    "graph.addEdge(Edge(),v3.id,v4.id)\n",
    "graph.addEdge(Edge(),v4.id,v5.id)\n",
    "graph.addEdge(Edge(),v5.id,v0.id)\n",
    "\n",
    "graph.addEdge(Edge(),v3.id,v6.id)\n",
    "graph.addEdge(Edge(),v6.id,v7.id)\n",
    "graph.addEdge(Edge(),v7.id,v8.id)\n",
    "graph.addEdge(Edge(),v8.id,v9.id)\n",
    "graph.addEdge(Edge(),v9.id,v0.id)\n",
    "\n",
    "graph.addEdge(Edge(),v7.id,v10.id)\n",
    "graph.addEdge(Edge(),v10.id,v11.id)\n",
    "graph.addEdge(Edge(),v10.id,v12.id)\n",
    "\n",
    "buildingParts = [\n",
    "    (\"resistor\",\"horizontal\",[v0,v1,v2,v3,v4,v5]),\n",
    "    (\"ground\",\"vertical\",[v10,v11,v12,])\n",
    "]\n",
    "\n",
    "igraphUnion = utils.convertToIgraph(graph)\n",
    "layout = igraphUnion.layout(\"kk\") #\"large_graph\"\n",
    "igraph.plot(igraphUnion, layout=layout,bbox = (200,200))"
   ]
  },
  {
   "cell_type": "markdown",
   "metadata": {},
   "source": [
    "### Convert Coordinates to Relative Values"
   ]
  },
  {
   "cell_type": "code",
   "execution_count": 233,
   "metadata": {},
   "outputs": [],
   "source": [
    "#get lenght of the longest resistor\n",
    "len = -1\n",
    "for buildingPart in buildingParts:\n",
    "    vertices = buildingPart[2]\n",
    "    rotation = buildingPart[1]\n",
    "    type_ = buildingPart[0]\n",
    "\n",
    "    if not type_ == \"resistor\":\n",
    "        continue\n",
    "    \n",
    "    xVals = list(map(lambda v: v.attr[\"coordinates\"][0],vertices))\n",
    "    yVals = list(map(lambda v: v.attr[\"coordinates\"][1],vertices))\n",
    "\n",
    "    xDist = max(xVals) - min(xVals)\n",
    "    yDist = max(yVals) - min(yVals)\n",
    "\n",
    "    if xDist > yDist:\n",
    "        if xDist > len:\n",
    "            len = xDist\n",
    "    else:\n",
    "        if yDist > len:\n",
    "            len = yDist\n",
    "\n",
    "\n",
    "#convert all coordinates to values, relative to the resistor\n",
    "for vertex in graph.ve.values():\n",
    "    x = vertex.attr[\"coordinates\"][0]\n",
    "    y = vertex.attr[\"coordinates\"][1]\n",
    "    vertex.attr[\"coordinates\"] = [x/len,y/len]"
   ]
  },
  {
   "cell_type": "markdown",
   "metadata": {},
   "source": [
    "### Snap Coordinates to Grid "
   ]
  },
  {
   "cell_type": "code",
   "execution_count": 234,
   "metadata": {},
   "outputs": [],
   "source": [
    "\n",
    "for vertex in graph.ve.values():\n",
    "    gridSize = 1\n",
    "    x = math.floor(vertex.attr[\"coordinates\"][0]/gridSize)*gridSize\n",
    "    y = math.floor(vertex.attr[\"coordinates\"][1]/gridSize)*gridSize\n",
    "    vertex.attr[\"coordinates\"] = [x,y]"
   ]
  },
  {
   "cell_type": "markdown",
   "metadata": {},
   "source": [
    "### Modify Graph"
   ]
  },
  {
   "cell_type": "code",
   "execution_count": 235,
   "metadata": {},
   "outputs": [
    {
     "data": {
      "image/svg+xml": "<?xml version=\"1.0\" encoding=\"UTF-8\"?>\n<svg xmlns=\"http://www.w3.org/2000/svg\" xmlns:xlink=\"http://www.w3.org/1999/xlink\" width=\"200pt\" height=\"200pt\" viewBox=\"0 0 200 200\" version=\"1.1\">\n<defs>\n<g>\n<symbol overflow=\"visible\" id=\"glyph0-0\">\n<path style=\"stroke:none;\" d=\"M 1.75 0 L 1.75 -8.75 L 8.75 -8.75 L 8.75 0 Z M 1.96875 -0.21875 L 8.53125 -0.21875 L 8.53125 -8.53125 L 1.96875 -8.53125 Z M 1.96875 -0.21875 \"/>\n</symbol>\n<symbol overflow=\"visible\" id=\"glyph0-1\">\n<path style=\"stroke:none;\" d=\"M 0.910156 0 L 0.910156 -7.257813 L 2.015625 -7.257813 L 2.015625 -6.160156 C 2.296875 -6.667969 2.554688 -7.007813 2.796875 -7.175781 C 3.03125 -7.335938 3.296875 -7.417969 3.589844 -7.421875 C 4 -7.417969 4.421875 -7.285156 4.851563 -7.027344 L 4.429688 -5.886719 C 4.125 -6.0625 3.824219 -6.152344 3.527344 -6.152344 C 3.257813 -6.152344 3.015625 -6.070313 2.800781 -5.910156 C 2.585938 -5.746094 2.433594 -5.519531 2.34375 -5.234375 C 2.207031 -4.792969 2.136719 -4.316406 2.140625 -3.800781 L 2.140625 0 Z M 0.910156 0 \"/>\n</symbol>\n<symbol overflow=\"visible\" id=\"glyph0-2\">\n<path style=\"stroke:none;\" d=\"M 5.890625 -2.335938 L 7.164063 -2.179688 C 6.960938 -1.4375 6.589844 -0.859375 6.046875 -0.449219 C 5.503906 -0.0390625 4.8125 0.164063 3.972656 0.164063 C 2.910156 0.164063 2.066406 -0.160156 1.445313 -0.816406 C 0.820313 -1.464844 0.507813 -2.382813 0.511719 -3.570313 C 0.507813 -4.785156 0.824219 -5.734375 1.453125 -6.410156 C 2.082031 -7.082031 2.898438 -7.417969 3.902344 -7.421875 C 4.871094 -7.417969 5.664063 -7.085938 6.28125 -6.429688 C 6.894531 -5.765625 7.199219 -4.839844 7.203125 -3.644531 C 7.199219 -3.570313 7.199219 -3.460938 7.199219 -3.316406 L 1.785156 -3.316406 C 1.828125 -2.515625 2.054688 -1.902344 2.460938 -1.480469 C 2.867188 -1.054688 3.371094 -0.84375 3.976563 -0.847656 C 4.425781 -0.84375 4.8125 -0.960938 5.132813 -1.203125 C 5.453125 -1.4375 5.703125 -1.816406 5.890625 -2.335938 Z M 1.851563 -4.328125 L 5.90625 -4.328125 C 5.851563 -4.933594 5.695313 -5.390625 5.441406 -5.703125 C 5.046875 -6.171875 4.539063 -6.410156 3.917969 -6.414063 C 3.351563 -6.410156 2.875 -6.21875 2.492188 -5.84375 C 2.101563 -5.460938 1.890625 -4.957031 1.851563 -4.328125 Z M 1.851563 -4.328125 \"/>\n</symbol>\n<symbol overflow=\"visible\" id=\"glyph0-3\">\n<path style=\"stroke:none;\" d=\"M 0.429688 -2.167969 L 1.648438 -2.359375 C 1.710938 -1.867188 1.902344 -1.492188 2.21875 -1.234375 C 2.527344 -0.972656 2.964844 -0.84375 3.527344 -0.847656 C 4.089844 -0.84375 4.507813 -0.957031 4.785156 -1.191406 C 5.054688 -1.417969 5.191406 -1.691406 5.195313 -2.003906 C 5.191406 -2.28125 5.070313 -2.5 4.832031 -2.660156 C 4.660156 -2.769531 4.242188 -2.90625 3.574219 -3.078125 C 2.671875 -3.300781 2.046875 -3.5 1.699219 -3.667969 C 1.347656 -3.832031 1.082031 -4.058594 0.90625 -4.355469 C 0.722656 -4.644531 0.632813 -4.972656 0.636719 -5.332031 C 0.632813 -5.652344 0.707031 -5.949219 0.855469 -6.230469 C 1.003906 -6.503906 1.203125 -6.734375 1.460938 -6.917969 C 1.648438 -7.054688 1.910156 -7.171875 2.246094 -7.273438 C 2.574219 -7.367188 2.929688 -7.417969 3.308594 -7.421875 C 3.875 -7.417969 4.375 -7.335938 4.808594 -7.175781 C 5.234375 -7.007813 5.550781 -6.785156 5.761719 -6.507813 C 5.964844 -6.226563 6.109375 -5.851563 6.1875 -5.386719 L 4.984375 -5.222656 C 4.925781 -5.589844 4.765625 -5.882813 4.507813 -6.097656 C 4.242188 -6.304688 3.875 -6.410156 3.398438 -6.414063 C 2.832031 -6.410156 2.425781 -6.316406 2.1875 -6.132813 C 1.941406 -5.941406 1.820313 -5.722656 1.824219 -5.476563 C 1.820313 -5.3125 1.871094 -5.167969 1.976563 -5.046875 C 2.070313 -4.910156 2.226563 -4.800781 2.445313 -4.71875 C 2.566406 -4.667969 2.929688 -4.5625 3.535156 -4.402344 C 4.402344 -4.167969 5.011719 -3.980469 5.355469 -3.832031 C 5.699219 -3.683594 5.96875 -3.464844 6.164063 -3.183594 C 6.359375 -2.898438 6.457031 -2.550781 6.460938 -2.132813 C 6.457031 -1.71875 6.335938 -1.332031 6.101563 -0.972656 C 5.859375 -0.609375 5.515625 -0.328125 5.066406 -0.132813 C 4.613281 0.0664063 4.101563 0.164063 3.535156 0.164063 C 2.585938 0.164063 1.867188 -0.03125 1.375 -0.421875 C 0.878906 -0.8125 0.5625 -1.394531 0.429688 -2.167969 Z M 0.429688 -2.167969 \"/>\n</symbol>\n<symbol overflow=\"visible\" id=\"glyph0-4\">\n<path style=\"stroke:none;\" d=\"M 0.929688 -8.605469 L 0.929688 -10.023438 L 2.160156 -10.023438 L 2.160156 -8.605469 Z M 0.929688 0 L 0.929688 -7.257813 L 2.160156 -7.257813 L 2.160156 0 Z M 0.929688 0 \"/>\n</symbol>\n<symbol overflow=\"visible\" id=\"glyph0-5\">\n<path style=\"stroke:none;\" d=\"M 3.609375 -1.101563 L 3.789063 -0.015625 C 3.4375 0.0585938 3.128906 0.09375 2.859375 0.09375 C 2.410156 0.09375 2.0625 0.0234375 1.816406 -0.117188 C 1.570313 -0.257813 1.394531 -0.441406 1.296875 -0.671875 C 1.195313 -0.902344 1.148438 -1.386719 1.148438 -2.125 L 1.148438 -6.304688 L 0.246094 -6.304688 L 0.246094 -7.257813 L 1.148438 -7.257813 L 1.148438 -9.058594 L 2.371094 -9.796875 L 2.371094 -7.257813 L 3.609375 -7.257813 L 3.609375 -6.304688 L 2.371094 -6.304688 L 2.371094 -2.058594 C 2.367188 -1.703125 2.386719 -1.476563 2.433594 -1.378906 C 2.472656 -1.277344 2.546875 -1.199219 2.648438 -1.140625 C 2.746094 -1.082031 2.886719 -1.054688 3.070313 -1.054688 C 3.203125 -1.054688 3.382813 -1.070313 3.609375 -1.101563 Z M 3.609375 -1.101563 \"/>\n</symbol>\n<symbol overflow=\"visible\" id=\"glyph0-6\">\n<path style=\"stroke:none;\" d=\"M 0.464844 -3.628906 C 0.460938 -4.972656 0.835938 -5.96875 1.585938 -6.617188 C 2.207031 -7.148438 2.96875 -7.417969 3.867188 -7.421875 C 4.867188 -7.417969 5.683594 -7.089844 6.316406 -6.441406 C 6.949219 -5.785156 7.265625 -4.882813 7.265625 -3.734375 C 7.265625 -2.796875 7.125 -2.0625 6.84375 -1.527344 C 6.5625 -0.992188 6.152344 -0.578125 5.621094 -0.28125 C 5.082031 0.015625 4.5 0.164063 3.867188 0.164063 C 2.851563 0.164063 2.027344 -0.160156 1.402344 -0.8125 C 0.773438 -1.460938 0.460938 -2.398438 0.464844 -3.628906 Z M 1.730469 -3.628906 C 1.726563 -2.695313 1.929688 -2 2.335938 -1.539063 C 2.738281 -1.074219 3.25 -0.84375 3.867188 -0.847656 C 4.476563 -0.84375 4.984375 -1.074219 5.390625 -1.542969 C 5.796875 -2.003906 6 -2.714844 6 -3.671875 C 6 -4.566406 5.792969 -5.246094 5.386719 -5.710938 C 4.976563 -6.171875 4.472656 -6.402344 3.867188 -6.40625 C 3.25 -6.402344 2.738281 -6.171875 2.335938 -5.714844 C 1.929688 -5.25 1.726563 -4.554688 1.730469 -3.628906 Z M 1.730469 -3.628906 \"/>\n</symbol>\n<symbol overflow=\"visible\" id=\"glyph0-7\">\n<path style=\"stroke:none;\" d=\"M 0.695313 0.601563 L 1.894531 0.78125 C 1.941406 1.144531 2.082031 1.414063 2.3125 1.585938 C 2.613281 1.8125 3.03125 1.925781 3.5625 1.929688 C 4.128906 1.925781 4.566406 1.8125 4.878906 1.585938 C 5.1875 1.355469 5.398438 1.035156 5.507813 0.628906 C 5.570313 0.375 5.597656 -0.148438 5.597656 -0.949219 C 5.058594 -0.316406 4.390625 0 3.589844 0 C 2.589844 0 1.816406 -0.359375 1.273438 -1.078125 C 0.722656 -1.796875 0.449219 -2.660156 0.453125 -3.671875 C 0.449219 -4.363281 0.574219 -5.003906 0.828125 -5.589844 C 1.074219 -6.175781 1.4375 -6.625 1.917969 -6.945313 C 2.390625 -7.257813 2.949219 -7.417969 3.59375 -7.421875 C 4.449219 -7.417969 5.15625 -7.070313 5.714844 -6.382813 L 5.714844 -7.257813 L 6.851563 -7.257813 L 6.851563 -0.984375 C 6.847656 0.144531 6.734375 0.945313 6.503906 1.417969 C 6.273438 1.886719 5.90625 2.257813 5.410156 2.535156 C 4.910156 2.804688 4.296875 2.941406 3.570313 2.945313 C 2.699219 2.941406 2 2.746094 1.46875 2.359375 C 0.933594 1.96875 0.675781 1.382813 0.695313 0.601563 Z M 1.714844 -3.757813 C 1.710938 -2.804688 1.898438 -2.113281 2.28125 -1.675781 C 2.65625 -1.238281 3.132813 -1.019531 3.703125 -1.019531 C 4.269531 -1.019531 4.742188 -1.234375 5.128906 -1.671875 C 5.507813 -2.101563 5.699219 -2.785156 5.703125 -3.71875 C 5.699219 -4.605469 5.503906 -5.273438 5.109375 -5.726563 C 4.714844 -6.175781 4.238281 -6.402344 3.683594 -6.40625 C 3.132813 -6.402344 2.667969 -6.179688 2.289063 -5.738281 C 1.902344 -5.289063 1.710938 -4.628906 1.714844 -3.757813 Z M 1.714844 -3.757813 \"/>\n</symbol>\n<symbol overflow=\"visible\" id=\"glyph0-8\">\n<path style=\"stroke:none;\" d=\"M 5.679688 0 L 5.679688 -1.066406 C 5.109375 -0.246094 4.34375 0.164063 3.375 0.164063 C 2.945313 0.164063 2.542969 0.0820313 2.175781 -0.0820313 C 1.800781 -0.246094 1.527344 -0.449219 1.347656 -0.699219 C 1.167969 -0.945313 1.039063 -1.25 0.96875 -1.613281 C 0.914063 -1.851563 0.890625 -2.234375 0.894531 -2.761719 L 0.894531 -7.257813 L 2.125 -7.257813 L 2.125 -3.234375 C 2.121094 -2.589844 2.148438 -2.15625 2.203125 -1.933594 C 2.277344 -1.609375 2.4375 -1.355469 2.691406 -1.171875 C 2.941406 -0.984375 3.253906 -0.890625 3.625 -0.894531 C 3.988281 -0.890625 4.332031 -0.984375 4.660156 -1.175781 C 4.980469 -1.363281 5.210938 -1.621094 5.347656 -1.949219 C 5.480469 -2.273438 5.546875 -2.746094 5.550781 -3.371094 L 5.550781 -7.257813 L 6.78125 -7.257813 L 6.78125 0 Z M 5.679688 0 \"/>\n</symbol>\n<symbol overflow=\"visible\" id=\"glyph0-9\">\n<path style=\"stroke:none;\" d=\"M 0.921875 0 L 0.921875 -7.257813 L 2.03125 -7.257813 L 2.03125 -6.226563 C 2.558594 -7.019531 3.328125 -7.417969 4.339844 -7.421875 C 4.773438 -7.417969 5.175781 -7.339844 5.546875 -7.1875 C 5.910156 -7.027344 6.183594 -6.820313 6.371094 -6.570313 C 6.550781 -6.3125 6.679688 -6.011719 6.753906 -5.660156 C 6.796875 -5.433594 6.820313 -5.035156 6.820313 -4.464844 L 6.820313 0 L 5.59375 0 L 5.59375 -4.414063 C 5.589844 -4.914063 5.542969 -5.289063 5.449219 -5.539063 C 5.351563 -5.785156 5.179688 -5.984375 4.9375 -6.136719 C 4.691406 -6.28125 4.40625 -6.355469 4.082031 -6.359375 C 3.554688 -6.355469 3.101563 -6.191406 2.722656 -5.859375 C 2.339844 -5.523438 2.148438 -4.890625 2.152344 -3.964844 L 2.152344 0 Z M 0.921875 0 \"/>\n</symbol>\n<symbol overflow=\"visible\" id=\"glyph0-10\">\n<path style=\"stroke:none;\" d=\"M 5.632813 0 L 5.632813 -0.914063 C 5.167969 -0.195313 4.492188 0.164063 3.601563 0.164063 C 3.019531 0.164063 2.488281 0.0078125 2.003906 -0.3125 C 1.519531 -0.628906 1.140625 -1.074219 0.875 -1.648438 C 0.605469 -2.21875 0.472656 -2.878906 0.476563 -3.625 C 0.472656 -4.347656 0.59375 -5.003906 0.839844 -5.59375 C 1.078125 -6.183594 1.441406 -6.636719 1.925781 -6.949219 C 2.40625 -7.261719 2.945313 -7.417969 3.546875 -7.421875 C 3.980469 -7.417969 4.371094 -7.324219 4.714844 -7.144531 C 5.054688 -6.957031 5.332031 -6.71875 5.550781 -6.425781 L 5.550781 -10.023438 L 6.773438 -10.023438 L 6.773438 0 Z M 1.742188 -3.625 C 1.738281 -2.691406 1.933594 -1.996094 2.328125 -1.535156 C 2.71875 -1.074219 3.183594 -0.84375 3.71875 -0.847656 C 4.253906 -0.84375 4.710938 -1.0625 5.085938 -1.507813 C 5.460938 -1.945313 5.648438 -2.617188 5.652344 -3.519531 C 5.648438 -4.511719 5.457031 -5.242188 5.078125 -5.707031 C 4.691406 -6.171875 4.21875 -6.402344 3.664063 -6.40625 C 3.113281 -6.402344 2.65625 -6.179688 2.292969 -5.734375 C 1.921875 -5.285156 1.738281 -4.582031 1.742188 -3.625 Z M 1.742188 -3.625 \"/>\n</symbol>\n</g>\n</defs>\n<g id=\"surface590\">\n<rect x=\"0\" y=\"0\" width=\"200\" height=\"200\" style=\"fill:rgb(100%,100%,100%);fill-opacity:1;stroke:none;\"/>\n<path style=\"fill:none;stroke-width:1;stroke-linecap:butt;stroke-linejoin:miter;stroke:rgb(0%,0%,0%);stroke-opacity:1;stroke-miterlimit:10;\" d=\"M 149.890625 23.84375 L 107.914063 20 \"/>\n<path style=\"fill:none;stroke-width:1;stroke-linecap:butt;stroke-linejoin:miter;stroke:rgb(0%,0%,0%);stroke-opacity:1;stroke-miterlimit:10;\" d=\"M 107.914063 20 L 76.519531 53.546875 \"/>\n<path style=\"fill:none;stroke-width:1;stroke-linecap:butt;stroke-linejoin:miter;stroke:rgb(0%,0%,0%);stroke-opacity:1;stroke-miterlimit:10;\" d=\"M 76.519531 53.546875 L 31.640625 69.167969 \"/>\n<path style=\"fill:none;stroke-width:1;stroke-linecap:butt;stroke-linejoin:miter;stroke:rgb(0%,0%,0%);stroke-opacity:1;stroke-miterlimit:10;\" d=\"M 31.640625 69.167969 L 20 113.328125 \"/>\n<path style=\"fill:none;stroke-width:1;stroke-linecap:butt;stroke-linejoin:miter;stroke:rgb(0%,0%,0%);stroke-opacity:1;stroke-miterlimit:10;\" d=\"M 34.269531 153.761719 L 20 113.328125 \"/>\n<path style=\"fill:none;stroke-width:1;stroke-linecap:butt;stroke-linejoin:miter;stroke:rgb(0%,0%,0%);stroke-opacity:1;stroke-miterlimit:10;\" d=\"M 76.519531 53.546875 L 106.984375 89.273438 \"/>\n<path style=\"fill-rule:nonzero;fill:rgb(100%,100%,0%);fill-opacity:1;stroke-width:1;stroke-linecap:butt;stroke-linejoin:miter;stroke:rgb(0%,0%,0%);stroke-opacity:1;stroke-miterlimit:10;\" d=\"M 44.269531 153.761719 C 44.269531 159.285156 39.789063 163.761719 34.269531 163.761719 C 28.746094 163.761719 24.269531 159.285156 24.269531 153.761719 C 24.269531 148.238281 28.746094 143.761719 34.269531 143.761719 C 39.789063 143.761719 44.269531 148.238281 44.269531 153.761719 \"/>\n<path style=\"fill-rule:nonzero;fill:rgb(100%,100%,0%);fill-opacity:1;stroke-width:1;stroke-linecap:butt;stroke-linejoin:miter;stroke:rgb(0%,0%,0%);stroke-opacity:1;stroke-miterlimit:10;\" d=\"M 159.890625 23.84375 C 159.890625 29.367188 155.414063 33.84375 149.890625 33.84375 C 144.367188 33.84375 139.890625 29.367188 139.890625 23.84375 C 139.890625 18.320313 144.367188 13.84375 149.890625 13.84375 C 155.414063 13.84375 159.890625 18.320313 159.890625 23.84375 \"/>\n<path style=\"fill-rule:nonzero;fill:rgb(100%,100%,0%);fill-opacity:1;stroke-width:1;stroke-linecap:butt;stroke-linejoin:miter;stroke:rgb(0%,0%,0%);stroke-opacity:1;stroke-miterlimit:10;\" d=\"M 117.914063 20 C 117.914063 25.523438 113.4375 30 107.914063 30 C 102.390625 30 97.914063 25.523438 97.914063 20 C 97.914063 14.476563 102.390625 10 107.914063 10 C 113.4375 10 117.914063 14.476563 117.914063 20 \"/>\n<path style=\"fill-rule:nonzero;fill:rgb(100%,0%,0%);fill-opacity:1;stroke-width:1;stroke-linecap:butt;stroke-linejoin:miter;stroke:rgb(0%,0%,0%);stroke-opacity:1;stroke-miterlimit:10;\" d=\"M 86.519531 53.546875 C 86.519531 59.066406 82.042969 63.546875 76.519531 63.546875 C 70.996094 63.546875 66.519531 59.066406 66.519531 53.546875 C 66.519531 48.023438 70.996094 43.546875 76.519531 43.546875 C 82.042969 43.546875 86.519531 48.023438 86.519531 53.546875 \"/>\n<path style=\"fill-rule:nonzero;fill:rgb(100%,100%,0%);fill-opacity:1;stroke-width:1;stroke-linecap:butt;stroke-linejoin:miter;stroke:rgb(0%,0%,0%);stroke-opacity:1;stroke-miterlimit:10;\" d=\"M 41.640625 69.167969 C 41.640625 74.691406 37.164063 79.167969 31.640625 79.167969 C 26.117188 79.167969 21.640625 74.691406 21.640625 69.167969 C 21.640625 63.648438 26.117188 59.167969 31.640625 59.167969 C 37.164063 59.167969 41.640625 63.648438 41.640625 69.167969 \"/>\n<path style=\"fill-rule:nonzero;fill:rgb(100%,100%,0%);fill-opacity:1;stroke-width:1;stroke-linecap:butt;stroke-linejoin:miter;stroke:rgb(0%,0%,0%);stroke-opacity:1;stroke-miterlimit:10;\" d=\"M 30 113.328125 C 30 118.851563 25.523438 123.328125 20 123.328125 C 14.476563 123.328125 10 118.851563 10 113.328125 C 10 107.804688 14.476563 103.328125 20 103.328125 C 25.523438 103.328125 30 107.804688 30 113.328125 \"/>\n<path style=\"fill-rule:nonzero;fill:rgb(100%,100%,0%);fill-opacity:1;stroke-width:1;stroke-linecap:butt;stroke-linejoin:miter;stroke:rgb(0%,0%,0%);stroke-opacity:1;stroke-miterlimit:10;\" d=\"M 116.984375 89.273438 C 116.984375 94.796875 112.507813 99.273438 106.984375 99.273438 C 101.460938 99.273438 96.984375 94.796875 96.984375 89.273438 C 96.984375 83.75 101.460938 79.273438 106.984375 79.273438 C 112.507813 79.273438 116.984375 83.75 116.984375 89.273438 \"/>\n<path style=\"fill-rule:nonzero;fill:rgb(0%,100%,0%);fill-opacity:1;stroke-width:1;stroke-linecap:butt;stroke-linejoin:miter;stroke:rgb(0%,0%,0%);stroke-opacity:1;stroke-miterlimit:10;\" d=\"M 190 124.578125 C 190 130.101563 185.523438 134.578125 180 134.578125 C 174.476563 134.578125 170 130.101563 170 124.578125 C 170 119.058594 174.476563 114.578125 180 114.578125 C 185.523438 114.578125 190 119.058594 190 124.578125 \"/>\n<path style=\"fill-rule:nonzero;fill:rgb(0%,100%,0%);fill-opacity:1;stroke-width:1;stroke-linecap:butt;stroke-linejoin:miter;stroke:rgb(0%,0%,0%);stroke-opacity:1;stroke-miterlimit:10;\" d=\"M 131.449219 180 C 131.449219 185.523438 126.972656 190 121.449219 190 C 115.929688 190 111.449219 185.523438 111.449219 180 C 111.449219 174.476563 115.929688 170 121.449219 170 C 126.972656 170 131.449219 174.476563 131.449219 180 \"/>\n<g style=\"fill:rgb(0%,0%,0%);fill-opacity:1;\">\n  <use xlink:href=\"#glyph0-1\" x=\"156.5\" y=\"131.089844\"/>\n  <use xlink:href=\"#glyph0-2\" x=\"161.162109\" y=\"131.089844\"/>\n  <use xlink:href=\"#glyph0-3\" x=\"168.948242\" y=\"131.089844\"/>\n  <use xlink:href=\"#glyph0-4\" x=\"175.948242\" y=\"131.089844\"/>\n  <use xlink:href=\"#glyph0-3\" x=\"179.058594\" y=\"131.089844\"/>\n  <use xlink:href=\"#glyph0-5\" x=\"186.058594\" y=\"131.089844\"/>\n  <use xlink:href=\"#glyph0-6\" x=\"189.948242\" y=\"131.089844\"/>\n  <use xlink:href=\"#glyph0-1\" x=\"197.734375\" y=\"131.089844\"/>\n</g>\n<g style=\"fill:rgb(0%,0%,0%);fill-opacity:1;\">\n  <use xlink:href=\"#glyph0-7\" x=\"99.933594\" y=\"186.511719\"/>\n  <use xlink:href=\"#glyph0-1\" x=\"107.719727\" y=\"186.511719\"/>\n  <use xlink:href=\"#glyph0-6\" x=\"112.381836\" y=\"186.511719\"/>\n  <use xlink:href=\"#glyph0-8\" x=\"120.167969\" y=\"186.511719\"/>\n  <use xlink:href=\"#glyph0-9\" x=\"127.954102\" y=\"186.511719\"/>\n  <use xlink:href=\"#glyph0-10\" x=\"135.740234\" y=\"186.511719\"/>\n</g>\n</g>\n</svg>\n",
      "text/plain": [
       "<igraph.drawing.Plot at 0x263fbfb5bb0>"
      ]
     },
     "execution_count": 235,
     "metadata": {
      "image/svg+xml": {
       "isolated": true
      }
     },
     "output_type": "execute_result"
    }
   ],
   "source": [
    "#Get all the vertices connected to a building part\n",
    "for buildingPart in buildingParts:\n",
    "    vertices = buildingPart[2]\n",
    "    rotation = buildingPart[1]\n",
    "    type_ = buildingPart[0]\n",
    "\n",
    "    #get all intersections\n",
    "    intersectionVertices = list (filter(lambda v: v.color == INTERSECTION_COLOR,vertices) )\n",
    "\n",
    "    #match LTSpice Model connections with graph Model connections\n",
    "    connectionMap = {}\n",
    "    \n",
    "\n",
    "    #CHAAAANGE\n",
    "    #CHAAAANGE\n",
    "    #CHAAAANGE\n",
    "    #CHAAAANGE\n",
    "    #TODO!! CHANGE\n",
    "    index = 0\n",
    "    for intersectionPoint in intersectionVertices:\n",
    "        connectionMap[index] = intersectionPoint.attr[\"coordinates\"]\n",
    "        index+=1\n",
    "    #TODO!! CHANGE\n",
    "    #CHAAAANGE\n",
    "    #CHAAAANGE\n",
    "    #CHAAAANGE\n",
    "    #CHAAAANGE\n",
    "\n",
    "    #get center of the component\n",
    "    xVals = list(map(lambda v: v.attr[\"coordinates\"][0],vertices))\n",
    "    yVals = list(map(lambda v: v.attr[\"coordinates\"][1],vertices))\n",
    "\n",
    "    xDist = max(xVals) - min(xVals)\n",
    "    yDist = max(yVals) - min(yVals)\n",
    "    center = [min(xVals)+xDist/2,min(yVals)+yDist/2]\n",
    "\n",
    "    #delete all vertices of the component accept the intersection points, change type to edge for them!\n",
    "    for vertex in vertices:\n",
    "        if vertex.color == INTERSECTION_COLOR:\n",
    "            vertex.color = CORNER_COLOR\n",
    "            continue\n",
    "        graph.deleteVertex(vertex.id)\n",
    "    \n",
    "    #add UNCONECTED component Vertex\n",
    "    component = Vertex(\n",
    "            color=COMPONENT_COLOR,\n",
    "            label=type_,\n",
    "            attr={\"connectionMap\":connectionMap,\"type\":type_,\"coordinates\":center}\n",
    "        )\n",
    "    graph.addVertex(component)\n",
    "\n",
    "igraphUnion = utils.convertToIgraph(graph)\n",
    "layout = igraphUnion.layout(\"fr\") #\"large_graph\"\n",
    "igraph.plot(igraphUnion, layout=layout,bbox = (200,200))"
   ]
  },
  {
   "cell_type": "code",
   "execution_count": 236,
   "metadata": {},
   "outputs": [
    {
     "data": {
      "image/svg+xml": "<?xml version=\"1.0\" encoding=\"UTF-8\"?>\n<svg xmlns=\"http://www.w3.org/2000/svg\" xmlns:xlink=\"http://www.w3.org/1999/xlink\" width=\"200pt\" height=\"200pt\" viewBox=\"0 0 200 200\" version=\"1.1\">\n<defs>\n<g>\n<symbol overflow=\"visible\" id=\"glyph0-0\">\n<path style=\"stroke:none;\" d=\"M 1.75 0 L 1.75 -8.75 L 8.75 -8.75 L 8.75 0 Z M 1.96875 -0.21875 L 8.53125 -0.21875 L 8.53125 -8.53125 L 1.96875 -8.53125 Z M 1.96875 -0.21875 \"/>\n</symbol>\n<symbol overflow=\"visible\" id=\"glyph0-1\">\n<path style=\"stroke:none;\" d=\"M 0.910156 0 L 0.910156 -7.257813 L 2.015625 -7.257813 L 2.015625 -6.160156 C 2.296875 -6.667969 2.554688 -7.007813 2.796875 -7.175781 C 3.03125 -7.335938 3.296875 -7.417969 3.589844 -7.421875 C 4 -7.417969 4.421875 -7.285156 4.851563 -7.027344 L 4.429688 -5.886719 C 4.125 -6.0625 3.824219 -6.152344 3.527344 -6.152344 C 3.257813 -6.152344 3.015625 -6.070313 2.800781 -5.910156 C 2.585938 -5.746094 2.433594 -5.519531 2.34375 -5.234375 C 2.207031 -4.792969 2.136719 -4.316406 2.140625 -3.800781 L 2.140625 0 Z M 0.910156 0 \"/>\n</symbol>\n<symbol overflow=\"visible\" id=\"glyph0-2\">\n<path style=\"stroke:none;\" d=\"M 5.890625 -2.335938 L 7.164063 -2.179688 C 6.960938 -1.4375 6.589844 -0.859375 6.046875 -0.449219 C 5.503906 -0.0390625 4.8125 0.164063 3.972656 0.164063 C 2.910156 0.164063 2.066406 -0.160156 1.445313 -0.816406 C 0.820313 -1.464844 0.507813 -2.382813 0.511719 -3.570313 C 0.507813 -4.785156 0.824219 -5.734375 1.453125 -6.410156 C 2.082031 -7.082031 2.898438 -7.417969 3.902344 -7.421875 C 4.871094 -7.417969 5.664063 -7.085938 6.28125 -6.429688 C 6.894531 -5.765625 7.199219 -4.839844 7.203125 -3.644531 C 7.199219 -3.570313 7.199219 -3.460938 7.199219 -3.316406 L 1.785156 -3.316406 C 1.828125 -2.515625 2.054688 -1.902344 2.460938 -1.480469 C 2.867188 -1.054688 3.371094 -0.84375 3.976563 -0.847656 C 4.425781 -0.84375 4.8125 -0.960938 5.132813 -1.203125 C 5.453125 -1.4375 5.703125 -1.816406 5.890625 -2.335938 Z M 1.851563 -4.328125 L 5.90625 -4.328125 C 5.851563 -4.933594 5.695313 -5.390625 5.441406 -5.703125 C 5.046875 -6.171875 4.539063 -6.410156 3.917969 -6.414063 C 3.351563 -6.410156 2.875 -6.21875 2.492188 -5.84375 C 2.101563 -5.460938 1.890625 -4.957031 1.851563 -4.328125 Z M 1.851563 -4.328125 \"/>\n</symbol>\n<symbol overflow=\"visible\" id=\"glyph0-3\">\n<path style=\"stroke:none;\" d=\"M 0.429688 -2.167969 L 1.648438 -2.359375 C 1.710938 -1.867188 1.902344 -1.492188 2.21875 -1.234375 C 2.527344 -0.972656 2.964844 -0.84375 3.527344 -0.847656 C 4.089844 -0.84375 4.507813 -0.957031 4.785156 -1.191406 C 5.054688 -1.417969 5.191406 -1.691406 5.195313 -2.003906 C 5.191406 -2.28125 5.070313 -2.5 4.832031 -2.660156 C 4.660156 -2.769531 4.242188 -2.90625 3.574219 -3.078125 C 2.671875 -3.300781 2.046875 -3.5 1.699219 -3.667969 C 1.347656 -3.832031 1.082031 -4.058594 0.90625 -4.355469 C 0.722656 -4.644531 0.632813 -4.972656 0.636719 -5.332031 C 0.632813 -5.652344 0.707031 -5.949219 0.855469 -6.230469 C 1.003906 -6.503906 1.203125 -6.734375 1.460938 -6.917969 C 1.648438 -7.054688 1.910156 -7.171875 2.246094 -7.273438 C 2.574219 -7.367188 2.929688 -7.417969 3.308594 -7.421875 C 3.875 -7.417969 4.375 -7.335938 4.808594 -7.175781 C 5.234375 -7.007813 5.550781 -6.785156 5.761719 -6.507813 C 5.964844 -6.226563 6.109375 -5.851563 6.1875 -5.386719 L 4.984375 -5.222656 C 4.925781 -5.589844 4.765625 -5.882813 4.507813 -6.097656 C 4.242188 -6.304688 3.875 -6.410156 3.398438 -6.414063 C 2.832031 -6.410156 2.425781 -6.316406 2.1875 -6.132813 C 1.941406 -5.941406 1.820313 -5.722656 1.824219 -5.476563 C 1.820313 -5.3125 1.871094 -5.167969 1.976563 -5.046875 C 2.070313 -4.910156 2.226563 -4.800781 2.445313 -4.71875 C 2.566406 -4.667969 2.929688 -4.5625 3.535156 -4.402344 C 4.402344 -4.167969 5.011719 -3.980469 5.355469 -3.832031 C 5.699219 -3.683594 5.96875 -3.464844 6.164063 -3.183594 C 6.359375 -2.898438 6.457031 -2.550781 6.460938 -2.132813 C 6.457031 -1.71875 6.335938 -1.332031 6.101563 -0.972656 C 5.859375 -0.609375 5.515625 -0.328125 5.066406 -0.132813 C 4.613281 0.0664063 4.101563 0.164063 3.535156 0.164063 C 2.585938 0.164063 1.867188 -0.03125 1.375 -0.421875 C 0.878906 -0.8125 0.5625 -1.394531 0.429688 -2.167969 Z M 0.429688 -2.167969 \"/>\n</symbol>\n<symbol overflow=\"visible\" id=\"glyph0-4\">\n<path style=\"stroke:none;\" d=\"M 0.929688 -8.605469 L 0.929688 -10.023438 L 2.160156 -10.023438 L 2.160156 -8.605469 Z M 0.929688 0 L 0.929688 -7.257813 L 2.160156 -7.257813 L 2.160156 0 Z M 0.929688 0 \"/>\n</symbol>\n<symbol overflow=\"visible\" id=\"glyph0-5\">\n<path style=\"stroke:none;\" d=\"M 3.609375 -1.101563 L 3.789063 -0.015625 C 3.4375 0.0585938 3.128906 0.09375 2.859375 0.09375 C 2.410156 0.09375 2.0625 0.0234375 1.816406 -0.117188 C 1.570313 -0.257813 1.394531 -0.441406 1.296875 -0.671875 C 1.195313 -0.902344 1.148438 -1.386719 1.148438 -2.125 L 1.148438 -6.304688 L 0.246094 -6.304688 L 0.246094 -7.257813 L 1.148438 -7.257813 L 1.148438 -9.058594 L 2.371094 -9.796875 L 2.371094 -7.257813 L 3.609375 -7.257813 L 3.609375 -6.304688 L 2.371094 -6.304688 L 2.371094 -2.058594 C 2.367188 -1.703125 2.386719 -1.476563 2.433594 -1.378906 C 2.472656 -1.277344 2.546875 -1.199219 2.648438 -1.140625 C 2.746094 -1.082031 2.886719 -1.054688 3.070313 -1.054688 C 3.203125 -1.054688 3.382813 -1.070313 3.609375 -1.101563 Z M 3.609375 -1.101563 \"/>\n</symbol>\n<symbol overflow=\"visible\" id=\"glyph0-6\">\n<path style=\"stroke:none;\" d=\"M 0.464844 -3.628906 C 0.460938 -4.972656 0.835938 -5.96875 1.585938 -6.617188 C 2.207031 -7.148438 2.96875 -7.417969 3.867188 -7.421875 C 4.867188 -7.417969 5.683594 -7.089844 6.316406 -6.441406 C 6.949219 -5.785156 7.265625 -4.882813 7.265625 -3.734375 C 7.265625 -2.796875 7.125 -2.0625 6.84375 -1.527344 C 6.5625 -0.992188 6.152344 -0.578125 5.621094 -0.28125 C 5.082031 0.015625 4.5 0.164063 3.867188 0.164063 C 2.851563 0.164063 2.027344 -0.160156 1.402344 -0.8125 C 0.773438 -1.460938 0.460938 -2.398438 0.464844 -3.628906 Z M 1.730469 -3.628906 C 1.726563 -2.695313 1.929688 -2 2.335938 -1.539063 C 2.738281 -1.074219 3.25 -0.84375 3.867188 -0.847656 C 4.476563 -0.84375 4.984375 -1.074219 5.390625 -1.542969 C 5.796875 -2.003906 6 -2.714844 6 -3.671875 C 6 -4.566406 5.792969 -5.246094 5.386719 -5.710938 C 4.976563 -6.171875 4.472656 -6.402344 3.867188 -6.40625 C 3.25 -6.402344 2.738281 -6.171875 2.335938 -5.714844 C 1.929688 -5.25 1.726563 -4.554688 1.730469 -3.628906 Z M 1.730469 -3.628906 \"/>\n</symbol>\n<symbol overflow=\"visible\" id=\"glyph0-7\">\n<path style=\"stroke:none;\" d=\"M 0.695313 0.601563 L 1.894531 0.78125 C 1.941406 1.144531 2.082031 1.414063 2.3125 1.585938 C 2.613281 1.8125 3.03125 1.925781 3.5625 1.929688 C 4.128906 1.925781 4.566406 1.8125 4.878906 1.585938 C 5.1875 1.355469 5.398438 1.035156 5.507813 0.628906 C 5.570313 0.375 5.597656 -0.148438 5.597656 -0.949219 C 5.058594 -0.316406 4.390625 0 3.589844 0 C 2.589844 0 1.816406 -0.359375 1.273438 -1.078125 C 0.722656 -1.796875 0.449219 -2.660156 0.453125 -3.671875 C 0.449219 -4.363281 0.574219 -5.003906 0.828125 -5.589844 C 1.074219 -6.175781 1.4375 -6.625 1.917969 -6.945313 C 2.390625 -7.257813 2.949219 -7.417969 3.59375 -7.421875 C 4.449219 -7.417969 5.15625 -7.070313 5.714844 -6.382813 L 5.714844 -7.257813 L 6.851563 -7.257813 L 6.851563 -0.984375 C 6.847656 0.144531 6.734375 0.945313 6.503906 1.417969 C 6.273438 1.886719 5.90625 2.257813 5.410156 2.535156 C 4.910156 2.804688 4.296875 2.941406 3.570313 2.945313 C 2.699219 2.941406 2 2.746094 1.46875 2.359375 C 0.933594 1.96875 0.675781 1.382813 0.695313 0.601563 Z M 1.714844 -3.757813 C 1.710938 -2.804688 1.898438 -2.113281 2.28125 -1.675781 C 2.65625 -1.238281 3.132813 -1.019531 3.703125 -1.019531 C 4.269531 -1.019531 4.742188 -1.234375 5.128906 -1.671875 C 5.507813 -2.101563 5.699219 -2.785156 5.703125 -3.71875 C 5.699219 -4.605469 5.503906 -5.273438 5.109375 -5.726563 C 4.714844 -6.175781 4.238281 -6.402344 3.683594 -6.40625 C 3.132813 -6.402344 2.667969 -6.179688 2.289063 -5.738281 C 1.902344 -5.289063 1.710938 -4.628906 1.714844 -3.757813 Z M 1.714844 -3.757813 \"/>\n</symbol>\n<symbol overflow=\"visible\" id=\"glyph0-8\">\n<path style=\"stroke:none;\" d=\"M 5.679688 0 L 5.679688 -1.066406 C 5.109375 -0.246094 4.34375 0.164063 3.375 0.164063 C 2.945313 0.164063 2.542969 0.0820313 2.175781 -0.0820313 C 1.800781 -0.246094 1.527344 -0.449219 1.347656 -0.699219 C 1.167969 -0.945313 1.039063 -1.25 0.96875 -1.613281 C 0.914063 -1.851563 0.890625 -2.234375 0.894531 -2.761719 L 0.894531 -7.257813 L 2.125 -7.257813 L 2.125 -3.234375 C 2.121094 -2.589844 2.148438 -2.15625 2.203125 -1.933594 C 2.277344 -1.609375 2.4375 -1.355469 2.691406 -1.171875 C 2.941406 -0.984375 3.253906 -0.890625 3.625 -0.894531 C 3.988281 -0.890625 4.332031 -0.984375 4.660156 -1.175781 C 4.980469 -1.363281 5.210938 -1.621094 5.347656 -1.949219 C 5.480469 -2.273438 5.546875 -2.746094 5.550781 -3.371094 L 5.550781 -7.257813 L 6.78125 -7.257813 L 6.78125 0 Z M 5.679688 0 \"/>\n</symbol>\n<symbol overflow=\"visible\" id=\"glyph0-9\">\n<path style=\"stroke:none;\" d=\"M 0.921875 0 L 0.921875 -7.257813 L 2.03125 -7.257813 L 2.03125 -6.226563 C 2.558594 -7.019531 3.328125 -7.417969 4.339844 -7.421875 C 4.773438 -7.417969 5.175781 -7.339844 5.546875 -7.1875 C 5.910156 -7.027344 6.183594 -6.820313 6.371094 -6.570313 C 6.550781 -6.3125 6.679688 -6.011719 6.753906 -5.660156 C 6.796875 -5.433594 6.820313 -5.035156 6.820313 -4.464844 L 6.820313 0 L 5.59375 0 L 5.59375 -4.414063 C 5.589844 -4.914063 5.542969 -5.289063 5.449219 -5.539063 C 5.351563 -5.785156 5.179688 -5.984375 4.9375 -6.136719 C 4.691406 -6.28125 4.40625 -6.355469 4.082031 -6.359375 C 3.554688 -6.355469 3.101563 -6.191406 2.722656 -5.859375 C 2.339844 -5.523438 2.148438 -4.890625 2.152344 -3.964844 L 2.152344 0 Z M 0.921875 0 \"/>\n</symbol>\n<symbol overflow=\"visible\" id=\"glyph0-10\">\n<path style=\"stroke:none;\" d=\"M 5.632813 0 L 5.632813 -0.914063 C 5.167969 -0.195313 4.492188 0.164063 3.601563 0.164063 C 3.019531 0.164063 2.488281 0.0078125 2.003906 -0.3125 C 1.519531 -0.628906 1.140625 -1.074219 0.875 -1.648438 C 0.605469 -2.21875 0.472656 -2.878906 0.476563 -3.625 C 0.472656 -4.347656 0.59375 -5.003906 0.839844 -5.59375 C 1.078125 -6.183594 1.441406 -6.636719 1.925781 -6.949219 C 2.40625 -7.261719 2.945313 -7.417969 3.546875 -7.421875 C 3.980469 -7.417969 4.371094 -7.324219 4.714844 -7.144531 C 5.054688 -6.957031 5.332031 -6.71875 5.550781 -6.425781 L 5.550781 -10.023438 L 6.773438 -10.023438 L 6.773438 0 Z M 1.742188 -3.625 C 1.738281 -2.691406 1.933594 -1.996094 2.328125 -1.535156 C 2.71875 -1.074219 3.183594 -0.84375 3.71875 -0.847656 C 4.253906 -0.84375 4.710938 -1.0625 5.085938 -1.507813 C 5.460938 -1.945313 5.648438 -2.617188 5.652344 -3.519531 C 5.648438 -4.511719 5.457031 -5.242188 5.078125 -5.707031 C 4.691406 -6.171875 4.21875 -6.402344 3.664063 -6.40625 C 3.113281 -6.402344 2.65625 -6.179688 2.292969 -5.734375 C 1.921875 -5.285156 1.738281 -4.582031 1.742188 -3.625 Z M 1.742188 -3.625 \"/>\n</symbol>\n<symbol overflow=\"visible\" id=\"glyph0-11\">\n<path style=\"stroke:none;\" d=\"M 5.660156 -2.660156 L 6.871094 -2.5 C 6.734375 -1.664063 6.394531 -1.011719 5.855469 -0.542969 C 5.308594 -0.0703125 4.640625 0.164063 3.847656 0.164063 C 2.851563 0.164063 2.054688 -0.160156 1.453125 -0.808594 C 0.847656 -1.457031 0.542969 -2.386719 0.546875 -3.601563 C 0.542969 -4.382813 0.675781 -5.070313 0.9375 -5.660156 C 1.195313 -6.246094 1.589844 -6.683594 2.121094 -6.980469 C 2.652344 -7.269531 3.230469 -7.417969 3.855469 -7.421875 C 4.644531 -7.417969 5.289063 -7.21875 5.789063 -6.824219 C 6.289063 -6.421875 6.609375 -5.855469 6.753906 -5.125 L 5.558594 -4.941406 C 5.441406 -5.425781 5.238281 -5.792969 4.953125 -6.042969 C 4.660156 -6.285156 4.3125 -6.410156 3.902344 -6.414063 C 3.28125 -6.410156 2.777344 -6.1875 2.390625 -5.746094 C 2.003906 -5.296875 1.808594 -4.59375 1.8125 -3.636719 C 1.808594 -2.65625 1.996094 -1.945313 2.371094 -1.507813 C 2.742188 -1.0625 3.230469 -0.84375 3.835938 -0.847656 C 4.316406 -0.84375 4.71875 -0.992188 5.042969 -1.289063 C 5.367188 -1.585938 5.574219 -2.042969 5.660156 -2.660156 Z M 5.660156 -2.660156 \"/>\n</symbol>\n</g>\n</defs>\n<g id=\"surface596\">\n<rect x=\"0\" y=\"0\" width=\"200\" height=\"200\" style=\"fill:rgb(100%,100%,100%);fill-opacity:1;stroke:none;\"/>\n<path style=\"fill:none;stroke-width:1;stroke-linecap:butt;stroke-linejoin:miter;stroke:rgb(0%,0%,0%);stroke-opacity:1;stroke-miterlimit:10;\" d=\"M 159.925781 177.191406 L 177.199219 151.210938 \"/>\n<path style=\"fill:none;stroke-width:1;stroke-linecap:butt;stroke-linejoin:miter;stroke:rgb(0%,0%,0%);stroke-opacity:1;stroke-miterlimit:10;\" d=\"M 180 119.457031 L 177.199219 151.210938 \"/>\n<path style=\"fill:none;stroke-width:1;stroke-linecap:butt;stroke-linejoin:miter;stroke:rgb(0%,0%,0%);stroke-opacity:1;stroke-miterlimit:10;\" d=\"M 180 119.457031 L 150.226563 103.976563 \"/>\n<path style=\"fill:none;stroke-width:1;stroke-linecap:butt;stroke-linejoin:miter;stroke:rgb(0%,0%,0%);stroke-opacity:1;stroke-miterlimit:10;\" d=\"M 112.199219 110.757813 L 150.226563 103.976563 \"/>\n<path style=\"fill:none;stroke-width:1;stroke-linecap:butt;stroke-linejoin:miter;stroke:rgb(0%,0%,0%);stroke-opacity:1;stroke-miterlimit:10;\" d=\"M 112.199219 110.757813 L 94.757813 77.066406 \"/>\n<path style=\"fill:none;stroke-width:1;stroke-linecap:butt;stroke-linejoin:miter;stroke:rgb(0%,0%,0%);stroke-opacity:1;stroke-miterlimit:10;\" d=\"M 66.984375 55.117188 L 94.757813 77.066406 \"/>\n<path style=\"fill:none;stroke-width:1;stroke-linecap:butt;stroke-linejoin:miter;stroke:rgb(0%,0%,0%);stroke-opacity:1;stroke-miterlimit:10;\" d=\"M 66.984375 55.117188 L 34.6875 65.890625 \"/>\n<path style=\"fill:none;stroke-width:1;stroke-linecap:butt;stroke-linejoin:miter;stroke:rgb(0%,0%,0%);stroke-opacity:1;stroke-miterlimit:10;\" d=\"M 20.261719 96.054688 L 34.6875 65.890625 \"/>\n<path style=\"fill:none;stroke-width:1;stroke-linecap:butt;stroke-linejoin:miter;stroke:rgb(0%,0%,0%);stroke-opacity:1;stroke-miterlimit:10;\" d=\"M 27.277344 158.308594 L 20 128.917969 \"/>\n<path style=\"fill:none;stroke-width:1;stroke-linecap:butt;stroke-linejoin:miter;stroke:rgb(0%,0%,0%);stroke-opacity:1;stroke-miterlimit:10;\" d=\"M 20.261719 96.054688 L 20 128.917969 \"/>\n<path style=\"fill:none;stroke-width:1;stroke-linecap:butt;stroke-linejoin:miter;stroke:rgb(0%,0%,0%);stroke-opacity:1;stroke-miterlimit:10;\" d=\"M 112.199219 110.757813 L 98.742188 148.210938 \"/>\n<path style=\"fill:none;stroke-width:1;stroke-linecap:butt;stroke-linejoin:miter;stroke:rgb(0%,0%,0%);stroke-opacity:1;stroke-miterlimit:10;\" d=\"M 89.917969 180 L 98.742188 148.210938 \"/>\n<path style=\"fill-rule:nonzero;fill:rgb(100%,100%,0%);fill-opacity:1;stroke-width:1;stroke-linecap:butt;stroke-linejoin:miter;stroke:rgb(0%,0%,0%);stroke-opacity:1;stroke-miterlimit:10;\" d=\"M 37.277344 158.308594 C 37.277344 163.828125 32.800781 168.308594 27.277344 168.308594 C 21.757813 168.308594 17.277344 163.828125 17.277344 158.308594 C 17.277344 152.785156 21.757813 148.308594 27.277344 148.308594 C 32.800781 148.308594 37.277344 152.785156 37.277344 158.308594 \"/>\n<path style=\"fill-rule:nonzero;fill:rgb(100%,100%,0%);fill-opacity:1;stroke-width:1;stroke-linecap:butt;stroke-linejoin:miter;stroke:rgb(0%,0%,0%);stroke-opacity:1;stroke-miterlimit:10;\" d=\"M 169.925781 177.191406 C 169.925781 182.714844 165.449219 187.191406 159.925781 187.191406 C 154.40625 187.191406 149.925781 182.714844 149.925781 177.191406 C 149.925781 171.667969 154.40625 167.191406 159.925781 167.191406 C 165.449219 167.191406 169.925781 171.667969 169.925781 177.191406 \"/>\n<path style=\"fill-rule:nonzero;fill:rgb(100%,100%,0%);fill-opacity:1;stroke-width:1;stroke-linecap:butt;stroke-linejoin:miter;stroke:rgb(0%,0%,0%);stroke-opacity:1;stroke-miterlimit:10;\" d=\"M 190 119.457031 C 190 124.980469 185.523438 129.457031 180 129.457031 C 174.476563 129.457031 170 124.980469 170 119.457031 C 170 113.933594 174.476563 109.457031 180 109.457031 C 185.523438 109.457031 190 113.933594 190 119.457031 \"/>\n<path style=\"fill-rule:nonzero;fill:rgb(100%,0%,0%);fill-opacity:1;stroke-width:1;stroke-linecap:butt;stroke-linejoin:miter;stroke:rgb(0%,0%,0%);stroke-opacity:1;stroke-miterlimit:10;\" d=\"M 122.199219 110.757813 C 122.199219 116.28125 117.71875 120.757813 112.199219 120.757813 C 106.675781 120.757813 102.199219 116.28125 102.199219 110.757813 C 102.199219 105.234375 106.675781 100.757813 112.199219 100.757813 C 117.71875 100.757813 122.199219 105.234375 122.199219 110.757813 \"/>\n<path style=\"fill-rule:nonzero;fill:rgb(100%,100%,0%);fill-opacity:1;stroke-width:1;stroke-linecap:butt;stroke-linejoin:miter;stroke:rgb(0%,0%,0%);stroke-opacity:1;stroke-miterlimit:10;\" d=\"M 76.984375 55.117188 C 76.984375 60.640625 72.503906 65.117188 66.984375 65.117188 C 61.460938 65.117188 56.984375 60.640625 56.984375 55.117188 C 56.984375 49.59375 61.460938 45.117188 66.984375 45.117188 C 72.503906 45.117188 76.984375 49.59375 76.984375 55.117188 \"/>\n<path style=\"fill-rule:nonzero;fill:rgb(100%,100%,0%);fill-opacity:1;stroke-width:1;stroke-linecap:butt;stroke-linejoin:miter;stroke:rgb(0%,0%,0%);stroke-opacity:1;stroke-miterlimit:10;\" d=\"M 30.261719 96.054688 C 30.261719 101.578125 25.785156 106.054688 20.261719 106.054688 C 14.738281 106.054688 10.261719 101.578125 10.261719 96.054688 C 10.261719 90.53125 14.738281 86.054688 20.261719 86.054688 C 25.785156 86.054688 30.261719 90.53125 30.261719 96.054688 \"/>\n<path style=\"fill-rule:nonzero;fill:rgb(100%,100%,0%);fill-opacity:1;stroke-width:1;stroke-linecap:butt;stroke-linejoin:miter;stroke:rgb(0%,0%,0%);stroke-opacity:1;stroke-miterlimit:10;\" d=\"M 99.917969 180 C 99.917969 185.523438 95.441406 190 89.917969 190 C 84.394531 190 79.917969 185.523438 79.917969 180 C 79.917969 174.476563 84.394531 170 89.917969 170 C 95.441406 170 99.917969 174.476563 99.917969 180 \"/>\n<path style=\"fill-rule:nonzero;fill:rgb(0%,100%,0%);fill-opacity:1;stroke-width:1;stroke-linecap:butt;stroke-linejoin:miter;stroke:rgb(0%,0%,0%);stroke-opacity:1;stroke-miterlimit:10;\" d=\"M 182.761719 48.019531 C 182.761719 53.542969 178.28125 58.019531 172.761719 58.019531 C 167.238281 58.019531 162.761719 53.542969 162.761719 48.019531 C 162.761719 42.5 167.238281 38.019531 172.761719 38.019531 C 178.28125 38.019531 182.761719 42.5 182.761719 48.019531 \"/>\n<path style=\"fill-rule:nonzero;fill:rgb(0%,100%,0%);fill-opacity:1;stroke-width:1;stroke-linecap:butt;stroke-linejoin:miter;stroke:rgb(0%,0%,0%);stroke-opacity:1;stroke-miterlimit:10;\" d=\"M 128.261719 20 C 128.261719 25.523438 123.78125 30 118.261719 30 C 112.738281 30 108.261719 25.523438 108.261719 20 C 108.261719 14.476563 112.738281 10 118.261719 10 C 123.78125 10 128.261719 14.476563 128.261719 20 \"/>\n<path style=\"fill-rule:nonzero;fill:rgb(100%,75.294118%,79.607843%);fill-opacity:1;stroke-width:1;stroke-linecap:butt;stroke-linejoin:miter;stroke:rgb(0%,0%,0%);stroke-opacity:1;stroke-miterlimit:10;\" d=\"M 187.199219 151.210938 C 187.199219 156.734375 182.722656 161.210938 177.199219 161.210938 C 171.675781 161.210938 167.199219 156.734375 167.199219 151.210938 C 167.199219 145.6875 171.675781 141.210938 177.199219 141.210938 C 182.722656 141.210938 187.199219 145.6875 187.199219 151.210938 \"/>\n<path style=\"fill-rule:nonzero;fill:rgb(100%,75.294118%,79.607843%);fill-opacity:1;stroke-width:1;stroke-linecap:butt;stroke-linejoin:miter;stroke:rgb(0%,0%,0%);stroke-opacity:1;stroke-miterlimit:10;\" d=\"M 160.226563 103.976563 C 160.226563 109.5 155.75 113.976563 150.226563 113.976563 C 144.703125 113.976563 140.226563 109.5 140.226563 103.976563 C 140.226563 98.453125 144.703125 93.976563 150.226563 93.976563 C 155.75 93.976563 160.226563 98.453125 160.226563 103.976563 \"/>\n<path style=\"fill-rule:nonzero;fill:rgb(100%,75.294118%,79.607843%);fill-opacity:1;stroke-width:1;stroke-linecap:butt;stroke-linejoin:miter;stroke:rgb(0%,0%,0%);stroke-opacity:1;stroke-miterlimit:10;\" d=\"M 104.757813 77.066406 C 104.757813 82.589844 100.277344 87.066406 94.757813 87.066406 C 89.234375 87.066406 84.757813 82.589844 84.757813 77.066406 C 84.757813 71.542969 89.234375 67.066406 94.757813 67.066406 C 100.277344 67.066406 104.757813 71.542969 104.757813 77.066406 \"/>\n<path style=\"fill-rule:nonzero;fill:rgb(100%,75.294118%,79.607843%);fill-opacity:1;stroke-width:1;stroke-linecap:butt;stroke-linejoin:miter;stroke:rgb(0%,0%,0%);stroke-opacity:1;stroke-miterlimit:10;\" d=\"M 44.6875 65.890625 C 44.6875 71.414063 40.210938 75.890625 34.6875 75.890625 C 29.164063 75.890625 24.6875 71.414063 24.6875 65.890625 C 24.6875 60.367188 29.164063 55.890625 34.6875 55.890625 C 40.210938 55.890625 44.6875 60.367188 44.6875 65.890625 \"/>\n<path style=\"fill-rule:nonzero;fill:rgb(100%,75.294118%,79.607843%);fill-opacity:1;stroke-width:1;stroke-linecap:butt;stroke-linejoin:miter;stroke:rgb(0%,0%,0%);stroke-opacity:1;stroke-miterlimit:10;\" d=\"M 30 128.917969 C 30 134.441406 25.523438 138.917969 20 138.917969 C 14.476563 138.917969 10 134.441406 10 128.917969 C 10 123.394531 14.476563 118.917969 20 118.917969 C 25.523438 118.917969 30 123.394531 30 128.917969 \"/>\n<path style=\"fill-rule:nonzero;fill:rgb(100%,75.294118%,79.607843%);fill-opacity:1;stroke-width:1;stroke-linecap:butt;stroke-linejoin:miter;stroke:rgb(0%,0%,0%);stroke-opacity:1;stroke-miterlimit:10;\" d=\"M 108.742188 148.210938 C 108.742188 153.734375 104.265625 158.210938 98.742188 158.210938 C 93.21875 158.210938 88.742188 153.734375 88.742188 148.210938 C 88.742188 142.6875 93.21875 138.210938 98.742188 138.210938 C 104.265625 138.210938 108.742188 142.6875 108.742188 148.210938 \"/>\n<g style=\"fill:rgb(0%,0%,0%);fill-opacity:1;\">\n  <use xlink:href=\"#glyph0-1\" x=\"149.261719\" y=\"54.53125\"/>\n  <use xlink:href=\"#glyph0-2\" x=\"153.923828\" y=\"54.53125\"/>\n  <use xlink:href=\"#glyph0-3\" x=\"161.709961\" y=\"54.53125\"/>\n  <use xlink:href=\"#glyph0-4\" x=\"168.709961\" y=\"54.53125\"/>\n  <use xlink:href=\"#glyph0-3\" x=\"171.820313\" y=\"54.53125\"/>\n  <use xlink:href=\"#glyph0-5\" x=\"178.820313\" y=\"54.53125\"/>\n  <use xlink:href=\"#glyph0-6\" x=\"182.709961\" y=\"54.53125\"/>\n  <use xlink:href=\"#glyph0-1\" x=\"190.496094\" y=\"54.53125\"/>\n</g>\n<g style=\"fill:rgb(0%,0%,0%);fill-opacity:1;\">\n  <use xlink:href=\"#glyph0-7\" x=\"96.742188\" y=\"26.511719\"/>\n  <use xlink:href=\"#glyph0-1\" x=\"104.52832\" y=\"26.511719\"/>\n  <use xlink:href=\"#glyph0-6\" x=\"109.19043\" y=\"26.511719\"/>\n  <use xlink:href=\"#glyph0-8\" x=\"116.976563\" y=\"26.511719\"/>\n  <use xlink:href=\"#glyph0-9\" x=\"124.762695\" y=\"26.511719\"/>\n  <use xlink:href=\"#glyph0-10\" x=\"132.548828\" y=\"26.511719\"/>\n</g>\n<g style=\"fill:rgb(0%,0%,0%);fill-opacity:1;\">\n  <use xlink:href=\"#glyph0-11\" x=\"166.121094\" y=\"156.421875\"/>\n  <use xlink:href=\"#glyph0-6\" x=\"173.121094\" y=\"156.421875\"/>\n  <use xlink:href=\"#glyph0-9\" x=\"180.907227\" y=\"156.421875\"/>\n</g>\n<g style=\"fill:rgb(0%,0%,0%);fill-opacity:1;\">\n  <use xlink:href=\"#glyph0-11\" x=\"139.148438\" y=\"109.1875\"/>\n  <use xlink:href=\"#glyph0-6\" x=\"146.148438\" y=\"109.1875\"/>\n  <use xlink:href=\"#glyph0-9\" x=\"153.93457\" y=\"109.1875\"/>\n</g>\n<g style=\"fill:rgb(0%,0%,0%);fill-opacity:1;\">\n  <use xlink:href=\"#glyph0-11\" x=\"83.679688\" y=\"82.277344\"/>\n  <use xlink:href=\"#glyph0-6\" x=\"90.679688\" y=\"82.277344\"/>\n  <use xlink:href=\"#glyph0-9\" x=\"98.46582\" y=\"82.277344\"/>\n</g>\n<g style=\"fill:rgb(0%,0%,0%);fill-opacity:1;\">\n  <use xlink:href=\"#glyph0-11\" x=\"23.609375\" y=\"71.101563\"/>\n  <use xlink:href=\"#glyph0-6\" x=\"30.609375\" y=\"71.101563\"/>\n  <use xlink:href=\"#glyph0-9\" x=\"38.395508\" y=\"71.101563\"/>\n</g>\n<g style=\"fill:rgb(0%,0%,0%);fill-opacity:1;\">\n  <use xlink:href=\"#glyph0-11\" x=\"8.921875\" y=\"134.128906\"/>\n  <use xlink:href=\"#glyph0-6\" x=\"15.921875\" y=\"134.128906\"/>\n  <use xlink:href=\"#glyph0-9\" x=\"23.708008\" y=\"134.128906\"/>\n</g>\n<g style=\"fill:rgb(0%,0%,0%);fill-opacity:1;\">\n  <use xlink:href=\"#glyph0-11\" x=\"87.664063\" y=\"153.421875\"/>\n  <use xlink:href=\"#glyph0-6\" x=\"94.664063\" y=\"153.421875\"/>\n  <use xlink:href=\"#glyph0-9\" x=\"102.450195\" y=\"153.421875\"/>\n</g>\n</g>\n</svg>\n",
      "text/plain": [
       "<igraph.drawing.Plot at 0x263fbfb53a0>"
      ]
     },
     "execution_count": 236,
     "metadata": {
      "image/svg+xml": {
       "isolated": true
      }
     },
     "output_type": "execute_result"
    }
   ],
   "source": [
    "#for every Edge\n",
    "#freeze graph\n",
    "frozenGraph = copy.deepcopy(graph)\n",
    "for edge in frozenGraph.ed.values():\n",
    "\n",
    "    #get Vertices connected to Edge\n",
    "    vertices = graph.getVerticesForEdge(edge.id)\n",
    "    \n",
    "    #insert Connection Vertex\n",
    "    connection = Vertex(\n",
    "        color=CONNECTION_COLOR,\n",
    "        label=\"con\",\n",
    "        attr={\n",
    "            \"from\"  :vertices[0].attr[\"coordinates\"],\n",
    "            \"to\"    :vertices[1].attr[\"coordinates\"],\n",
    "        }\n",
    "    )\n",
    "    graph.insertVertexByEdge(edge.id,connection)\n",
    "\n",
    "\n",
    "igraphUnion = utils.convertToIgraph(graph)\n",
    "layout = igraphUnion.layout(\"fr\") #\"large_graph\"\n",
    "igraph.plot(igraphUnion, layout=layout,bbox = (200,200))\n"
   ]
  },
  {
   "cell_type": "markdown",
   "metadata": {},
   "source": [
    "### Draw the Cuircit"
   ]
  },
  {
   "cell_type": "code",
   "execution_count": 237,
   "metadata": {},
   "outputs": [
    {
     "data": {
      "text/html": [
       "<img src=\"data:image/svg+xml;base64,PD94bWwgdmVyc2lvbj0iMS4wIiBlbmNvZGluZz0iVVRGLTgiPz4KPHN2ZyB4bWxucz0iaHR0cDovL3d3dy53My5vcmcvMjAwMC9zdmciIHhtbG5zOnhsaW5rPSJodHRwOi8vd3d3LnczLm9yZy8xOTk5L3hsaW5rIgogICAgIHdpZHRoPSI1MDAiIGhlaWdodD0iNTAwIiB2aWV3Qm94PSIwIC01MDAgNTAwIDUwMCI+CjxkZWZzPgo8L2RlZnM+CjxyZWN0IHg9IjIwMC4wIiB5PSItNDcwLjAiIHdpZHRoPSI0MCIgaGVpZ2h0PSIyMCIgc3Ryb2tlPSIjMTI0OGZmIiAvPgo8cGF0aCBkPSJNMjAwLjAsLTQ2MC4wIEwyMDAsLTQ2MCIgc3Ryb2tlPSIjZmY0NDc3IiAvPgo8cGF0aCBkPSJNMjQwLjAsLTQ2MC4wIEwyNDAsLTQ2MCIgc3Ryb2tlPSIjZmY0NDc3IiAvPgo8cGF0aCBkPSJNMjgwLC0yMjAgTDI1MCwtMjIwIiBzdHJva2U9IiNmZjQ0NzciIC8+CjxwYXRoIGQ9Ik0yODAsLTIyMCBMMzEwLC0yMjAiIHN0cm9rZT0iI2ZmNDQ3NyIgLz4KPHBhdGggZD0iTTI0MCwtNDYwIEwyODAsLTQ2MCIgc3Ryb2tlPSIjZmY0NDc3IiAvPgo8cGF0aCBkPSJNMjgwLC00NjAgTDI4MCwtMjYwIiBzdHJva2U9IiNmZjQ0NzciIC8+CjxwYXRoIGQ9Ik0yODAsLTI2MCBMODAsLTI2MCIgc3Ryb2tlPSIjZmY0NDc3IiAvPgo8cGF0aCBkPSJNODAsLTI2MCBMODAsLTQ2MCIgc3Ryb2tlPSIjZmY0NDc3IiAvPgo8cGF0aCBkPSJNMjAwLC00NjAgTDgwLC00NjAiIHN0cm9rZT0iI2ZmNDQ3NyIgLz4KPHBhdGggZD0iTTI4MCwtMjYwIEwyODAsLTIyMCIgc3Ryb2tlPSIjZmY0NDc3IiAvPgo8Y2lyY2xlIGN4PSIyODAiIGN5PSItMjYwIiByPSI1IiAvPgo8L3N2Zz4=\">"
      ],
      "text/plain": [
       "<drawSvg.drawing.Drawing at 0x263fd00aa30>"
      ]
     },
     "execution_count": 237,
     "metadata": {},
     "output_type": "execute_result"
    }
   ],
   "source": [
    "\n",
    "width,height = 500,500\n",
    "d = draw.Drawing(width, height,displayInline=False)\n",
    "\n",
    "relativeFactor = 40\n",
    "\n",
    "\n",
    "def drawResistor(resistorVertex):\n",
    "\n",
    "    resistorWidth = relativeFactor\n",
    "    resistorHeight = 20\n",
    "\n",
    "    coordinates = [resistorVertex.attr[\"coordinates\"][0]*relativeFactor,resistorVertex.attr[\"coordinates\"][1]*relativeFactor]\n",
    "    \n",
    "    d.append(draw.Rectangle(coordinates[0]-resistorWidth/2,height-coordinates[1]-resistorHeight/2,resistorWidth,resistorHeight, stroke='#1248ff'))\n",
    "\n",
    "    #connect Resistor to connectionpoints\n",
    "    connectionPoint1 = [coordinates[0]-resistorWidth/2,coordinates[1]]\n",
    "    to1 = resistorVertex.attr[\"connectionMap\"][0]\n",
    "\n",
    "    connectionPoint2 = [coordinates[0]+resistorWidth/2,coordinates[1]]\n",
    "    to2 = resistorVertex.attr[\"connectionMap\"][1]\n",
    "\n",
    "    d.append(draw.Lines(connectionPoint1[0],height-connectionPoint1[1], to1[0]*relativeFactor, height-to1[1]*relativeFactor ,stroke=\"#ff4477\"))\n",
    "    d.append(draw.Lines(connectionPoint2[0],height-connectionPoint2[1], to2[0]*relativeFactor, height-to2[1]*relativeFactor ,stroke=\"#ff4477\"))\n",
    "\n",
    "\n",
    "def drawWire(connectionVertex):\n",
    "    from_ = connectionVertex.attr[\"from\"]\n",
    "    to_ = connectionVertex.attr[\"to\"]\n",
    "    d.append(draw.Lines(from_[0]*relativeFactor, height-from_[1]*relativeFactor, to_[0]*relativeFactor,width-to_[1]*relativeFactor,stroke=\"#ff4477\"))\n",
    "\n",
    "\n",
    "def drawGround(groundVertex):\n",
    "    groundSize = 30\n",
    "\n",
    "    coordinates = [groundVertex.attr[\"connectionMap\"][0][0]*relativeFactor,groundVertex.attr[\"connectionMap\"][0][1]*relativeFactor]\n",
    "\n",
    "    d.append(draw.Lines(coordinates[0],height-coordinates[1], coordinates[0]-groundSize, height-coordinates[1] ,stroke=\"#ff4477\"))\n",
    "    d.append(draw.Lines(coordinates[0],height-coordinates[1], coordinates[0]+groundSize, height-coordinates[1] ,stroke=\"#ff4477\"))\n",
    "\n",
    "def drawIntersection(intersectionVertex):\n",
    "    coordinates = [intersectionVertex.attr[\"coordinates\"][0]*relativeFactor,intersectionVertex.attr[\"coordinates\"][1]*relativeFactor]\n",
    "\n",
    "    d.append(draw.Circle(coordinates[0],height-coordinates[1],5))\n",
    "\n",
    "for vertex in graph.ve.values():\n",
    "    if not vertex.color == COMPONENT_COLOR:\n",
    "        continue\n",
    "    if vertex.attr[\"type\"] == \"resistor\":\n",
    "        drawResistor(vertex)\n",
    "    elif vertex.attr[\"type\"] == \"ground\":\n",
    "        drawGround(vertex)\n",
    "for vertex in graph.ve.values():\n",
    "    if not vertex.color == CONNECTION_COLOR:\n",
    "        continue\n",
    "    drawWire(vertex)\n",
    "for vertex in graph.ve.values():\n",
    "    if not vertex.color == INTERSECTION_COLOR:\n",
    "        continue\n",
    "    drawIntersection(vertex)\n",
    "d"
   ]
  },
  {
   "cell_type": "code",
   "execution_count": null,
   "metadata": {},
   "outputs": [],
   "source": []
  }
 ],
 "metadata": {
  "interpreter": {
   "hash": "8d5f16fa311e9108f7b45528f5d2ae06d943147531887e316d30e7954f06f46e"
  },
  "kernelspec": {
   "display_name": "Python 3.9.7 64-bit",
   "language": "python",
   "name": "python3"
  },
  "language_info": {
   "codemirror_mode": {
    "name": "ipython",
    "version": 3
   },
   "file_extension": ".py",
   "mimetype": "text/x-python",
   "name": "python",
   "nbconvert_exporter": "python",
   "pygments_lexer": "ipython3",
   "version": "3.9.7"
  },
  "orig_nbformat": 4
 },
 "nbformat": 4,
 "nbformat_minor": 2
}
