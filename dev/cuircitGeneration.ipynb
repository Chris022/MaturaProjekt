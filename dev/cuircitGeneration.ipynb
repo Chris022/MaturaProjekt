{
 "cells": [
  {
   "cell_type": "code",
   "execution_count": 1,
   "metadata": {},
   "outputs": [
    {
     "name": "stderr",
     "output_type": "stream",
     "text": [
      "C:\\Users\\Christoph Weberbauer\\AppData\\Local\\Programs\\Python\\Python39\\lib\\site-packages\\drawSvg\\raster.py:18: RuntimeWarning: Failed to import CairoSVG. drawSvg will be unable to output PNG or other raster image formats. See https://github.com/cduck/drawSvg#prerequisites for more details.\n",
      "Original OSError: no library called \"cairo-2\" was found\n",
      "no library called \"cairo\" was found\n",
      "cannot load library 'C:\\GTK\\bin\\libcairo-2.dll': error 0xc1\n",
      "cannot load library 'libcairo.so.2': error 0x7e\n",
      "cannot load library 'libcairo.2.dylib': error 0x7e\n",
      "cannot load library 'libcairo-2.dll': error 0x7f\n",
      "  warnings.warn(msg, RuntimeWarning)\n"
     ]
    }
   ],
   "source": [
    "import sys\n",
    "sys.path.append('../')\n",
    "\n",
    "import lib.graphLib.graph as g\n",
    "from lib.graphLib.vertex import Vertex\n",
    "from lib.graphLib.edge import Edge\n",
    "\n",
    "from lib.constants import *\n",
    "import lib.utils as utils\n",
    "\n",
    "import igraph\n",
    "import copy\n",
    "import drawSvg as draw\n",
    "import math"
   ]
  },
  {
   "cell_type": "markdown",
   "metadata": {},
   "source": [
    "##### Generate Test data"
   ]
  },
  {
   "cell_type": "code",
   "execution_count": 2,
   "metadata": {},
   "outputs": [
    {
     "data": {
      "image/svg+xml": "<?xml version=\"1.0\" encoding=\"UTF-8\"?>\n<svg xmlns=\"http://www.w3.org/2000/svg\" xmlns:xlink=\"http://www.w3.org/1999/xlink\" width=\"200pt\" height=\"200pt\" viewBox=\"0 0 200 200\" version=\"1.1\">\n<g id=\"surface2\">\n<rect x=\"0\" y=\"0\" width=\"200\" height=\"200\" style=\"fill:rgb(100%,100%,100%);fill-opacity:1;stroke:none;\"/>\n<path style=\"fill:none;stroke-width:1;stroke-linecap:butt;stroke-linejoin:miter;stroke:rgb(0%,0%,0%);stroke-opacity:1;stroke-miterlimit:10;\" d=\"M 29.398438 126.175781 L 45.097656 168.640625 \"/>\n<path style=\"fill:none;stroke-width:1;stroke-linecap:butt;stroke-linejoin:miter;stroke:rgb(0%,0%,0%);stroke-opacity:1;stroke-miterlimit:10;\" d=\"M 45.097656 168.640625 L 85.363281 180 \"/>\n<path style=\"fill:none;stroke-width:1;stroke-linecap:butt;stroke-linejoin:miter;stroke:rgb(0%,0%,0%);stroke-opacity:1;stroke-miterlimit:10;\" d=\"M 85.363281 180 L 102.730469 150.1875 \"/>\n<path style=\"fill:none;stroke-width:1;stroke-linecap:butt;stroke-linejoin:miter;stroke:rgb(0%,0%,0%);stroke-opacity:1;stroke-miterlimit:10;\" d=\"M 102.730469 150.1875 L 64.0625 152.121094 \"/>\n<path style=\"fill:none;stroke-width:1;stroke-linecap:butt;stroke-linejoin:miter;stroke:rgb(0%,0%,0%);stroke-opacity:1;stroke-miterlimit:10;\" d=\"M 64.0625 152.121094 L 20 151.53125 \"/>\n<path style=\"fill:none;stroke-width:1;stroke-linecap:butt;stroke-linejoin:miter;stroke:rgb(0%,0%,0%);stroke-opacity:1;stroke-miterlimit:10;\" d=\"M 29.398438 126.175781 L 20 151.53125 \"/>\n<path style=\"fill:none;stroke-width:1;stroke-linecap:butt;stroke-linejoin:miter;stroke:rgb(0%,0%,0%);stroke-opacity:1;stroke-miterlimit:10;\" d=\"M 102.730469 150.1875 L 121.425781 118.265625 \"/>\n<path style=\"fill:none;stroke-width:1;stroke-linecap:butt;stroke-linejoin:miter;stroke:rgb(0%,0%,0%);stroke-opacity:1;stroke-miterlimit:10;\" d=\"M 121.425781 118.265625 L 114.339844 81.046875 \"/>\n<path style=\"fill:none;stroke-width:1;stroke-linecap:butt;stroke-linejoin:miter;stroke:rgb(0%,0%,0%);stroke-opacity:1;stroke-miterlimit:10;\" d=\"M 114.339844 81.046875 L 75.089844 72.347656 \"/>\n<path style=\"fill:none;stroke-width:1;stroke-linecap:butt;stroke-linejoin:miter;stroke:rgb(0%,0%,0%);stroke-opacity:1;stroke-miterlimit:10;\" d=\"M 75.089844 72.347656 L 41.203125 90.761719 \"/>\n<path style=\"fill:none;stroke-width:1;stroke-linecap:butt;stroke-linejoin:miter;stroke:rgb(0%,0%,0%);stroke-opacity:1;stroke-miterlimit:10;\" d=\"M 29.398438 126.175781 L 41.203125 90.761719 \"/>\n<path style=\"fill:none;stroke-width:1;stroke-linecap:butt;stroke-linejoin:miter;stroke:rgb(0%,0%,0%);stroke-opacity:1;stroke-miterlimit:10;\" d=\"M 114.339844 81.046875 L 142.171875 55.652344 \"/>\n<path style=\"fill:none;stroke-width:1;stroke-linecap:butt;stroke-linejoin:miter;stroke:rgb(0%,0%,0%);stroke-opacity:1;stroke-miterlimit:10;\" d=\"M 142.171875 55.652344 L 141.601563 20 \"/>\n<path style=\"fill:none;stroke-width:1;stroke-linecap:butt;stroke-linejoin:miter;stroke:rgb(0%,0%,0%);stroke-opacity:1;stroke-miterlimit:10;\" d=\"M 142.171875 55.652344 L 180 55.691406 \"/>\n<path style=\"fill-rule:nonzero;fill:rgb(100%,0%,0%);fill-opacity:1;stroke-width:1;stroke-linecap:butt;stroke-linejoin:miter;stroke:rgb(0%,0%,0%);stroke-opacity:1;stroke-miterlimit:10;\" d=\"M 39.398438 126.175781 C 39.398438 131.695313 34.921875 136.175781 29.398438 136.175781 C 23.875 136.175781 19.398438 131.695313 19.398438 126.175781 C 19.398438 120.652344 23.875 116.175781 29.398438 116.175781 C 34.921875 116.175781 39.398438 120.652344 39.398438 126.175781 \"/>\n<path style=\"fill-rule:nonzero;fill:rgb(100%,100%,0%);fill-opacity:1;stroke-width:1;stroke-linecap:butt;stroke-linejoin:miter;stroke:rgb(0%,0%,0%);stroke-opacity:1;stroke-miterlimit:10;\" d=\"M 55.097656 168.640625 C 55.097656 174.164063 50.617188 178.640625 45.097656 178.640625 C 39.574219 178.640625 35.097656 174.164063 35.097656 168.640625 C 35.097656 163.117188 39.574219 158.640625 45.097656 158.640625 C 50.617188 158.640625 55.097656 163.117188 55.097656 168.640625 \"/>\n<path style=\"fill-rule:nonzero;fill:rgb(100%,100%,0%);fill-opacity:1;stroke-width:1;stroke-linecap:butt;stroke-linejoin:miter;stroke:rgb(0%,0%,0%);stroke-opacity:1;stroke-miterlimit:10;\" d=\"M 95.363281 180 C 95.363281 185.523438 90.886719 190 85.363281 190 C 79.84375 190 75.363281 185.523438 75.363281 180 C 75.363281 174.476563 79.84375 170 85.363281 170 C 90.886719 170 95.363281 174.476563 95.363281 180 \"/>\n<path style=\"fill-rule:nonzero;fill:rgb(100%,0%,0%);fill-opacity:1;stroke-width:1;stroke-linecap:butt;stroke-linejoin:miter;stroke:rgb(0%,0%,0%);stroke-opacity:1;stroke-miterlimit:10;\" d=\"M 112.730469 150.1875 C 112.730469 155.710938 108.253906 160.1875 102.730469 160.1875 C 97.207031 160.1875 92.730469 155.710938 92.730469 150.1875 C 92.730469 144.664063 97.207031 140.1875 102.730469 140.1875 C 108.253906 140.1875 112.730469 144.664063 112.730469 150.1875 \"/>\n<path style=\"fill-rule:nonzero;fill:rgb(100%,100%,0%);fill-opacity:1;stroke-width:1;stroke-linecap:butt;stroke-linejoin:miter;stroke:rgb(0%,0%,0%);stroke-opacity:1;stroke-miterlimit:10;\" d=\"M 74.0625 152.121094 C 74.0625 157.640625 69.582031 162.121094 64.0625 162.121094 C 58.539063 162.121094 54.0625 157.640625 54.0625 152.121094 C 54.0625 146.597656 58.539063 142.121094 64.0625 142.121094 C 69.582031 142.121094 74.0625 146.597656 74.0625 152.121094 \"/>\n<path style=\"fill-rule:nonzero;fill:rgb(100%,100%,0%);fill-opacity:1;stroke-width:1;stroke-linecap:butt;stroke-linejoin:miter;stroke:rgb(0%,0%,0%);stroke-opacity:1;stroke-miterlimit:10;\" d=\"M 30 151.53125 C 30 157.050781 25.523438 161.53125 20 161.53125 C 14.476563 161.53125 10 157.050781 10 151.53125 C 10 146.007813 14.476563 141.53125 20 141.53125 C 25.523438 141.53125 30 146.007813 30 151.53125 \"/>\n<path style=\"fill-rule:nonzero;fill:rgb(100%,100%,0%);fill-opacity:1;stroke-width:1;stroke-linecap:butt;stroke-linejoin:miter;stroke:rgb(0%,0%,0%);stroke-opacity:1;stroke-miterlimit:10;\" d=\"M 131.425781 118.265625 C 131.425781 123.789063 126.949219 128.265625 121.425781 128.265625 C 115.902344 128.265625 111.425781 123.789063 111.425781 118.265625 C 111.425781 112.742188 115.902344 108.265625 121.425781 108.265625 C 126.949219 108.265625 131.425781 112.742188 131.425781 118.265625 \"/>\n<path style=\"fill-rule:nonzero;fill:rgb(100%,0%,0%);fill-opacity:1;stroke-width:1;stroke-linecap:butt;stroke-linejoin:miter;stroke:rgb(0%,0%,0%);stroke-opacity:1;stroke-miterlimit:10;\" d=\"M 124.339844 81.046875 C 124.339844 86.570313 119.859375 91.046875 114.339844 91.046875 C 108.816406 91.046875 104.339844 86.570313 104.339844 81.046875 C 104.339844 75.523438 108.816406 71.046875 114.339844 71.046875 C 119.859375 71.046875 124.339844 75.523438 124.339844 81.046875 \"/>\n<path style=\"fill-rule:nonzero;fill:rgb(100%,100%,0%);fill-opacity:1;stroke-width:1;stroke-linecap:butt;stroke-linejoin:miter;stroke:rgb(0%,0%,0%);stroke-opacity:1;stroke-miterlimit:10;\" d=\"M 85.089844 72.347656 C 85.089844 77.871094 80.613281 82.347656 75.089844 82.347656 C 69.566406 82.347656 65.089844 77.871094 65.089844 72.347656 C 65.089844 66.824219 69.566406 62.347656 75.089844 62.347656 C 80.613281 62.347656 85.089844 66.824219 85.089844 72.347656 \"/>\n<path style=\"fill-rule:nonzero;fill:rgb(100%,100%,0%);fill-opacity:1;stroke-width:1;stroke-linecap:butt;stroke-linejoin:miter;stroke:rgb(0%,0%,0%);stroke-opacity:1;stroke-miterlimit:10;\" d=\"M 51.203125 90.761719 C 51.203125 96.285156 46.726563 100.761719 41.203125 100.761719 C 35.679688 100.761719 31.203125 96.285156 31.203125 90.761719 C 31.203125 85.238281 35.679688 80.761719 41.203125 80.761719 C 46.726563 80.761719 51.203125 85.238281 51.203125 90.761719 \"/>\n<path style=\"fill-rule:nonzero;fill:rgb(100%,0%,0%);fill-opacity:1;stroke-width:1;stroke-linecap:butt;stroke-linejoin:miter;stroke:rgb(0%,0%,0%);stroke-opacity:1;stroke-miterlimit:10;\" d=\"M 152.171875 55.652344 C 152.171875 61.171875 147.695313 65.652344 142.171875 65.652344 C 136.648438 65.652344 132.171875 61.171875 132.171875 55.652344 C 132.171875 50.128906 136.648438 45.652344 142.171875 45.652344 C 147.695313 45.652344 152.171875 50.128906 152.171875 55.652344 \"/>\n<path style=\"fill-rule:nonzero;fill:rgb(0%,0%,100%);fill-opacity:1;stroke-width:1;stroke-linecap:butt;stroke-linejoin:miter;stroke:rgb(0%,0%,0%);stroke-opacity:1;stroke-miterlimit:10;\" d=\"M 151.601563 20 C 151.601563 25.523438 147.125 30 141.601563 30 C 136.078125 30 131.601563 25.523438 131.601563 20 C 131.601563 14.476563 136.078125 10 141.601563 10 C 147.125 10 151.601563 14.476563 151.601563 20 \"/>\n<path style=\"fill-rule:nonzero;fill:rgb(0%,0%,100%);fill-opacity:1;stroke-width:1;stroke-linecap:butt;stroke-linejoin:miter;stroke:rgb(0%,0%,0%);stroke-opacity:1;stroke-miterlimit:10;\" d=\"M 190 55.691406 C 190 61.214844 185.523438 65.691406 180 65.691406 C 174.476563 65.691406 170 61.214844 170 55.691406 C 170 50.167969 174.476563 45.691406 180 45.691406 C 185.523438 45.691406 190 50.167969 190 55.691406 \"/>\n</g>\n</svg>\n",
      "text/plain": [
       "<igraph.drawing.Plot at 0x1b29ca6c460>"
      ]
     },
     "execution_count": 2,
     "metadata": {
      "image/svg+xml": {
       "isolated": true
      }
     },
     "output_type": "execute_result"
    }
   ],
   "source": [
    "graph = g.Graph()\n",
    "\n",
    "v0 = Vertex(\"red\",attr={\"coordinates\":[165,50]})\n",
    "v1 = Vertex(\"yellow\",attr={\"coordinates\":[169,57]})\n",
    "v2 = Vertex(\"yellow\",attr={\"coordinates\":[196,52]})\n",
    "v3 = Vertex(\"red\",attr={\"coordinates\":[197,50]})\n",
    "v4 = Vertex(\"yellow\",attr={\"coordinates\":[193,43]})\n",
    "v5 = Vertex(\"yellow\",attr={\"coordinates\":[166,47]})\n",
    "\n",
    "v6 = Vertex(\"yellow\",attr={\"coordinates\":[242,47]})\n",
    "v7 = Vertex(\"red\",attr={\"coordinates\":[244,211]})\n",
    "v8 = Vertex(\"yellow\",attr={\"coordinates\":[90,220]})\n",
    "v9 = Vertex(\"yellow\",attr={\"coordinates\":[92,56]})\n",
    "\n",
    "v10 = Vertex(\"red\",attr={\"coordinates\":[245,240]})\n",
    "v11 = Vertex(\"blue\",attr={\"coordinates\":[259,241]})\n",
    "v12 = Vertex(\"blue\",attr={\"coordinates\":[229,241]})\n",
    "\n",
    "graph.addVertices([v0,v1,v2,v3,v4,v5,v6,v7,v8,v9,v10,v11,v12])\n",
    "graph.addEdge(Edge(),v0.id,v1.id)\n",
    "graph.addEdge(Edge(),v1.id,v2.id)\n",
    "graph.addEdge(Edge(),v2.id,v3.id)\n",
    "graph.addEdge(Edge(),v3.id,v4.id)\n",
    "graph.addEdge(Edge(),v4.id,v5.id)\n",
    "graph.addEdge(Edge(),v5.id,v0.id)\n",
    "\n",
    "graph.addEdge(Edge(),v3.id,v6.id)\n",
    "graph.addEdge(Edge(),v6.id,v7.id)\n",
    "graph.addEdge(Edge(),v7.id,v8.id)\n",
    "graph.addEdge(Edge(),v8.id,v9.id)\n",
    "graph.addEdge(Edge(),v9.id,v0.id)\n",
    "\n",
    "graph.addEdge(Edge(),v7.id,v10.id)\n",
    "graph.addEdge(Edge(),v10.id,v11.id)\n",
    "graph.addEdge(Edge(),v10.id,v12.id)\n",
    "\n",
    "buildingParts = [\n",
    "    (\"resistor\",90,[v0,v1,v2,v3,v4,v5]),\n",
    "    (\"ground\",90,[v10,v11,v12,])\n",
    "]\n",
    "\n",
    "igraphUnion = utils.convertToIgraph(graph)\n",
    "layout = igraphUnion.layout(\"kk\") #\"large_graph\"\n",
    "igraph.plot(igraphUnion, layout=layout,bbox = (200,200))"
   ]
  },
  {
   "cell_type": "markdown",
   "metadata": {},
   "source": [
    "### Convert Coordinates to Relative Values"
   ]
  },
  {
   "cell_type": "code",
   "execution_count": 3,
   "metadata": {},
   "outputs": [],
   "source": [
    "#get lenght of the longest resistor\n",
    "len = -1\n",
    "for buildingPart in buildingParts:\n",
    "    vertices = buildingPart[2]\n",
    "    rotation = buildingPart[1]\n",
    "    type_ = buildingPart[0]\n",
    "\n",
    "    if not type_ == CLASS_NAMES[\"res\"]:\n",
    "        continue\n",
    "    \n",
    "    xVals = list(map(lambda v: v.attr[\"coordinates\"][0],vertices))\n",
    "    yVals = list(map(lambda v: v.attr[\"coordinates\"][1],vertices))\n",
    "\n",
    "    xDist = max(xVals) - min(xVals)\n",
    "    yDist = max(yVals) - min(yVals)\n",
    "\n",
    "    if xDist > yDist:\n",
    "        if xDist > len:\n",
    "            len = xDist\n",
    "    else:\n",
    "        if yDist > len:\n",
    "            len = yDist\n",
    "\n",
    "\n",
    "#convert all coordinates to values, relative to the resistor\n",
    "for vertex in graph.ve.values():\n",
    "    x = vertex.attr[\"coordinates\"][0]\n",
    "    y = vertex.attr[\"coordinates\"][1]\n",
    "    vertex.attr[\"coordinates\"] = [x/len,y/len]"
   ]
  },
  {
   "cell_type": "markdown",
   "metadata": {},
   "source": [
    "### Snap Coordinates to Grid "
   ]
  },
  {
   "cell_type": "code",
   "execution_count": 4,
   "metadata": {},
   "outputs": [],
   "source": [
    "\n",
    "for vertex in graph.ve.values():\n",
    "    gridSize = 1\n",
    "    x = math.floor(vertex.attr[\"coordinates\"][0]/gridSize)*gridSize\n",
    "    y = math.floor(vertex.attr[\"coordinates\"][1]/gridSize)*gridSize\n",
    "    vertex.attr[\"coordinates\"] = [x,y]"
   ]
  },
  {
   "cell_type": "markdown",
   "metadata": {},
   "source": [
    "### Modify Graph"
   ]
  },
  {
   "cell_type": "code",
   "execution_count": 5,
   "metadata": {},
   "outputs": [
    {
     "data": {
      "image/svg+xml": "<?xml version=\"1.0\" encoding=\"UTF-8\"?>\n<svg xmlns=\"http://www.w3.org/2000/svg\" xmlns:xlink=\"http://www.w3.org/1999/xlink\" width=\"200pt\" height=\"200pt\" viewBox=\"0 0 200 200\" version=\"1.1\">\n<defs>\n<g>\n<symbol overflow=\"visible\" id=\"glyph0-0\">\n<path style=\"stroke:none;\" d=\"M 1.75 0 L 1.75 -8.75 L 8.75 -8.75 L 8.75 0 Z M 1.96875 -0.21875 L 8.53125 -0.21875 L 8.53125 -8.53125 L 1.96875 -8.53125 Z M 1.96875 -0.21875 \"/>\n</symbol>\n<symbol overflow=\"visible\" id=\"glyph0-1\">\n<path style=\"stroke:none;\" d=\"M 0.910156 0 L 0.910156 -7.257813 L 2.015625 -7.257813 L 2.015625 -6.160156 C 2.296875 -6.667969 2.554688 -7.007813 2.796875 -7.175781 C 3.03125 -7.335938 3.296875 -7.417969 3.589844 -7.421875 C 4 -7.417969 4.421875 -7.285156 4.851563 -7.027344 L 4.429688 -5.886719 C 4.125 -6.0625 3.824219 -6.152344 3.527344 -6.152344 C 3.257813 -6.152344 3.015625 -6.070313 2.800781 -5.910156 C 2.585938 -5.746094 2.433594 -5.519531 2.34375 -5.234375 C 2.207031 -4.792969 2.136719 -4.316406 2.140625 -3.800781 L 2.140625 0 Z M 0.910156 0 \"/>\n</symbol>\n<symbol overflow=\"visible\" id=\"glyph0-2\">\n<path style=\"stroke:none;\" d=\"M 5.890625 -2.335938 L 7.164063 -2.179688 C 6.960938 -1.4375 6.589844 -0.859375 6.046875 -0.449219 C 5.503906 -0.0390625 4.8125 0.164063 3.972656 0.164063 C 2.910156 0.164063 2.066406 -0.160156 1.445313 -0.816406 C 0.820313 -1.464844 0.507813 -2.382813 0.511719 -3.570313 C 0.507813 -4.785156 0.824219 -5.734375 1.453125 -6.410156 C 2.082031 -7.082031 2.898438 -7.417969 3.902344 -7.421875 C 4.871094 -7.417969 5.664063 -7.085938 6.28125 -6.429688 C 6.894531 -5.765625 7.199219 -4.839844 7.203125 -3.644531 C 7.199219 -3.570313 7.199219 -3.460938 7.199219 -3.316406 L 1.785156 -3.316406 C 1.828125 -2.515625 2.054688 -1.902344 2.460938 -1.480469 C 2.867188 -1.054688 3.371094 -0.84375 3.976563 -0.847656 C 4.425781 -0.84375 4.8125 -0.960938 5.132813 -1.203125 C 5.453125 -1.4375 5.703125 -1.816406 5.890625 -2.335938 Z M 1.851563 -4.328125 L 5.90625 -4.328125 C 5.851563 -4.933594 5.695313 -5.390625 5.441406 -5.703125 C 5.046875 -6.171875 4.539063 -6.410156 3.917969 -6.414063 C 3.351563 -6.410156 2.875 -6.21875 2.492188 -5.84375 C 2.101563 -5.460938 1.890625 -4.957031 1.851563 -4.328125 Z M 1.851563 -4.328125 \"/>\n</symbol>\n<symbol overflow=\"visible\" id=\"glyph0-3\">\n<path style=\"stroke:none;\" d=\"M 0.429688 -2.167969 L 1.648438 -2.359375 C 1.710938 -1.867188 1.902344 -1.492188 2.21875 -1.234375 C 2.527344 -0.972656 2.964844 -0.84375 3.527344 -0.847656 C 4.089844 -0.84375 4.507813 -0.957031 4.785156 -1.191406 C 5.054688 -1.417969 5.191406 -1.691406 5.195313 -2.003906 C 5.191406 -2.28125 5.070313 -2.5 4.832031 -2.660156 C 4.660156 -2.769531 4.242188 -2.90625 3.574219 -3.078125 C 2.671875 -3.300781 2.046875 -3.5 1.699219 -3.667969 C 1.347656 -3.832031 1.082031 -4.058594 0.90625 -4.355469 C 0.722656 -4.644531 0.632813 -4.972656 0.636719 -5.332031 C 0.632813 -5.652344 0.707031 -5.949219 0.855469 -6.230469 C 1.003906 -6.503906 1.203125 -6.734375 1.460938 -6.917969 C 1.648438 -7.054688 1.910156 -7.171875 2.246094 -7.273438 C 2.574219 -7.367188 2.929688 -7.417969 3.308594 -7.421875 C 3.875 -7.417969 4.375 -7.335938 4.808594 -7.175781 C 5.234375 -7.007813 5.550781 -6.785156 5.761719 -6.507813 C 5.964844 -6.226563 6.109375 -5.851563 6.1875 -5.386719 L 4.984375 -5.222656 C 4.925781 -5.589844 4.765625 -5.882813 4.507813 -6.097656 C 4.242188 -6.304688 3.875 -6.410156 3.398438 -6.414063 C 2.832031 -6.410156 2.425781 -6.316406 2.1875 -6.132813 C 1.941406 -5.941406 1.820313 -5.722656 1.824219 -5.476563 C 1.820313 -5.3125 1.871094 -5.167969 1.976563 -5.046875 C 2.070313 -4.910156 2.226563 -4.800781 2.445313 -4.71875 C 2.566406 -4.667969 2.929688 -4.5625 3.535156 -4.402344 C 4.402344 -4.167969 5.011719 -3.980469 5.355469 -3.832031 C 5.699219 -3.683594 5.96875 -3.464844 6.164063 -3.183594 C 6.359375 -2.898438 6.457031 -2.550781 6.460938 -2.132813 C 6.457031 -1.71875 6.335938 -1.332031 6.101563 -0.972656 C 5.859375 -0.609375 5.515625 -0.328125 5.066406 -0.132813 C 4.613281 0.0664063 4.101563 0.164063 3.535156 0.164063 C 2.585938 0.164063 1.867188 -0.03125 1.375 -0.421875 C 0.878906 -0.8125 0.5625 -1.394531 0.429688 -2.167969 Z M 0.429688 -2.167969 \"/>\n</symbol>\n<symbol overflow=\"visible\" id=\"glyph0-4\">\n<path style=\"stroke:none;\" d=\"M 0.929688 -8.605469 L 0.929688 -10.023438 L 2.160156 -10.023438 L 2.160156 -8.605469 Z M 0.929688 0 L 0.929688 -7.257813 L 2.160156 -7.257813 L 2.160156 0 Z M 0.929688 0 \"/>\n</symbol>\n<symbol overflow=\"visible\" id=\"glyph0-5\">\n<path style=\"stroke:none;\" d=\"M 3.609375 -1.101563 L 3.789063 -0.015625 C 3.4375 0.0585938 3.128906 0.09375 2.859375 0.09375 C 2.410156 0.09375 2.0625 0.0234375 1.816406 -0.117188 C 1.570313 -0.257813 1.394531 -0.441406 1.296875 -0.671875 C 1.195313 -0.902344 1.148438 -1.386719 1.148438 -2.125 L 1.148438 -6.304688 L 0.246094 -6.304688 L 0.246094 -7.257813 L 1.148438 -7.257813 L 1.148438 -9.058594 L 2.371094 -9.796875 L 2.371094 -7.257813 L 3.609375 -7.257813 L 3.609375 -6.304688 L 2.371094 -6.304688 L 2.371094 -2.058594 C 2.367188 -1.703125 2.386719 -1.476563 2.433594 -1.378906 C 2.472656 -1.277344 2.546875 -1.199219 2.648438 -1.140625 C 2.746094 -1.082031 2.886719 -1.054688 3.070313 -1.054688 C 3.203125 -1.054688 3.382813 -1.070313 3.609375 -1.101563 Z M 3.609375 -1.101563 \"/>\n</symbol>\n<symbol overflow=\"visible\" id=\"glyph0-6\">\n<path style=\"stroke:none;\" d=\"M 0.464844 -3.628906 C 0.460938 -4.972656 0.835938 -5.96875 1.585938 -6.617188 C 2.207031 -7.148438 2.96875 -7.417969 3.867188 -7.421875 C 4.867188 -7.417969 5.683594 -7.089844 6.316406 -6.441406 C 6.949219 -5.785156 7.265625 -4.882813 7.265625 -3.734375 C 7.265625 -2.796875 7.125 -2.0625 6.84375 -1.527344 C 6.5625 -0.992188 6.152344 -0.578125 5.621094 -0.28125 C 5.082031 0.015625 4.5 0.164063 3.867188 0.164063 C 2.851563 0.164063 2.027344 -0.160156 1.402344 -0.8125 C 0.773438 -1.460938 0.460938 -2.398438 0.464844 -3.628906 Z M 1.730469 -3.628906 C 1.726563 -2.695313 1.929688 -2 2.335938 -1.539063 C 2.738281 -1.074219 3.25 -0.84375 3.867188 -0.847656 C 4.476563 -0.84375 4.984375 -1.074219 5.390625 -1.542969 C 5.796875 -2.003906 6 -2.714844 6 -3.671875 C 6 -4.566406 5.792969 -5.246094 5.386719 -5.710938 C 4.976563 -6.171875 4.472656 -6.402344 3.867188 -6.40625 C 3.25 -6.402344 2.738281 -6.171875 2.335938 -5.714844 C 1.929688 -5.25 1.726563 -4.554688 1.730469 -3.628906 Z M 1.730469 -3.628906 \"/>\n</symbol>\n<symbol overflow=\"visible\" id=\"glyph0-7\">\n<path style=\"stroke:none;\" d=\"M 0.695313 0.601563 L 1.894531 0.78125 C 1.941406 1.144531 2.082031 1.414063 2.3125 1.585938 C 2.613281 1.8125 3.03125 1.925781 3.5625 1.929688 C 4.128906 1.925781 4.566406 1.8125 4.878906 1.585938 C 5.1875 1.355469 5.398438 1.035156 5.507813 0.628906 C 5.570313 0.375 5.597656 -0.148438 5.597656 -0.949219 C 5.058594 -0.316406 4.390625 0 3.589844 0 C 2.589844 0 1.816406 -0.359375 1.273438 -1.078125 C 0.722656 -1.796875 0.449219 -2.660156 0.453125 -3.671875 C 0.449219 -4.363281 0.574219 -5.003906 0.828125 -5.589844 C 1.074219 -6.175781 1.4375 -6.625 1.917969 -6.945313 C 2.390625 -7.257813 2.949219 -7.417969 3.59375 -7.421875 C 4.449219 -7.417969 5.15625 -7.070313 5.714844 -6.382813 L 5.714844 -7.257813 L 6.851563 -7.257813 L 6.851563 -0.984375 C 6.847656 0.144531 6.734375 0.945313 6.503906 1.417969 C 6.273438 1.886719 5.90625 2.257813 5.410156 2.535156 C 4.910156 2.804688 4.296875 2.941406 3.570313 2.945313 C 2.699219 2.941406 2 2.746094 1.46875 2.359375 C 0.933594 1.96875 0.675781 1.382813 0.695313 0.601563 Z M 1.714844 -3.757813 C 1.710938 -2.804688 1.898438 -2.113281 2.28125 -1.675781 C 2.65625 -1.238281 3.132813 -1.019531 3.703125 -1.019531 C 4.269531 -1.019531 4.742188 -1.234375 5.128906 -1.671875 C 5.507813 -2.101563 5.699219 -2.785156 5.703125 -3.71875 C 5.699219 -4.605469 5.503906 -5.273438 5.109375 -5.726563 C 4.714844 -6.175781 4.238281 -6.402344 3.683594 -6.40625 C 3.132813 -6.402344 2.667969 -6.179688 2.289063 -5.738281 C 1.902344 -5.289063 1.710938 -4.628906 1.714844 -3.757813 Z M 1.714844 -3.757813 \"/>\n</symbol>\n<symbol overflow=\"visible\" id=\"glyph0-8\">\n<path style=\"stroke:none;\" d=\"M 5.679688 0 L 5.679688 -1.066406 C 5.109375 -0.246094 4.34375 0.164063 3.375 0.164063 C 2.945313 0.164063 2.542969 0.0820313 2.175781 -0.0820313 C 1.800781 -0.246094 1.527344 -0.449219 1.347656 -0.699219 C 1.167969 -0.945313 1.039063 -1.25 0.96875 -1.613281 C 0.914063 -1.851563 0.890625 -2.234375 0.894531 -2.761719 L 0.894531 -7.257813 L 2.125 -7.257813 L 2.125 -3.234375 C 2.121094 -2.589844 2.148438 -2.15625 2.203125 -1.933594 C 2.277344 -1.609375 2.4375 -1.355469 2.691406 -1.171875 C 2.941406 -0.984375 3.253906 -0.890625 3.625 -0.894531 C 3.988281 -0.890625 4.332031 -0.984375 4.660156 -1.175781 C 4.980469 -1.363281 5.210938 -1.621094 5.347656 -1.949219 C 5.480469 -2.273438 5.546875 -2.746094 5.550781 -3.371094 L 5.550781 -7.257813 L 6.78125 -7.257813 L 6.78125 0 Z M 5.679688 0 \"/>\n</symbol>\n<symbol overflow=\"visible\" id=\"glyph0-9\">\n<path style=\"stroke:none;\" d=\"M 0.921875 0 L 0.921875 -7.257813 L 2.03125 -7.257813 L 2.03125 -6.226563 C 2.558594 -7.019531 3.328125 -7.417969 4.339844 -7.421875 C 4.773438 -7.417969 5.175781 -7.339844 5.546875 -7.1875 C 5.910156 -7.027344 6.183594 -6.820313 6.371094 -6.570313 C 6.550781 -6.3125 6.679688 -6.011719 6.753906 -5.660156 C 6.796875 -5.433594 6.820313 -5.035156 6.820313 -4.464844 L 6.820313 0 L 5.59375 0 L 5.59375 -4.414063 C 5.589844 -4.914063 5.542969 -5.289063 5.449219 -5.539063 C 5.351563 -5.785156 5.179688 -5.984375 4.9375 -6.136719 C 4.691406 -6.28125 4.40625 -6.355469 4.082031 -6.359375 C 3.554688 -6.355469 3.101563 -6.191406 2.722656 -5.859375 C 2.339844 -5.523438 2.148438 -4.890625 2.152344 -3.964844 L 2.152344 0 Z M 0.921875 0 \"/>\n</symbol>\n<symbol overflow=\"visible\" id=\"glyph0-10\">\n<path style=\"stroke:none;\" d=\"M 5.632813 0 L 5.632813 -0.914063 C 5.167969 -0.195313 4.492188 0.164063 3.601563 0.164063 C 3.019531 0.164063 2.488281 0.0078125 2.003906 -0.3125 C 1.519531 -0.628906 1.140625 -1.074219 0.875 -1.648438 C 0.605469 -2.21875 0.472656 -2.878906 0.476563 -3.625 C 0.472656 -4.347656 0.59375 -5.003906 0.839844 -5.59375 C 1.078125 -6.183594 1.441406 -6.636719 1.925781 -6.949219 C 2.40625 -7.261719 2.945313 -7.417969 3.546875 -7.421875 C 3.980469 -7.417969 4.371094 -7.324219 4.714844 -7.144531 C 5.054688 -6.957031 5.332031 -6.71875 5.550781 -6.425781 L 5.550781 -10.023438 L 6.773438 -10.023438 L 6.773438 0 Z M 1.742188 -3.625 C 1.738281 -2.691406 1.933594 -1.996094 2.328125 -1.535156 C 2.71875 -1.074219 3.183594 -0.84375 3.71875 -0.847656 C 4.253906 -0.84375 4.710938 -1.0625 5.085938 -1.507813 C 5.460938 -1.945313 5.648438 -2.617188 5.652344 -3.519531 C 5.648438 -4.511719 5.457031 -5.242188 5.078125 -5.707031 C 4.691406 -6.171875 4.21875 -6.402344 3.664063 -6.40625 C 3.113281 -6.402344 2.65625 -6.179688 2.292969 -5.734375 C 1.921875 -5.285156 1.738281 -4.582031 1.742188 -3.625 Z M 1.742188 -3.625 \"/>\n</symbol>\n</g>\n</defs>\n<g id=\"surface8\">\n<rect x=\"0\" y=\"0\" width=\"200\" height=\"200\" style=\"fill:rgb(100%,100%,100%);fill-opacity:1;stroke:none;\"/>\n<path style=\"fill:none;stroke-width:1;stroke-linecap:butt;stroke-linejoin:miter;stroke:rgb(0%,0%,0%);stroke-opacity:1;stroke-miterlimit:10;\" d=\"M 114.59375 20 L 78.375 36.382813 \"/>\n<path style=\"fill:none;stroke-width:1;stroke-linecap:butt;stroke-linejoin:miter;stroke:rgb(0%,0%,0%);stroke-opacity:1;stroke-miterlimit:10;\" d=\"M 78.375 36.382813 L 61.734375 75.410156 \"/>\n<path style=\"fill:none;stroke-width:1;stroke-linecap:butt;stroke-linejoin:miter;stroke:rgb(0%,0%,0%);stroke-opacity:1;stroke-miterlimit:10;\" d=\"M 61.734375 75.410156 L 100.511719 101.167969 \"/>\n<path style=\"fill:none;stroke-width:1;stroke-linecap:butt;stroke-linejoin:miter;stroke:rgb(0%,0%,0%);stroke-opacity:1;stroke-miterlimit:10;\" d=\"M 100.511719 101.167969 L 143.167969 110.765625 \"/>\n<path style=\"fill:none;stroke-width:1;stroke-linecap:butt;stroke-linejoin:miter;stroke:rgb(0%,0%,0%);stroke-opacity:1;stroke-miterlimit:10;\" d=\"M 180 104.242188 L 143.167969 110.765625 \"/>\n<path style=\"fill:none;stroke-width:1;stroke-linecap:butt;stroke-linejoin:miter;stroke:rgb(0%,0%,0%);stroke-opacity:1;stroke-miterlimit:10;\" d=\"M 61.734375 75.410156 L 20 83.664063 \"/>\n<path style=\"fill-rule:nonzero;fill:rgb(100%,100%,0%);fill-opacity:1;stroke-width:1;stroke-linecap:butt;stroke-linejoin:miter;stroke:rgb(0%,0%,0%);stroke-opacity:1;stroke-miterlimit:10;\" d=\"M 190 104.242188 C 190 109.765625 185.523438 114.242188 180 114.242188 C 174.476563 114.242188 170 109.765625 170 104.242188 C 170 98.71875 174.476563 94.242188 180 94.242188 C 185.523438 94.242188 190 98.71875 190 104.242188 \"/>\n<path style=\"fill-rule:nonzero;fill:rgb(100%,100%,0%);fill-opacity:1;stroke-width:1;stroke-linecap:butt;stroke-linejoin:miter;stroke:rgb(0%,0%,0%);stroke-opacity:1;stroke-miterlimit:10;\" d=\"M 124.59375 20 C 124.59375 25.523438 120.117188 30 114.59375 30 C 109.070313 30 104.59375 25.523438 104.59375 20 C 104.59375 14.476563 109.070313 10 114.59375 10 C 120.117188 10 124.59375 14.476563 124.59375 20 \"/>\n<path style=\"fill-rule:nonzero;fill:rgb(100%,100%,0%);fill-opacity:1;stroke-width:1;stroke-linecap:butt;stroke-linejoin:miter;stroke:rgb(0%,0%,0%);stroke-opacity:1;stroke-miterlimit:10;\" d=\"M 88.375 36.382813 C 88.375 41.90625 83.898438 46.382813 78.375 46.382813 C 72.855469 46.382813 68.375 41.90625 68.375 36.382813 C 68.375 30.859375 72.855469 26.382813 78.375 26.382813 C 83.898438 26.382813 88.375 30.859375 88.375 36.382813 \"/>\n<path style=\"fill-rule:nonzero;fill:rgb(100%,0%,0%);fill-opacity:1;stroke-width:1;stroke-linecap:butt;stroke-linejoin:miter;stroke:rgb(0%,0%,0%);stroke-opacity:1;stroke-miterlimit:10;\" d=\"M 71.734375 75.410156 C 71.734375 80.929688 67.257813 85.410156 61.734375 85.410156 C 56.210938 85.410156 51.734375 80.929688 51.734375 75.410156 C 51.734375 69.886719 56.210938 65.410156 61.734375 65.410156 C 67.257813 65.410156 71.734375 69.886719 71.734375 75.410156 \"/>\n<path style=\"fill-rule:nonzero;fill:rgb(100%,100%,0%);fill-opacity:1;stroke-width:1;stroke-linecap:butt;stroke-linejoin:miter;stroke:rgb(0%,0%,0%);stroke-opacity:1;stroke-miterlimit:10;\" d=\"M 110.511719 101.167969 C 110.511719 106.691406 106.035156 111.167969 100.511719 111.167969 C 94.988281 111.167969 90.511719 106.691406 90.511719 101.167969 C 90.511719 95.648438 94.988281 91.167969 100.511719 91.167969 C 106.035156 91.167969 110.511719 95.648438 110.511719 101.167969 \"/>\n<path style=\"fill-rule:nonzero;fill:rgb(100%,100%,0%);fill-opacity:1;stroke-width:1;stroke-linecap:butt;stroke-linejoin:miter;stroke:rgb(0%,0%,0%);stroke-opacity:1;stroke-miterlimit:10;\" d=\"M 153.167969 110.765625 C 153.167969 116.289063 148.691406 120.765625 143.167969 120.765625 C 137.644531 120.765625 133.167969 116.289063 133.167969 110.765625 C 133.167969 105.242188 137.644531 100.765625 143.167969 100.765625 C 148.691406 100.765625 153.167969 105.242188 153.167969 110.765625 \"/>\n<path style=\"fill-rule:nonzero;fill:rgb(100%,100%,0%);fill-opacity:1;stroke-width:1;stroke-linecap:butt;stroke-linejoin:miter;stroke:rgb(0%,0%,0%);stroke-opacity:1;stroke-miterlimit:10;\" d=\"M 30 83.664063 C 30 89.1875 25.523438 93.664063 20 93.664063 C 14.476563 93.664063 10 89.1875 10 83.664063 C 10 78.140625 14.476563 73.664063 20 73.664063 C 25.523438 73.664063 30 78.140625 30 83.664063 \"/>\n<path style=\"fill-rule:nonzero;fill:rgb(0%,100%,0%);fill-opacity:1;stroke-width:1;stroke-linecap:butt;stroke-linejoin:miter;stroke:rgb(0%,0%,0%);stroke-opacity:1;stroke-miterlimit:10;\" d=\"M 122.886719 180 C 122.886719 185.523438 118.40625 190 112.886719 190 C 107.363281 190 102.886719 185.523438 102.886719 180 C 102.886719 174.476563 107.363281 170 112.886719 170 C 118.40625 170 122.886719 174.476563 122.886719 180 \"/>\n<path style=\"fill-rule:nonzero;fill:rgb(0%,100%,0%);fill-opacity:1;stroke-width:1;stroke-linecap:butt;stroke-linejoin:miter;stroke:rgb(0%,0%,0%);stroke-opacity:1;stroke-miterlimit:10;\" d=\"M 45.152344 160.65625 C 45.152344 166.179688 40.675781 170.65625 35.152344 170.65625 C 29.628906 170.65625 25.152344 166.179688 25.152344 160.65625 C 25.152344 155.132813 29.628906 150.65625 35.152344 150.65625 C 40.675781 150.65625 45.152344 155.132813 45.152344 160.65625 \"/>\n<g style=\"fill:rgb(0%,0%,0%);fill-opacity:1;\">\n  <use xlink:href=\"#glyph0-1\" x=\"89.386719\" y=\"186.511719\"/>\n  <use xlink:href=\"#glyph0-2\" x=\"94.048828\" y=\"186.511719\"/>\n  <use xlink:href=\"#glyph0-3\" x=\"101.834961\" y=\"186.511719\"/>\n  <use xlink:href=\"#glyph0-4\" x=\"108.834961\" y=\"186.511719\"/>\n  <use xlink:href=\"#glyph0-3\" x=\"111.945313\" y=\"186.511719\"/>\n  <use xlink:href=\"#glyph0-5\" x=\"118.945313\" y=\"186.511719\"/>\n  <use xlink:href=\"#glyph0-6\" x=\"122.834961\" y=\"186.511719\"/>\n  <use xlink:href=\"#glyph0-1\" x=\"130.621094\" y=\"186.511719\"/>\n</g>\n<g style=\"fill:rgb(0%,0%,0%);fill-opacity:1;\">\n  <use xlink:href=\"#glyph0-7\" x=\"13.636719\" y=\"167.167969\"/>\n  <use xlink:href=\"#glyph0-1\" x=\"21.422852\" y=\"167.167969\"/>\n  <use xlink:href=\"#glyph0-6\" x=\"26.084961\" y=\"167.167969\"/>\n  <use xlink:href=\"#glyph0-8\" x=\"33.871094\" y=\"167.167969\"/>\n  <use xlink:href=\"#glyph0-9\" x=\"41.657227\" y=\"167.167969\"/>\n  <use xlink:href=\"#glyph0-10\" x=\"49.443359\" y=\"167.167969\"/>\n</g>\n</g>\n</svg>\n",
      "text/plain": [
       "<igraph.drawing.Plot at 0x1b29caf3fd0>"
      ]
     },
     "execution_count": 5,
     "metadata": {
      "image/svg+xml": {
       "isolated": true
      }
     },
     "output_type": "execute_result"
    }
   ],
   "source": [
    "#Get all the vertices connected to a building part\n",
    "for buildingPart in buildingParts:\n",
    "    vertices = buildingPart[2]\n",
    "    rotation = buildingPart[1]\n",
    "    type_ = buildingPart[0]\n",
    "\n",
    "    #get all intersections\n",
    "    intersectionVertices = list (filter(lambda v: v.color == INTERSECTION_COLOR,vertices) )\n",
    "\n",
    "    #match LTSpice Model connections with graph Model connections\n",
    "    connectionMap = {}\n",
    "    connectionMap = CLASS_OBJECTS[type_].connect(rotation,intersectionVertices)\n",
    "\n",
    "    #get center of the component\n",
    "    xVals = list(map(lambda v: v.attr[\"coordinates\"][0],vertices))\n",
    "    yVals = list(map(lambda v: v.attr[\"coordinates\"][1],vertices))\n",
    "\n",
    "    xDist = max(xVals) - min(xVals)\n",
    "    yDist = max(yVals) - min(yVals)\n",
    "    center = [min(xVals)+xDist/2,min(yVals)+yDist/2]\n",
    "\n",
    "    #delete all vertices of the component accept the intersection points, change type to edge for them!\n",
    "    for vertex in vertices:\n",
    "        if vertex.color == INTERSECTION_COLOR:\n",
    "            vertex.color = CORNER_COLOR\n",
    "            continue\n",
    "        graph.deleteVertex(vertex.id)\n",
    "    \n",
    "    #add UNCONECTED component Vertex\n",
    "    component = Vertex(\n",
    "            color=COMPONENT_COLOR,\n",
    "            label=type_,\n",
    "            attr={\"connectionMap\":connectionMap,\"type\":type_,\"coordinates\":center,\"rotation\":rotation}\n",
    "        )\n",
    "    graph.addVertex(component)\n",
    "\n",
    "igraphUnion = utils.convertToIgraph(graph)\n",
    "layout = igraphUnion.layout(\"fr\") #\"large_graph\"\n",
    "igraph.plot(igraphUnion, layout=layout,bbox = (200,200))"
   ]
  },
  {
   "cell_type": "code",
   "execution_count": 6,
   "metadata": {},
   "outputs": [
    {
     "data": {
      "image/svg+xml": "<?xml version=\"1.0\" encoding=\"UTF-8\"?>\n<svg xmlns=\"http://www.w3.org/2000/svg\" xmlns:xlink=\"http://www.w3.org/1999/xlink\" width=\"200pt\" height=\"200pt\" viewBox=\"0 0 200 200\" version=\"1.1\">\n<defs>\n<g>\n<symbol overflow=\"visible\" id=\"glyph0-0\">\n<path style=\"stroke:none;\" d=\"M 1.75 0 L 1.75 -8.75 L 8.75 -8.75 L 8.75 0 Z M 1.96875 -0.21875 L 8.53125 -0.21875 L 8.53125 -8.53125 L 1.96875 -8.53125 Z M 1.96875 -0.21875 \"/>\n</symbol>\n<symbol overflow=\"visible\" id=\"glyph0-1\">\n<path style=\"stroke:none;\" d=\"M 0.910156 0 L 0.910156 -7.257813 L 2.015625 -7.257813 L 2.015625 -6.160156 C 2.296875 -6.667969 2.554688 -7.007813 2.796875 -7.175781 C 3.03125 -7.335938 3.296875 -7.417969 3.589844 -7.421875 C 4 -7.417969 4.421875 -7.285156 4.851563 -7.027344 L 4.429688 -5.886719 C 4.125 -6.0625 3.824219 -6.152344 3.527344 -6.152344 C 3.257813 -6.152344 3.015625 -6.070313 2.800781 -5.910156 C 2.585938 -5.746094 2.433594 -5.519531 2.34375 -5.234375 C 2.207031 -4.792969 2.136719 -4.316406 2.140625 -3.800781 L 2.140625 0 Z M 0.910156 0 \"/>\n</symbol>\n<symbol overflow=\"visible\" id=\"glyph0-2\">\n<path style=\"stroke:none;\" d=\"M 5.890625 -2.335938 L 7.164063 -2.179688 C 6.960938 -1.4375 6.589844 -0.859375 6.046875 -0.449219 C 5.503906 -0.0390625 4.8125 0.164063 3.972656 0.164063 C 2.910156 0.164063 2.066406 -0.160156 1.445313 -0.816406 C 0.820313 -1.464844 0.507813 -2.382813 0.511719 -3.570313 C 0.507813 -4.785156 0.824219 -5.734375 1.453125 -6.410156 C 2.082031 -7.082031 2.898438 -7.417969 3.902344 -7.421875 C 4.871094 -7.417969 5.664063 -7.085938 6.28125 -6.429688 C 6.894531 -5.765625 7.199219 -4.839844 7.203125 -3.644531 C 7.199219 -3.570313 7.199219 -3.460938 7.199219 -3.316406 L 1.785156 -3.316406 C 1.828125 -2.515625 2.054688 -1.902344 2.460938 -1.480469 C 2.867188 -1.054688 3.371094 -0.84375 3.976563 -0.847656 C 4.425781 -0.84375 4.8125 -0.960938 5.132813 -1.203125 C 5.453125 -1.4375 5.703125 -1.816406 5.890625 -2.335938 Z M 1.851563 -4.328125 L 5.90625 -4.328125 C 5.851563 -4.933594 5.695313 -5.390625 5.441406 -5.703125 C 5.046875 -6.171875 4.539063 -6.410156 3.917969 -6.414063 C 3.351563 -6.410156 2.875 -6.21875 2.492188 -5.84375 C 2.101563 -5.460938 1.890625 -4.957031 1.851563 -4.328125 Z M 1.851563 -4.328125 \"/>\n</symbol>\n<symbol overflow=\"visible\" id=\"glyph0-3\">\n<path style=\"stroke:none;\" d=\"M 0.429688 -2.167969 L 1.648438 -2.359375 C 1.710938 -1.867188 1.902344 -1.492188 2.21875 -1.234375 C 2.527344 -0.972656 2.964844 -0.84375 3.527344 -0.847656 C 4.089844 -0.84375 4.507813 -0.957031 4.785156 -1.191406 C 5.054688 -1.417969 5.191406 -1.691406 5.195313 -2.003906 C 5.191406 -2.28125 5.070313 -2.5 4.832031 -2.660156 C 4.660156 -2.769531 4.242188 -2.90625 3.574219 -3.078125 C 2.671875 -3.300781 2.046875 -3.5 1.699219 -3.667969 C 1.347656 -3.832031 1.082031 -4.058594 0.90625 -4.355469 C 0.722656 -4.644531 0.632813 -4.972656 0.636719 -5.332031 C 0.632813 -5.652344 0.707031 -5.949219 0.855469 -6.230469 C 1.003906 -6.503906 1.203125 -6.734375 1.460938 -6.917969 C 1.648438 -7.054688 1.910156 -7.171875 2.246094 -7.273438 C 2.574219 -7.367188 2.929688 -7.417969 3.308594 -7.421875 C 3.875 -7.417969 4.375 -7.335938 4.808594 -7.175781 C 5.234375 -7.007813 5.550781 -6.785156 5.761719 -6.507813 C 5.964844 -6.226563 6.109375 -5.851563 6.1875 -5.386719 L 4.984375 -5.222656 C 4.925781 -5.589844 4.765625 -5.882813 4.507813 -6.097656 C 4.242188 -6.304688 3.875 -6.410156 3.398438 -6.414063 C 2.832031 -6.410156 2.425781 -6.316406 2.1875 -6.132813 C 1.941406 -5.941406 1.820313 -5.722656 1.824219 -5.476563 C 1.820313 -5.3125 1.871094 -5.167969 1.976563 -5.046875 C 2.070313 -4.910156 2.226563 -4.800781 2.445313 -4.71875 C 2.566406 -4.667969 2.929688 -4.5625 3.535156 -4.402344 C 4.402344 -4.167969 5.011719 -3.980469 5.355469 -3.832031 C 5.699219 -3.683594 5.96875 -3.464844 6.164063 -3.183594 C 6.359375 -2.898438 6.457031 -2.550781 6.460938 -2.132813 C 6.457031 -1.71875 6.335938 -1.332031 6.101563 -0.972656 C 5.859375 -0.609375 5.515625 -0.328125 5.066406 -0.132813 C 4.613281 0.0664063 4.101563 0.164063 3.535156 0.164063 C 2.585938 0.164063 1.867188 -0.03125 1.375 -0.421875 C 0.878906 -0.8125 0.5625 -1.394531 0.429688 -2.167969 Z M 0.429688 -2.167969 \"/>\n</symbol>\n<symbol overflow=\"visible\" id=\"glyph0-4\">\n<path style=\"stroke:none;\" d=\"M 0.929688 -8.605469 L 0.929688 -10.023438 L 2.160156 -10.023438 L 2.160156 -8.605469 Z M 0.929688 0 L 0.929688 -7.257813 L 2.160156 -7.257813 L 2.160156 0 Z M 0.929688 0 \"/>\n</symbol>\n<symbol overflow=\"visible\" id=\"glyph0-5\">\n<path style=\"stroke:none;\" d=\"M 3.609375 -1.101563 L 3.789063 -0.015625 C 3.4375 0.0585938 3.128906 0.09375 2.859375 0.09375 C 2.410156 0.09375 2.0625 0.0234375 1.816406 -0.117188 C 1.570313 -0.257813 1.394531 -0.441406 1.296875 -0.671875 C 1.195313 -0.902344 1.148438 -1.386719 1.148438 -2.125 L 1.148438 -6.304688 L 0.246094 -6.304688 L 0.246094 -7.257813 L 1.148438 -7.257813 L 1.148438 -9.058594 L 2.371094 -9.796875 L 2.371094 -7.257813 L 3.609375 -7.257813 L 3.609375 -6.304688 L 2.371094 -6.304688 L 2.371094 -2.058594 C 2.367188 -1.703125 2.386719 -1.476563 2.433594 -1.378906 C 2.472656 -1.277344 2.546875 -1.199219 2.648438 -1.140625 C 2.746094 -1.082031 2.886719 -1.054688 3.070313 -1.054688 C 3.203125 -1.054688 3.382813 -1.070313 3.609375 -1.101563 Z M 3.609375 -1.101563 \"/>\n</symbol>\n<symbol overflow=\"visible\" id=\"glyph0-6\">\n<path style=\"stroke:none;\" d=\"M 0.464844 -3.628906 C 0.460938 -4.972656 0.835938 -5.96875 1.585938 -6.617188 C 2.207031 -7.148438 2.96875 -7.417969 3.867188 -7.421875 C 4.867188 -7.417969 5.683594 -7.089844 6.316406 -6.441406 C 6.949219 -5.785156 7.265625 -4.882813 7.265625 -3.734375 C 7.265625 -2.796875 7.125 -2.0625 6.84375 -1.527344 C 6.5625 -0.992188 6.152344 -0.578125 5.621094 -0.28125 C 5.082031 0.015625 4.5 0.164063 3.867188 0.164063 C 2.851563 0.164063 2.027344 -0.160156 1.402344 -0.8125 C 0.773438 -1.460938 0.460938 -2.398438 0.464844 -3.628906 Z M 1.730469 -3.628906 C 1.726563 -2.695313 1.929688 -2 2.335938 -1.539063 C 2.738281 -1.074219 3.25 -0.84375 3.867188 -0.847656 C 4.476563 -0.84375 4.984375 -1.074219 5.390625 -1.542969 C 5.796875 -2.003906 6 -2.714844 6 -3.671875 C 6 -4.566406 5.792969 -5.246094 5.386719 -5.710938 C 4.976563 -6.171875 4.472656 -6.402344 3.867188 -6.40625 C 3.25 -6.402344 2.738281 -6.171875 2.335938 -5.714844 C 1.929688 -5.25 1.726563 -4.554688 1.730469 -3.628906 Z M 1.730469 -3.628906 \"/>\n</symbol>\n<symbol overflow=\"visible\" id=\"glyph0-7\">\n<path style=\"stroke:none;\" d=\"M 0.695313 0.601563 L 1.894531 0.78125 C 1.941406 1.144531 2.082031 1.414063 2.3125 1.585938 C 2.613281 1.8125 3.03125 1.925781 3.5625 1.929688 C 4.128906 1.925781 4.566406 1.8125 4.878906 1.585938 C 5.1875 1.355469 5.398438 1.035156 5.507813 0.628906 C 5.570313 0.375 5.597656 -0.148438 5.597656 -0.949219 C 5.058594 -0.316406 4.390625 0 3.589844 0 C 2.589844 0 1.816406 -0.359375 1.273438 -1.078125 C 0.722656 -1.796875 0.449219 -2.660156 0.453125 -3.671875 C 0.449219 -4.363281 0.574219 -5.003906 0.828125 -5.589844 C 1.074219 -6.175781 1.4375 -6.625 1.917969 -6.945313 C 2.390625 -7.257813 2.949219 -7.417969 3.59375 -7.421875 C 4.449219 -7.417969 5.15625 -7.070313 5.714844 -6.382813 L 5.714844 -7.257813 L 6.851563 -7.257813 L 6.851563 -0.984375 C 6.847656 0.144531 6.734375 0.945313 6.503906 1.417969 C 6.273438 1.886719 5.90625 2.257813 5.410156 2.535156 C 4.910156 2.804688 4.296875 2.941406 3.570313 2.945313 C 2.699219 2.941406 2 2.746094 1.46875 2.359375 C 0.933594 1.96875 0.675781 1.382813 0.695313 0.601563 Z M 1.714844 -3.757813 C 1.710938 -2.804688 1.898438 -2.113281 2.28125 -1.675781 C 2.65625 -1.238281 3.132813 -1.019531 3.703125 -1.019531 C 4.269531 -1.019531 4.742188 -1.234375 5.128906 -1.671875 C 5.507813 -2.101563 5.699219 -2.785156 5.703125 -3.71875 C 5.699219 -4.605469 5.503906 -5.273438 5.109375 -5.726563 C 4.714844 -6.175781 4.238281 -6.402344 3.683594 -6.40625 C 3.132813 -6.402344 2.667969 -6.179688 2.289063 -5.738281 C 1.902344 -5.289063 1.710938 -4.628906 1.714844 -3.757813 Z M 1.714844 -3.757813 \"/>\n</symbol>\n<symbol overflow=\"visible\" id=\"glyph0-8\">\n<path style=\"stroke:none;\" d=\"M 5.679688 0 L 5.679688 -1.066406 C 5.109375 -0.246094 4.34375 0.164063 3.375 0.164063 C 2.945313 0.164063 2.542969 0.0820313 2.175781 -0.0820313 C 1.800781 -0.246094 1.527344 -0.449219 1.347656 -0.699219 C 1.167969 -0.945313 1.039063 -1.25 0.96875 -1.613281 C 0.914063 -1.851563 0.890625 -2.234375 0.894531 -2.761719 L 0.894531 -7.257813 L 2.125 -7.257813 L 2.125 -3.234375 C 2.121094 -2.589844 2.148438 -2.15625 2.203125 -1.933594 C 2.277344 -1.609375 2.4375 -1.355469 2.691406 -1.171875 C 2.941406 -0.984375 3.253906 -0.890625 3.625 -0.894531 C 3.988281 -0.890625 4.332031 -0.984375 4.660156 -1.175781 C 4.980469 -1.363281 5.210938 -1.621094 5.347656 -1.949219 C 5.480469 -2.273438 5.546875 -2.746094 5.550781 -3.371094 L 5.550781 -7.257813 L 6.78125 -7.257813 L 6.78125 0 Z M 5.679688 0 \"/>\n</symbol>\n<symbol overflow=\"visible\" id=\"glyph0-9\">\n<path style=\"stroke:none;\" d=\"M 0.921875 0 L 0.921875 -7.257813 L 2.03125 -7.257813 L 2.03125 -6.226563 C 2.558594 -7.019531 3.328125 -7.417969 4.339844 -7.421875 C 4.773438 -7.417969 5.175781 -7.339844 5.546875 -7.1875 C 5.910156 -7.027344 6.183594 -6.820313 6.371094 -6.570313 C 6.550781 -6.3125 6.679688 -6.011719 6.753906 -5.660156 C 6.796875 -5.433594 6.820313 -5.035156 6.820313 -4.464844 L 6.820313 0 L 5.59375 0 L 5.59375 -4.414063 C 5.589844 -4.914063 5.542969 -5.289063 5.449219 -5.539063 C 5.351563 -5.785156 5.179688 -5.984375 4.9375 -6.136719 C 4.691406 -6.28125 4.40625 -6.355469 4.082031 -6.359375 C 3.554688 -6.355469 3.101563 -6.191406 2.722656 -5.859375 C 2.339844 -5.523438 2.148438 -4.890625 2.152344 -3.964844 L 2.152344 0 Z M 0.921875 0 \"/>\n</symbol>\n<symbol overflow=\"visible\" id=\"glyph0-10\">\n<path style=\"stroke:none;\" d=\"M 5.632813 0 L 5.632813 -0.914063 C 5.167969 -0.195313 4.492188 0.164063 3.601563 0.164063 C 3.019531 0.164063 2.488281 0.0078125 2.003906 -0.3125 C 1.519531 -0.628906 1.140625 -1.074219 0.875 -1.648438 C 0.605469 -2.21875 0.472656 -2.878906 0.476563 -3.625 C 0.472656 -4.347656 0.59375 -5.003906 0.839844 -5.59375 C 1.078125 -6.183594 1.441406 -6.636719 1.925781 -6.949219 C 2.40625 -7.261719 2.945313 -7.417969 3.546875 -7.421875 C 3.980469 -7.417969 4.371094 -7.324219 4.714844 -7.144531 C 5.054688 -6.957031 5.332031 -6.71875 5.550781 -6.425781 L 5.550781 -10.023438 L 6.773438 -10.023438 L 6.773438 0 Z M 1.742188 -3.625 C 1.738281 -2.691406 1.933594 -1.996094 2.328125 -1.535156 C 2.71875 -1.074219 3.183594 -0.84375 3.71875 -0.847656 C 4.253906 -0.84375 4.710938 -1.0625 5.085938 -1.507813 C 5.460938 -1.945313 5.648438 -2.617188 5.652344 -3.519531 C 5.648438 -4.511719 5.457031 -5.242188 5.078125 -5.707031 C 4.691406 -6.171875 4.21875 -6.402344 3.664063 -6.40625 C 3.113281 -6.402344 2.65625 -6.179688 2.292969 -5.734375 C 1.921875 -5.285156 1.738281 -4.582031 1.742188 -3.625 Z M 1.742188 -3.625 \"/>\n</symbol>\n<symbol overflow=\"visible\" id=\"glyph0-11\">\n<path style=\"stroke:none;\" d=\"M 5.660156 -2.660156 L 6.871094 -2.5 C 6.734375 -1.664063 6.394531 -1.011719 5.855469 -0.542969 C 5.308594 -0.0703125 4.640625 0.164063 3.847656 0.164063 C 2.851563 0.164063 2.054688 -0.160156 1.453125 -0.808594 C 0.847656 -1.457031 0.542969 -2.386719 0.546875 -3.601563 C 0.542969 -4.382813 0.675781 -5.070313 0.9375 -5.660156 C 1.195313 -6.246094 1.589844 -6.683594 2.121094 -6.980469 C 2.652344 -7.269531 3.230469 -7.417969 3.855469 -7.421875 C 4.644531 -7.417969 5.289063 -7.21875 5.789063 -6.824219 C 6.289063 -6.421875 6.609375 -5.855469 6.753906 -5.125 L 5.558594 -4.941406 C 5.441406 -5.425781 5.238281 -5.792969 4.953125 -6.042969 C 4.660156 -6.285156 4.3125 -6.410156 3.902344 -6.414063 C 3.28125 -6.410156 2.777344 -6.1875 2.390625 -5.746094 C 2.003906 -5.296875 1.808594 -4.59375 1.8125 -3.636719 C 1.808594 -2.65625 1.996094 -1.945313 2.371094 -1.507813 C 2.742188 -1.0625 3.230469 -0.84375 3.835938 -0.847656 C 4.316406 -0.84375 4.71875 -0.992188 5.042969 -1.289063 C 5.367188 -1.585938 5.574219 -2.042969 5.660156 -2.660156 Z M 5.660156 -2.660156 \"/>\n</symbol>\n</g>\n</defs>\n<g id=\"surface14\">\n<rect x=\"0\" y=\"0\" width=\"200\" height=\"200\" style=\"fill:rgb(100%,100%,100%);fill-opacity:1;stroke:none;\"/>\n<path style=\"fill:none;stroke-width:1;stroke-linecap:butt;stroke-linejoin:miter;stroke:rgb(0%,0%,0%);stroke-opacity:1;stroke-miterlimit:10;\" d=\"M 173.363281 135.121094 L 180 108.09375 \"/>\n<path style=\"fill:none;stroke-width:1;stroke-linecap:butt;stroke-linejoin:miter;stroke:rgb(0%,0%,0%);stroke-opacity:1;stroke-miterlimit:10;\" d=\"M 177.210938 77.90625 L 180 108.09375 \"/>\n<path style=\"fill:none;stroke-width:1;stroke-linecap:butt;stroke-linejoin:miter;stroke:rgb(0%,0%,0%);stroke-opacity:1;stroke-miterlimit:10;\" d=\"M 177.210938 77.90625 L 156.195313 54.367188 \"/>\n<path style=\"fill:none;stroke-width:1;stroke-linecap:butt;stroke-linejoin:miter;stroke:rgb(0%,0%,0%);stroke-opacity:1;stroke-miterlimit:10;\" d=\"M 121.027344 53.90625 L 156.195313 54.367188 \"/>\n<path style=\"fill:none;stroke-width:1;stroke-linecap:butt;stroke-linejoin:miter;stroke:rgb(0%,0%,0%);stroke-opacity:1;stroke-miterlimit:10;\" d=\"M 121.027344 53.90625 L 103.828125 84.863281 \"/>\n<path style=\"fill:none;stroke-width:1;stroke-linecap:butt;stroke-linejoin:miter;stroke:rgb(0%,0%,0%);stroke-opacity:1;stroke-miterlimit:10;\" d=\"M 88.230469 114.710938 L 103.828125 84.863281 \"/>\n<path style=\"fill:none;stroke-width:1;stroke-linecap:butt;stroke-linejoin:miter;stroke:rgb(0%,0%,0%);stroke-opacity:1;stroke-miterlimit:10;\" d=\"M 88.230469 114.710938 L 60.921875 133.40625 \"/>\n<path style=\"fill:none;stroke-width:1;stroke-linecap:butt;stroke-linejoin:miter;stroke:rgb(0%,0%,0%);stroke-opacity:1;stroke-miterlimit:10;\" d=\"M 30.414063 124.757813 L 60.921875 133.40625 \"/>\n<path style=\"fill:none;stroke-width:1;stroke-linecap:butt;stroke-linejoin:miter;stroke:rgb(0%,0%,0%);stroke-opacity:1;stroke-miterlimit:10;\" d=\"M 22.332031 67.941406 L 20 96.179688 \"/>\n<path style=\"fill:none;stroke-width:1;stroke-linecap:butt;stroke-linejoin:miter;stroke:rgb(0%,0%,0%);stroke-opacity:1;stroke-miterlimit:10;\" d=\"M 30.414063 124.757813 L 20 96.179688 \"/>\n<path style=\"fill:none;stroke-width:1;stroke-linecap:butt;stroke-linejoin:miter;stroke:rgb(0%,0%,0%);stroke-opacity:1;stroke-miterlimit:10;\" d=\"M 121.027344 53.90625 L 102.019531 27.9375 \"/>\n<path style=\"fill:none;stroke-width:1;stroke-linecap:butt;stroke-linejoin:miter;stroke:rgb(0%,0%,0%);stroke-opacity:1;stroke-miterlimit:10;\" d=\"M 73.476563 20 L 102.019531 27.9375 \"/>\n<path style=\"fill-rule:nonzero;fill:rgb(100%,100%,0%);fill-opacity:1;stroke-width:1;stroke-linecap:butt;stroke-linejoin:miter;stroke:rgb(0%,0%,0%);stroke-opacity:1;stroke-miterlimit:10;\" d=\"M 32.332031 67.941406 C 32.332031 73.464844 27.855469 77.941406 22.332031 77.941406 C 16.808594 77.941406 12.332031 73.464844 12.332031 67.941406 C 12.332031 62.417969 16.808594 57.941406 22.332031 57.941406 C 27.855469 57.941406 32.332031 62.417969 32.332031 67.941406 \"/>\n<path style=\"fill-rule:nonzero;fill:rgb(100%,100%,0%);fill-opacity:1;stroke-width:1;stroke-linecap:butt;stroke-linejoin:miter;stroke:rgb(0%,0%,0%);stroke-opacity:1;stroke-miterlimit:10;\" d=\"M 183.363281 135.121094 C 183.363281 140.644531 178.886719 145.121094 173.363281 145.121094 C 167.839844 145.121094 163.363281 140.644531 163.363281 135.121094 C 163.363281 129.597656 167.839844 125.121094 173.363281 125.121094 C 178.886719 125.121094 183.363281 129.597656 183.363281 135.121094 \"/>\n<path style=\"fill-rule:nonzero;fill:rgb(100%,100%,0%);fill-opacity:1;stroke-width:1;stroke-linecap:butt;stroke-linejoin:miter;stroke:rgb(0%,0%,0%);stroke-opacity:1;stroke-miterlimit:10;\" d=\"M 187.210938 77.90625 C 187.210938 83.425781 182.734375 87.90625 177.210938 87.90625 C 171.6875 87.90625 167.210938 83.425781 167.210938 77.90625 C 167.210938 72.382813 171.6875 67.90625 177.210938 67.90625 C 182.734375 67.90625 187.210938 72.382813 187.210938 77.90625 \"/>\n<path style=\"fill-rule:nonzero;fill:rgb(100%,0%,0%);fill-opacity:1;stroke-width:1;stroke-linecap:butt;stroke-linejoin:miter;stroke:rgb(0%,0%,0%);stroke-opacity:1;stroke-miterlimit:10;\" d=\"M 131.027344 53.90625 C 131.027344 59.429688 126.550781 63.90625 121.027344 63.90625 C 115.503906 63.90625 111.027344 59.429688 111.027344 53.90625 C 111.027344 48.382813 115.503906 43.90625 121.027344 43.90625 C 126.550781 43.90625 131.027344 48.382813 131.027344 53.90625 \"/>\n<path style=\"fill-rule:nonzero;fill:rgb(100%,100%,0%);fill-opacity:1;stroke-width:1;stroke-linecap:butt;stroke-linejoin:miter;stroke:rgb(0%,0%,0%);stroke-opacity:1;stroke-miterlimit:10;\" d=\"M 98.230469 114.710938 C 98.230469 120.234375 93.753906 124.710938 88.230469 124.710938 C 82.707031 124.710938 78.230469 120.234375 78.230469 114.710938 C 78.230469 109.1875 82.707031 104.710938 88.230469 104.710938 C 93.753906 104.710938 98.230469 109.1875 98.230469 114.710938 \"/>\n<path style=\"fill-rule:nonzero;fill:rgb(100%,100%,0%);fill-opacity:1;stroke-width:1;stroke-linecap:butt;stroke-linejoin:miter;stroke:rgb(0%,0%,0%);stroke-opacity:1;stroke-miterlimit:10;\" d=\"M 40.414063 124.757813 C 40.414063 130.28125 35.9375 134.757813 30.414063 134.757813 C 24.890625 134.757813 20.414063 130.28125 20.414063 124.757813 C 20.414063 119.234375 24.890625 114.757813 30.414063 114.757813 C 35.9375 114.757813 40.414063 119.234375 40.414063 124.757813 \"/>\n<path style=\"fill-rule:nonzero;fill:rgb(100%,100%,0%);fill-opacity:1;stroke-width:1;stroke-linecap:butt;stroke-linejoin:miter;stroke:rgb(0%,0%,0%);stroke-opacity:1;stroke-miterlimit:10;\" d=\"M 83.476563 20 C 83.476563 25.523438 79 30 73.476563 30 C 67.953125 30 63.476563 25.523438 63.476563 20 C 63.476563 14.476563 67.953125 10 73.476563 10 C 79 10 83.476563 14.476563 83.476563 20 \"/>\n<path style=\"fill-rule:nonzero;fill:rgb(0%,100%,0%);fill-opacity:1;stroke-width:1;stroke-linecap:butt;stroke-linejoin:miter;stroke:rgb(0%,0%,0%);stroke-opacity:1;stroke-miterlimit:10;\" d=\"M 92.636719 180 C 92.636719 185.523438 88.160156 190 82.636719 190 C 77.113281 190 72.636719 185.523438 72.636719 180 C 72.636719 174.476563 77.113281 170 82.636719 170 C 88.160156 170 92.636719 174.476563 92.636719 180 \"/>\n<path style=\"fill-rule:nonzero;fill:rgb(0%,100%,0%);fill-opacity:1;stroke-width:1;stroke-linecap:butt;stroke-linejoin:miter;stroke:rgb(0%,0%,0%);stroke-opacity:1;stroke-miterlimit:10;\" d=\"M 144.183594 171.550781 C 144.183594 177.074219 139.707031 181.550781 134.183594 181.550781 C 128.660156 181.550781 124.183594 177.074219 124.183594 171.550781 C 124.183594 166.03125 128.660156 161.550781 134.183594 161.550781 C 139.707031 161.550781 144.183594 166.03125 144.183594 171.550781 \"/>\n<path style=\"fill-rule:nonzero;fill:rgb(100%,75.294118%,79.607843%);fill-opacity:1;stroke-width:1;stroke-linecap:butt;stroke-linejoin:miter;stroke:rgb(0%,0%,0%);stroke-opacity:1;stroke-miterlimit:10;\" d=\"M 190 108.09375 C 190 113.617188 185.523438 118.09375 180 118.09375 C 174.476563 118.09375 170 113.617188 170 108.09375 C 170 102.570313 174.476563 98.09375 180 98.09375 C 185.523438 98.09375 190 102.570313 190 108.09375 \"/>\n<path style=\"fill-rule:nonzero;fill:rgb(100%,75.294118%,79.607843%);fill-opacity:1;stroke-width:1;stroke-linecap:butt;stroke-linejoin:miter;stroke:rgb(0%,0%,0%);stroke-opacity:1;stroke-miterlimit:10;\" d=\"M 166.195313 54.367188 C 166.195313 59.890625 161.71875 64.367188 156.195313 64.367188 C 150.671875 64.367188 146.195313 59.890625 146.195313 54.367188 C 146.195313 48.84375 150.671875 44.367188 156.195313 44.367188 C 161.71875 44.367188 166.195313 48.84375 166.195313 54.367188 \"/>\n<path style=\"fill-rule:nonzero;fill:rgb(100%,75.294118%,79.607843%);fill-opacity:1;stroke-width:1;stroke-linecap:butt;stroke-linejoin:miter;stroke:rgb(0%,0%,0%);stroke-opacity:1;stroke-miterlimit:10;\" d=\"M 113.828125 84.863281 C 113.828125 90.386719 109.351563 94.863281 103.828125 94.863281 C 98.304688 94.863281 93.828125 90.386719 93.828125 84.863281 C 93.828125 79.34375 98.304688 74.863281 103.828125 74.863281 C 109.351563 74.863281 113.828125 79.34375 113.828125 84.863281 \"/>\n<path style=\"fill-rule:nonzero;fill:rgb(100%,75.294118%,79.607843%);fill-opacity:1;stroke-width:1;stroke-linecap:butt;stroke-linejoin:miter;stroke:rgb(0%,0%,0%);stroke-opacity:1;stroke-miterlimit:10;\" d=\"M 70.921875 133.40625 C 70.921875 138.925781 66.445313 143.40625 60.921875 143.40625 C 55.398438 143.40625 50.921875 138.925781 50.921875 133.40625 C 50.921875 127.882813 55.398438 123.40625 60.921875 123.40625 C 66.445313 123.40625 70.921875 127.882813 70.921875 133.40625 \"/>\n<path style=\"fill-rule:nonzero;fill:rgb(100%,75.294118%,79.607843%);fill-opacity:1;stroke-width:1;stroke-linecap:butt;stroke-linejoin:miter;stroke:rgb(0%,0%,0%);stroke-opacity:1;stroke-miterlimit:10;\" d=\"M 30 96.179688 C 30 101.703125 25.523438 106.179688 20 106.179688 C 14.476563 106.179688 10 101.703125 10 96.179688 C 10 90.65625 14.476563 86.179688 20 86.179688 C 25.523438 86.179688 30 90.65625 30 96.179688 \"/>\n<path style=\"fill-rule:nonzero;fill:rgb(100%,75.294118%,79.607843%);fill-opacity:1;stroke-width:1;stroke-linecap:butt;stroke-linejoin:miter;stroke:rgb(0%,0%,0%);stroke-opacity:1;stroke-miterlimit:10;\" d=\"M 112.019531 27.9375 C 112.019531 33.460938 107.542969 37.9375 102.019531 37.9375 C 96.496094 37.9375 92.019531 33.460938 92.019531 27.9375 C 92.019531 22.414063 96.496094 17.9375 102.019531 17.9375 C 107.542969 17.9375 112.019531 22.414063 112.019531 27.9375 \"/>\n<g style=\"fill:rgb(0%,0%,0%);fill-opacity:1;\">\n  <use xlink:href=\"#glyph0-1\" x=\"59.136719\" y=\"186.511719\"/>\n  <use xlink:href=\"#glyph0-2\" x=\"63.798828\" y=\"186.511719\"/>\n  <use xlink:href=\"#glyph0-3\" x=\"71.584961\" y=\"186.511719\"/>\n  <use xlink:href=\"#glyph0-4\" x=\"78.584961\" y=\"186.511719\"/>\n  <use xlink:href=\"#glyph0-3\" x=\"81.695313\" y=\"186.511719\"/>\n  <use xlink:href=\"#glyph0-5\" x=\"88.695313\" y=\"186.511719\"/>\n  <use xlink:href=\"#glyph0-6\" x=\"92.584961\" y=\"186.511719\"/>\n  <use xlink:href=\"#glyph0-1\" x=\"100.371094\" y=\"186.511719\"/>\n</g>\n<g style=\"fill:rgb(0%,0%,0%);fill-opacity:1;\">\n  <use xlink:href=\"#glyph0-7\" x=\"112.667969\" y=\"178.0625\"/>\n  <use xlink:href=\"#glyph0-1\" x=\"120.454102\" y=\"178.0625\"/>\n  <use xlink:href=\"#glyph0-6\" x=\"125.116211\" y=\"178.0625\"/>\n  <use xlink:href=\"#glyph0-8\" x=\"132.902344\" y=\"178.0625\"/>\n  <use xlink:href=\"#glyph0-9\" x=\"140.688477\" y=\"178.0625\"/>\n  <use xlink:href=\"#glyph0-10\" x=\"148.474609\" y=\"178.0625\"/>\n</g>\n<g style=\"fill:rgb(0%,0%,0%);fill-opacity:1;\">\n  <use xlink:href=\"#glyph0-11\" x=\"168.921875\" y=\"113.304688\"/>\n  <use xlink:href=\"#glyph0-6\" x=\"175.921875\" y=\"113.304688\"/>\n  <use xlink:href=\"#glyph0-9\" x=\"183.708008\" y=\"113.304688\"/>\n</g>\n<g style=\"fill:rgb(0%,0%,0%);fill-opacity:1;\">\n  <use xlink:href=\"#glyph0-11\" x=\"145.117188\" y=\"59.578125\"/>\n  <use xlink:href=\"#glyph0-6\" x=\"152.117188\" y=\"59.578125\"/>\n  <use xlink:href=\"#glyph0-9\" x=\"159.90332\" y=\"59.578125\"/>\n</g>\n<g style=\"fill:rgb(0%,0%,0%);fill-opacity:1;\">\n  <use xlink:href=\"#glyph0-11\" x=\"92.75\" y=\"90.078125\"/>\n  <use xlink:href=\"#glyph0-6\" x=\"99.75\" y=\"90.078125\"/>\n  <use xlink:href=\"#glyph0-9\" x=\"107.536133\" y=\"90.078125\"/>\n</g>\n<g style=\"fill:rgb(0%,0%,0%);fill-opacity:1;\">\n  <use xlink:href=\"#glyph0-11\" x=\"49.84375\" y=\"138.617188\"/>\n  <use xlink:href=\"#glyph0-6\" x=\"56.84375\" y=\"138.617188\"/>\n  <use xlink:href=\"#glyph0-9\" x=\"64.629883\" y=\"138.617188\"/>\n</g>\n<g style=\"fill:rgb(0%,0%,0%);fill-opacity:1;\">\n  <use xlink:href=\"#glyph0-11\" x=\"8.921875\" y=\"101.394531\"/>\n  <use xlink:href=\"#glyph0-6\" x=\"15.921875\" y=\"101.394531\"/>\n  <use xlink:href=\"#glyph0-9\" x=\"23.708008\" y=\"101.394531\"/>\n</g>\n<g style=\"fill:rgb(0%,0%,0%);fill-opacity:1;\">\n  <use xlink:href=\"#glyph0-11\" x=\"90.941406\" y=\"33.148438\"/>\n  <use xlink:href=\"#glyph0-6\" x=\"97.941406\" y=\"33.148438\"/>\n  <use xlink:href=\"#glyph0-9\" x=\"105.727539\" y=\"33.148438\"/>\n</g>\n</g>\n</svg>\n",
      "text/plain": [
       "<igraph.drawing.Plot at 0x1b2de63ccd0>"
      ]
     },
     "execution_count": 6,
     "metadata": {
      "image/svg+xml": {
       "isolated": true
      }
     },
     "output_type": "execute_result"
    }
   ],
   "source": [
    "#for every Edge\n",
    "#freeze graph\n",
    "frozenGraph = copy.deepcopy(graph)\n",
    "for edge in frozenGraph.ed.values():\n",
    "\n",
    "    #get Vertices connected to Edge\n",
    "    vertices = graph.getVerticesForEdge(edge.id)\n",
    "    \n",
    "    #insert Connection Vertex\n",
    "    connection = Vertex(\n",
    "        color=CONNECTION_COLOR,\n",
    "        label=\"con\",\n",
    "        attr={\n",
    "            \"from\"  :vertices[0].attr[\"coordinates\"],\n",
    "            \"to\"    :vertices[1].attr[\"coordinates\"],\n",
    "        }\n",
    "    )\n",
    "    graph.insertVertexByEdge(edge.id,connection)\n",
    "\n",
    "\n",
    "igraphUnion = utils.convertToIgraph(graph)\n",
    "layout = igraphUnion.layout(\"fr\") #\"large_graph\"\n",
    "igraph.plot(igraphUnion, layout=layout,bbox = (200,200))\n"
   ]
  },
  {
   "cell_type": "markdown",
   "metadata": {},
   "source": [
    "### Draw the Cuircit and generate LT-Spice File"
   ]
  },
  {
   "cell_type": "code",
   "execution_count": 7,
   "metadata": {},
   "outputs": [],
   "source": [
    "relativeFactor = 80"
   ]
  },
  {
   "cell_type": "code",
   "execution_count": 8,
   "metadata": {},
   "outputs": [
    {
     "data": {
      "text/html": [
       "<img src=\"data:image/svg+xml;base64,PD94bWwgdmVyc2lvbj0iMS4wIiBlbmNvZGluZz0iVVRGLTgiPz4KPHN2ZyB4bWxucz0iaHR0cDovL3d3dy53My5vcmcvMjAwMC9zdmciIHhtbG5zOnhsaW5rPSJodHRwOi8vd3d3LnczLm9yZy8xOTk5L3hsaW5rIgogICAgIHdpZHRoPSIxMDAwIiBoZWlnaHQ9IjEwMDAiIHZpZXdCb3g9IjAgLTEwMDAgMTAwMCAxMDAwIj4KPGRlZnM+CjwvZGVmcz4KPHJlY3QgeD0iNDMwLjAiIHk9Ii05NjAuMCIgd2lkdGg9IjIwIiBoZWlnaHQ9IjgwIiBzdHJva2U9IiMxMjQ4ZmYiIGZpbGw9Im5vbmUiIC8+CjxwYXRoIGQ9Ik00NDAuMCwtOTYwLjAgTDQwMCwtOTIwIiBzdHJva2U9IiNmZjQ0NzciIC8+CjxwYXRoIGQ9Ik00NDAuMCwtODgwLjAgTDQ4MCwtOTIwIiBzdHJva2U9IiNmZjQ0NzciIC8+CjxwYXRoIGQ9Ik01NjAsLTQ0MCBMNTQ1LC00NDAiIHN0cm9rZT0iI2ZmNDQ3NyIgLz4KPHBhdGggZD0iTTU2MCwtNDQwIEw1NzUsLTQ0MCIgc3Ryb2tlPSIjZmY0NDc3IiAvPgo8cGF0aCBkPSJNNDgwLC05MjAgTDU2MCwtOTIwIiBzdHJva2U9IiNmZjQ0NzciIC8+CjxwYXRoIGQ9Ik01NjAsLTkyMCBMNTYwLC01MjAiIHN0cm9rZT0iI2ZmNDQ3NyIgLz4KPHBhdGggZD0iTTU2MCwtNTIwIEwxNjAsLTUyMCIgc3Ryb2tlPSIjZmY0NDc3IiAvPgo8cGF0aCBkPSJNMTYwLC01MjAgTDE2MCwtOTIwIiBzdHJva2U9IiNmZjQ0NzciIC8+CjxwYXRoIGQ9Ik00MDAsLTkyMCBMMTYwLC05MjAiIHN0cm9rZT0iI2ZmNDQ3NyIgLz4KPHBhdGggZD0iTTU2MCwtNTIwIEw1NjAsLTQ0MCIgc3Ryb2tlPSIjZmY0NDc3IiAvPgo8Y2lyY2xlIGN4PSI1NjAiIGN5PSItNTIwIiByPSI1IiAvPgo8L3N2Zz4=\">"
      ],
      "text/plain": [
       "<drawSvg.drawing.Drawing at 0x1b29ca7bc10>"
      ]
     },
     "execution_count": 8,
     "metadata": {},
     "output_type": "execute_result"
    }
   ],
   "source": [
    "\n",
    "width,height = 1000,1000\n",
    "d = draw.Drawing(width, height,displayInline=False)\n",
    "\n",
    "\n",
    "def drawWire(connectionVertex):\n",
    "    from_ = connectionVertex.attr[\"from\"]\n",
    "    to_ = connectionVertex.attr[\"to\"]\n",
    "    d.append(draw.Lines(from_[0]*relativeFactor, height-from_[1]*relativeFactor, to_[0]*relativeFactor,width-to_[1]*relativeFactor,stroke=\"#ff4477\"))\n",
    "\n",
    "def drawIntersection(intersectionVertex):\n",
    "    coordinates = [intersectionVertex.attr[\"coordinates\"][0]*relativeFactor,intersectionVertex.attr[\"coordinates\"][1]*relativeFactor]\n",
    "    d.append(draw.Circle(coordinates[0],height-coordinates[1],5))\n",
    "\n",
    "for vertex in graph.ve.values():\n",
    "    if not vertex.color == COMPONENT_COLOR: continue\n",
    "    CLASS_OBJECTS[vertex.attr[\"type\"]].draw(vertex,relativeFactor,width,height,d)\n",
    "for vertex in graph.ve.values():\n",
    "    if not vertex.color == CONNECTION_COLOR: continue\n",
    "    drawWire(vertex)\n",
    "for vertex in graph.ve.values():\n",
    "    if not vertex.color == INTERSECTION_COLOR: continue\n",
    "    drawIntersection(vertex)\n",
    "d"
   ]
  },
  {
   "cell_type": "code",
   "execution_count": 9,
   "metadata": {},
   "outputs": [],
   "source": [
    "def generateWire(connectionVertex,rel):\n",
    "    from_ = connectionVertex.attr[\"from\"]\n",
    "    to_ = connectionVertex.attr[\"to\"]\n",
    "    text = \"WIRE {x1} {y1} {x2} {y2}\\n\".format(x1= from_[0]*rel,y1 = from_[1]*rel,x2=to_[0]*rel,y2=to_[1]*rel)\n",
    "    return text\n",
    "\n",
    "string = \"Version 4\\nSHEET 1 {w} {h}\\n\".format(w=width,h=height)\n",
    "for vertex in graph.ve.values():\n",
    "    if not vertex.color == COMPONENT_COLOR: continue\n",
    "    string += CLASS_OBJECTS[vertex.attr[\"type\"]].generate(vertex,relativeFactor)\n",
    "\n",
    "for vertex in graph.ve.values():\n",
    "    if not vertex.color == CONNECTION_COLOR: continue\n",
    "    string += generateWire(vertex,relativeFactor)\n",
    "\n",
    "\n",
    "file = open(\"./../resources/out.asc\",\"w\")\n",
    "file.write(string)\n",
    "file.close()"
   ]
  }
 ],
 "metadata": {
  "interpreter": {
   "hash": "8d5f16fa311e9108f7b45528f5d2ae06d943147531887e316d30e7954f06f46e"
  },
  "kernelspec": {
   "display_name": "Python 3.9.7 64-bit",
   "language": "python",
   "name": "python3"
  },
  "language_info": {
   "codemirror_mode": {
    "name": "ipython",
    "version": 3
   },
   "file_extension": ".py",
   "mimetype": "text/x-python",
   "name": "python",
   "nbconvert_exporter": "python",
   "pygments_lexer": "ipython3",
   "version": "3.9.7"
  },
  "orig_nbformat": 4
 },
 "nbformat": 4,
 "nbformat_minor": 2
}
