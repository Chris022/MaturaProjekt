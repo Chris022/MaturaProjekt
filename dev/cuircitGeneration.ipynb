{
 "cells": [
  {
   "cell_type": "code",
   "execution_count": 19,
   "metadata": {},
   "outputs": [],
   "source": [
    "import sys\n",
    "sys.path.append('../')\n",
    "\n",
    "import lib.graphLib.graph as g\n",
    "from lib.graphLib.vertex import Vertex\n",
    "from lib.graphLib.edge import Edge\n",
    "from lib.components.resistor import Resistor\n",
    "\n",
    "from lib.constants import *\n",
    "import lib.utils as utils\n",
    "\n",
    "import igraph\n",
    "import copy\n",
    "import drawSvg as draw\n",
    "import math"
   ]
  },
  {
   "cell_type": "markdown",
   "metadata": {},
   "source": [
    "##### Generate Test data"
   ]
  },
  {
   "cell_type": "code",
   "execution_count": 10,
   "metadata": {},
   "outputs": [
    {
     "data": {
      "image/svg+xml": "<?xml version=\"1.0\" encoding=\"UTF-8\"?>\n<svg xmlns=\"http://www.w3.org/2000/svg\" xmlns:xlink=\"http://www.w3.org/1999/xlink\" width=\"200pt\" height=\"200pt\" viewBox=\"0 0 200 200\" version=\"1.1\">\n<g id=\"surface20\">\n<rect x=\"0\" y=\"0\" width=\"200\" height=\"200\" style=\"fill:rgb(100%,100%,100%);fill-opacity:1;stroke:none;\"/>\n<path style=\"fill:none;stroke-width:1;stroke-linecap:butt;stroke-linejoin:miter;stroke:rgb(0%,0%,0%);stroke-opacity:1;stroke-miterlimit:10;\" d=\"M 29.398438 126.175781 L 45.097656 168.640625 \"/>\n<path style=\"fill:none;stroke-width:1;stroke-linecap:butt;stroke-linejoin:miter;stroke:rgb(0%,0%,0%);stroke-opacity:1;stroke-miterlimit:10;\" d=\"M 45.097656 168.640625 L 85.363281 180 \"/>\n<path style=\"fill:none;stroke-width:1;stroke-linecap:butt;stroke-linejoin:miter;stroke:rgb(0%,0%,0%);stroke-opacity:1;stroke-miterlimit:10;\" d=\"M 85.363281 180 L 102.730469 150.1875 \"/>\n<path style=\"fill:none;stroke-width:1;stroke-linecap:butt;stroke-linejoin:miter;stroke:rgb(0%,0%,0%);stroke-opacity:1;stroke-miterlimit:10;\" d=\"M 102.730469 150.1875 L 64.0625 152.121094 \"/>\n<path style=\"fill:none;stroke-width:1;stroke-linecap:butt;stroke-linejoin:miter;stroke:rgb(0%,0%,0%);stroke-opacity:1;stroke-miterlimit:10;\" d=\"M 64.0625 152.121094 L 20 151.53125 \"/>\n<path style=\"fill:none;stroke-width:1;stroke-linecap:butt;stroke-linejoin:miter;stroke:rgb(0%,0%,0%);stroke-opacity:1;stroke-miterlimit:10;\" d=\"M 29.398438 126.175781 L 20 151.53125 \"/>\n<path style=\"fill:none;stroke-width:1;stroke-linecap:butt;stroke-linejoin:miter;stroke:rgb(0%,0%,0%);stroke-opacity:1;stroke-miterlimit:10;\" d=\"M 102.730469 150.1875 L 121.425781 118.265625 \"/>\n<path style=\"fill:none;stroke-width:1;stroke-linecap:butt;stroke-linejoin:miter;stroke:rgb(0%,0%,0%);stroke-opacity:1;stroke-miterlimit:10;\" d=\"M 121.425781 118.265625 L 114.339844 81.046875 \"/>\n<path style=\"fill:none;stroke-width:1;stroke-linecap:butt;stroke-linejoin:miter;stroke:rgb(0%,0%,0%);stroke-opacity:1;stroke-miterlimit:10;\" d=\"M 114.339844 81.046875 L 75.089844 72.347656 \"/>\n<path style=\"fill:none;stroke-width:1;stroke-linecap:butt;stroke-linejoin:miter;stroke:rgb(0%,0%,0%);stroke-opacity:1;stroke-miterlimit:10;\" d=\"M 75.089844 72.347656 L 41.203125 90.761719 \"/>\n<path style=\"fill:none;stroke-width:1;stroke-linecap:butt;stroke-linejoin:miter;stroke:rgb(0%,0%,0%);stroke-opacity:1;stroke-miterlimit:10;\" d=\"M 29.398438 126.175781 L 41.203125 90.761719 \"/>\n<path style=\"fill:none;stroke-width:1;stroke-linecap:butt;stroke-linejoin:miter;stroke:rgb(0%,0%,0%);stroke-opacity:1;stroke-miterlimit:10;\" d=\"M 114.339844 81.046875 L 142.171875 55.652344 \"/>\n<path style=\"fill:none;stroke-width:1;stroke-linecap:butt;stroke-linejoin:miter;stroke:rgb(0%,0%,0%);stroke-opacity:1;stroke-miterlimit:10;\" d=\"M 142.171875 55.652344 L 141.601563 20 \"/>\n<path style=\"fill:none;stroke-width:1;stroke-linecap:butt;stroke-linejoin:miter;stroke:rgb(0%,0%,0%);stroke-opacity:1;stroke-miterlimit:10;\" d=\"M 142.171875 55.652344 L 180 55.691406 \"/>\n<path style=\"fill-rule:nonzero;fill:rgb(100%,0%,0%);fill-opacity:1;stroke-width:1;stroke-linecap:butt;stroke-linejoin:miter;stroke:rgb(0%,0%,0%);stroke-opacity:1;stroke-miterlimit:10;\" d=\"M 39.398438 126.175781 C 39.398438 131.695313 34.921875 136.175781 29.398438 136.175781 C 23.875 136.175781 19.398438 131.695313 19.398438 126.175781 C 19.398438 120.652344 23.875 116.175781 29.398438 116.175781 C 34.921875 116.175781 39.398438 120.652344 39.398438 126.175781 \"/>\n<path style=\"fill-rule:nonzero;fill:rgb(100%,100%,0%);fill-opacity:1;stroke-width:1;stroke-linecap:butt;stroke-linejoin:miter;stroke:rgb(0%,0%,0%);stroke-opacity:1;stroke-miterlimit:10;\" d=\"M 55.097656 168.640625 C 55.097656 174.164063 50.617188 178.640625 45.097656 178.640625 C 39.574219 178.640625 35.097656 174.164063 35.097656 168.640625 C 35.097656 163.117188 39.574219 158.640625 45.097656 158.640625 C 50.617188 158.640625 55.097656 163.117188 55.097656 168.640625 \"/>\n<path style=\"fill-rule:nonzero;fill:rgb(100%,100%,0%);fill-opacity:1;stroke-width:1;stroke-linecap:butt;stroke-linejoin:miter;stroke:rgb(0%,0%,0%);stroke-opacity:1;stroke-miterlimit:10;\" d=\"M 95.363281 180 C 95.363281 185.523438 90.886719 190 85.363281 190 C 79.84375 190 75.363281 185.523438 75.363281 180 C 75.363281 174.476563 79.84375 170 85.363281 170 C 90.886719 170 95.363281 174.476563 95.363281 180 \"/>\n<path style=\"fill-rule:nonzero;fill:rgb(100%,0%,0%);fill-opacity:1;stroke-width:1;stroke-linecap:butt;stroke-linejoin:miter;stroke:rgb(0%,0%,0%);stroke-opacity:1;stroke-miterlimit:10;\" d=\"M 112.730469 150.1875 C 112.730469 155.710938 108.253906 160.1875 102.730469 160.1875 C 97.207031 160.1875 92.730469 155.710938 92.730469 150.1875 C 92.730469 144.664063 97.207031 140.1875 102.730469 140.1875 C 108.253906 140.1875 112.730469 144.664063 112.730469 150.1875 \"/>\n<path style=\"fill-rule:nonzero;fill:rgb(100%,100%,0%);fill-opacity:1;stroke-width:1;stroke-linecap:butt;stroke-linejoin:miter;stroke:rgb(0%,0%,0%);stroke-opacity:1;stroke-miterlimit:10;\" d=\"M 74.0625 152.121094 C 74.0625 157.640625 69.582031 162.121094 64.0625 162.121094 C 58.539063 162.121094 54.0625 157.640625 54.0625 152.121094 C 54.0625 146.597656 58.539063 142.121094 64.0625 142.121094 C 69.582031 142.121094 74.0625 146.597656 74.0625 152.121094 \"/>\n<path style=\"fill-rule:nonzero;fill:rgb(100%,100%,0%);fill-opacity:1;stroke-width:1;stroke-linecap:butt;stroke-linejoin:miter;stroke:rgb(0%,0%,0%);stroke-opacity:1;stroke-miterlimit:10;\" d=\"M 30 151.53125 C 30 157.050781 25.523438 161.53125 20 161.53125 C 14.476563 161.53125 10 157.050781 10 151.53125 C 10 146.007813 14.476563 141.53125 20 141.53125 C 25.523438 141.53125 30 146.007813 30 151.53125 \"/>\n<path style=\"fill-rule:nonzero;fill:rgb(100%,100%,0%);fill-opacity:1;stroke-width:1;stroke-linecap:butt;stroke-linejoin:miter;stroke:rgb(0%,0%,0%);stroke-opacity:1;stroke-miterlimit:10;\" d=\"M 131.425781 118.265625 C 131.425781 123.789063 126.949219 128.265625 121.425781 128.265625 C 115.902344 128.265625 111.425781 123.789063 111.425781 118.265625 C 111.425781 112.742188 115.902344 108.265625 121.425781 108.265625 C 126.949219 108.265625 131.425781 112.742188 131.425781 118.265625 \"/>\n<path style=\"fill-rule:nonzero;fill:rgb(100%,0%,0%);fill-opacity:1;stroke-width:1;stroke-linecap:butt;stroke-linejoin:miter;stroke:rgb(0%,0%,0%);stroke-opacity:1;stroke-miterlimit:10;\" d=\"M 124.339844 81.046875 C 124.339844 86.570313 119.859375 91.046875 114.339844 91.046875 C 108.816406 91.046875 104.339844 86.570313 104.339844 81.046875 C 104.339844 75.523438 108.816406 71.046875 114.339844 71.046875 C 119.859375 71.046875 124.339844 75.523438 124.339844 81.046875 \"/>\n<path style=\"fill-rule:nonzero;fill:rgb(100%,100%,0%);fill-opacity:1;stroke-width:1;stroke-linecap:butt;stroke-linejoin:miter;stroke:rgb(0%,0%,0%);stroke-opacity:1;stroke-miterlimit:10;\" d=\"M 85.089844 72.347656 C 85.089844 77.871094 80.613281 82.347656 75.089844 82.347656 C 69.566406 82.347656 65.089844 77.871094 65.089844 72.347656 C 65.089844 66.824219 69.566406 62.347656 75.089844 62.347656 C 80.613281 62.347656 85.089844 66.824219 85.089844 72.347656 \"/>\n<path style=\"fill-rule:nonzero;fill:rgb(100%,100%,0%);fill-opacity:1;stroke-width:1;stroke-linecap:butt;stroke-linejoin:miter;stroke:rgb(0%,0%,0%);stroke-opacity:1;stroke-miterlimit:10;\" d=\"M 51.203125 90.761719 C 51.203125 96.285156 46.726563 100.761719 41.203125 100.761719 C 35.679688 100.761719 31.203125 96.285156 31.203125 90.761719 C 31.203125 85.238281 35.679688 80.761719 41.203125 80.761719 C 46.726563 80.761719 51.203125 85.238281 51.203125 90.761719 \"/>\n<path style=\"fill-rule:nonzero;fill:rgb(100%,0%,0%);fill-opacity:1;stroke-width:1;stroke-linecap:butt;stroke-linejoin:miter;stroke:rgb(0%,0%,0%);stroke-opacity:1;stroke-miterlimit:10;\" d=\"M 152.171875 55.652344 C 152.171875 61.171875 147.695313 65.652344 142.171875 65.652344 C 136.648438 65.652344 132.171875 61.171875 132.171875 55.652344 C 132.171875 50.128906 136.648438 45.652344 142.171875 45.652344 C 147.695313 45.652344 152.171875 50.128906 152.171875 55.652344 \"/>\n<path style=\"fill-rule:nonzero;fill:rgb(0%,0%,100%);fill-opacity:1;stroke-width:1;stroke-linecap:butt;stroke-linejoin:miter;stroke:rgb(0%,0%,0%);stroke-opacity:1;stroke-miterlimit:10;\" d=\"M 151.601563 20 C 151.601563 25.523438 147.125 30 141.601563 30 C 136.078125 30 131.601563 25.523438 131.601563 20 C 131.601563 14.476563 136.078125 10 141.601563 10 C 147.125 10 151.601563 14.476563 151.601563 20 \"/>\n<path style=\"fill-rule:nonzero;fill:rgb(0%,0%,100%);fill-opacity:1;stroke-width:1;stroke-linecap:butt;stroke-linejoin:miter;stroke:rgb(0%,0%,0%);stroke-opacity:1;stroke-miterlimit:10;\" d=\"M 190 55.691406 C 190 61.214844 185.523438 65.691406 180 65.691406 C 174.476563 65.691406 170 61.214844 170 55.691406 C 170 50.167969 174.476563 45.691406 180 45.691406 C 185.523438 45.691406 190 50.167969 190 55.691406 \"/>\n</g>\n</svg>\n",
      "text/plain": [
       "<igraph.drawing.Plot at 0x2a34f5cff70>"
      ]
     },
     "execution_count": 10,
     "metadata": {
      "image/svg+xml": {
       "isolated": true
      }
     },
     "output_type": "execute_result"
    }
   ],
   "source": [
    "graph = g.Graph()\n",
    "\n",
    "v0 = Vertex(\"red\",attr={\"coordinates\":[165,50]})\n",
    "v1 = Vertex(\"yellow\",attr={\"coordinates\":[169,57]})\n",
    "v2 = Vertex(\"yellow\",attr={\"coordinates\":[196,52]})\n",
    "v3 = Vertex(\"red\",attr={\"coordinates\":[197,50]})\n",
    "v4 = Vertex(\"yellow\",attr={\"coordinates\":[193,43]})\n",
    "v5 = Vertex(\"yellow\",attr={\"coordinates\":[166,47]})\n",
    "\n",
    "v6 = Vertex(\"yellow\",attr={\"coordinates\":[242,47]})\n",
    "v7 = Vertex(\"red\",attr={\"coordinates\":[244,211]})\n",
    "v8 = Vertex(\"yellow\",attr={\"coordinates\":[90,220]})\n",
    "v9 = Vertex(\"yellow\",attr={\"coordinates\":[92,56]})\n",
    "\n",
    "v10 = Vertex(\"red\",attr={\"coordinates\":[245,240]})\n",
    "v11 = Vertex(\"blue\",attr={\"coordinates\":[259,241]})\n",
    "v12 = Vertex(\"blue\",attr={\"coordinates\":[229,241]})\n",
    "\n",
    "graph.addVertices([v0,v1,v2,v3,v4,v5,v6,v7,v8,v9,v10,v11,v12])\n",
    "graph.addEdge(Edge(),v0.id,v1.id)\n",
    "graph.addEdge(Edge(),v1.id,v2.id)\n",
    "graph.addEdge(Edge(),v2.id,v3.id)\n",
    "graph.addEdge(Edge(),v3.id,v4.id)\n",
    "graph.addEdge(Edge(),v4.id,v5.id)\n",
    "graph.addEdge(Edge(),v5.id,v0.id)\n",
    "\n",
    "graph.addEdge(Edge(),v3.id,v6.id)\n",
    "graph.addEdge(Edge(),v6.id,v7.id)\n",
    "graph.addEdge(Edge(),v7.id,v8.id)\n",
    "graph.addEdge(Edge(),v8.id,v9.id)\n",
    "graph.addEdge(Edge(),v9.id,v0.id)\n",
    "\n",
    "graph.addEdge(Edge(),v7.id,v10.id)\n",
    "graph.addEdge(Edge(),v10.id,v11.id)\n",
    "graph.addEdge(Edge(),v10.id,v12.id)\n",
    "\n",
    "buildingParts = [\n",
    "    (\"resistor\",0,[v0,v1,v2,v3,v4,v5]),\n",
    "    (\"ground\",90,[v10,v11,v12,])\n",
    "]\n",
    "\n",
    "igraphUnion = utils.convertToIgraph(graph)\n",
    "layout = igraphUnion.layout(\"kk\") #\"large_graph\"\n",
    "igraph.plot(igraphUnion, layout=layout,bbox = (200,200))"
   ]
  },
  {
   "cell_type": "markdown",
   "metadata": {},
   "source": [
    "### Convert Coordinates to Relative Values"
   ]
  },
  {
   "cell_type": "code",
   "execution_count": 11,
   "metadata": {},
   "outputs": [],
   "source": [
    "#get lenght of the longest resistor\n",
    "len = -1\n",
    "for buildingPart in buildingParts:\n",
    "    vertices = buildingPart[2]\n",
    "    rotation = buildingPart[1]\n",
    "    type_ = buildingPart[0]\n",
    "\n",
    "    if not type_ == CLASS_NAMES[\"res\"]:\n",
    "        continue\n",
    "    \n",
    "    xVals = list(map(lambda v: v.attr[\"coordinates\"][0],vertices))\n",
    "    yVals = list(map(lambda v: v.attr[\"coordinates\"][1],vertices))\n",
    "\n",
    "    xDist = max(xVals) - min(xVals)\n",
    "    yDist = max(yVals) - min(yVals)\n",
    "\n",
    "    if xDist > yDist:\n",
    "        if xDist > len:\n",
    "            len = xDist\n",
    "    else:\n",
    "        if yDist > len:\n",
    "            len = yDist\n",
    "\n",
    "\n",
    "#convert all coordinates to values, relative to the resistor\n",
    "for vertex in graph.ve.values():\n",
    "    x = vertex.attr[\"coordinates\"][0]\n",
    "    y = vertex.attr[\"coordinates\"][1]\n",
    "    vertex.attr[\"coordinates\"] = [x/len,y/len]"
   ]
  },
  {
   "cell_type": "markdown",
   "metadata": {},
   "source": [
    "### Snap Coordinates to Grid "
   ]
  },
  {
   "cell_type": "code",
   "execution_count": 12,
   "metadata": {},
   "outputs": [],
   "source": [
    "\n",
    "for vertex in graph.ve.values():\n",
    "    gridSize = 1\n",
    "    x = math.floor(vertex.attr[\"coordinates\"][0]/gridSize)*gridSize\n",
    "    y = math.floor(vertex.attr[\"coordinates\"][1]/gridSize)*gridSize\n",
    "    vertex.attr[\"coordinates\"] = [x,y]"
   ]
  },
  {
   "cell_type": "markdown",
   "metadata": {},
   "source": [
    "### Modify Graph"
   ]
  },
  {
   "cell_type": "code",
   "execution_count": 14,
   "metadata": {},
   "outputs": [
    {
     "name": "stdout",
     "output_type": "stream",
     "text": [
      "<lib.graphLib.vertex.Vertex object at 0x000002A3110BF1F0>\n",
      "<lib.graphLib.vertex.Vertex object at 0x000002A3110BF970>\n",
      "<lib.graphLib.vertex.Vertex object at 0x000002A3110BFC70>\n"
     ]
    },
    {
     "data": {
      "image/svg+xml": "<?xml version=\"1.0\" encoding=\"UTF-8\"?>\n<svg xmlns=\"http://www.w3.org/2000/svg\" xmlns:xlink=\"http://www.w3.org/1999/xlink\" width=\"200pt\" height=\"200pt\" viewBox=\"0 0 200 200\" version=\"1.1\">\n<defs>\n<g>\n<symbol overflow=\"visible\" id=\"glyph0-0\">\n<path style=\"stroke:none;\" d=\"M 1.75 0 L 1.75 -8.75 L 8.75 -8.75 L 8.75 0 Z M 1.96875 -0.21875 L 8.53125 -0.21875 L 8.53125 -8.53125 L 1.96875 -8.53125 Z M 1.96875 -0.21875 \"/>\n</symbol>\n<symbol overflow=\"visible\" id=\"glyph0-1\">\n<path style=\"stroke:none;\" d=\"M 0.910156 0 L 0.910156 -7.257813 L 2.015625 -7.257813 L 2.015625 -6.160156 C 2.296875 -6.667969 2.554688 -7.007813 2.796875 -7.175781 C 3.03125 -7.335938 3.296875 -7.417969 3.589844 -7.421875 C 4 -7.417969 4.421875 -7.285156 4.851563 -7.027344 L 4.429688 -5.886719 C 4.125 -6.0625 3.824219 -6.152344 3.527344 -6.152344 C 3.257813 -6.152344 3.015625 -6.070313 2.800781 -5.910156 C 2.585938 -5.746094 2.433594 -5.519531 2.34375 -5.234375 C 2.207031 -4.792969 2.136719 -4.316406 2.140625 -3.800781 L 2.140625 0 Z M 0.910156 0 \"/>\n</symbol>\n<symbol overflow=\"visible\" id=\"glyph0-2\">\n<path style=\"stroke:none;\" d=\"M 5.890625 -2.335938 L 7.164063 -2.179688 C 6.960938 -1.4375 6.589844 -0.859375 6.046875 -0.449219 C 5.503906 -0.0390625 4.8125 0.164063 3.972656 0.164063 C 2.910156 0.164063 2.066406 -0.160156 1.445313 -0.816406 C 0.820313 -1.464844 0.507813 -2.382813 0.511719 -3.570313 C 0.507813 -4.785156 0.824219 -5.734375 1.453125 -6.410156 C 2.082031 -7.082031 2.898438 -7.417969 3.902344 -7.421875 C 4.871094 -7.417969 5.664063 -7.085938 6.28125 -6.429688 C 6.894531 -5.765625 7.199219 -4.839844 7.203125 -3.644531 C 7.199219 -3.570313 7.199219 -3.460938 7.199219 -3.316406 L 1.785156 -3.316406 C 1.828125 -2.515625 2.054688 -1.902344 2.460938 -1.480469 C 2.867188 -1.054688 3.371094 -0.84375 3.976563 -0.847656 C 4.425781 -0.84375 4.8125 -0.960938 5.132813 -1.203125 C 5.453125 -1.4375 5.703125 -1.816406 5.890625 -2.335938 Z M 1.851563 -4.328125 L 5.90625 -4.328125 C 5.851563 -4.933594 5.695313 -5.390625 5.441406 -5.703125 C 5.046875 -6.171875 4.539063 -6.410156 3.917969 -6.414063 C 3.351563 -6.410156 2.875 -6.21875 2.492188 -5.84375 C 2.101563 -5.460938 1.890625 -4.957031 1.851563 -4.328125 Z M 1.851563 -4.328125 \"/>\n</symbol>\n<symbol overflow=\"visible\" id=\"glyph0-3\">\n<path style=\"stroke:none;\" d=\"M 0.429688 -2.167969 L 1.648438 -2.359375 C 1.710938 -1.867188 1.902344 -1.492188 2.21875 -1.234375 C 2.527344 -0.972656 2.964844 -0.84375 3.527344 -0.847656 C 4.089844 -0.84375 4.507813 -0.957031 4.785156 -1.191406 C 5.054688 -1.417969 5.191406 -1.691406 5.195313 -2.003906 C 5.191406 -2.28125 5.070313 -2.5 4.832031 -2.660156 C 4.660156 -2.769531 4.242188 -2.90625 3.574219 -3.078125 C 2.671875 -3.300781 2.046875 -3.5 1.699219 -3.667969 C 1.347656 -3.832031 1.082031 -4.058594 0.90625 -4.355469 C 0.722656 -4.644531 0.632813 -4.972656 0.636719 -5.332031 C 0.632813 -5.652344 0.707031 -5.949219 0.855469 -6.230469 C 1.003906 -6.503906 1.203125 -6.734375 1.460938 -6.917969 C 1.648438 -7.054688 1.910156 -7.171875 2.246094 -7.273438 C 2.574219 -7.367188 2.929688 -7.417969 3.308594 -7.421875 C 3.875 -7.417969 4.375 -7.335938 4.808594 -7.175781 C 5.234375 -7.007813 5.550781 -6.785156 5.761719 -6.507813 C 5.964844 -6.226563 6.109375 -5.851563 6.1875 -5.386719 L 4.984375 -5.222656 C 4.925781 -5.589844 4.765625 -5.882813 4.507813 -6.097656 C 4.242188 -6.304688 3.875 -6.410156 3.398438 -6.414063 C 2.832031 -6.410156 2.425781 -6.316406 2.1875 -6.132813 C 1.941406 -5.941406 1.820313 -5.722656 1.824219 -5.476563 C 1.820313 -5.3125 1.871094 -5.167969 1.976563 -5.046875 C 2.070313 -4.910156 2.226563 -4.800781 2.445313 -4.71875 C 2.566406 -4.667969 2.929688 -4.5625 3.535156 -4.402344 C 4.402344 -4.167969 5.011719 -3.980469 5.355469 -3.832031 C 5.699219 -3.683594 5.96875 -3.464844 6.164063 -3.183594 C 6.359375 -2.898438 6.457031 -2.550781 6.460938 -2.132813 C 6.457031 -1.71875 6.335938 -1.332031 6.101563 -0.972656 C 5.859375 -0.609375 5.515625 -0.328125 5.066406 -0.132813 C 4.613281 0.0664063 4.101563 0.164063 3.535156 0.164063 C 2.585938 0.164063 1.867188 -0.03125 1.375 -0.421875 C 0.878906 -0.8125 0.5625 -1.394531 0.429688 -2.167969 Z M 0.429688 -2.167969 \"/>\n</symbol>\n<symbol overflow=\"visible\" id=\"glyph0-4\">\n<path style=\"stroke:none;\" d=\"M 0.929688 -8.605469 L 0.929688 -10.023438 L 2.160156 -10.023438 L 2.160156 -8.605469 Z M 0.929688 0 L 0.929688 -7.257813 L 2.160156 -7.257813 L 2.160156 0 Z M 0.929688 0 \"/>\n</symbol>\n<symbol overflow=\"visible\" id=\"glyph0-5\">\n<path style=\"stroke:none;\" d=\"M 3.609375 -1.101563 L 3.789063 -0.015625 C 3.4375 0.0585938 3.128906 0.09375 2.859375 0.09375 C 2.410156 0.09375 2.0625 0.0234375 1.816406 -0.117188 C 1.570313 -0.257813 1.394531 -0.441406 1.296875 -0.671875 C 1.195313 -0.902344 1.148438 -1.386719 1.148438 -2.125 L 1.148438 -6.304688 L 0.246094 -6.304688 L 0.246094 -7.257813 L 1.148438 -7.257813 L 1.148438 -9.058594 L 2.371094 -9.796875 L 2.371094 -7.257813 L 3.609375 -7.257813 L 3.609375 -6.304688 L 2.371094 -6.304688 L 2.371094 -2.058594 C 2.367188 -1.703125 2.386719 -1.476563 2.433594 -1.378906 C 2.472656 -1.277344 2.546875 -1.199219 2.648438 -1.140625 C 2.746094 -1.082031 2.886719 -1.054688 3.070313 -1.054688 C 3.203125 -1.054688 3.382813 -1.070313 3.609375 -1.101563 Z M 3.609375 -1.101563 \"/>\n</symbol>\n<symbol overflow=\"visible\" id=\"glyph0-6\">\n<path style=\"stroke:none;\" d=\"M 0.464844 -3.628906 C 0.460938 -4.972656 0.835938 -5.96875 1.585938 -6.617188 C 2.207031 -7.148438 2.96875 -7.417969 3.867188 -7.421875 C 4.867188 -7.417969 5.683594 -7.089844 6.316406 -6.441406 C 6.949219 -5.785156 7.265625 -4.882813 7.265625 -3.734375 C 7.265625 -2.796875 7.125 -2.0625 6.84375 -1.527344 C 6.5625 -0.992188 6.152344 -0.578125 5.621094 -0.28125 C 5.082031 0.015625 4.5 0.164063 3.867188 0.164063 C 2.851563 0.164063 2.027344 -0.160156 1.402344 -0.8125 C 0.773438 -1.460938 0.460938 -2.398438 0.464844 -3.628906 Z M 1.730469 -3.628906 C 1.726563 -2.695313 1.929688 -2 2.335938 -1.539063 C 2.738281 -1.074219 3.25 -0.84375 3.867188 -0.847656 C 4.476563 -0.84375 4.984375 -1.074219 5.390625 -1.542969 C 5.796875 -2.003906 6 -2.714844 6 -3.671875 C 6 -4.566406 5.792969 -5.246094 5.386719 -5.710938 C 4.976563 -6.171875 4.472656 -6.402344 3.867188 -6.40625 C 3.25 -6.402344 2.738281 -6.171875 2.335938 -5.714844 C 1.929688 -5.25 1.726563 -4.554688 1.730469 -3.628906 Z M 1.730469 -3.628906 \"/>\n</symbol>\n<symbol overflow=\"visible\" id=\"glyph0-7\">\n<path style=\"stroke:none;\" d=\"M 0.695313 0.601563 L 1.894531 0.78125 C 1.941406 1.144531 2.082031 1.414063 2.3125 1.585938 C 2.613281 1.8125 3.03125 1.925781 3.5625 1.929688 C 4.128906 1.925781 4.566406 1.8125 4.878906 1.585938 C 5.1875 1.355469 5.398438 1.035156 5.507813 0.628906 C 5.570313 0.375 5.597656 -0.148438 5.597656 -0.949219 C 5.058594 -0.316406 4.390625 0 3.589844 0 C 2.589844 0 1.816406 -0.359375 1.273438 -1.078125 C 0.722656 -1.796875 0.449219 -2.660156 0.453125 -3.671875 C 0.449219 -4.363281 0.574219 -5.003906 0.828125 -5.589844 C 1.074219 -6.175781 1.4375 -6.625 1.917969 -6.945313 C 2.390625 -7.257813 2.949219 -7.417969 3.59375 -7.421875 C 4.449219 -7.417969 5.15625 -7.070313 5.714844 -6.382813 L 5.714844 -7.257813 L 6.851563 -7.257813 L 6.851563 -0.984375 C 6.847656 0.144531 6.734375 0.945313 6.503906 1.417969 C 6.273438 1.886719 5.90625 2.257813 5.410156 2.535156 C 4.910156 2.804688 4.296875 2.941406 3.570313 2.945313 C 2.699219 2.941406 2 2.746094 1.46875 2.359375 C 0.933594 1.96875 0.675781 1.382813 0.695313 0.601563 Z M 1.714844 -3.757813 C 1.710938 -2.804688 1.898438 -2.113281 2.28125 -1.675781 C 2.65625 -1.238281 3.132813 -1.019531 3.703125 -1.019531 C 4.269531 -1.019531 4.742188 -1.234375 5.128906 -1.671875 C 5.507813 -2.101563 5.699219 -2.785156 5.703125 -3.71875 C 5.699219 -4.605469 5.503906 -5.273438 5.109375 -5.726563 C 4.714844 -6.175781 4.238281 -6.402344 3.683594 -6.40625 C 3.132813 -6.402344 2.667969 -6.179688 2.289063 -5.738281 C 1.902344 -5.289063 1.710938 -4.628906 1.714844 -3.757813 Z M 1.714844 -3.757813 \"/>\n</symbol>\n<symbol overflow=\"visible\" id=\"glyph0-8\">\n<path style=\"stroke:none;\" d=\"M 5.679688 0 L 5.679688 -1.066406 C 5.109375 -0.246094 4.34375 0.164063 3.375 0.164063 C 2.945313 0.164063 2.542969 0.0820313 2.175781 -0.0820313 C 1.800781 -0.246094 1.527344 -0.449219 1.347656 -0.699219 C 1.167969 -0.945313 1.039063 -1.25 0.96875 -1.613281 C 0.914063 -1.851563 0.890625 -2.234375 0.894531 -2.761719 L 0.894531 -7.257813 L 2.125 -7.257813 L 2.125 -3.234375 C 2.121094 -2.589844 2.148438 -2.15625 2.203125 -1.933594 C 2.277344 -1.609375 2.4375 -1.355469 2.691406 -1.171875 C 2.941406 -0.984375 3.253906 -0.890625 3.625 -0.894531 C 3.988281 -0.890625 4.332031 -0.984375 4.660156 -1.175781 C 4.980469 -1.363281 5.210938 -1.621094 5.347656 -1.949219 C 5.480469 -2.273438 5.546875 -2.746094 5.550781 -3.371094 L 5.550781 -7.257813 L 6.78125 -7.257813 L 6.78125 0 Z M 5.679688 0 \"/>\n</symbol>\n<symbol overflow=\"visible\" id=\"glyph0-9\">\n<path style=\"stroke:none;\" d=\"M 0.921875 0 L 0.921875 -7.257813 L 2.03125 -7.257813 L 2.03125 -6.226563 C 2.558594 -7.019531 3.328125 -7.417969 4.339844 -7.421875 C 4.773438 -7.417969 5.175781 -7.339844 5.546875 -7.1875 C 5.910156 -7.027344 6.183594 -6.820313 6.371094 -6.570313 C 6.550781 -6.3125 6.679688 -6.011719 6.753906 -5.660156 C 6.796875 -5.433594 6.820313 -5.035156 6.820313 -4.464844 L 6.820313 0 L 5.59375 0 L 5.59375 -4.414063 C 5.589844 -4.914063 5.542969 -5.289063 5.449219 -5.539063 C 5.351563 -5.785156 5.179688 -5.984375 4.9375 -6.136719 C 4.691406 -6.28125 4.40625 -6.355469 4.082031 -6.359375 C 3.554688 -6.355469 3.101563 -6.191406 2.722656 -5.859375 C 2.339844 -5.523438 2.148438 -4.890625 2.152344 -3.964844 L 2.152344 0 Z M 0.921875 0 \"/>\n</symbol>\n<symbol overflow=\"visible\" id=\"glyph0-10\">\n<path style=\"stroke:none;\" d=\"M 5.632813 0 L 5.632813 -0.914063 C 5.167969 -0.195313 4.492188 0.164063 3.601563 0.164063 C 3.019531 0.164063 2.488281 0.0078125 2.003906 -0.3125 C 1.519531 -0.628906 1.140625 -1.074219 0.875 -1.648438 C 0.605469 -2.21875 0.472656 -2.878906 0.476563 -3.625 C 0.472656 -4.347656 0.59375 -5.003906 0.839844 -5.59375 C 1.078125 -6.183594 1.441406 -6.636719 1.925781 -6.949219 C 2.40625 -7.261719 2.945313 -7.417969 3.546875 -7.421875 C 3.980469 -7.417969 4.371094 -7.324219 4.714844 -7.144531 C 5.054688 -6.957031 5.332031 -6.71875 5.550781 -6.425781 L 5.550781 -10.023438 L 6.773438 -10.023438 L 6.773438 0 Z M 1.742188 -3.625 C 1.738281 -2.691406 1.933594 -1.996094 2.328125 -1.535156 C 2.71875 -1.074219 3.183594 -0.84375 3.71875 -0.847656 C 4.253906 -0.84375 4.710938 -1.0625 5.085938 -1.507813 C 5.460938 -1.945313 5.648438 -2.617188 5.652344 -3.519531 C 5.648438 -4.511719 5.457031 -5.242188 5.078125 -5.707031 C 4.691406 -6.171875 4.21875 -6.402344 3.664063 -6.40625 C 3.113281 -6.402344 2.65625 -6.179688 2.292969 -5.734375 C 1.921875 -5.285156 1.738281 -4.582031 1.742188 -3.625 Z M 1.742188 -3.625 \"/>\n</symbol>\n</g>\n</defs>\n<g id=\"surface26\">\n<rect x=\"0\" y=\"0\" width=\"200\" height=\"200\" style=\"fill:rgb(100%,100%,100%);fill-opacity:1;stroke:none;\"/>\n<path style=\"fill:none;stroke-width:1;stroke-linecap:butt;stroke-linejoin:miter;stroke:rgb(0%,0%,0%);stroke-opacity:1;stroke-miterlimit:10;\" d=\"M 85.003906 180 L 69.292969 141.25 \"/>\n<path style=\"fill:none;stroke-width:1;stroke-linecap:butt;stroke-linejoin:miter;stroke:rgb(0%,0%,0%);stroke-opacity:1;stroke-miterlimit:10;\" d=\"M 69.292969 141.25 L 57.652344 92.914063 \"/>\n<path style=\"fill:none;stroke-width:1;stroke-linecap:butt;stroke-linejoin:miter;stroke:rgb(0%,0%,0%);stroke-opacity:1;stroke-miterlimit:10;\" d=\"M 57.652344 92.914063 L 75.550781 46.910156 \"/>\n<path style=\"fill:none;stroke-width:1;stroke-linecap:butt;stroke-linejoin:miter;stroke:rgb(0%,0%,0%);stroke-opacity:1;stroke-miterlimit:10;\" d=\"M 75.550781 46.910156 L 107.359375 20 \"/>\n<path style=\"fill:none;stroke-width:1;stroke-linecap:butt;stroke-linejoin:miter;stroke:rgb(0%,0%,0%);stroke-opacity:1;stroke-miterlimit:10;\" d=\"M 144.121094 22.023438 L 107.359375 20 \"/>\n<path style=\"fill:none;stroke-width:1;stroke-linecap:butt;stroke-linejoin:miter;stroke:rgb(0%,0%,0%);stroke-opacity:1;stroke-miterlimit:10;\" d=\"M 57.652344 92.914063 L 20 87.140625 \"/>\n<path style=\"fill-rule:nonzero;fill:rgb(100%,100%,0%);fill-opacity:1;stroke-width:1;stroke-linecap:butt;stroke-linejoin:miter;stroke:rgb(0%,0%,0%);stroke-opacity:1;stroke-miterlimit:10;\" d=\"M 154.121094 22.023438 C 154.121094 27.542969 149.644531 32.023438 144.121094 32.023438 C 138.597656 32.023438 134.121094 27.542969 134.121094 22.023438 C 134.121094 16.5 138.597656 12.023438 144.121094 12.023438 C 149.644531 12.023438 154.121094 16.5 154.121094 22.023438 \"/>\n<path style=\"fill-rule:nonzero;fill:rgb(100%,100%,0%);fill-opacity:1;stroke-width:1;stroke-linecap:butt;stroke-linejoin:miter;stroke:rgb(0%,0%,0%);stroke-opacity:1;stroke-miterlimit:10;\" d=\"M 95.003906 180 C 95.003906 185.523438 90.527344 190 85.003906 190 C 79.480469 190 75.003906 185.523438 75.003906 180 C 75.003906 174.476563 79.480469 170 85.003906 170 C 90.527344 170 95.003906 174.476563 95.003906 180 \"/>\n<path style=\"fill-rule:nonzero;fill:rgb(100%,100%,0%);fill-opacity:1;stroke-width:1;stroke-linecap:butt;stroke-linejoin:miter;stroke:rgb(0%,0%,0%);stroke-opacity:1;stroke-miterlimit:10;\" d=\"M 79.292969 141.25 C 79.292969 146.773438 74.816406 151.25 69.292969 151.25 C 63.769531 151.25 59.292969 146.773438 59.292969 141.25 C 59.292969 135.726563 63.769531 131.25 69.292969 131.25 C 74.816406 131.25 79.292969 135.726563 79.292969 141.25 \"/>\n<path style=\"fill-rule:nonzero;fill:rgb(100%,0%,0%);fill-opacity:1;stroke-width:1;stroke-linecap:butt;stroke-linejoin:miter;stroke:rgb(0%,0%,0%);stroke-opacity:1;stroke-miterlimit:10;\" d=\"M 67.652344 92.914063 C 67.652344 98.433594 63.175781 102.914063 57.652344 102.914063 C 52.128906 102.914063 47.652344 98.433594 47.652344 92.914063 C 47.652344 87.390625 52.128906 82.914063 57.652344 82.914063 C 63.175781 82.914063 67.652344 87.390625 67.652344 92.914063 \"/>\n<path style=\"fill-rule:nonzero;fill:rgb(100%,100%,0%);fill-opacity:1;stroke-width:1;stroke-linecap:butt;stroke-linejoin:miter;stroke:rgb(0%,0%,0%);stroke-opacity:1;stroke-miterlimit:10;\" d=\"M 85.550781 46.910156 C 85.550781 52.433594 81.074219 56.910156 75.550781 56.910156 C 70.027344 56.910156 65.550781 52.433594 65.550781 46.910156 C 65.550781 41.386719 70.027344 36.910156 75.550781 36.910156 C 81.074219 36.910156 85.550781 41.386719 85.550781 46.910156 \"/>\n<path style=\"fill-rule:nonzero;fill:rgb(100%,100%,0%);fill-opacity:1;stroke-width:1;stroke-linecap:butt;stroke-linejoin:miter;stroke:rgb(0%,0%,0%);stroke-opacity:1;stroke-miterlimit:10;\" d=\"M 117.359375 20 C 117.359375 25.523438 112.878906 30 107.359375 30 C 101.835938 30 97.359375 25.523438 97.359375 20 C 97.359375 14.476563 101.835938 10 107.359375 10 C 112.878906 10 117.359375 14.476563 117.359375 20 \"/>\n<path style=\"fill-rule:nonzero;fill:rgb(100%,100%,0%);fill-opacity:1;stroke-width:1;stroke-linecap:butt;stroke-linejoin:miter;stroke:rgb(0%,0%,0%);stroke-opacity:1;stroke-miterlimit:10;\" d=\"M 30 87.140625 C 30 92.664063 25.523438 97.140625 20 97.140625 C 14.476563 97.140625 10 92.664063 10 87.140625 C 10 81.621094 14.476563 77.140625 20 77.140625 C 25.523438 77.140625 30 81.621094 30 87.140625 \"/>\n<path style=\"fill-rule:nonzero;fill:rgb(0%,100%,0%);fill-opacity:1;stroke-width:1;stroke-linecap:butt;stroke-linejoin:miter;stroke:rgb(0%,0%,0%);stroke-opacity:1;stroke-miterlimit:10;\" d=\"M 165.953125 162.855469 C 165.953125 168.378906 161.476563 172.855469 155.953125 172.855469 C 150.429688 172.855469 145.953125 168.378906 145.953125 162.855469 C 145.953125 157.332031 150.429688 152.855469 155.953125 152.855469 C 161.476563 152.855469 165.953125 157.332031 165.953125 162.855469 \"/>\n<path style=\"fill-rule:nonzero;fill:rgb(0%,100%,0%);fill-opacity:1;stroke-width:1;stroke-linecap:butt;stroke-linejoin:miter;stroke:rgb(0%,0%,0%);stroke-opacity:1;stroke-miterlimit:10;\" d=\"M 190 95.308594 C 190 100.832031 185.523438 105.308594 180 105.308594 C 174.476563 105.308594 170 100.832031 170 95.308594 C 170 89.785156 174.476563 85.308594 180 85.308594 C 185.523438 85.308594 190 89.785156 190 95.308594 \"/>\n<g style=\"fill:rgb(0%,0%,0%);fill-opacity:1;\">\n  <use xlink:href=\"#glyph0-1\" x=\"132.453125\" y=\"169.367188\"/>\n  <use xlink:href=\"#glyph0-2\" x=\"137.115234\" y=\"169.367188\"/>\n  <use xlink:href=\"#glyph0-3\" x=\"144.901367\" y=\"169.367188\"/>\n  <use xlink:href=\"#glyph0-4\" x=\"151.901367\" y=\"169.367188\"/>\n  <use xlink:href=\"#glyph0-3\" x=\"155.011719\" y=\"169.367188\"/>\n  <use xlink:href=\"#glyph0-5\" x=\"162.011719\" y=\"169.367188\"/>\n  <use xlink:href=\"#glyph0-6\" x=\"165.901367\" y=\"169.367188\"/>\n  <use xlink:href=\"#glyph0-1\" x=\"173.6875\" y=\"169.367188\"/>\n</g>\n<g style=\"fill:rgb(0%,0%,0%);fill-opacity:1;\">\n  <use xlink:href=\"#glyph0-7\" x=\"158.484375\" y=\"101.820313\"/>\n  <use xlink:href=\"#glyph0-1\" x=\"166.270508\" y=\"101.820313\"/>\n  <use xlink:href=\"#glyph0-6\" x=\"170.932617\" y=\"101.820313\"/>\n  <use xlink:href=\"#glyph0-8\" x=\"178.71875\" y=\"101.820313\"/>\n  <use xlink:href=\"#glyph0-9\" x=\"186.504883\" y=\"101.820313\"/>\n  <use xlink:href=\"#glyph0-10\" x=\"194.291016\" y=\"101.820313\"/>\n</g>\n</g>\n</svg>\n",
      "text/plain": [
       "<igraph.drawing.Plot at 0x2a311d1bdc0>"
      ]
     },
     "execution_count": 14,
     "metadata": {
      "image/svg+xml": {
       "isolated": true
      }
     },
     "output_type": "execute_result"
    }
   ],
   "source": [
    "#Get all the vertices connected to a building part\n",
    "for buildingPart in buildingParts:\n",
    "    vertices = buildingPart[2]\n",
    "    rotation = buildingPart[1]\n",
    "    type_ = buildingPart[0]\n",
    "\n",
    "    #get all intersections\n",
    "    intersectionVertices = list (filter(lambda v: v.color == INTERSECTION_COLOR,vertices) )\n",
    "\n",
    "    #match LTSpice Model connections with graph Model connections\n",
    "    connectionMap = {}\n",
    "    \n",
    "    Resistor().connect(0,intersectionVertices)\n",
    "    #CHAAAANGE\n",
    "    #CHAAAANGE\n",
    "    #CHAAAANGE\n",
    "    #CHAAAANGE\n",
    "    #TODO!! CHANGE\n",
    "    index = 0\n",
    "    for intersectionVertex in intersectionVertices:\n",
    "        connectionMap[index] = intersectionVertex.attr[\"coordinates\"]\n",
    "        index+=1\n",
    "    #TODO!! CHANGE\n",
    "    #CHAAAANGE\n",
    "    #CHAAAANGE\n",
    "    #CHAAAANGE\n",
    "    #CHAAAANGE\n",
    "\n",
    "    #get center of the component\n",
    "    xVals = list(map(lambda v: v.attr[\"coordinates\"][0],vertices))\n",
    "    yVals = list(map(lambda v: v.attr[\"coordinates\"][1],vertices))\n",
    "\n",
    "    xDist = max(xVals) - min(xVals)\n",
    "    yDist = max(yVals) - min(yVals)\n",
    "    center = [min(xVals)+xDist/2,min(yVals)+yDist/2]\n",
    "\n",
    "    #delete all vertices of the component accept the intersection points, change type to edge for them!\n",
    "    for vertex in vertices:\n",
    "        if vertex.color == INTERSECTION_COLOR:\n",
    "            vertex.color = CORNER_COLOR\n",
    "            continue\n",
    "        graph.deleteVertex(vertex.id)\n",
    "    \n",
    "    #add UNCONECTED component Vertex\n",
    "    component = Vertex(\n",
    "            color=COMPONENT_COLOR,\n",
    "            label=type_,\n",
    "            attr={\"connectionMap\":connectionMap,\"type\":type_,\"coordinates\":center,\"rotation\":rotation}\n",
    "        )\n",
    "    graph.addVertex(component)\n",
    "\n",
    "igraphUnion = utils.convertToIgraph(graph)\n",
    "layout = igraphUnion.layout(\"fr\") #\"large_graph\"\n",
    "igraph.plot(igraphUnion, layout=layout,bbox = (200,200))"
   ]
  },
  {
   "cell_type": "code",
   "execution_count": 15,
   "metadata": {},
   "outputs": [
    {
     "data": {
      "image/svg+xml": "<?xml version=\"1.0\" encoding=\"UTF-8\"?>\n<svg xmlns=\"http://www.w3.org/2000/svg\" xmlns:xlink=\"http://www.w3.org/1999/xlink\" width=\"200pt\" height=\"200pt\" viewBox=\"0 0 200 200\" version=\"1.1\">\n<defs>\n<g>\n<symbol overflow=\"visible\" id=\"glyph0-0\">\n<path style=\"stroke:none;\" d=\"M 1.75 0 L 1.75 -8.75 L 8.75 -8.75 L 8.75 0 Z M 1.96875 -0.21875 L 8.53125 -0.21875 L 8.53125 -8.53125 L 1.96875 -8.53125 Z M 1.96875 -0.21875 \"/>\n</symbol>\n<symbol overflow=\"visible\" id=\"glyph0-1\">\n<path style=\"stroke:none;\" d=\"M 0.910156 0 L 0.910156 -7.257813 L 2.015625 -7.257813 L 2.015625 -6.160156 C 2.296875 -6.667969 2.554688 -7.007813 2.796875 -7.175781 C 3.03125 -7.335938 3.296875 -7.417969 3.589844 -7.421875 C 4 -7.417969 4.421875 -7.285156 4.851563 -7.027344 L 4.429688 -5.886719 C 4.125 -6.0625 3.824219 -6.152344 3.527344 -6.152344 C 3.257813 -6.152344 3.015625 -6.070313 2.800781 -5.910156 C 2.585938 -5.746094 2.433594 -5.519531 2.34375 -5.234375 C 2.207031 -4.792969 2.136719 -4.316406 2.140625 -3.800781 L 2.140625 0 Z M 0.910156 0 \"/>\n</symbol>\n<symbol overflow=\"visible\" id=\"glyph0-2\">\n<path style=\"stroke:none;\" d=\"M 5.890625 -2.335938 L 7.164063 -2.179688 C 6.960938 -1.4375 6.589844 -0.859375 6.046875 -0.449219 C 5.503906 -0.0390625 4.8125 0.164063 3.972656 0.164063 C 2.910156 0.164063 2.066406 -0.160156 1.445313 -0.816406 C 0.820313 -1.464844 0.507813 -2.382813 0.511719 -3.570313 C 0.507813 -4.785156 0.824219 -5.734375 1.453125 -6.410156 C 2.082031 -7.082031 2.898438 -7.417969 3.902344 -7.421875 C 4.871094 -7.417969 5.664063 -7.085938 6.28125 -6.429688 C 6.894531 -5.765625 7.199219 -4.839844 7.203125 -3.644531 C 7.199219 -3.570313 7.199219 -3.460938 7.199219 -3.316406 L 1.785156 -3.316406 C 1.828125 -2.515625 2.054688 -1.902344 2.460938 -1.480469 C 2.867188 -1.054688 3.371094 -0.84375 3.976563 -0.847656 C 4.425781 -0.84375 4.8125 -0.960938 5.132813 -1.203125 C 5.453125 -1.4375 5.703125 -1.816406 5.890625 -2.335938 Z M 1.851563 -4.328125 L 5.90625 -4.328125 C 5.851563 -4.933594 5.695313 -5.390625 5.441406 -5.703125 C 5.046875 -6.171875 4.539063 -6.410156 3.917969 -6.414063 C 3.351563 -6.410156 2.875 -6.21875 2.492188 -5.84375 C 2.101563 -5.460938 1.890625 -4.957031 1.851563 -4.328125 Z M 1.851563 -4.328125 \"/>\n</symbol>\n<symbol overflow=\"visible\" id=\"glyph0-3\">\n<path style=\"stroke:none;\" d=\"M 0.429688 -2.167969 L 1.648438 -2.359375 C 1.710938 -1.867188 1.902344 -1.492188 2.21875 -1.234375 C 2.527344 -0.972656 2.964844 -0.84375 3.527344 -0.847656 C 4.089844 -0.84375 4.507813 -0.957031 4.785156 -1.191406 C 5.054688 -1.417969 5.191406 -1.691406 5.195313 -2.003906 C 5.191406 -2.28125 5.070313 -2.5 4.832031 -2.660156 C 4.660156 -2.769531 4.242188 -2.90625 3.574219 -3.078125 C 2.671875 -3.300781 2.046875 -3.5 1.699219 -3.667969 C 1.347656 -3.832031 1.082031 -4.058594 0.90625 -4.355469 C 0.722656 -4.644531 0.632813 -4.972656 0.636719 -5.332031 C 0.632813 -5.652344 0.707031 -5.949219 0.855469 -6.230469 C 1.003906 -6.503906 1.203125 -6.734375 1.460938 -6.917969 C 1.648438 -7.054688 1.910156 -7.171875 2.246094 -7.273438 C 2.574219 -7.367188 2.929688 -7.417969 3.308594 -7.421875 C 3.875 -7.417969 4.375 -7.335938 4.808594 -7.175781 C 5.234375 -7.007813 5.550781 -6.785156 5.761719 -6.507813 C 5.964844 -6.226563 6.109375 -5.851563 6.1875 -5.386719 L 4.984375 -5.222656 C 4.925781 -5.589844 4.765625 -5.882813 4.507813 -6.097656 C 4.242188 -6.304688 3.875 -6.410156 3.398438 -6.414063 C 2.832031 -6.410156 2.425781 -6.316406 2.1875 -6.132813 C 1.941406 -5.941406 1.820313 -5.722656 1.824219 -5.476563 C 1.820313 -5.3125 1.871094 -5.167969 1.976563 -5.046875 C 2.070313 -4.910156 2.226563 -4.800781 2.445313 -4.71875 C 2.566406 -4.667969 2.929688 -4.5625 3.535156 -4.402344 C 4.402344 -4.167969 5.011719 -3.980469 5.355469 -3.832031 C 5.699219 -3.683594 5.96875 -3.464844 6.164063 -3.183594 C 6.359375 -2.898438 6.457031 -2.550781 6.460938 -2.132813 C 6.457031 -1.71875 6.335938 -1.332031 6.101563 -0.972656 C 5.859375 -0.609375 5.515625 -0.328125 5.066406 -0.132813 C 4.613281 0.0664063 4.101563 0.164063 3.535156 0.164063 C 2.585938 0.164063 1.867188 -0.03125 1.375 -0.421875 C 0.878906 -0.8125 0.5625 -1.394531 0.429688 -2.167969 Z M 0.429688 -2.167969 \"/>\n</symbol>\n<symbol overflow=\"visible\" id=\"glyph0-4\">\n<path style=\"stroke:none;\" d=\"M 0.929688 -8.605469 L 0.929688 -10.023438 L 2.160156 -10.023438 L 2.160156 -8.605469 Z M 0.929688 0 L 0.929688 -7.257813 L 2.160156 -7.257813 L 2.160156 0 Z M 0.929688 0 \"/>\n</symbol>\n<symbol overflow=\"visible\" id=\"glyph0-5\">\n<path style=\"stroke:none;\" d=\"M 3.609375 -1.101563 L 3.789063 -0.015625 C 3.4375 0.0585938 3.128906 0.09375 2.859375 0.09375 C 2.410156 0.09375 2.0625 0.0234375 1.816406 -0.117188 C 1.570313 -0.257813 1.394531 -0.441406 1.296875 -0.671875 C 1.195313 -0.902344 1.148438 -1.386719 1.148438 -2.125 L 1.148438 -6.304688 L 0.246094 -6.304688 L 0.246094 -7.257813 L 1.148438 -7.257813 L 1.148438 -9.058594 L 2.371094 -9.796875 L 2.371094 -7.257813 L 3.609375 -7.257813 L 3.609375 -6.304688 L 2.371094 -6.304688 L 2.371094 -2.058594 C 2.367188 -1.703125 2.386719 -1.476563 2.433594 -1.378906 C 2.472656 -1.277344 2.546875 -1.199219 2.648438 -1.140625 C 2.746094 -1.082031 2.886719 -1.054688 3.070313 -1.054688 C 3.203125 -1.054688 3.382813 -1.070313 3.609375 -1.101563 Z M 3.609375 -1.101563 \"/>\n</symbol>\n<symbol overflow=\"visible\" id=\"glyph0-6\">\n<path style=\"stroke:none;\" d=\"M 0.464844 -3.628906 C 0.460938 -4.972656 0.835938 -5.96875 1.585938 -6.617188 C 2.207031 -7.148438 2.96875 -7.417969 3.867188 -7.421875 C 4.867188 -7.417969 5.683594 -7.089844 6.316406 -6.441406 C 6.949219 -5.785156 7.265625 -4.882813 7.265625 -3.734375 C 7.265625 -2.796875 7.125 -2.0625 6.84375 -1.527344 C 6.5625 -0.992188 6.152344 -0.578125 5.621094 -0.28125 C 5.082031 0.015625 4.5 0.164063 3.867188 0.164063 C 2.851563 0.164063 2.027344 -0.160156 1.402344 -0.8125 C 0.773438 -1.460938 0.460938 -2.398438 0.464844 -3.628906 Z M 1.730469 -3.628906 C 1.726563 -2.695313 1.929688 -2 2.335938 -1.539063 C 2.738281 -1.074219 3.25 -0.84375 3.867188 -0.847656 C 4.476563 -0.84375 4.984375 -1.074219 5.390625 -1.542969 C 5.796875 -2.003906 6 -2.714844 6 -3.671875 C 6 -4.566406 5.792969 -5.246094 5.386719 -5.710938 C 4.976563 -6.171875 4.472656 -6.402344 3.867188 -6.40625 C 3.25 -6.402344 2.738281 -6.171875 2.335938 -5.714844 C 1.929688 -5.25 1.726563 -4.554688 1.730469 -3.628906 Z M 1.730469 -3.628906 \"/>\n</symbol>\n<symbol overflow=\"visible\" id=\"glyph0-7\">\n<path style=\"stroke:none;\" d=\"M 0.695313 0.601563 L 1.894531 0.78125 C 1.941406 1.144531 2.082031 1.414063 2.3125 1.585938 C 2.613281 1.8125 3.03125 1.925781 3.5625 1.929688 C 4.128906 1.925781 4.566406 1.8125 4.878906 1.585938 C 5.1875 1.355469 5.398438 1.035156 5.507813 0.628906 C 5.570313 0.375 5.597656 -0.148438 5.597656 -0.949219 C 5.058594 -0.316406 4.390625 0 3.589844 0 C 2.589844 0 1.816406 -0.359375 1.273438 -1.078125 C 0.722656 -1.796875 0.449219 -2.660156 0.453125 -3.671875 C 0.449219 -4.363281 0.574219 -5.003906 0.828125 -5.589844 C 1.074219 -6.175781 1.4375 -6.625 1.917969 -6.945313 C 2.390625 -7.257813 2.949219 -7.417969 3.59375 -7.421875 C 4.449219 -7.417969 5.15625 -7.070313 5.714844 -6.382813 L 5.714844 -7.257813 L 6.851563 -7.257813 L 6.851563 -0.984375 C 6.847656 0.144531 6.734375 0.945313 6.503906 1.417969 C 6.273438 1.886719 5.90625 2.257813 5.410156 2.535156 C 4.910156 2.804688 4.296875 2.941406 3.570313 2.945313 C 2.699219 2.941406 2 2.746094 1.46875 2.359375 C 0.933594 1.96875 0.675781 1.382813 0.695313 0.601563 Z M 1.714844 -3.757813 C 1.710938 -2.804688 1.898438 -2.113281 2.28125 -1.675781 C 2.65625 -1.238281 3.132813 -1.019531 3.703125 -1.019531 C 4.269531 -1.019531 4.742188 -1.234375 5.128906 -1.671875 C 5.507813 -2.101563 5.699219 -2.785156 5.703125 -3.71875 C 5.699219 -4.605469 5.503906 -5.273438 5.109375 -5.726563 C 4.714844 -6.175781 4.238281 -6.402344 3.683594 -6.40625 C 3.132813 -6.402344 2.667969 -6.179688 2.289063 -5.738281 C 1.902344 -5.289063 1.710938 -4.628906 1.714844 -3.757813 Z M 1.714844 -3.757813 \"/>\n</symbol>\n<symbol overflow=\"visible\" id=\"glyph0-8\">\n<path style=\"stroke:none;\" d=\"M 5.679688 0 L 5.679688 -1.066406 C 5.109375 -0.246094 4.34375 0.164063 3.375 0.164063 C 2.945313 0.164063 2.542969 0.0820313 2.175781 -0.0820313 C 1.800781 -0.246094 1.527344 -0.449219 1.347656 -0.699219 C 1.167969 -0.945313 1.039063 -1.25 0.96875 -1.613281 C 0.914063 -1.851563 0.890625 -2.234375 0.894531 -2.761719 L 0.894531 -7.257813 L 2.125 -7.257813 L 2.125 -3.234375 C 2.121094 -2.589844 2.148438 -2.15625 2.203125 -1.933594 C 2.277344 -1.609375 2.4375 -1.355469 2.691406 -1.171875 C 2.941406 -0.984375 3.253906 -0.890625 3.625 -0.894531 C 3.988281 -0.890625 4.332031 -0.984375 4.660156 -1.175781 C 4.980469 -1.363281 5.210938 -1.621094 5.347656 -1.949219 C 5.480469 -2.273438 5.546875 -2.746094 5.550781 -3.371094 L 5.550781 -7.257813 L 6.78125 -7.257813 L 6.78125 0 Z M 5.679688 0 \"/>\n</symbol>\n<symbol overflow=\"visible\" id=\"glyph0-9\">\n<path style=\"stroke:none;\" d=\"M 0.921875 0 L 0.921875 -7.257813 L 2.03125 -7.257813 L 2.03125 -6.226563 C 2.558594 -7.019531 3.328125 -7.417969 4.339844 -7.421875 C 4.773438 -7.417969 5.175781 -7.339844 5.546875 -7.1875 C 5.910156 -7.027344 6.183594 -6.820313 6.371094 -6.570313 C 6.550781 -6.3125 6.679688 -6.011719 6.753906 -5.660156 C 6.796875 -5.433594 6.820313 -5.035156 6.820313 -4.464844 L 6.820313 0 L 5.59375 0 L 5.59375 -4.414063 C 5.589844 -4.914063 5.542969 -5.289063 5.449219 -5.539063 C 5.351563 -5.785156 5.179688 -5.984375 4.9375 -6.136719 C 4.691406 -6.28125 4.40625 -6.355469 4.082031 -6.359375 C 3.554688 -6.355469 3.101563 -6.191406 2.722656 -5.859375 C 2.339844 -5.523438 2.148438 -4.890625 2.152344 -3.964844 L 2.152344 0 Z M 0.921875 0 \"/>\n</symbol>\n<symbol overflow=\"visible\" id=\"glyph0-10\">\n<path style=\"stroke:none;\" d=\"M 5.632813 0 L 5.632813 -0.914063 C 5.167969 -0.195313 4.492188 0.164063 3.601563 0.164063 C 3.019531 0.164063 2.488281 0.0078125 2.003906 -0.3125 C 1.519531 -0.628906 1.140625 -1.074219 0.875 -1.648438 C 0.605469 -2.21875 0.472656 -2.878906 0.476563 -3.625 C 0.472656 -4.347656 0.59375 -5.003906 0.839844 -5.59375 C 1.078125 -6.183594 1.441406 -6.636719 1.925781 -6.949219 C 2.40625 -7.261719 2.945313 -7.417969 3.546875 -7.421875 C 3.980469 -7.417969 4.371094 -7.324219 4.714844 -7.144531 C 5.054688 -6.957031 5.332031 -6.71875 5.550781 -6.425781 L 5.550781 -10.023438 L 6.773438 -10.023438 L 6.773438 0 Z M 1.742188 -3.625 C 1.738281 -2.691406 1.933594 -1.996094 2.328125 -1.535156 C 2.71875 -1.074219 3.183594 -0.84375 3.71875 -0.847656 C 4.253906 -0.84375 4.710938 -1.0625 5.085938 -1.507813 C 5.460938 -1.945313 5.648438 -2.617188 5.652344 -3.519531 C 5.648438 -4.511719 5.457031 -5.242188 5.078125 -5.707031 C 4.691406 -6.171875 4.21875 -6.402344 3.664063 -6.40625 C 3.113281 -6.402344 2.65625 -6.179688 2.292969 -5.734375 C 1.921875 -5.285156 1.738281 -4.582031 1.742188 -3.625 Z M 1.742188 -3.625 \"/>\n</symbol>\n<symbol overflow=\"visible\" id=\"glyph0-11\">\n<path style=\"stroke:none;\" d=\"M 5.660156 -2.660156 L 6.871094 -2.5 C 6.734375 -1.664063 6.394531 -1.011719 5.855469 -0.542969 C 5.308594 -0.0703125 4.640625 0.164063 3.847656 0.164063 C 2.851563 0.164063 2.054688 -0.160156 1.453125 -0.808594 C 0.847656 -1.457031 0.542969 -2.386719 0.546875 -3.601563 C 0.542969 -4.382813 0.675781 -5.070313 0.9375 -5.660156 C 1.195313 -6.246094 1.589844 -6.683594 2.121094 -6.980469 C 2.652344 -7.269531 3.230469 -7.417969 3.855469 -7.421875 C 4.644531 -7.417969 5.289063 -7.21875 5.789063 -6.824219 C 6.289063 -6.421875 6.609375 -5.855469 6.753906 -5.125 L 5.558594 -4.941406 C 5.441406 -5.425781 5.238281 -5.792969 4.953125 -6.042969 C 4.660156 -6.285156 4.3125 -6.410156 3.902344 -6.414063 C 3.28125 -6.410156 2.777344 -6.1875 2.390625 -5.746094 C 2.003906 -5.296875 1.808594 -4.59375 1.8125 -3.636719 C 1.808594 -2.65625 1.996094 -1.945313 2.371094 -1.507813 C 2.742188 -1.0625 3.230469 -0.84375 3.835938 -0.847656 C 4.316406 -0.84375 4.71875 -0.992188 5.042969 -1.289063 C 5.367188 -1.585938 5.574219 -2.042969 5.660156 -2.660156 Z M 5.660156 -2.660156 \"/>\n</symbol>\n</g>\n</defs>\n<g id=\"surface32\">\n<rect x=\"0\" y=\"0\" width=\"200\" height=\"200\" style=\"fill:rgb(100%,100%,100%);fill-opacity:1;stroke:none;\"/>\n<path style=\"fill:none;stroke-width:1;stroke-linecap:butt;stroke-linejoin:miter;stroke:rgb(0%,0%,0%);stroke-opacity:1;stroke-miterlimit:10;\" d=\"M 52.363281 26.320313 L 80.613281 20 \"/>\n<path style=\"fill:none;stroke-width:1;stroke-linecap:butt;stroke-linejoin:miter;stroke:rgb(0%,0%,0%);stroke-opacity:1;stroke-miterlimit:10;\" d=\"M 100.519531 42.496094 L 80.613281 20 \"/>\n<path style=\"fill:none;stroke-width:1;stroke-linecap:butt;stroke-linejoin:miter;stroke:rgb(0%,0%,0%);stroke-opacity:1;stroke-miterlimit:10;\" d=\"M 100.519531 42.496094 L 94.179688 75.667969 \"/>\n<path style=\"fill:none;stroke-width:1;stroke-linecap:butt;stroke-linejoin:miter;stroke:rgb(0%,0%,0%);stroke-opacity:1;stroke-miterlimit:10;\" d=\"M 79.828125 109.679688 L 94.179688 75.667969 \"/>\n<path style=\"fill:none;stroke-width:1;stroke-linecap:butt;stroke-linejoin:miter;stroke:rgb(0%,0%,0%);stroke-opacity:1;stroke-miterlimit:10;\" d=\"M 79.828125 109.679688 L 97.511719 141.9375 \"/>\n<path style=\"fill:none;stroke-width:1;stroke-linecap:butt;stroke-linejoin:miter;stroke:rgb(0%,0%,0%);stroke-opacity:1;stroke-miterlimit:10;\" d=\"M 122.011719 164.277344 L 97.511719 141.9375 \"/>\n<path style=\"fill:none;stroke-width:1;stroke-linecap:butt;stroke-linejoin:miter;stroke:rgb(0%,0%,0%);stroke-opacity:1;stroke-miterlimit:10;\" d=\"M 122.011719 164.277344 L 152.308594 157.59375 \"/>\n<path style=\"fill:none;stroke-width:1;stroke-linecap:butt;stroke-linejoin:miter;stroke:rgb(0%,0%,0%);stroke-opacity:1;stroke-miterlimit:10;\" d=\"M 171.722656 131.488281 L 152.308594 157.59375 \"/>\n<path style=\"fill:none;stroke-width:1;stroke-linecap:butt;stroke-linejoin:miter;stroke:rgb(0%,0%,0%);stroke-opacity:1;stroke-miterlimit:10;\" d=\"M 180 70.15625 L 179.492188 99.957031 \"/>\n<path style=\"fill:none;stroke-width:1;stroke-linecap:butt;stroke-linejoin:miter;stroke:rgb(0%,0%,0%);stroke-opacity:1;stroke-miterlimit:10;\" d=\"M 171.722656 131.488281 L 179.492188 99.957031 \"/>\n<path style=\"fill:none;stroke-width:1;stroke-linecap:butt;stroke-linejoin:miter;stroke:rgb(0%,0%,0%);stroke-opacity:1;stroke-miterlimit:10;\" d=\"M 79.828125 109.679688 L 46.761719 110.945313 \"/>\n<path style=\"fill:none;stroke-width:1;stroke-linecap:butt;stroke-linejoin:miter;stroke:rgb(0%,0%,0%);stroke-opacity:1;stroke-miterlimit:10;\" d=\"M 20 107.203125 L 46.761719 110.945313 \"/>\n<path style=\"fill-rule:nonzero;fill:rgb(100%,100%,0%);fill-opacity:1;stroke-width:1;stroke-linecap:butt;stroke-linejoin:miter;stroke:rgb(0%,0%,0%);stroke-opacity:1;stroke-miterlimit:10;\" d=\"M 190 70.15625 C 190 75.679688 185.523438 80.15625 180 80.15625 C 174.476563 80.15625 170 75.679688 170 70.15625 C 170 64.632813 174.476563 60.15625 180 60.15625 C 185.523438 60.15625 190 64.632813 190 70.15625 \"/>\n<path style=\"fill-rule:nonzero;fill:rgb(100%,100%,0%);fill-opacity:1;stroke-width:1;stroke-linecap:butt;stroke-linejoin:miter;stroke:rgb(0%,0%,0%);stroke-opacity:1;stroke-miterlimit:10;\" d=\"M 62.363281 26.320313 C 62.363281 31.84375 57.882813 36.320313 52.363281 36.320313 C 46.839844 36.320313 42.363281 31.84375 42.363281 26.320313 C 42.363281 20.796875 46.839844 16.320313 52.363281 16.320313 C 57.882813 16.320313 62.363281 20.796875 62.363281 26.320313 \"/>\n<path style=\"fill-rule:nonzero;fill:rgb(100%,100%,0%);fill-opacity:1;stroke-width:1;stroke-linecap:butt;stroke-linejoin:miter;stroke:rgb(0%,0%,0%);stroke-opacity:1;stroke-miterlimit:10;\" d=\"M 110.519531 42.496094 C 110.519531 48.019531 106.042969 52.496094 100.519531 52.496094 C 94.996094 52.496094 90.519531 48.019531 90.519531 42.496094 C 90.519531 36.976563 94.996094 32.496094 100.519531 32.496094 C 106.042969 32.496094 110.519531 36.976563 110.519531 42.496094 \"/>\n<path style=\"fill-rule:nonzero;fill:rgb(100%,0%,0%);fill-opacity:1;stroke-width:1;stroke-linecap:butt;stroke-linejoin:miter;stroke:rgb(0%,0%,0%);stroke-opacity:1;stroke-miterlimit:10;\" d=\"M 89.828125 109.679688 C 89.828125 115.199219 85.351563 119.679688 79.828125 119.679688 C 74.304688 119.679688 69.828125 115.199219 69.828125 109.679688 C 69.828125 104.15625 74.304688 99.679688 79.828125 99.679688 C 85.351563 99.679688 89.828125 104.15625 89.828125 109.679688 \"/>\n<path style=\"fill-rule:nonzero;fill:rgb(100%,100%,0%);fill-opacity:1;stroke-width:1;stroke-linecap:butt;stroke-linejoin:miter;stroke:rgb(0%,0%,0%);stroke-opacity:1;stroke-miterlimit:10;\" d=\"M 132.011719 164.277344 C 132.011719 169.800781 127.535156 174.277344 122.011719 174.277344 C 116.488281 174.277344 112.011719 169.800781 112.011719 164.277344 C 112.011719 158.753906 116.488281 154.277344 122.011719 154.277344 C 127.535156 154.277344 132.011719 158.753906 132.011719 164.277344 \"/>\n<path style=\"fill-rule:nonzero;fill:rgb(100%,100%,0%);fill-opacity:1;stroke-width:1;stroke-linecap:butt;stroke-linejoin:miter;stroke:rgb(0%,0%,0%);stroke-opacity:1;stroke-miterlimit:10;\" d=\"M 181.722656 131.488281 C 181.722656 137.011719 177.242188 141.488281 171.722656 141.488281 C 166.199219 141.488281 161.722656 137.011719 161.722656 131.488281 C 161.722656 125.964844 166.199219 121.488281 171.722656 121.488281 C 177.242188 121.488281 181.722656 125.964844 181.722656 131.488281 \"/>\n<path style=\"fill-rule:nonzero;fill:rgb(100%,100%,0%);fill-opacity:1;stroke-width:1;stroke-linecap:butt;stroke-linejoin:miter;stroke:rgb(0%,0%,0%);stroke-opacity:1;stroke-miterlimit:10;\" d=\"M 30 107.203125 C 30 112.722656 25.523438 117.203125 20 117.203125 C 14.476563 117.203125 10 112.722656 10 107.203125 C 10 101.679688 14.476563 97.203125 20 97.203125 C 25.523438 97.203125 30 101.679688 30 107.203125 \"/>\n<path style=\"fill-rule:nonzero;fill:rgb(0%,100%,0%);fill-opacity:1;stroke-width:1;stroke-linecap:butt;stroke-linejoin:miter;stroke:rgb(0%,0%,0%);stroke-opacity:1;stroke-miterlimit:10;\" d=\"M 69.171875 180 C 69.171875 185.523438 64.695313 190 59.171875 190 C 53.652344 190 49.171875 185.523438 49.171875 180 C 49.171875 174.476563 53.652344 170 59.171875 170 C 64.695313 170 69.171875 174.476563 69.171875 180 \"/>\n<path style=\"fill-rule:nonzero;fill:rgb(0%,100%,0%);fill-opacity:1;stroke-width:1;stroke-linecap:butt;stroke-linejoin:miter;stroke:rgb(0%,0%,0%);stroke-opacity:1;stroke-miterlimit:10;\" d=\"M 162.628906 20.242188 C 162.628906 25.765625 158.148438 30.242188 152.628906 30.242188 C 147.105469 30.242188 142.628906 25.765625 142.628906 20.242188 C 142.628906 14.71875 147.105469 10.242188 152.628906 10.242188 C 158.148438 10.242188 162.628906 14.71875 162.628906 20.242188 \"/>\n<path style=\"fill-rule:nonzero;fill:rgb(100%,75.294118%,79.607843%);fill-opacity:1;stroke-width:1;stroke-linecap:butt;stroke-linejoin:miter;stroke:rgb(0%,0%,0%);stroke-opacity:1;stroke-miterlimit:10;\" d=\"M 90.613281 20 C 90.613281 25.523438 86.136719 30 80.613281 30 C 75.089844 30 70.613281 25.523438 70.613281 20 C 70.613281 14.476563 75.089844 10 80.613281 10 C 86.136719 10 90.613281 14.476563 90.613281 20 \"/>\n<path style=\"fill-rule:nonzero;fill:rgb(100%,75.294118%,79.607843%);fill-opacity:1;stroke-width:1;stroke-linecap:butt;stroke-linejoin:miter;stroke:rgb(0%,0%,0%);stroke-opacity:1;stroke-miterlimit:10;\" d=\"M 104.179688 75.667969 C 104.179688 81.191406 99.703125 85.667969 94.179688 85.667969 C 88.660156 85.667969 84.179688 81.191406 84.179688 75.667969 C 84.179688 70.144531 88.660156 65.667969 94.179688 65.667969 C 99.703125 65.667969 104.179688 70.144531 104.179688 75.667969 \"/>\n<path style=\"fill-rule:nonzero;fill:rgb(100%,75.294118%,79.607843%);fill-opacity:1;stroke-width:1;stroke-linecap:butt;stroke-linejoin:miter;stroke:rgb(0%,0%,0%);stroke-opacity:1;stroke-miterlimit:10;\" d=\"M 107.511719 141.9375 C 107.511719 147.457031 103.035156 151.9375 97.511719 151.9375 C 91.988281 151.9375 87.511719 147.457031 87.511719 141.9375 C 87.511719 136.414063 91.988281 131.9375 97.511719 131.9375 C 103.035156 131.9375 107.511719 136.414063 107.511719 141.9375 \"/>\n<path style=\"fill-rule:nonzero;fill:rgb(100%,75.294118%,79.607843%);fill-opacity:1;stroke-width:1;stroke-linecap:butt;stroke-linejoin:miter;stroke:rgb(0%,0%,0%);stroke-opacity:1;stroke-miterlimit:10;\" d=\"M 162.308594 157.59375 C 162.308594 163.117188 157.828125 167.59375 152.308594 167.59375 C 146.785156 167.59375 142.308594 163.117188 142.308594 157.59375 C 142.308594 152.074219 146.785156 147.59375 152.308594 147.59375 C 157.828125 147.59375 162.308594 152.074219 162.308594 157.59375 \"/>\n<path style=\"fill-rule:nonzero;fill:rgb(100%,75.294118%,79.607843%);fill-opacity:1;stroke-width:1;stroke-linecap:butt;stroke-linejoin:miter;stroke:rgb(0%,0%,0%);stroke-opacity:1;stroke-miterlimit:10;\" d=\"M 189.492188 99.957031 C 189.492188 105.480469 185.015625 109.957031 179.492188 109.957031 C 173.96875 109.957031 169.492188 105.480469 169.492188 99.957031 C 169.492188 94.433594 173.96875 89.957031 179.492188 89.957031 C 185.015625 89.957031 189.492188 94.433594 189.492188 99.957031 \"/>\n<path style=\"fill-rule:nonzero;fill:rgb(100%,75.294118%,79.607843%);fill-opacity:1;stroke-width:1;stroke-linecap:butt;stroke-linejoin:miter;stroke:rgb(0%,0%,0%);stroke-opacity:1;stroke-miterlimit:10;\" d=\"M 56.761719 110.945313 C 56.761719 116.46875 52.28125 120.945313 46.761719 120.945313 C 41.238281 120.945313 36.761719 116.46875 36.761719 110.945313 C 36.761719 105.421875 41.238281 100.945313 46.761719 100.945313 C 52.28125 100.945313 56.761719 105.421875 56.761719 110.945313 \"/>\n<g style=\"fill:rgb(0%,0%,0%);fill-opacity:1;\">\n  <use xlink:href=\"#glyph0-1\" x=\"35.675781\" y=\"186.511719\"/>\n  <use xlink:href=\"#glyph0-2\" x=\"40.337891\" y=\"186.511719\"/>\n  <use xlink:href=\"#glyph0-3\" x=\"48.124023\" y=\"186.511719\"/>\n  <use xlink:href=\"#glyph0-4\" x=\"55.124023\" y=\"186.511719\"/>\n  <use xlink:href=\"#glyph0-3\" x=\"58.234375\" y=\"186.511719\"/>\n  <use xlink:href=\"#glyph0-5\" x=\"65.234375\" y=\"186.511719\"/>\n  <use xlink:href=\"#glyph0-6\" x=\"69.124023\" y=\"186.511719\"/>\n  <use xlink:href=\"#glyph0-1\" x=\"76.910156\" y=\"186.511719\"/>\n</g>\n<g style=\"fill:rgb(0%,0%,0%);fill-opacity:1;\">\n  <use xlink:href=\"#glyph0-7\" x=\"131.109375\" y=\"26.753906\"/>\n  <use xlink:href=\"#glyph0-1\" x=\"138.895508\" y=\"26.753906\"/>\n  <use xlink:href=\"#glyph0-6\" x=\"143.557617\" y=\"26.753906\"/>\n  <use xlink:href=\"#glyph0-8\" x=\"151.34375\" y=\"26.753906\"/>\n  <use xlink:href=\"#glyph0-9\" x=\"159.129883\" y=\"26.753906\"/>\n  <use xlink:href=\"#glyph0-10\" x=\"166.916016\" y=\"26.753906\"/>\n</g>\n<g style=\"fill:rgb(0%,0%,0%);fill-opacity:1;\">\n  <use xlink:href=\"#glyph0-11\" x=\"69.535156\" y=\"25.210938\"/>\n  <use xlink:href=\"#glyph0-6\" x=\"76.535156\" y=\"25.210938\"/>\n  <use xlink:href=\"#glyph0-9\" x=\"84.321289\" y=\"25.210938\"/>\n</g>\n<g style=\"fill:rgb(0%,0%,0%);fill-opacity:1;\">\n  <use xlink:href=\"#glyph0-11\" x=\"83.105469\" y=\"80.878906\"/>\n  <use xlink:href=\"#glyph0-6\" x=\"90.105469\" y=\"80.878906\"/>\n  <use xlink:href=\"#glyph0-9\" x=\"97.891602\" y=\"80.878906\"/>\n</g>\n<g style=\"fill:rgb(0%,0%,0%);fill-opacity:1;\">\n  <use xlink:href=\"#glyph0-11\" x=\"86.433594\" y=\"147.148438\"/>\n  <use xlink:href=\"#glyph0-6\" x=\"93.433594\" y=\"147.148438\"/>\n  <use xlink:href=\"#glyph0-9\" x=\"101.219727\" y=\"147.148438\"/>\n</g>\n<g style=\"fill:rgb(0%,0%,0%);fill-opacity:1;\">\n  <use xlink:href=\"#glyph0-11\" x=\"141.230469\" y=\"162.808594\"/>\n  <use xlink:href=\"#glyph0-6\" x=\"148.230469\" y=\"162.808594\"/>\n  <use xlink:href=\"#glyph0-9\" x=\"156.016602\" y=\"162.808594\"/>\n</g>\n<g style=\"fill:rgb(0%,0%,0%);fill-opacity:1;\">\n  <use xlink:href=\"#glyph0-11\" x=\"168.414063\" y=\"105.167969\"/>\n  <use xlink:href=\"#glyph0-6\" x=\"175.414063\" y=\"105.167969\"/>\n  <use xlink:href=\"#glyph0-9\" x=\"183.200195\" y=\"105.167969\"/>\n</g>\n<g style=\"fill:rgb(0%,0%,0%);fill-opacity:1;\">\n  <use xlink:href=\"#glyph0-11\" x=\"35.683594\" y=\"116.15625\"/>\n  <use xlink:href=\"#glyph0-6\" x=\"42.683594\" y=\"116.15625\"/>\n  <use xlink:href=\"#glyph0-9\" x=\"50.469727\" y=\"116.15625\"/>\n</g>\n</g>\n</svg>\n",
      "text/plain": [
       "<igraph.drawing.Plot at 0x2a34f5d5c40>"
      ]
     },
     "execution_count": 15,
     "metadata": {
      "image/svg+xml": {
       "isolated": true
      }
     },
     "output_type": "execute_result"
    }
   ],
   "source": [
    "#for every Edge\n",
    "#freeze graph\n",
    "frozenGraph = copy.deepcopy(graph)\n",
    "for edge in frozenGraph.ed.values():\n",
    "\n",
    "    #get Vertices connected to Edge\n",
    "    vertices = graph.getVerticesForEdge(edge.id)\n",
    "    \n",
    "    #insert Connection Vertex\n",
    "    connection = Vertex(\n",
    "        color=CONNECTION_COLOR,\n",
    "        label=\"con\",\n",
    "        attr={\n",
    "            \"from\"  :vertices[0].attr[\"coordinates\"],\n",
    "            \"to\"    :vertices[1].attr[\"coordinates\"],\n",
    "        }\n",
    "    )\n",
    "    graph.insertVertexByEdge(edge.id,connection)\n",
    "\n",
    "\n",
    "igraphUnion = utils.convertToIgraph(graph)\n",
    "layout = igraphUnion.layout(\"fr\") #\"large_graph\"\n",
    "igraph.plot(igraphUnion, layout=layout,bbox = (200,200))\n"
   ]
  },
  {
   "cell_type": "markdown",
   "metadata": {},
   "source": [
    "### Draw the Cuircit"
   ]
  },
  {
   "cell_type": "code",
   "execution_count": 16,
   "metadata": {},
   "outputs": [
    {
     "data": {
      "text/html": [
       "<img src=\"data:image/svg+xml;base64,PD94bWwgdmVyc2lvbj0iMS4wIiBlbmNvZGluZz0iVVRGLTgiPz4KPHN2ZyB4bWxucz0iaHR0cDovL3d3dy53My5vcmcvMjAwMC9zdmciIHhtbG5zOnhsaW5rPSJodHRwOi8vd3d3LnczLm9yZy8xOTk5L3hsaW5rIgogICAgIHdpZHRoPSI1MDAiIGhlaWdodD0iNTAwIiB2aWV3Qm94PSIwIC01MDAgNTAwIDUwMCI+CjxkZWZzPgo8L2RlZnM+CjxyZWN0IHg9IjIwMC4wIiB5PSItNDcwLjAiIHdpZHRoPSI0MCIgaGVpZ2h0PSIyMCIgc3Ryb2tlPSIjMTI0OGZmIiAvPgo8cGF0aCBkPSJNMjAwLjAsLTQ2MC4wIEwyMDAsLTQ2MCIgc3Ryb2tlPSIjZmY0NDc3IiAvPgo8cGF0aCBkPSJNMjQwLjAsLTQ2MC4wIEwyNDAsLTQ2MCIgc3Ryb2tlPSIjZmY0NDc3IiAvPgo8cGF0aCBkPSJNMjgwLC0yMjAgTDI1MCwtMjIwIiBzdHJva2U9IiNmZjQ0NzciIC8+CjxwYXRoIGQ9Ik0yODAsLTIyMCBMMzEwLC0yMjAiIHN0cm9rZT0iI2ZmNDQ3NyIgLz4KPHBhdGggZD0iTTI0MCwtNDYwIEwyODAsLTQ2MCIgc3Ryb2tlPSIjZmY0NDc3IiAvPgo8cGF0aCBkPSJNMjgwLC00NjAgTDI4MCwtMjYwIiBzdHJva2U9IiNmZjQ0NzciIC8+CjxwYXRoIGQ9Ik0yODAsLTI2MCBMODAsLTI2MCIgc3Ryb2tlPSIjZmY0NDc3IiAvPgo8cGF0aCBkPSJNODAsLTI2MCBMODAsLTQ2MCIgc3Ryb2tlPSIjZmY0NDc3IiAvPgo8cGF0aCBkPSJNMjAwLC00NjAgTDgwLC00NjAiIHN0cm9rZT0iI2ZmNDQ3NyIgLz4KPHBhdGggZD0iTTI4MCwtMjYwIEwyODAsLTIyMCIgc3Ryb2tlPSIjZmY0NDc3IiAvPgo8Y2lyY2xlIGN4PSIyODAiIGN5PSItMjYwIiByPSI1IiAvPgo8L3N2Zz4=\">"
      ],
      "text/plain": [
       "<drawSvg.drawing.Drawing at 0x2a3110b11c0>"
      ]
     },
     "execution_count": 16,
     "metadata": {},
     "output_type": "execute_result"
    }
   ],
   "source": [
    "\n",
    "width,height = 500,500\n",
    "d = draw.Drawing(width, height,displayInline=False)\n",
    "\n",
    "relativeFactor = 40\n",
    "\n",
    "\n",
    "def drawResistor(resistorVertex):\n",
    "\n",
    "    resistorWidth = relativeFactor\n",
    "    resistorHeight = 20\n",
    "\n",
    "    coordinates = [resistorVertex.attr[\"coordinates\"][0]*relativeFactor,resistorVertex.attr[\"coordinates\"][1]*relativeFactor]\n",
    "    rotation = resistorVertex.attr[\"rotation\"]\n",
    "\n",
    "    #connect Resistor to connectionpoints\n",
    "    connectionPoint1 = [coordinates[0],coordinates[1]]\n",
    "    to1 = resistorVertex.attr[\"connectionMap\"][0]\n",
    "\n",
    "    connectionPoint2 = [coordinates[0],coordinates[1]]\n",
    "    to2 = resistorVertex.attr[\"connectionMap\"][1]\n",
    "\n",
    "    if rotation == 0 or rotation == 180:\n",
    "        d.append(draw.Rectangle(coordinates[0]-resistorWidth/2,height-coordinates[1]-resistorHeight/2,resistorWidth,resistorHeight, stroke='#1248ff'))\n",
    "\n",
    "        d.append(draw.Lines(connectionPoint1[0]-resistorWidth/2,height-connectionPoint1[1], to1[0]*relativeFactor, height-to1[1]*relativeFactor ,stroke=\"#ff4477\"))\n",
    "        d.append(draw.Lines(connectionPoint2[0]+resistorWidth/2,height-connectionPoint2[1], to2[0]*relativeFactor, height-to2[1]*relativeFactor ,stroke=\"#ff4477\"))\n",
    "    else:\n",
    "        d.append(draw.Rectangle(coordinates[0]-resistorWidth/2,height-coordinates[1]-resistorHeight/2,resistorHeight,resistorWidth, stroke='#1248ff'))\n",
    "\n",
    "        d.append(draw.Lines(connectionPoint1[0],height-(connectionPoint1[1]-resistorWidth/2), to1[0]*relativeFactor, height-to1[1]*relativeFactor ,stroke=\"#ff4477\"))\n",
    "        d.append(draw.Lines(connectionPoint2[0],height-(connectionPoint2[1]+resistorWidth/2), to2[0]*relativeFactor, height-to2[1]*relativeFactor ,stroke=\"#ff4477\"))\n",
    "\n",
    "def drawWire(connectionVertex):\n",
    "    from_ = connectionVertex.attr[\"from\"]\n",
    "    to_ = connectionVertex.attr[\"to\"]\n",
    "    d.append(draw.Lines(from_[0]*relativeFactor, height-from_[1]*relativeFactor, to_[0]*relativeFactor,width-to_[1]*relativeFactor,stroke=\"#ff4477\"))\n",
    "\n",
    "def drawGround(groundVertex):\n",
    "    groundSize = 30\n",
    "\n",
    "    coordinates = [groundVertex.attr[\"connectionMap\"][0][0]*relativeFactor,groundVertex.attr[\"connectionMap\"][0][1]*relativeFactor]\n",
    "\n",
    "    d.append(draw.Lines(coordinates[0],height-coordinates[1], coordinates[0]-groundSize, height-coordinates[1] ,stroke=\"#ff4477\"))\n",
    "    d.append(draw.Lines(coordinates[0],height-coordinates[1], coordinates[0]+groundSize, height-coordinates[1] ,stroke=\"#ff4477\"))\n",
    "\n",
    "def drawIntersection(intersectionVertex):\n",
    "    coordinates = [intersectionVertex.attr[\"coordinates\"][0]*relativeFactor,intersectionVertex.attr[\"coordinates\"][1]*relativeFactor]\n",
    "\n",
    "    d.append(draw.Circle(coordinates[0],height-coordinates[1],5))\n",
    "\n",
    "for vertex in graph.ve.values():\n",
    "    if not vertex.color == COMPONENT_COLOR:\n",
    "        continue\n",
    "    if vertex.attr[\"type\"] == CLASS_NAMES[\"res\"]:\n",
    "        drawResistor(vertex)\n",
    "    elif vertex.attr[\"type\"] == CLASS_NAMES[\"gnd\"]:\n",
    "        drawGround(vertex)\n",
    "for vertex in graph.ve.values():\n",
    "    if not vertex.color == CONNECTION_COLOR:\n",
    "        continue\n",
    "    drawWire(vertex)\n",
    "for vertex in graph.ve.values():\n",
    "    if not vertex.color == INTERSECTION_COLOR:\n",
    "        continue\n",
    "    drawIntersection(vertex)\n",
    "d"
   ]
  },
  {
   "cell_type": "code",
   "execution_count": 17,
   "metadata": {},
   "outputs": [],
   "source": [
    "def generateWire(text,connectionVertex):\n",
    "    from_ = connectionVertex.attr[\"from\"]\n",
    "    to_ = connectionVertex.attr[\"to\"]\n",
    "    text += \"WIRE {x1} {y1} {x2} {y2}\".format(x1= from_[0],y1 = from_[1],x2=to_[0],y2=to_[1])\n",
    "    return text\n",
    "\n",
    "\n",
    "def generateResistor(text,resistorVertex):\n",
    "\n",
    "    coordinates = [resistorVertex.attr[\"coordinates\"][0]*relativeFactor,resistorVertex.attr[\"coordinates\"][1]*relativeFactor]\n",
    "    rotation = resistorVertex.attr[\"rotation\"]\n",
    "\n",
    "    #connect Resistor to connectionpoints\n",
    "    connectionPoint1 = [coordinates[0],coordinates[1]]\n",
    "    to1 = resistorVertex.attr[\"connectionMap\"][0]\n",
    "\n",
    "    connectionPoint2 = [coordinates[0],coordinates[1]]\n",
    "    to2 = resistorVertex.attr[\"connectionMap\"][1]\n",
    "\n",
    "    if rotation == 0 or rotation == 180:\n",
    "        text += \"SYMBOL res {x} {y} R90\".format(x=coordinates[0]+64,y=coordinates[1]-16)\n",
    "\n",
    "        text += \"WIRE {x1} {y1} {x2} {y2}\".format(x1= coordinates[0]-32,y1 =coordinates[1],x2=to1[0]*relativeFactor,y2=to1[1]*relativeFactor)\n",
    "        #d.append(draw.Lines(connectionPoint2[0]+resistorWidth/2,height-connectionPoint2[1], to2[0]*relativeFactor, height-to2[1]*relativeFactor ,stroke=\"#ff4477\"))\n",
    "    else:\n",
    "        pass\n",
    "        #d.append(draw.Rectangle(coordinates[0]-resistorWidth/2,height-coordinates[1]-resistorHeight/2,resistorHeight,resistorWidth, stroke='#1248ff'))\n",
    "#\n",
    "        #d.append(draw.Lines(connectionPoint1[0],height-(connectionPoint1[1]-resistorWidth/2), to1[0]*relativeFactor, height-to1[1]*relativeFactor ,stroke=\"#ff4477\"))\n",
    "        #d.append(draw.Lines(connectionPoint2[0],height-(connectionPoint2[1]+resistorWidth/2), to2[0]*relativeFactor, height-to2[1]*relativeFactor ,stroke=\"#ff4477\"))\n"
   ]
  }
 ],
 "metadata": {
  "interpreter": {
   "hash": "8d5f16fa311e9108f7b45528f5d2ae06d943147531887e316d30e7954f06f46e"
  },
  "kernelspec": {
   "display_name": "Python 3.9.7 64-bit",
   "language": "python",
   "name": "python3"
  },
  "language_info": {
   "codemirror_mode": {
    "name": "ipython",
    "version": 3
   },
   "file_extension": ".py",
   "mimetype": "text/x-python",
   "name": "python",
   "nbconvert_exporter": "python",
   "pygments_lexer": "ipython3",
   "version": "3.9.7"
  },
  "orig_nbformat": 4
 },
 "nbformat": 4,
 "nbformat_minor": 2
}
