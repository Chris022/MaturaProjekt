{
 "cells": [
  {
   "cell_type": "code",
   "execution_count": 73,
   "metadata": {},
   "outputs": [],
   "source": [
    "import tensorflow as tf\n",
    "\n",
    "from tensorflow.keras import layers, models\n",
    "import numpy as np\n",
    "import matplotlib.pyplot as plt\n",
    "import utils\n",
    "import os\n",
    "import cv2\n",
    "import random"
   ]
  },
  {
   "cell_type": "code",
   "execution_count": 74,
   "metadata": {},
   "outputs": [],
   "source": [
    "def convertImg(image, size=(32,32)):\n",
    "    image = cv2.resize(image, size, interpolation=cv2.INTER_AREA)\n",
    "    converted = np.zeros(shape=(size[0], size[1], 1))\n",
    "    for y in range(0, len(image)):\n",
    "        for x in range(0, len(image[y])):\n",
    "            converted[y][x][0] = image[y][x]\n",
    "\n",
    "    converted = converted/255\n",
    "    return converted"
   ]
  },
  {
   "cell_type": "code",
   "execution_count": 75,
   "metadata": {},
   "outputs": [
    {
     "name": "stdout",
     "output_type": "stream",
     "text": [
      "['capacitor', 'inductor', 'resistor']\n"
     ]
    }
   ],
   "source": [
    "# trainImages / Images\n",
    "ratio = 0.8\n",
    "train_data = []\n",
    "test_data = []\n",
    "\n",
    "class_names = os.listdir('./trainData')\n",
    "print(class_names)\n",
    "\n",
    "for class_name in class_names:\n",
    "    data = os.listdir('./trainData/{class_name}'.format(class_name=class_name))\n",
    "    for i in range(0, len(data)):\n",
    "        image = convertImg(utils.loadImage(path='./trainData/{class_name}'.format(class_name=class_name), name=data[i], resize=(32,32)))\n",
    "        if(i/len(data) < ratio):\n",
    "            train_data.append((image,class_names.index(class_name)))\n",
    "        else:\n",
    "            test_data.append((image,class_names.index(class_name)))\n",
    "\n",
    "random.shuffle(train_data)\n",
    "random.shuffle(test_data)\n",
    "\n",
    "train_images = []\n",
    "train_labels = []\n",
    "test_images = []\n",
    "test_labels = []\n",
    "\n",
    "for data in train_data:\n",
    "    train_images.append(data[0])\n",
    "    train_labels.append([data[1]])\n",
    "\n",
    "for data in test_data:\n",
    "    test_images.append(data[0])\n",
    "    test_labels.append([data[1]])\n",
    "\n",
    "train_images = np.asarray(train_images)\n",
    "train_labels = np.asarray(train_labels)\n",
    "test_images = np.asarray(test_images)\n",
    "test_labels = np.asarray(test_labels)"
   ]
  },
  {
   "cell_type": "code",
   "execution_count": 76,
   "metadata": {},
   "outputs": [
    {
     "data": {
      "image/png": "[encoded data removed]",
      "text/plain": [
       "<Figure size 720x720 with 3 Axes>"
      ]
     },
     "metadata": {},
     "output_type": "display_data"
    }
   ],
   "source": [
    "plt.figure(figsize=(10,10))\n",
    "for i in range(3):\n",
    "    plt.subplot(5,5,i+1)\n",
    "    plt.xticks([])\n",
    "    plt.yticks([])\n",
    "    plt.grid(False)\n",
    "    plt.imshow(train_images[i], cmap='gray')\n",
    "    # The CIFAR labels happen to be arrays, \n",
    "    # which is why you need the extra index\n",
    "    plt.xlabel(class_names[train_labels[i][0]])\n",
    "plt.show()"
   ]
  },
  {
   "cell_type": "code",
   "execution_count": 77,
   "metadata": {},
   "outputs": [
    {
     "name": "stdout",
     "output_type": "stream",
     "text": [
      "Model: \"sequential_6\"\n",
      "_________________________________________________________________\n",
      "Layer (type)                 Output Shape              Param #   \n",
      "=================================================================\n",
      "conv2d_18 (Conv2D)           (None, 30, 30, 32)        320       \n",
      "_________________________________________________________________\n",
      "max_pooling2d_12 (MaxPooling (None, 15, 15, 32)        0         \n",
      "_________________________________________________________________\n",
      "conv2d_19 (Conv2D)           (None, 13, 13, 64)        18496     \n",
      "_________________________________________________________________\n",
      "max_pooling2d_13 (MaxPooling (None, 6, 6, 64)          0         \n",
      "_________________________________________________________________\n",
      "conv2d_20 (Conv2D)           (None, 4, 4, 64)          36928     \n",
      "_________________________________________________________________\n",
      "flatten_6 (Flatten)          (None, 1024)              0         \n",
      "_________________________________________________________________\n",
      "dense_12 (Dense)             (None, 64)                65600     \n",
      "_________________________________________________________________\n",
      "dense_13 (Dense)             (None, 3)                 195       \n",
      "=================================================================\n",
      "Total params: 121,539\n",
      "Trainable params: 121,539\n",
      "Non-trainable params: 0\n",
      "_________________________________________________________________\n"
     ]
    }
   ],
   "source": [
    "model = models.Sequential()\n",
    "model.add(layers.Conv2D(32, (3, 3), activation='relu', input_shape=(32, 32, 1)))\n",
    "model.add(layers.MaxPooling2D((2, 2)))\n",
    "model.add(layers.Conv2D(64, (3, 3), activation='relu'))\n",
    "model.add(layers.MaxPooling2D((2, 2)))\n",
    "model.add(layers.Conv2D(64, (3, 3), activation='relu'))\n",
    "\n",
    "model.add(layers.Flatten())\n",
    "model.add(layers.Dense(64, activation='relu'))\n",
    "model.add(layers.Dense(len(class_names)))\n",
    "\n",
    "model.summary()"
   ]
  },
  {
   "cell_type": "code",
   "execution_count": 78,
   "metadata": {},
   "outputs": [
    {
     "name": "stdout",
     "output_type": "stream",
     "text": [
      "Epoch 1/30\n",
      "2/2 [==============================] - 1s 162ms/step - loss: 1.0753 - accuracy: 0.3636 - val_loss: 0.9356 - val_accuracy: 0.3939\n",
      "Epoch 2/30\n",
      "2/2 [==============================] - 0s 31ms/step - loss: 0.9310 - accuracy: 0.3939 - val_loss: 0.8875 - val_accuracy: 0.3939\n",
      "Epoch 3/30\n",
      "2/2 [==============================] - 0s 31ms/step - loss: 0.8837 - accuracy: 0.3939 - val_loss: 0.9752 - val_accuracy: 0.3939\n",
      "Epoch 4/30\n",
      "2/2 [==============================] - 0s 37ms/step - loss: 0.9757 - accuracy: 0.3939 - val_loss: 0.8667 - val_accuracy: 0.3939\n",
      "Epoch 5/30\n",
      "2/2 [==============================] - 0s 29ms/step - loss: 0.8574 - accuracy: 0.4242 - val_loss: 0.7864 - val_accuracy: 0.7879\n",
      "Epoch 6/30\n",
      "2/2 [==============================] - 0s 30ms/step - loss: 0.7861 - accuracy: 0.7879 - val_loss: 0.8768 - val_accuracy: 0.3939\n",
      "Epoch 7/30\n",
      "2/2 [==============================] - 0s 43ms/step - loss: 0.8768 - accuracy: 0.3939 - val_loss: 0.8681 - val_accuracy: 0.3939\n",
      "Epoch 8/30\n",
      "2/2 [==============================] - 0s 29ms/step - loss: 0.8687 - accuracy: 0.3939 - val_loss: 0.8382 - val_accuracy: 0.3939\n",
      "Epoch 9/30\n",
      "2/2 [==============================] - 0s 27ms/step - loss: 0.8372 - accuracy: 0.3939 - val_loss: 0.7874 - val_accuracy: 0.3939\n",
      "Epoch 10/30\n",
      "2/2 [==============================] - 0s 28ms/step - loss: 0.7846 - accuracy: 0.3939 - val_loss: 0.7157 - val_accuracy: 0.5152\n",
      "Epoch 11/30\n",
      "2/2 [==============================] - 0s 27ms/step - loss: 0.7125 - accuracy: 0.5455 - val_loss: 0.6654 - val_accuracy: 1.0000\n",
      "Epoch 12/30\n",
      "2/2 [==============================] - 0s 29ms/step - loss: 0.6657 - accuracy: 1.0000 - val_loss: 0.5992 - val_accuracy: 0.9091\n",
      "Epoch 13/30\n",
      "2/2 [==============================] - 0s 27ms/step - loss: 0.5976 - accuracy: 0.9091 - val_loss: 0.5239 - val_accuracy: 0.7879\n",
      "Epoch 14/30\n",
      "2/2 [==============================] - 0s 44ms/step - loss: 0.5231 - accuracy: 0.7879 - val_loss: 0.4594 - val_accuracy: 0.7879\n",
      "Epoch 15/30\n",
      "2/2 [==============================] - 0s 27ms/step - loss: 0.4603 - accuracy: 0.7879 - val_loss: 0.3974 - val_accuracy: 0.7879\n",
      "Epoch 16/30\n",
      "2/2 [==============================] - 0s 69ms/step - loss: 0.3956 - accuracy: 0.7879 - val_loss: 0.3269 - val_accuracy: 0.9091\n",
      "Epoch 17/30\n",
      "2/2 [==============================] - 0s 37ms/step - loss: 0.3246 - accuracy: 0.9394 - val_loss: 0.2848 - val_accuracy: 1.0000\n",
      "Epoch 18/30\n",
      "2/2 [==============================] - 0s 31ms/step - loss: 0.2844 - accuracy: 1.0000 - val_loss: 0.2682 - val_accuracy: 1.0000\n",
      "Epoch 19/30\n",
      "2/2 [==============================] - 0s 28ms/step - loss: 0.2666 - accuracy: 1.0000 - val_loss: 0.2521 - val_accuracy: 1.0000\n",
      "Epoch 20/30\n",
      "2/2 [==============================] - 0s 31ms/step - loss: 0.2511 - accuracy: 1.0000 - val_loss: 0.1557 - val_accuracy: 1.0000\n",
      "Epoch 21/30\n",
      "2/2 [==============================] - 0s 45ms/step - loss: 0.1543 - accuracy: 1.0000 - val_loss: 0.1258 - val_accuracy: 1.0000\n",
      "Epoch 22/30\n",
      "2/2 [==============================] - 0s 30ms/step - loss: 0.1259 - accuracy: 1.0000 - val_loss: 0.1345 - val_accuracy: 1.0000\n",
      "Epoch 23/30\n",
      "2/2 [==============================] - 0s 28ms/step - loss: 0.1344 - accuracy: 1.0000 - val_loss: 0.1395 - val_accuracy: 1.0000\n",
      "Epoch 24/30\n",
      "2/2 [==============================] - 0s 29ms/step - loss: 0.1394 - accuracy: 1.0000 - val_loss: 0.1237 - val_accuracy: 1.0000\n",
      "Epoch 25/30\n",
      "2/2 [==============================] - 0s 28ms/step - loss: 0.1215 - accuracy: 1.0000 - val_loss: 0.0686 - val_accuracy: 1.0000\n",
      "Epoch 26/30\n",
      "2/2 [==============================] - 0s 29ms/step - loss: 0.0685 - accuracy: 1.0000 - val_loss: 0.0307 - val_accuracy: 1.0000\n",
      "Epoch 27/30\n",
      "2/2 [==============================] - 0s 31ms/step - loss: 0.0308 - accuracy: 1.0000 - val_loss: 0.0177 - val_accuracy: 1.0000\n",
      "Epoch 28/30\n",
      "2/2 [==============================] - 0s 29ms/step - loss: 0.0178 - accuracy: 1.0000 - val_loss: 0.0260 - val_accuracy: 1.0000\n",
      "Epoch 29/30\n",
      "2/2 [==============================] - 0s 27ms/step - loss: 0.0267 - accuracy: 1.0000 - val_loss: 0.0135 - val_accuracy: 1.0000\n",
      "Epoch 30/30\n",
      "2/2 [==============================] - 0s 29ms/step - loss: 0.0133 - accuracy: 1.0000 - val_loss: 0.0081 - val_accuracy: 1.0000\n"
     ]
    }
   ],
   "source": [
    "model.compile(optimizer='adam',\n",
    "              loss=tf.keras.losses.SparseCategoricalCrossentropy(from_logits=True),\n",
    "              metrics=['accuracy'])\n",
    "              \n",
    "\n",
    "#history = model.fit(train_images, train_labels, epochs=10, \n",
    "#                    validation_data=(test_images, test_labels))\n",
    "\n",
    "history = model.fit(train_images, train_labels, epochs=50, \n",
    "                    validation_data=(train_images, train_labels))\n"
   ]
  },
  {
   "cell_type": "code",
   "execution_count": 79,
   "metadata": {},
   "outputs": [
    {
     "name": "stdout",
     "output_type": "stream",
     "text": [
      "INFO:tensorflow:Assets written to: saved_model/my_model\\assets\n",
      "INFO:tensorflow:Assets written to: ../src/saved_model/my_model\\assets\n"
     ]
    }
   ],
   "source": [
    "model.save('saved_model/my_model')\n",
    "model.save('../src/saved_model/my_model')"
   ]
  },
  {
   "cell_type": "code",
   "execution_count": 80,
   "metadata": {},
   "outputs": [],
   "source": [
    "#boxes = [[[100,100],[120,120]],[[140,100],[180,120]]]\n",
    "#image = utils.loadImage(\"../src/testImages\", \"1.png\")\n",
    "\n",
    "def classify(boxes, image):\n",
    "    \n",
    "    model = tf.keras.models.load_model('saved_model/my_model')\n",
    "\n",
    "    components = []\n",
    "    for box in boxes:\n",
    "        component = image[box[0][1]:box[1][1], box[0][0]:box[1][0]]\n",
    "        components.append(convertImg(component).reshape(-1,32,32,1))\n",
    "\n",
    "    modelPredictions = model.predict(np.vstack(components))\n",
    "\n",
    "    predictions = []\n",
    "\n",
    "    for prediction in modelPredictions:\n",
    "        predictions.append(class_names[np.argmax(prediction)])\n",
    "\n",
    "    return predictions\n"
   ]
  },
  {
   "cell_type": "code",
   "execution_count": 85,
   "metadata": {},
   "outputs": [
    {
     "name": "stdout",
     "output_type": "stream",
     "text": [
      "['capacitor', 'inductor', 'resistor']\n",
      "[-1.0646648  3.3423018 -0.5491887]\n",
      "inductor\n"
     ]
    },
    {
     "data": {
      "text/plain": [
       "<matplotlib.image.AxesImage at 0x2808bf82fd0>"
      ]
     },
     "execution_count": 85,
     "metadata": {},
     "output_type": "execute_result"
    },
    {
     "data": {
      "image/png": "[encoded data removed]",
      "text/plain": [
       "<Figure size 432x288 with 1 Axes>"
      ]
     },
     "metadata": {
      "needs_background": "light"
     },
     "output_type": "display_data"
    }
   ],
   "source": [
    "new_model = tf.keras.models.load_model('saved_model/my_model')\n",
    "\n",
    "# Check its architecture\n",
    "#new_model.summary()\n",
    "\n",
    "img = convertImg(utils.loadImage(path='./../dev/trainData/inductor/', name='20.png', resize=(32,32)))\n",
    "\n",
    "#img = train_images[3]\n",
    "\n",
    "\n",
    "predictions_single = model.predict(img.reshape(-1,32,32,1))[0]\n",
    "print(class_names)\n",
    "print(predictions_single)\n",
    "print(class_names[np.where(predictions_single == np.amax(predictions_single))[0][0]])\n",
    "\n",
    "plt.imshow(img, cmap='gray')"
   ]
  },
  {
   "cell_type": "code",
   "execution_count": 82,
   "metadata": {},
   "outputs": [
    {
     "name": "stdout",
     "output_type": "stream",
     "text": [
      "2/2 - 0s - loss: 0.0081 - accuracy: 1.0000\n",
      "1.0\n"
     ]
    },
    {
     "data": {
      "image/png": "[encoded data removed]",
      "text/plain": [
       "<Figure size 432x288 with 1 Axes>"
      ]
     },
     "metadata": {
      "needs_background": "light"
     },
     "output_type": "display_data"
    }
   ],
   "source": [
    "plt.plot(history.history['accuracy'], label='accuracy')\n",
    "plt.plot(history.history['val_accuracy'], label = 'val_accuracy')\n",
    "plt.xlabel('Epoch')\n",
    "plt.ylabel('Accuracy')\n",
    "plt.ylim([0.5, 1])\n",
    "plt.legend(loc='lower right')\n",
    "\n",
    "#test_loss, test_acc = model.evaluate(test_images,  test_labels, verbose=2)\n",
    "test_loss, test_acc = model.evaluate(train_images,  train_labels, verbose=2)\n",
    "\n",
    "print(test_acc)"
   ]
  }
 ],
 "metadata": {
  "interpreter": {
   "hash": "6c255580c1376a53e8d62a65f4b290fc9e06ee65b5dbb546bacb4a0a6e644e58"
  },
  "kernelspec": {
   "display_name": "Python 3.9.9 64-bit (windows store)",
   "name": "python3"
  },
  "language_info": {
   "codemirror_mode": {
    "name": "ipython",
    "version": 3
   },
   "file_extension": ".py",
   "mimetype": "text/x-python",
   "name": "python",
   "nbconvert_exporter": "python",
   "pygments_lexer": "ipython3",
   "version": "3.9.7"
  },
  "orig_nbformat": 4
 },
 "nbformat": 4,
 "nbformat_minor": 2
}
