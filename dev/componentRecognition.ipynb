{
 "cells": [
  {
   "cell_type": "code",
   "execution_count": null,
   "metadata": {},
   "outputs": [],
   "source": [
    "import tensorflow as tf\n",
    "\n",
    "from tensorflow.keras import layers, models\n",
    "import numpy as np\n",
    "import matplotlib.pyplot as plt\n",
    "import utils\n",
    "import os\n",
    "import cv2\n",
    "import random"
   ]
  },
  {
   "cell_type": "code",
   "execution_count": null,
   "metadata": {},
   "outputs": [],
   "source": [
    "def convertImg(image, size=(32,32)):\n",
    "    image = cv2.resize(image, size, interpolation=cv2.INTER_AREA)\n",
    "    converted = np.zeros(shape=(size[0], size[1], 1))\n",
    "    for y in range(0, len(image)):\n",
    "        for x in range(0, len(image[y])):\n",
    "            converted[y][x][0] = image[y][x]\n",
    "\n",
    "    converted = converted/255\n",
    "    return converted"
   ]
  },
  {
   "cell_type": "code",
   "execution_count": null,
   "metadata": {},
   "outputs": [],
   "source": [
    "# trainImages / Images\n",
    "ratio = 0.8\n",
    "train_data = []\n",
    "test_data = []\n",
    "\n",
    "class_names = os.listdir('./trainData')\n",
    "print(class_names)\n",
    "\n",
    "for class_name in class_names:\n",
    "    data = os.listdir('./trainData/{class_name}'.format(class_name=class_name))\n",
    "    for i in range(0, len(data)):\n",
    "        image = convertImg(utils.loadImage(path='./trainData/{class_name}'.format(class_name=class_name), name=data[i], resize=(32,32)))\n",
    "        if(i/len(data) < ratio):\n",
    "            train_data.append((image,class_names.index(class_name)))\n",
    "        else:\n",
    "            test_data.append((image,class_names.index(class_name)))\n",
    "\n",
    "random.shuffle(train_data)\n",
    "random.shuffle(test_data)\n",
    "\n",
    "train_images = []\n",
    "train_labels = []\n",
    "test_images = []\n",
    "test_labels = []\n",
    "\n",
    "for data in train_data:\n",
    "    train_images.append(data[0])\n",
    "    train_labels.append([data[1]])\n",
    "\n",
    "for data in test_data:\n",
    "    test_images.append(data[0])\n",
    "    test_labels.append([data[1]])\n",
    "\n",
    "train_images = np.asarray(train_images)\n",
    "train_labels = np.asarray(train_labels)\n",
    "test_images = np.asarray(test_images)\n",
    "test_labels = np.asarray(test_labels)"
   ]
  },
  {
   "cell_type": "code",
   "execution_count": null,
   "metadata": {},
   "outputs": [],
   "source": [
    "plt.figure(figsize=(10,10))\n",
    "for i in range(3):\n",
    "    plt.subplot(5,5,i+1)\n",
    "    plt.xticks([])\n",
    "    plt.yticks([])\n",
    "    plt.grid(False)\n",
    "    plt.imshow(train_images[i], cmap='gray')\n",
    "    # The CIFAR labels happen to be arrays, \n",
    "    # which is why you need the extra index\n",
    "    plt.xlabel(class_names[train_labels[i][0]])\n",
    "plt.show()"
   ]
  },
  {
   "cell_type": "code",
   "execution_count": null,
   "metadata": {},
   "outputs": [],
   "source": [
    "model = models.Sequential()\n",
    "model.add(layers.Conv2D(32, (3, 3), activation='relu', input_shape=(32, 32, 1)))\n",
    "model.add(layers.MaxPooling2D((2, 2)))\n",
    "model.add(layers.Conv2D(64, (3, 3), activation='relu'))\n",
    "model.add(layers.MaxPooling2D((2, 2)))\n",
    "model.add(layers.Conv2D(64, (3, 3), activation='relu'))\n",
    "\n",
    "model.add(layers.Flatten())\n",
    "model.add(layers.Dense(64, activation='relu'))\n",
    "model.add(layers.Dense(len(class_names)))\n",
    "\n",
    "model.summary()"
   ]
  },
  {
   "cell_type": "code",
   "execution_count": null,
   "metadata": {},
   "outputs": [],
   "source": [
    "model.compile(optimizer='adam',\n",
    "              loss=tf.keras.losses.SparseCategoricalCrossentropy(from_logits=True),\n",
    "              metrics=['accuracy'])\n",
    "              \n",
    "\n",
    "#history = model.fit(train_images, train_labels, epochs=10, \n",
    "#                    validation_data=(test_images, test_labels))\n",
    "\n",
    "history = model.fit(train_images, train_labels, epochs=50, \n",
    "                    validation_data=(train_images, train_labels))\n"
   ]
  },
  {
   "cell_type": "code",
   "execution_count": null,
   "metadata": {},
   "outputs": [],
   "source": [
    "model.save('saved_model/my_model')\n",
    "model.save('../src/saved_model/my_model')"
   ]
  },
  {
   "cell_type": "code",
   "execution_count": null,
   "metadata": {},
   "outputs": [],
   "source": [
    "#boxes = [[[100,100],[120,120]],[[140,100],[180,120]]]\n",
    "#image = utils.loadImage(\"../src/testImages\", \"1.png\")\n",
    "\n",
    "def classify(boxes, image):\n",
    "    \n",
    "    model = tf.keras.models.load_model('saved_model/my_model')\n",
    "\n",
    "    components = []\n",
    "    for box in boxes:\n",
    "        component = image[box[0][1]:box[1][1], box[0][0]:box[1][0]]\n",
    "        components.append(convertImg(component).reshape(-1,32,32,1))\n",
    "\n",
    "    modelPredictions = model.predict(np.vstack(components))\n",
    "\n",
    "    predictions = []\n",
    "\n",
    "    for prediction in modelPredictions:\n",
    "        predictions.append(class_names[np.argmax(prediction)])\n",
    "\n",
    "    return predictions\n"
   ]
  },
  {
   "cell_type": "code",
   "execution_count": null,
   "metadata": {},
   "outputs": [],
   "source": [
    "#new_model = tf.keras.models.load_model('saved_model/my_model')\n",
    "#\n",
    "## Check its architecture\n",
    "##new_model.summary()\n",
    "#\n",
    "#img = convertImg(utils.loadImage(path='./../dev/trainData/inductor/', name='20.png', resize=(32,32)))\n",
    "#\n",
    "##img = train_images[3]\n",
    "#\n",
    "#\n",
    "#predictions_single = model.predict(img.reshape(-1,32,32,1))[0]\n",
    "#print(class_names)\n",
    "#print(predictions_single)\n",
    "#print(class_names[np.where(predictions_single == np.amax(predictions_single))[0][0]])\n",
    "#\n",
    "#plt.imshow(img, cmap='gray')"
   ]
  },
  {
   "cell_type": "code",
   "execution_count": null,
   "metadata": {},
   "outputs": [],
   "source": [
    "plt.plot(history.history['accuracy'], label='accuracy')\n",
    "plt.plot(history.history['val_accuracy'], label = 'val_accuracy')\n",
    "plt.xlabel('Epoch')\n",
    "plt.ylabel('Accuracy')\n",
    "plt.ylim([0.5, 1])\n",
    "plt.legend(loc='lower right')\n",
    "\n",
    "#test_loss, test_acc = model.evaluate(test_images,  test_labels, verbose=2)\n",
    "test_loss, test_acc = model.evaluate(train_images,  train_labels, verbose=2)\n",
    "\n",
    "print(test_acc)"
   ]
  }
 ],
 "metadata": {
  "interpreter": {
   "hash": "6c255580c1376a53e8d62a65f4b290fc9e06ee65b5dbb546bacb4a0a6e644e58"
  },
  "kernelspec": {
   "display_name": "Python 3.9.9 64-bit (windows store)",
   "name": "python3"
  },
  "language_info": {
   "codemirror_mode": {
    "name": "ipython",
    "version": 3
   },
   "file_extension": ".py",
   "mimetype": "text/x-python",
   "name": "python",
   "nbconvert_exporter": "python",
   "pygments_lexer": "ipython3",
   "version": "3.9.7"
  },
  "orig_nbformat": 4
 },
 "nbformat": 4,
 "nbformat_minor": 2
}
