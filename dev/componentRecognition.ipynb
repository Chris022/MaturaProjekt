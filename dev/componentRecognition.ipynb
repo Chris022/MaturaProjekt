{
 "cells": [
  {
   "cell_type": "code",
   "execution_count": 1,
   "metadata": {},
   "outputs": [],
   "source": [
    "import tensorflow as tf\n",
    "\n",
    "from tensorflow.keras import layers, models\n",
    "import numpy as np\n",
    "import matplotlib.pyplot as plt\n",
    "import utils\n",
    "import os\n",
    "import random"
   ]
  },
  {
   "cell_type": "code",
   "execution_count": 2,
   "metadata": {},
   "outputs": [],
   "source": [
    "def convertImg(image, size=(32,32)):\n",
    "    converted = np.zeros(shape=(size[0], size[1], 1))\n",
    "    for x in range(0, len(image)):\n",
    "        for y in range(0, len(image[x])):\n",
    "            converted[x][y][0] = image[x][y]\n",
    "\n",
    "    converted = converted/255\n",
    "    return converted"
   ]
  },
  {
   "cell_type": "code",
   "execution_count": 3,
   "metadata": {},
   "outputs": [
    {
     "name": "stdout",
     "output_type": "stream",
     "text": [
      "['capacitor', 'ground', 'inductor', 'opamp', 'resistor', 'transistor', 'voltage']\n"
     ]
    }
   ],
   "source": [
    "# trainImages / Images\n",
    "ratio = 0.8\n",
    "train_data = []\n",
    "test_data = []\n",
    "\n",
    "class_names = os.listdir('./trainData')\n",
    "print(class_names)\n",
    "\n",
    "for class_name in class_names:\n",
    "    data = os.listdir('./trainData/{class_name}'.format(class_name=class_name))\n",
    "    for i in range(0, len(data)):\n",
    "        image = convertImg(utils.loadImage(path='./trainData/{class_name}'.format(class_name=class_name), name=data[i], resize=(32,32)))\n",
    "        if(i/len(data) < ratio):\n",
    "            train_data.append((image,class_names.index(class_name)))\n",
    "        else:\n",
    "            test_data.append((image,class_names.index(class_name)))\n",
    "\n",
    "random.shuffle(train_data)\n",
    "random.shuffle(test_data)\n",
    "\n",
    "train_images = []\n",
    "train_labels = []\n",
    "test_images = []\n",
    "test_labels = []\n",
    "\n",
    "for data in train_data:\n",
    "    train_images.append(data[0])\n",
    "    train_labels.append([data[1]])\n",
    "\n",
    "for data in test_data:\n",
    "    test_images.append(data[0])\n",
    "    test_labels.append([data[1]])\n",
    "\n",
    "train_images = np.asarray(train_images)\n",
    "train_labels = np.asarray(train_labels)\n",
    "test_images = np.asarray(test_images)\n",
    "test_labels = np.asarray(test_labels)"
   ]
  },
  {
   "cell_type": "code",
   "execution_count": 13,
   "metadata": {},
   "outputs": [
    {
     "data": {
      "image/png": "[encoded data removed]",
      "text/plain": [
       "<Figure size 720x720 with 4 Axes>"
      ]
     },
     "metadata": {},
     "output_type": "display_data"
    }
   ],
   "source": [
    "plt.figure(figsize=(10,10))\n",
    "for i in range(4):\n",
    "    plt.subplot(5,5,i+1)\n",
    "    plt.xticks([])\n",
    "    plt.yticks([])\n",
    "    plt.grid(False)\n",
    "    plt.imshow(255-train_images[i], cmap='gray')\n",
    "    # The CIFAR labels happen to be arrays, \n",
    "    # which is why you need the extra index\n",
    "    plt.xlabel(class_names[train_labels[i][0]])\n",
    "plt.show()"
   ]
  },
  {
   "cell_type": "code",
   "execution_count": 5,
   "metadata": {},
   "outputs": [
    {
     "name": "stdout",
     "output_type": "stream",
     "text": [
      "Model: \"sequential\"\n",
      "_________________________________________________________________\n",
      "Layer (type)                 Output Shape              Param #   \n",
      "=================================================================\n",
      "conv2d (Conv2D)              (None, 30, 30, 32)        320       \n",
      "_________________________________________________________________\n",
      "max_pooling2d (MaxPooling2D) (None, 15, 15, 32)        0         \n",
      "_________________________________________________________________\n",
      "conv2d_1 (Conv2D)            (None, 13, 13, 64)        18496     \n",
      "_________________________________________________________________\n",
      "max_pooling2d_1 (MaxPooling2 (None, 6, 6, 64)          0         \n",
      "_________________________________________________________________\n",
      "conv2d_2 (Conv2D)            (None, 4, 4, 64)          36928     \n",
      "_________________________________________________________________\n",
      "flatten (Flatten)            (None, 1024)              0         \n",
      "_________________________________________________________________\n",
      "dense (Dense)                (None, 64)                65600     \n",
      "_________________________________________________________________\n",
      "dense_1 (Dense)              (None, 7)                 455       \n",
      "=================================================================\n",
      "Total params: 121,799\n",
      "Trainable params: 121,799\n",
      "Non-trainable params: 0\n",
      "_________________________________________________________________\n"
     ]
    }
   ],
   "source": [
    "model = models.Sequential()\n",
    "model.add(layers.Conv2D(32, (3, 3), activation='relu', input_shape=(32, 32, 1)))\n",
    "model.add(layers.MaxPooling2D((2, 2)))\n",
    "model.add(layers.Conv2D(64, (3, 3), activation='relu'))\n",
    "model.add(layers.MaxPooling2D((2, 2)))\n",
    "model.add(layers.Conv2D(64, (3, 3), activation='relu'))\n",
    "\n",
    "model.add(layers.Flatten())\n",
    "model.add(layers.Dense(64, activation='relu'))\n",
    "model.add(layers.Dense(len(class_names)))\n",
    "\n",
    "model.summary()"
   ]
  },
  {
   "cell_type": "code",
   "execution_count": 6,
   "metadata": {},
   "outputs": [
    {
     "name": "stdout",
     "output_type": "stream",
     "text": [
      "Epoch 1/30\n",
      "1/1 [==============================] - 1s 802ms/step - loss: 1.9496 - accuracy: 0.1905 - val_loss: 1.9381 - val_accuracy: 0.1429\n",
      "Epoch 2/30\n",
      "1/1 [==============================] - 0s 39ms/step - loss: 1.9381 - accuracy: 0.1429 - val_loss: 1.9292 - val_accuracy: 0.1905\n",
      "Epoch 3/30\n",
      "1/1 [==============================] - 0s 39ms/step - loss: 1.9292 - accuracy: 0.1905 - val_loss: 1.9204 - val_accuracy: 0.1905\n",
      "Epoch 4/30\n",
      "1/1 [==============================] - 0s 42ms/step - loss: 1.9204 - accuracy: 0.1905 - val_loss: 1.9098 - val_accuracy: 0.2857\n",
      "Epoch 5/30\n",
      "1/1 [==============================] - 0s 38ms/step - loss: 1.9098 - accuracy: 0.2857 - val_loss: 1.8961 - val_accuracy: 0.2857\n",
      "Epoch 6/30\n",
      "1/1 [==============================] - 0s 37ms/step - loss: 1.8961 - accuracy: 0.2857 - val_loss: 1.8824 - val_accuracy: 0.1905\n",
      "Epoch 7/30\n",
      "1/1 [==============================] - 0s 33ms/step - loss: 1.8824 - accuracy: 0.1905 - val_loss: 1.8649 - val_accuracy: 0.2381\n",
      "Epoch 8/30\n",
      "1/1 [==============================] - 0s 34ms/step - loss: 1.8649 - accuracy: 0.2381 - val_loss: 1.8440 - val_accuracy: 0.2381\n",
      "Epoch 9/30\n",
      "1/1 [==============================] - 0s 34ms/step - loss: 1.8440 - accuracy: 0.2381 - val_loss: 1.8208 - val_accuracy: 0.2381\n",
      "Epoch 10/30\n",
      "1/1 [==============================] - 0s 35ms/step - loss: 1.8208 - accuracy: 0.2381 - val_loss: 1.7931 - val_accuracy: 0.3810\n",
      "Epoch 11/30\n",
      "1/1 [==============================] - 0s 35ms/step - loss: 1.7931 - accuracy: 0.3810 - val_loss: 1.7599 - val_accuracy: 0.4286\n",
      "Epoch 12/30\n",
      "1/1 [==============================] - 0s 33ms/step - loss: 1.7599 - accuracy: 0.4286 - val_loss: 1.7191 - val_accuracy: 0.4762\n",
      "Epoch 13/30\n",
      "1/1 [==============================] - 0s 37ms/step - loss: 1.7191 - accuracy: 0.4762 - val_loss: 1.6711 - val_accuracy: 0.6190\n",
      "Epoch 14/30\n",
      "1/1 [==============================] - 0s 37ms/step - loss: 1.6711 - accuracy: 0.6190 - val_loss: 1.6172 - val_accuracy: 0.8095\n",
      "Epoch 15/30\n",
      "1/1 [==============================] - 0s 41ms/step - loss: 1.6172 - accuracy: 0.8095 - val_loss: 1.5517 - val_accuracy: 0.8571\n",
      "Epoch 16/30\n",
      "1/1 [==============================] - 0s 39ms/step - loss: 1.5517 - accuracy: 0.8571 - val_loss: 1.4767 - val_accuracy: 0.8571\n",
      "Epoch 17/30\n",
      "1/1 [==============================] - 0s 37ms/step - loss: 1.4767 - accuracy: 0.8571 - val_loss: 1.3921 - val_accuracy: 0.8571\n",
      "Epoch 18/30\n",
      "1/1 [==============================] - 0s 37ms/step - loss: 1.3921 - accuracy: 0.8571 - val_loss: 1.2987 - val_accuracy: 0.8571\n",
      "Epoch 19/30\n",
      "1/1 [==============================] - 0s 40ms/step - loss: 1.2987 - accuracy: 0.8571 - val_loss: 1.1955 - val_accuracy: 0.9048\n",
      "Epoch 20/30\n",
      "1/1 [==============================] - 0s 40ms/step - loss: 1.1955 - accuracy: 0.9048 - val_loss: 1.0852 - val_accuracy: 0.9048\n",
      "Epoch 21/30\n",
      "1/1 [==============================] - 0s 42ms/step - loss: 1.0852 - accuracy: 0.9048 - val_loss: 0.9717 - val_accuracy: 0.9048\n",
      "Epoch 22/30\n",
      "1/1 [==============================] - 0s 40ms/step - loss: 0.9717 - accuracy: 0.9048 - val_loss: 0.8576 - val_accuracy: 0.9048\n",
      "Epoch 23/30\n",
      "1/1 [==============================] - 0s 40ms/step - loss: 0.8576 - accuracy: 0.9048 - val_loss: 0.7471 - val_accuracy: 0.9048\n",
      "Epoch 24/30\n",
      "1/1 [==============================] - 0s 37ms/step - loss: 0.7471 - accuracy: 0.9048 - val_loss: 0.6433 - val_accuracy: 0.9048\n",
      "Epoch 25/30\n",
      "1/1 [==============================] - 0s 37ms/step - loss: 0.6433 - accuracy: 0.9048 - val_loss: 0.5477 - val_accuracy: 0.9524\n",
      "Epoch 26/30\n",
      "1/1 [==============================] - 0s 38ms/step - loss: 0.5477 - accuracy: 0.9524 - val_loss: 0.4651 - val_accuracy: 0.9524\n",
      "Epoch 27/30\n",
      "1/1 [==============================] - 0s 39ms/step - loss: 0.4651 - accuracy: 0.9524 - val_loss: 0.4251 - val_accuracy: 0.9048\n",
      "Epoch 28/30\n",
      "1/1 [==============================] - 0s 40ms/step - loss: 0.4251 - accuracy: 0.9048 - val_loss: 0.3503 - val_accuracy: 0.9524\n",
      "Epoch 29/30\n",
      "1/1 [==============================] - 0s 39ms/step - loss: 0.3503 - accuracy: 0.9524 - val_loss: 0.2881 - val_accuracy: 0.9524\n",
      "Epoch 30/30\n",
      "1/1 [==============================] - 0s 39ms/step - loss: 0.2881 - accuracy: 0.9524 - val_loss: 0.2669 - val_accuracy: 0.9524\n"
     ]
    }
   ],
   "source": [
    "model.compile(optimizer='adam',\n",
    "              loss=tf.keras.losses.SparseCategoricalCrossentropy(from_logits=True),\n",
    "              metrics=['accuracy'])\n",
    "              \n",
    "\n",
    "#history = model.fit(train_images, train_labels, epochs=10, \n",
    "#                    validation_data=(test_images, test_labels))\n",
    "\n",
    "history = model.fit(train_images, train_labels, epochs=30, \n",
    "                    validation_data=(train_images, train_labels))\n"
   ]
  },
  {
   "cell_type": "code",
   "execution_count": 7,
   "metadata": {},
   "outputs": [
    {
     "name": "stdout",
     "output_type": "stream",
     "text": [
      "INFO:tensorflow:Assets written to: saved_model/my_model\\assets\n"
     ]
    }
   ],
   "source": [
    "model.save('saved_model/my_model')"
   ]
  },
  {
   "cell_type": "code",
   "execution_count": 16,
   "metadata": {},
   "outputs": [
    {
     "name": "stdout",
     "output_type": "stream",
     "text": [
      "['capacitor', 'ground', 'inductor', 'opamp', 'resistor', 'transistor', 'voltage']\n",
      "[ -4.9186563  -8.760217    1.9650683 -14.033546   -6.6593304  15.107814\n",
      "  -1.5204473]\n",
      "transistor\n"
     ]
    },
    {
     "data": {
      "text/plain": [
       "<matplotlib.image.AxesImage at 0x1fcac097eb0>"
      ]
     },
     "execution_count": 16,
     "metadata": {},
     "output_type": "execute_result"
    },
    {
     "data": {
      "image/png": "[encoded data removed]",
      "text/plain": [
       "<Figure size 432x288 with 1 Axes>"
      ]
     },
     "metadata": {
      "needs_background": "light"
     },
     "output_type": "display_data"
    }
   ],
   "source": [
    "new_model = tf.keras.models.load_model('saved_model/my_model')\n",
    "\n",
    "# Check its architecture\n",
    "#new_model.summary()\n",
    "\n",
    "img = convertImg(utils.loadImage(path='./', name='test.png', resize=(32,32)))\n",
    "\n",
    "#img = train_images[3]\n",
    "\n",
    "\n",
    "predictions_single = model.predict(img.reshape(-1,32,32,1))[0]\n",
    "print(class_names)\n",
    "print(predictions_single)\n",
    "print(class_names[np.where(predictions_single == np.amax(predictions_single))[0][0]])\n",
    "\n",
    "plt.imshow(255-img, cmap='gray')"
   ]
  },
  {
   "cell_type": "code",
   "execution_count": null,
   "metadata": {},
   "outputs": [
    {
     "name": "stdout",
     "output_type": "stream",
     "text": [
      "1/1 - 0s - loss: 0.1780 - accuracy: 1.0000\n",
      "1.0\n"
     ]
    },
    {
     "data": {
      "image/png": "[encoded data removed]",
      "text/plain": [
       "<Figure size 432x288 with 1 Axes>"
      ]
     },
     "metadata": {
      "needs_background": "light"
     },
     "output_type": "display_data"
    }
   ],
   "source": [
    "plt.plot(history.history['accuracy'], label='accuracy')\n",
    "plt.plot(history.history['val_accuracy'], label = 'val_accuracy')\n",
    "plt.xlabel('Epoch')\n",
    "plt.ylabel('Accuracy')\n",
    "plt.ylim([0.5, 1])\n",
    "plt.legend(loc='lower right')\n",
    "\n",
    "#test_loss, test_acc = model.evaluate(test_images,  test_labels, verbose=2)\n",
    "test_loss, test_acc = model.evaluate(train_images,  train_labels, verbose=2)\n",
    "\n",
    "print(test_acc)"
   ]
  }
 ],
 "metadata": {
  "interpreter": {
   "hash": "6c255580c1376a53e8d62a65f4b290fc9e06ee65b5dbb546bacb4a0a6e644e58"
  },
  "kernelspec": {
   "display_name": "Python 3.9.9 64-bit (windows store)",
   "name": "python3"
  },
  "language_info": {
   "codemirror_mode": {
    "name": "ipython",
    "version": 3
   },
   "file_extension": ".py",
   "mimetype": "text/x-python",
   "name": "python",
   "nbconvert_exporter": "python",
   "pygments_lexer": "ipython3",
   "version": "3.9.9"
  },
  "orig_nbformat": 4
 },
 "nbformat": 4,
 "nbformat_minor": 2
}
