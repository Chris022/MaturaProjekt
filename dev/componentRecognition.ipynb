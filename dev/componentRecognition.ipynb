{
 "cells": [
  {
   "cell_type": "code",
   "execution_count": 1,
   "metadata": {},
   "outputs": [],
   "source": [
    "import sys\n",
    "sys.path.append('../')\n",
    "\n",
    "import tensorflow as tf\n",
    "\n",
    "from tensorflow.keras import layers, models\n",
    "import numpy as np\n",
    "import matplotlib.pyplot as plt\n",
    "import lib.utils as utils\n",
    "import os\n",
    "import cv2\n",
    "import random"
   ]
  },
  {
   "cell_type": "code",
   "execution_count": 2,
   "metadata": {},
   "outputs": [],
   "source": [
    "def convertImg(image, size=(32,32)):\n",
    "    image = cv2.resize(image, size, interpolation=cv2.INTER_AREA)\n",
    "    converted = np.zeros(shape=(size[0], size[1], 1))\n",
    "    for y in range(0, len(image)):\n",
    "        for x in range(0, len(image[y])):\n",
    "            converted[y][x][0] = image[y][x]\n",
    "\n",
    "    converted = converted/255\n",
    "    return converted"
   ]
  },
  {
   "cell_type": "code",
   "execution_count": 3,
   "metadata": {},
   "outputs": [
    {
     "name": "stdout",
     "output_type": "stream",
     "text": [
      "['capacitor', 'ground', 'resistor', 'up', 'down', 'left', 'right']\n",
      "9\n",
      "3\n"
     ]
    }
   ],
   "source": [
    "# trainImages / Images\n",
    "ratio = 0.7\n",
    "train_data = []\n",
    "test_data = []\n",
    "\n",
    "class_names = os.listdir('./../resources/trainData')\n",
    "print(class_names)\n",
    "\n",
    "for class_name in class_names:\n",
    "    data = os.listdir('./../resources/trainData/{class_name}'.format(class_name=class_name))\n",
    "    for i in range(0, len(data)):\n",
    "        image = convertImg(utils.loadImage(path='./../resources/trainData/{class_name}'.format(class_name=class_name), name=data[i], resize=(32,32)))\n",
    "        #image = convertImg(utils.loadImage(path='./trainData/{class_name}'.format(class_name=class_name), name=data[i], resize=(32,32)))\n",
    "\n",
    "        label = [0 for i in range(0,len(class_names) + 4)]\n",
    "        if 'u' in data[i]:\n",
    "            label[len(label)-4] = 1\n",
    "        if 'd' in data[i]:\n",
    "            label[len(label)-3] = 1\n",
    "        if 'l' in data[i]:\n",
    "            label[len(label)-2] = 1\n",
    "        if 'r' in data[i]:\n",
    "            label[len(label)-1] = 1\n",
    "        label[class_names.index(class_name)] = 1\n",
    "\n",
    "        if(i/len(data) < ratio):\n",
    "            train_data.append((image,label))\n",
    "        else:\n",
    "            test_data.append((image,label))\n",
    "\n",
    "class_names += ['up', 'down', 'left', 'right']\n",
    "print(class_names)\n",
    "\n",
    "random.shuffle(train_data)\n",
    "random.shuffle(test_data)\n",
    "\n",
    "train_images = []\n",
    "train_labels = []\n",
    "test_images = []\n",
    "test_labels = []\n",
    "\n",
    "for data in train_data:\n",
    "    train_images.append(data[0])\n",
    "    train_labels.append(data[1])\n",
    "\n",
    "for data in test_data:\n",
    "    test_images.append(data[0])\n",
    "    test_labels.append(data[1])\n",
    "\n",
    "\n",
    "train_images = np.asarray(train_images)\n",
    "train_labels = np.asarray(train_labels)\n",
    "test_images = np.asarray(test_images)\n",
    "test_labels = np.asarray(test_labels)\n",
    "\n",
    "print(len(train_images))\n",
    "print(len(test_images))"
   ]
  },
  {
   "cell_type": "code",
   "execution_count": 4,
   "metadata": {},
   "outputs": [
    {
     "data": {
      "image/png": "[encoded data removed]",
      "text/plain": [
       "<Figure size 720x720 with 6 Axes>"
      ]
     },
     "metadata": {},
     "output_type": "display_data"
    }
   ],
   "source": [
    "plt.figure(figsize=(10,10))\n",
    "for i in range(6):\n",
    "    plt.subplot(5,5,i+1)\n",
    "    plt.xticks([])\n",
    "    plt.yticks([])\n",
    "    plt.grid(False)\n",
    "    plt.imshow(train_images[i], cmap='gray')\n",
    "    # The CIFAR labels happen to be arrays, \n",
    "    # which is why you need the extra index\n",
    "    plt.xlabel(class_names[train_labels[i][0]])\n",
    "plt.show()"
   ]
  },
  {
   "cell_type": "code",
   "execution_count": 5,
   "metadata": {},
   "outputs": [
    {
     "name": "stdout",
     "output_type": "stream",
     "text": [
      "Model: \"sequential\"\n",
      "_________________________________________________________________\n",
      "Layer (type)                 Output Shape              Param #   \n",
      "=================================================================\n",
      "conv2d (Conv2D)              (None, 30, 30, 32)        320       \n",
      "_________________________________________________________________\n",
      "max_pooling2d (MaxPooling2D) (None, 15, 15, 32)        0         \n",
      "_________________________________________________________________\n",
      "conv2d_1 (Conv2D)            (None, 13, 13, 64)        18496     \n",
      "_________________________________________________________________\n",
      "max_pooling2d_1 (MaxPooling2 (None, 6, 6, 64)          0         \n",
      "_________________________________________________________________\n",
      "conv2d_2 (Conv2D)            (None, 4, 4, 64)          36928     \n",
      "_________________________________________________________________\n",
      "flatten (Flatten)            (None, 1024)              0         \n",
      "_________________________________________________________________\n",
      "dense (Dense)                (None, 64)                65600     \n",
      "_________________________________________________________________\n",
      "dense_1 (Dense)              (None, 7)                 455       \n",
      "=================================================================\n",
      "Total params: 121,799\n",
      "Trainable params: 121,799\n",
      "Non-trainable params: 0\n",
      "_________________________________________________________________\n"
     ]
    }
   ],
   "source": [
    "model = models.Sequential()\n",
    "model.add(layers.Conv2D(32, (3, 3), activation='relu', input_shape=(32, 32, 1)))\n",
    "model.add(layers.MaxPooling2D((2, 2)))\n",
    "model.add(layers.Conv2D(64, (3, 3), activation='relu'))\n",
    "model.add(layers.MaxPooling2D((2, 2)))\n",
    "model.add(layers.Conv2D(64, (3, 3), activation='relu'))\n",
    "\n",
    "model.add(layers.Flatten())\n",
    "model.add(layers.Dense(64, activation='relu'))\n",
    "#model.add(layers.Dense(len(class_names)))\n",
    "model.add(layers.Dense(len(class_names), activation='sigmoid'))\n",
    "\n",
    "model.summary()"
   ]
  },
  {
   "cell_type": "code",
   "execution_count": 6,
   "metadata": {},
   "outputs": [
    {
     "name": "stdout",
     "output_type": "stream",
     "text": [
      "Epoch 1/40\n",
      "1/1 [==============================] - 1s 548ms/step - loss: 0.6932 - binary_accuracy: 0.5556 - val_loss: 0.7049 - val_binary_accuracy: 0.4286\n",
      "Epoch 2/40\n",
      "1/1 [==============================] - 0s 34ms/step - loss: 0.6602 - binary_accuracy: 0.6349 - val_loss: 0.7232 - val_binary_accuracy: 0.3810\n",
      "Epoch 3/40\n",
      "1/1 [==============================] - 0s 22ms/step - loss: 0.6328 - binary_accuracy: 0.6349 - val_loss: 0.7639 - val_binary_accuracy: 0.4762\n",
      "Epoch 4/40\n",
      "1/1 [==============================] - 0s 16ms/step - loss: 0.6111 - binary_accuracy: 0.7143 - val_loss: 0.8295 - val_binary_accuracy: 0.4286\n",
      "Epoch 5/40\n",
      "1/1 [==============================] - 0s 32ms/step - loss: 0.5974 - binary_accuracy: 0.6825 - val_loss: 0.9015 - val_binary_accuracy: 0.4286\n",
      "Epoch 6/40\n",
      "1/1 [==============================] - 0s 22ms/step - loss: 0.5950 - binary_accuracy: 0.6825 - val_loss: 0.9280 - val_binary_accuracy: 0.4286\n",
      "Epoch 7/40\n",
      "1/1 [==============================] - 0s 13ms/step - loss: 0.5938 - binary_accuracy: 0.6984 - val_loss: 0.9055 - val_binary_accuracy: 0.5714\n",
      "Epoch 8/40\n",
      "1/1 [==============================] - 0s 19ms/step - loss: 0.5870 - binary_accuracy: 0.6984 - val_loss: 0.8588 - val_binary_accuracy: 0.5714\n",
      "Epoch 9/40\n",
      "1/1 [==============================] - 0s 23ms/step - loss: 0.5778 - binary_accuracy: 0.6984 - val_loss: 0.8121 - val_binary_accuracy: 0.5714\n",
      "Epoch 10/40\n",
      "1/1 [==============================] - 0s 19ms/step - loss: 0.5709 - binary_accuracy: 0.6984 - val_loss: 0.7768 - val_binary_accuracy: 0.5714\n",
      "Epoch 11/40\n",
      "1/1 [==============================] - 0s 21ms/step - loss: 0.5668 - binary_accuracy: 0.6984 - val_loss: 0.7553 - val_binary_accuracy: 0.5714\n",
      "Epoch 12/40\n",
      "1/1 [==============================] - 0s 18ms/step - loss: 0.5633 - binary_accuracy: 0.6984 - val_loss: 0.7473 - val_binary_accuracy: 0.5714\n",
      "Epoch 13/40\n",
      "1/1 [==============================] - 0s 26ms/step - loss: 0.5574 - binary_accuracy: 0.6984 - val_loss: 0.7483 - val_binary_accuracy: 0.5714\n",
      "Epoch 14/40\n",
      "1/1 [==============================] - 0s 20ms/step - loss: 0.5486 - binary_accuracy: 0.6984 - val_loss: 0.7558 - val_binary_accuracy: 0.5714\n",
      "Epoch 15/40\n",
      "1/1 [==============================] - 0s 39ms/step - loss: 0.5379 - binary_accuracy: 0.6984 - val_loss: 0.7683 - val_binary_accuracy: 0.5714\n",
      "Epoch 16/40\n",
      "1/1 [==============================] - 0s 26ms/step - loss: 0.5256 - binary_accuracy: 0.6984 - val_loss: 0.7824 - val_binary_accuracy: 0.5714\n",
      "Epoch 17/40\n",
      "1/1 [==============================] - 0s 37ms/step - loss: 0.5122 - binary_accuracy: 0.7302 - val_loss: 0.7916 - val_binary_accuracy: 0.5714\n",
      "Epoch 18/40\n",
      "1/1 [==============================] - 0s 23ms/step - loss: 0.4982 - binary_accuracy: 0.7937 - val_loss: 0.7889 - val_binary_accuracy: 0.5238\n",
      "Epoch 19/40\n",
      "1/1 [==============================] - 0s 14ms/step - loss: 0.4823 - binary_accuracy: 0.7937 - val_loss: 0.7724 - val_binary_accuracy: 0.5714\n",
      "Epoch 20/40\n",
      "1/1 [==============================] - 0s 33ms/step - loss: 0.4641 - binary_accuracy: 0.8095 - val_loss: 0.7475 - val_binary_accuracy: 0.5714\n",
      "Epoch 21/40\n",
      "1/1 [==============================] - 0s 22ms/step - loss: 0.4437 - binary_accuracy: 0.8254 - val_loss: 0.7201 - val_binary_accuracy: 0.5714\n",
      "Epoch 22/40\n",
      "1/1 [==============================] - 0s 22ms/step - loss: 0.4217 - binary_accuracy: 0.8413 - val_loss: 0.6960 - val_binary_accuracy: 0.5714\n",
      "Epoch 23/40\n",
      "1/1 [==============================] - 0s 23ms/step - loss: 0.3981 - binary_accuracy: 0.8413 - val_loss: 0.6778 - val_binary_accuracy: 0.5714\n",
      "Epoch 24/40\n",
      "1/1 [==============================] - 0s 23ms/step - loss: 0.3730 - binary_accuracy: 0.8571 - val_loss: 0.6643 - val_binary_accuracy: 0.5714\n",
      "Epoch 25/40\n",
      "1/1 [==============================] - 0s 10ms/step - loss: 0.3465 - binary_accuracy: 0.8730 - val_loss: 0.6500 - val_binary_accuracy: 0.6190\n",
      "Epoch 26/40\n",
      "1/1 [==============================] - 0s 35ms/step - loss: 0.3179 - binary_accuracy: 0.9048 - val_loss: 0.6349 - val_binary_accuracy: 0.6190\n",
      "Epoch 27/40\n",
      "1/1 [==============================] - 0s 21ms/step - loss: 0.2881 - binary_accuracy: 0.9048 - val_loss: 0.6224 - val_binary_accuracy: 0.6190\n",
      "Epoch 28/40\n",
      "1/1 [==============================] - 0s 24ms/step - loss: 0.2583 - binary_accuracy: 0.9206 - val_loss: 0.6077 - val_binary_accuracy: 0.6190\n",
      "Epoch 29/40\n",
      "1/1 [==============================] - 0s 15ms/step - loss: 0.2296 - binary_accuracy: 0.9365 - val_loss: 0.5941 - val_binary_accuracy: 0.6190\n",
      "Epoch 30/40\n",
      "1/1 [==============================] - 0s 31ms/step - loss: 0.2018 - binary_accuracy: 0.9524 - val_loss: 0.5853 - val_binary_accuracy: 0.6190\n",
      "Epoch 31/40\n",
      "1/1 [==============================] - 0s 10ms/step - loss: 0.1741 - binary_accuracy: 0.9524 - val_loss: 0.5745 - val_binary_accuracy: 0.6190\n",
      "Epoch 32/40\n",
      "1/1 [==============================] - 0s 24ms/step - loss: 0.1482 - binary_accuracy: 0.9683 - val_loss: 0.5532 - val_binary_accuracy: 0.6190\n",
      "Epoch 33/40\n",
      "1/1 [==============================] - 0s 33ms/step - loss: 0.1235 - binary_accuracy: 0.9841 - val_loss: 0.5194 - val_binary_accuracy: 0.6667\n",
      "Epoch 34/40\n",
      "1/1 [==============================] - 0s 25ms/step - loss: 0.1004 - binary_accuracy: 0.9841 - val_loss: 0.4757 - val_binary_accuracy: 0.6667\n",
      "Epoch 35/40\n",
      "1/1 [==============================] - 0s 23ms/step - loss: 0.0801 - binary_accuracy: 0.9841 - val_loss: 0.4390 - val_binary_accuracy: 0.7143\n",
      "Epoch 36/40\n",
      "1/1 [==============================] - 0s 12ms/step - loss: 0.0628 - binary_accuracy: 0.9841 - val_loss: 0.4122 - val_binary_accuracy: 0.7143\n",
      "Epoch 37/40\n",
      "1/1 [==============================] - 0s 33ms/step - loss: 0.0480 - binary_accuracy: 1.0000 - val_loss: 0.3948 - val_binary_accuracy: 0.7143\n",
      "Epoch 38/40\n",
      "1/1 [==============================] - 0s 11ms/step - loss: 0.0364 - binary_accuracy: 1.0000 - val_loss: 0.3879 - val_binary_accuracy: 0.7619\n",
      "Epoch 39/40\n",
      "1/1 [==============================] - 0s 36ms/step - loss: 0.0278 - binary_accuracy: 1.0000 - val_loss: 0.3789 - val_binary_accuracy: 0.7619\n",
      "Epoch 40/40\n",
      "1/1 [==============================] - 0s 21ms/step - loss: 0.0210 - binary_accuracy: 1.0000 - val_loss: 0.3631 - val_binary_accuracy: 0.8095\n"
     ]
    }
   ],
   "source": [
    "#model.compile(optimizer='adam',\n",
    "#              loss=tf.keras.losses.SparseCategoricalCrossentropy(from_logits=True),\n",
    "#              metrics=['accuracy'])\n",
    "\n",
    "\n",
    "model.compile(optimizer='adam',\n",
    "              loss=tf.keras.losses.BinaryCrossentropy(),\n",
    "              metrics=[tf.keras.metrics.BinaryAccuracy()])\n",
    "              \n",
    "\n",
    "#history = model.fit(train_images, train_labels, epochs=10, \n",
    "#                    validation_data=(test_images, test_labels))\n",
    "\n",
    "history = model.fit(train_images, train_labels, epochs=40, \n",
    "                    validation_data=(test_images, test_labels))\n"
   ]
  },
  {
   "cell_type": "code",
   "execution_count": 7,
   "metadata": {},
   "outputs": [
    {
     "name": "stdout",
     "output_type": "stream",
     "text": [
      "INFO:tensorflow:Assets written to: ./../resources/saved_model/my_model\\assets\n"
     ]
    }
   ],
   "source": [
    "model.save('./../resources/saved_model/my_model')"
   ]
  },
  {
   "cell_type": "code",
   "execution_count": 8,
   "metadata": {},
   "outputs": [
    {
     "name": "stdout",
     "output_type": "stream",
     "text": [
      "[0.01469383 0.37810075 0.31140086 0.9919051  0.26320046 0.03459218\n",
      " 0.00488845]\n",
      "[0.0161424  0.29431623 0.36751568 0.99688506 0.5028304  0.01643968\n",
      " 0.00270566]\n",
      "[['ground', 'up'], ['resistor', 'up']]\n"
     ]
    }
   ],
   "source": [
    "#boxes = [[[45,118],[80,184]],[[250,115],[300,141]]]\n",
    "#image = utils.loadImage(\"../src/testImages\", \"1.png\")\n",
    "\n",
    "def classify(boxes, image):\n",
    "    \n",
    "    model = tf.keras.models.load_model('./../resources/saved_model/my_model')\n",
    "\n",
    "    components = []\n",
    "    for box in boxes:\n",
    "        component = image[box[0][1]:box[1][1], box[0][0]:box[1][0]]\n",
    "        components.append(convertImg(component).reshape(-1,32,32,1))\n",
    "\n",
    "    modelPredictions = model.predict(np.vstack(components))\n",
    "\n",
    "    predictions = []\n",
    "\n",
    "    for prediction in modelPredictions:\n",
    "        print(prediction)\n",
    "        predictions.append([class_names[np.argmax(prediction[:-4])],class_names[-4:][np.argmax(prediction[-4:])]])\n",
    "\n",
    "        #predictions.append(class_names[np.argmax(prediction)])\n",
    "\n",
    "    return predictions"
   ]
  },
  {
   "cell_type": "code",
   "execution_count": 9,
   "metadata": {},
   "outputs": [
    {
     "name": "stdout",
     "output_type": "stream",
     "text": [
      "['capacitor', 'ground', 'resistor', 'up', 'down', 'left', 'right']\n",
      "[0.00556952 0.202568   0.5660286  0.40912765 0.00546262 0.7938862\n",
      " 0.5203697 ]\n",
      "resistor\n",
      "left\n"
     ]
    },
    {
     "data": {
      "text/plain": [
       "<matplotlib.image.AxesImage at 0x2112f578cd0>"
      ]
     },
     "execution_count": 9,
     "metadata": {},
     "output_type": "execute_result"
    },
    {
     "data": {
      "image/png": "[encoded data removed]",
      "text/plain": [
       "<Figure size 432x288 with 1 Axes>"
      ]
     },
     "metadata": {
      "needs_background": "light"
     },
     "output_type": "display_data"
    }
   ],
   "source": [
    "new_model = tf.keras.models.load_model('saved_model/my_model')\n",
    "\n",
    "# Check its architecture\n",
    "#new_model.summary()\n",
    "\n",
    "img = convertImg(utils.loadImage(path='./', name='test.png', resize=(32,32)))\n",
    "\n",
    "img = test_images[2]\n",
    "#img = train_images[3]\n",
    "\n",
    "\n",
    "predictions_single = model.predict(img.reshape(-1,32,32,1))[0]\n",
    "print(class_names)\n",
    "print(predictions_single)\n",
    "print(class_names[np.where(predictions_single[:-4] == np.amax(predictions_single[:-4]))[0][0]])\n",
    "print(class_names[np.where(predictions_single[-4:] == np.amax(predictions_single[-4:]))[0][0] + len(class_names) - 4])\n",
    "\n",
    "plt.imshow(img, cmap='gray')"
   ]
  },
  {
   "cell_type": "code",
   "execution_count": 10,
   "metadata": {},
   "outputs": [
    {
     "name": "stdout",
     "output_type": "stream",
     "text": [
      "1/1 [==============================] - 0s 19ms/step - loss: 0.3631 - binary_accuracy: 0.8095\n",
      "[[0 1 0 1 0 0 0]\n",
      " [1 0 0 0 0 1 1]\n",
      " [0 0 1 0 0 1 1]]\n",
      "0.8095238208770752\n",
      "0.36314383149147034\n"
     ]
    },
    {
     "data": {
      "image/png": "[encoded data removed]",
      "text/plain": [
       "<Figure size 432x288 with 1 Axes>"
      ]
     },
     "metadata": {
      "needs_background": "light"
     },
     "output_type": "display_data"
    }
   ],
   "source": [
    "plt.plot(history.history['val_binary_accuracy'], label='val_accuracy')\n",
    "plt.plot(history.history['binary_accuracy'], label = 'accuracy')\n",
    "plt.xlabel('Epoch')\n",
    "plt.ylabel('Accuracy')\n",
    "plt.ylim([0, 1])\n",
    "plt.legend(loc='lower right')\n",
    "\n",
    "test_loss, test_acc = model.evaluate(test_images,  test_labels, verbose=1)\n",
    "#test_loss, test_acc = model.evaluate(train_images,  train_labels, verbose=1)\n",
    "print(test_labels)\n",
    "print(test_acc)\n",
    "print(test_loss)"
   ]
  }
 ],
 "metadata": {
  "interpreter": {
   "hash": "6c255580c1376a53e8d62a65f4b290fc9e06ee65b5dbb546bacb4a0a6e644e58"
  },
  "kernelspec": {
   "display_name": "Python 3.9.9 64-bit (windows store)",
   "name": "python3"
  },
  "language_info": {
   "codemirror_mode": {
    "name": "ipython",
    "version": 3
   },
   "file_extension": ".py",
   "mimetype": "text/x-python",
   "name": "python",
   "nbconvert_exporter": "python",
   "pygments_lexer": "ipython3",
   "version": "3.9.7"
  },
  "orig_nbformat": 4
 },
 "nbformat": 4,
 "nbformat_minor": 2
}
