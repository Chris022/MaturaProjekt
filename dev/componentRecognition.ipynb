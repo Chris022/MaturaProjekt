{
 "cells": [
  {
   "cell_type": "code",
   "execution_count": 23,
   "metadata": {},
   "outputs": [],
   "source": [
    "import sys\n",
    "sys.path.append('../')\n",
    "\n",
    "import tensorflow as tf\n",
    "\n",
    "from tensorflow.keras import layers, models\n",
    "import numpy as np\n",
    "import matplotlib.pyplot as plt\n",
    "import lib.utils as utils\n",
    "import os\n",
    "import cv2\n",
    "import random"
   ]
  },
  {
   "cell_type": "code",
   "execution_count": 24,
   "metadata": {},
   "outputs": [],
   "source": [
    "def convertImg(image, size=(32,32)):\n",
    "    image = cv2.resize(image, size, interpolation=cv2.INTER_AREA)\n",
    "    converted = np.zeros(shape=(size[0], size[1], 1))\n",
    "    for y in range(0, len(image)):\n",
    "        for x in range(0, len(image[y])):\n",
    "            converted[y][x][0] = image[y][x]\n",
    "\n",
    "    converted = converted/255\n",
    "    return converted"
   ]
  },
  {
   "cell_type": "code",
   "execution_count": 14,
   "metadata": {},
   "outputs": [
    {
     "name": "stdout",
     "output_type": "stream",
     "text": [
      "['capacitor', 'ground', 'inductor', 'resistor', 'voltage']\n",
      "['capacitor', 'ground', 'inductor', 'resistor', 'voltage']\n",
      "87\n",
      "35\n"
     ]
    }
   ],
   "source": [
    "# trainImages / Images\n",
    "ratio = 0.7\n",
    "train_data = []\n",
    "test_data = []\n",
    "\n",
    "class_names = os.listdir('./../resources/trainData_new')\n",
    "print(class_names)\n",
    "\n",
    "for class_name in class_names:\n",
    "    data = os.listdir('./../resources/trainData_new/{class_name}'.format(class_name=class_name))\n",
    "    for i in range(0, len(data)):\n",
    "        image = convertImg(utils.loadImage(path='./../resources/trainData_new/{class_name}'.format(class_name=class_name), name=data[i], resize=(32,32)))\n",
    "        #image = convertImg(utils.loadImage(path='./trainData/{class_name}'.format(class_name=class_name), name=data[i], resize=(32,32)))\n",
    "\n",
    "        label = [0 for i in range(0,len(class_names))]# + 4)]\n",
    "        #if 'u' in data[i]: label[len(label)-4] = 1\n",
    "        #if 'd' in data[i]: label[len(label)-3] = 1\n",
    "        #if 'l' in data[i]: label[len(label)-2] = 1\n",
    "        #if 'r' in data[i]: label[len(label)-1] = 1\n",
    "        label[class_names.index(class_name)] = 1\n",
    "\n",
    "        if(i/len(data) < ratio):\n",
    "            train_data.append((image,label))\n",
    "        else:\n",
    "            test_data.append((image,label))\n",
    "\n",
    "#class_names += ['up', 'down', 'left', 'right']\n",
    "print(class_names)\n",
    "\n",
    "random.shuffle(train_data)\n",
    "random.shuffle(test_data)\n",
    "\n",
    "train_images = []\n",
    "train_labels = []\n",
    "test_images = []\n",
    "test_labels = []\n",
    "\n",
    "for data in train_data:\n",
    "    train_images.append(data[0])\n",
    "    train_labels.append(data[1])\n",
    "\n",
    "for data in test_data:\n",
    "    test_images.append(data[0])\n",
    "    test_labels.append(data[1])\n",
    "\n",
    "\n",
    "train_images = np.asarray(train_images)\n",
    "train_labels = np.asarray(train_labels)\n",
    "test_images = np.asarray(test_images)\n",
    "test_labels = np.asarray(test_labels)\n",
    "\n",
    "print(len(train_images))\n",
    "print(len(test_images))"
   ]
  },
  {
   "cell_type": "code",
   "execution_count": 25,
   "metadata": {},
   "outputs": [
    {
     "data": {
      "image/png": "[encoded data removed]",
      "text/plain": [
       "<Figure size 720x720 with 6 Axes>"
      ]
     },
     "metadata": {},
     "output_type": "display_data"
    }
   ],
   "source": [
    "plt.figure(figsize=(10,10))\n",
    "for i in range(6):\n",
    "    plt.subplot(5,5,i+1)\n",
    "    plt.xticks([])\n",
    "    plt.yticks([])\n",
    "    plt.grid(False)\n",
    "    plt.imshow(train_images[i], cmap='gray')\n",
    "    # The CIFAR labels happen to be arrays, \n",
    "    # which is why you need the extra index\n",
    "    #plt.xlabel(class_names[train_labels[i][0]])\n",
    "plt.show()"
   ]
  },
  {
   "cell_type": "code",
   "execution_count": 16,
   "metadata": {},
   "outputs": [
    {
     "name": "stdout",
     "output_type": "stream",
     "text": [
      "Model: \"sequential_1\"\n",
      "_________________________________________________________________\n",
      "Layer (type)                 Output Shape              Param #   \n",
      "=================================================================\n",
      "conv2d_3 (Conv2D)            (None, 30, 30, 128)       1280      \n",
      "_________________________________________________________________\n",
      "max_pooling2d_2 (MaxPooling2 (None, 15, 15, 128)       0         \n",
      "_________________________________________________________________\n",
      "conv2d_4 (Conv2D)            (None, 13, 13, 256)       295168    \n",
      "_________________________________________________________________\n",
      "max_pooling2d_3 (MaxPooling2 (None, 6, 6, 256)         0         \n",
      "_________________________________________________________________\n",
      "conv2d_5 (Conv2D)            (None, 4, 4, 512)         1180160   \n",
      "_________________________________________________________________\n",
      "flatten_1 (Flatten)          (None, 8192)              0         \n",
      "_________________________________________________________________\n",
      "dense_3 (Dense)              (None, 256)               2097408   \n",
      "_________________________________________________________________\n",
      "dense_4 (Dense)              (None, 128)               32896     \n",
      "_________________________________________________________________\n",
      "dense_5 (Dense)              (None, 5)                 645       \n",
      "=================================================================\n",
      "Total params: 3,607,557\n",
      "Trainable params: 3,607,557\n",
      "Non-trainable params: 0\n",
      "_________________________________________________________________\n"
     ]
    }
   ],
   "source": [
    "model = models.Sequential()\n",
    "model.add(layers.Conv2D(128, (3, 3), activation='relu', input_shape=(32, 32, 1)))\n",
    "model.add(layers.MaxPooling2D((2, 2)))\n",
    "model.add(layers.Conv2D(256, (3, 3), activation='relu'))\n",
    "model.add(layers.MaxPooling2D((2, 2)))\n",
    "model.add(layers.Conv2D(512, (3, 3), activation='relu'))\n",
    "\n",
    "model.add(layers.Flatten())\n",
    "model.add(layers.Dense(256, activation='relu'))\n",
    "model.add(layers.Dense(128, activation='relu'))\n",
    "#model.add(layers.Dense(len(class_names)))\n",
    "model.add(layers.Dense(len(class_names), activation='softmax'))\n",
    "\n",
    "model.summary()"
   ]
  },
  {
   "cell_type": "code",
   "execution_count": 17,
   "metadata": {},
   "outputs": [
    {
     "name": "stdout",
     "output_type": "stream",
     "text": [
      "Epoch 1/50\n",
      "3/3 [==============================] - 1s 244ms/step - loss: 0.6018 - binary_accuracy: 0.7816 - val_loss: 0.4570 - val_binary_accuracy: 0.7486\n",
      "Epoch 2/50\n",
      "3/3 [==============================] - 1s 211ms/step - loss: 0.4356 - binary_accuracy: 0.7977 - val_loss: 0.3543 - val_binary_accuracy: 0.8457\n",
      "Epoch 3/50\n",
      "3/3 [==============================] - 1s 244ms/step - loss: 0.3014 - binary_accuracy: 0.8920 - val_loss: 0.2152 - val_binary_accuracy: 0.9257\n",
      "Epoch 4/50\n",
      "3/3 [==============================] - 1s 298ms/step - loss: 0.1628 - binary_accuracy: 0.9494 - val_loss: 0.1253 - val_binary_accuracy: 0.9600\n",
      "Epoch 5/50\n",
      "3/3 [==============================] - 1s 249ms/step - loss: 0.0924 - binary_accuracy: 0.9655 - val_loss: 0.1170 - val_binary_accuracy: 0.9657\n",
      "Epoch 6/50\n",
      "3/3 [==============================] - 1s 238ms/step - loss: 0.0720 - binary_accuracy: 0.9678 - val_loss: 0.1181 - val_binary_accuracy: 0.9600\n",
      "Epoch 7/50\n",
      "3/3 [==============================] - 1s 249ms/step - loss: 0.0559 - binary_accuracy: 0.9862 - val_loss: 0.0442 - val_binary_accuracy: 0.9714\n",
      "Epoch 8/50\n",
      "3/3 [==============================] - 1s 247ms/step - loss: 0.0309 - binary_accuracy: 0.9908 - val_loss: 0.0338 - val_binary_accuracy: 0.9771\n",
      "Epoch 9/50\n",
      "3/3 [==============================] - 1s 249ms/step - loss: 0.0174 - binary_accuracy: 0.9908 - val_loss: 0.0278 - val_binary_accuracy: 1.0000\n",
      "Epoch 10/50\n",
      "3/3 [==============================] - 1s 250ms/step - loss: 0.0061 - binary_accuracy: 1.0000 - val_loss: 0.0225 - val_binary_accuracy: 1.0000\n",
      "Epoch 11/50\n",
      "3/3 [==============================] - 1s 250ms/step - loss: 0.0027 - binary_accuracy: 1.0000 - val_loss: 0.0169 - val_binary_accuracy: 1.0000\n",
      "Epoch 12/50\n",
      "3/3 [==============================] - 1s 262ms/step - loss: 0.0020 - binary_accuracy: 1.0000 - val_loss: 0.0081 - val_binary_accuracy: 1.0000\n",
      "Epoch 13/50\n",
      "3/3 [==============================] - 1s 274ms/step - loss: 7.4451e-04 - binary_accuracy: 1.0000 - val_loss: 0.0123 - val_binary_accuracy: 1.0000\n",
      "Epoch 14/50\n",
      "3/3 [==============================] - 1s 508ms/step - loss: 5.8507e-04 - binary_accuracy: 1.0000 - val_loss: 0.0215 - val_binary_accuracy: 1.0000\n",
      "Epoch 15/50\n",
      "3/3 [==============================] - 1s 298ms/step - loss: 4.0685e-04 - binary_accuracy: 1.0000 - val_loss: 0.0205 - val_binary_accuracy: 1.0000\n",
      "Epoch 16/50\n",
      "3/3 [==============================] - 1s 310ms/step - loss: 1.6153e-04 - binary_accuracy: 1.0000 - val_loss: 0.0125 - val_binary_accuracy: 1.0000\n",
      "Epoch 17/50\n",
      "3/3 [==============================] - 1s 281ms/step - loss: 4.9053e-05 - binary_accuracy: 1.0000 - val_loss: 0.0071 - val_binary_accuracy: 1.0000\n",
      "Epoch 18/50\n",
      "3/3 [==============================] - 1s 279ms/step - loss: 2.1030e-05 - binary_accuracy: 1.0000 - val_loss: 0.0042 - val_binary_accuracy: 1.0000\n",
      "Epoch 19/50\n",
      "3/3 [==============================] - 1s 302ms/step - loss: 1.1644e-05 - binary_accuracy: 1.0000 - val_loss: 0.0027 - val_binary_accuracy: 1.0000\n",
      "Epoch 20/50\n",
      "3/3 [==============================] - 1s 292ms/step - loss: 8.9276e-06 - binary_accuracy: 1.0000 - val_loss: 0.0019 - val_binary_accuracy: 1.0000\n",
      "Epoch 21/50\n",
      "3/3 [==============================] - 1s 276ms/step - loss: 7.5106e-06 - binary_accuracy: 1.0000 - val_loss: 0.0015 - val_binary_accuracy: 1.0000\n",
      "Epoch 22/50\n",
      "3/3 [==============================] - 1s 283ms/step - loss: 6.8771e-06 - binary_accuracy: 1.0000 - val_loss: 0.0013 - val_binary_accuracy: 1.0000\n",
      "Epoch 23/50\n",
      "3/3 [==============================] - 1s 306ms/step - loss: 6.4274e-06 - binary_accuracy: 1.0000 - val_loss: 0.0011 - val_binary_accuracy: 1.0000\n",
      "Epoch 24/50\n",
      "3/3 [==============================] - 1s 295ms/step - loss: 6.1131e-06 - binary_accuracy: 1.0000 - val_loss: 9.8373e-04 - val_binary_accuracy: 1.0000\n",
      "Epoch 25/50\n",
      "3/3 [==============================] - 1s 297ms/step - loss: 5.5674e-06 - binary_accuracy: 1.0000 - val_loss: 9.1469e-04 - val_binary_accuracy: 1.0000\n",
      "Epoch 26/50\n",
      "3/3 [==============================] - 1s 297ms/step - loss: 5.3117e-06 - binary_accuracy: 1.0000 - val_loss: 8.7155e-04 - val_binary_accuracy: 1.0000\n",
      "Epoch 27/50\n",
      "3/3 [==============================] - 1s 295ms/step - loss: 4.7767e-06 - binary_accuracy: 1.0000 - val_loss: 8.4248e-04 - val_binary_accuracy: 1.0000\n",
      "Epoch 28/50\n",
      "3/3 [==============================] - 1s 301ms/step - loss: 4.4914e-06 - binary_accuracy: 1.0000 - val_loss: 8.2510e-04 - val_binary_accuracy: 1.0000\n",
      "Epoch 29/50\n",
      "3/3 [==============================] - 1s 307ms/step - loss: 4.2708e-06 - binary_accuracy: 1.0000 - val_loss: 8.1607e-04 - val_binary_accuracy: 1.0000\n",
      "Epoch 30/50\n",
      "3/3 [==============================] - 1s 293ms/step - loss: 3.9291e-06 - binary_accuracy: 1.0000 - val_loss: 8.1109e-04 - val_binary_accuracy: 1.0000\n",
      "Epoch 31/50\n",
      "3/3 [==============================] - 1s 274ms/step - loss: 3.7530e-06 - binary_accuracy: 1.0000 - val_loss: 8.1001e-04 - val_binary_accuracy: 1.0000\n",
      "Epoch 32/50\n",
      "3/3 [==============================] - 1s 277ms/step - loss: 3.6105e-06 - binary_accuracy: 1.0000 - val_loss: 8.1213e-04 - val_binary_accuracy: 1.0000\n",
      "Epoch 33/50\n",
      "3/3 [==============================] - 1s 278ms/step - loss: 3.4555e-06 - binary_accuracy: 1.0000 - val_loss: 8.1489e-04 - val_binary_accuracy: 1.0000\n",
      "Epoch 34/50\n",
      "3/3 [==============================] - 1s 282ms/step - loss: 3.3385e-06 - binary_accuracy: 1.0000 - val_loss: 8.1893e-04 - val_binary_accuracy: 1.0000\n",
      "Epoch 35/50\n",
      "3/3 [==============================] - 1s 272ms/step - loss: 3.2223e-06 - binary_accuracy: 1.0000 - val_loss: 8.2355e-04 - val_binary_accuracy: 1.0000\n",
      "Epoch 36/50\n",
      "3/3 [==============================] - 1s 274ms/step - loss: 3.1287e-06 - binary_accuracy: 1.0000 - val_loss: 8.2871e-04 - val_binary_accuracy: 1.0000\n",
      "Epoch 37/50\n",
      "3/3 [==============================] - 1s 271ms/step - loss: 3.0548e-06 - binary_accuracy: 1.0000 - val_loss: 8.3484e-04 - val_binary_accuracy: 1.0000\n",
      "Epoch 38/50\n",
      "3/3 [==============================] - 1s 278ms/step - loss: 2.9719e-06 - binary_accuracy: 1.0000 - val_loss: 8.4077e-04 - val_binary_accuracy: 1.0000\n",
      "Epoch 39/50\n",
      "3/3 [==============================] - 1s 279ms/step - loss: 2.9070e-06 - binary_accuracy: 1.0000 - val_loss: 8.4752e-04 - val_binary_accuracy: 1.0000\n",
      "Epoch 40/50\n",
      "3/3 [==============================] - 1s 279ms/step - loss: 2.8432e-06 - binary_accuracy: 1.0000 - val_loss: 8.5400e-04 - val_binary_accuracy: 1.0000\n",
      "Epoch 41/50\n",
      "3/3 [==============================] - 1s 274ms/step - loss: 2.7926e-06 - binary_accuracy: 1.0000 - val_loss: 8.6090e-04 - val_binary_accuracy: 1.0000\n",
      "Epoch 42/50\n",
      "3/3 [==============================] - 1s 271ms/step - loss: 2.7317e-06 - binary_accuracy: 1.0000 - val_loss: 8.6697e-04 - val_binary_accuracy: 1.0000\n",
      "Epoch 43/50\n",
      "3/3 [==============================] - 1s 277ms/step - loss: 2.6684e-06 - binary_accuracy: 1.0000 - val_loss: 8.7226e-04 - val_binary_accuracy: 1.0000\n",
      "Epoch 44/50\n",
      "3/3 [==============================] - 1s 274ms/step - loss: 2.6308e-06 - binary_accuracy: 1.0000 - val_loss: 8.7793e-04 - val_binary_accuracy: 1.0000\n",
      "Epoch 45/50\n",
      "3/3 [==============================] - 1s 279ms/step - loss: 2.5827e-06 - binary_accuracy: 1.0000 - val_loss: 8.8281e-04 - val_binary_accuracy: 1.0000\n",
      "Epoch 46/50\n",
      "3/3 [==============================] - 1s 286ms/step - loss: 2.5388e-06 - binary_accuracy: 1.0000 - val_loss: 8.8743e-04 - val_binary_accuracy: 1.0000\n",
      "Epoch 47/50\n",
      "3/3 [==============================] - 1s 273ms/step - loss: 2.4868e-06 - binary_accuracy: 1.0000 - val_loss: 8.9130e-04 - val_binary_accuracy: 1.0000\n",
      "Epoch 48/50\n",
      "3/3 [==============================] - 1s 276ms/step - loss: 2.4505e-06 - binary_accuracy: 1.0000 - val_loss: 8.9548e-04 - val_binary_accuracy: 1.0000\n",
      "Epoch 49/50\n",
      "3/3 [==============================] - 1s 271ms/step - loss: 2.4100e-06 - binary_accuracy: 1.0000 - val_loss: 8.9928e-04 - val_binary_accuracy: 1.0000\n",
      "Epoch 50/50\n",
      "3/3 [==============================] - 1s 275ms/step - loss: 2.3660e-06 - binary_accuracy: 1.0000 - val_loss: 9.0186e-04 - val_binary_accuracy: 1.0000\n"
     ]
    }
   ],
   "source": [
    "#model.compile(optimizer='adam',\n",
    "#              loss=tf.keras.losses.SparseCategoricalCrossentropy(from_logits=True),\n",
    "#              metrics=['accuracy'])\n",
    "\n",
    "\n",
    "model.compile(optimizer='adam',\n",
    "              loss=tf.keras.losses.BinaryCrossentropy(),\n",
    "              metrics=[tf.keras.metrics.BinaryAccuracy()])\n",
    "              \n",
    "\n",
    "#history = model.fit(train_images, train_labels, epochs=10, \n",
    "#                    validation_data=(test_images, test_labels))\n",
    "\n",
    "history = model.fit(train_images, train_labels, epochs=50, \n",
    "                    validation_data=(test_images, test_labels))\n"
   ]
  },
  {
   "cell_type": "code",
   "execution_count": 18,
   "metadata": {},
   "outputs": [
    {
     "name": "stdout",
     "output_type": "stream",
     "text": [
      "INFO:tensorflow:Assets written to: ./../resources/saved_model/my_model\\assets\n"
     ]
    }
   ],
   "source": [
    "model.save('./../resources/saved_model/my_model')"
   ]
  },
  {
   "cell_type": "code",
   "execution_count": 26,
   "metadata": {},
   "outputs": [],
   "source": [
    "#boxes = [[[45,118],[80,184]],[[250,115],[300,141]]]\n",
    "#image = utils.loadImage(\"../src/testImages\", \"1.png\")\n",
    "\n",
    "def classify(boxes, image):\n",
    "    \n",
    "    model = tf.keras.models.load_model('./../resources/saved_model/my_model')\n",
    "\n",
    "    components = []\n",
    "    for box in boxes:\n",
    "        component = image[box[0][1]:box[1][1], box[0][0]:box[1][0]]\n",
    "        components.append(convertImg(component).reshape(-1,32,32,1))\n",
    "\n",
    "    modelPredictions = model.predict(np.vstack(components))\n",
    "\n",
    "    predictions = []\n",
    "\n",
    "    for prediction in modelPredictions:\n",
    "        print(prediction)\n",
    "        predictions.append(class_names[np.argmax(predictions_single)])\n",
    "        #predictions.append([class_names[np.argmax(prediction[:-4])],class_names[-4:][np.argmax(prediction[-4:])]])\n",
    "\n",
    "        #predictions.append(class_names[np.argmax(prediction)])\n",
    "\n",
    "    return predictions"
   ]
  },
  {
   "cell_type": "code",
   "execution_count": 29,
   "metadata": {},
   "outputs": [
    {
     "name": "stdout",
     "output_type": "stream",
     "text": [
      "['capacitor', 'ground', 'inductor', 'resistor', 'voltage']\n",
      "[1.0000000e+00 0.0000000e+00 3.7046399e-14 1.2518896e-32 8.8002132e-19]\n",
      "capacitor\n"
     ]
    },
    {
     "data": {
      "text/plain": [
       "<matplotlib.image.AxesImage at 0x29e0323eb80>"
      ]
     },
     "execution_count": 29,
     "metadata": {},
     "output_type": "execute_result"
    },
    {
     "data": {
      "image/png": "[encoded data removed]",
      "text/plain": [
       "<Figure size 432x288 with 1 Axes>"
      ]
     },
     "metadata": {
      "needs_background": "light"
     },
     "output_type": "display_data"
    }
   ],
   "source": [
    "new_model = tf.keras.models.load_model('./../resources/saved_model/my_model')\n",
    "\n",
    "# Check its architecture\n",
    "#new_model.summary()\n",
    "\n",
    "img = convertImg(utils.loadImage(path='./../resources/trainData', name='grmovdvvdo.png', resize=(32,32)))\n",
    "\n",
    "#img = test_images[2]\n",
    "#img = train_images[12]\n",
    "\n",
    "\n",
    "predictions_single = model.predict(img.reshape(-1,32,32,1))[0]\n",
    "print(class_names)\n",
    "print(predictions_single)\n",
    "print(class_names[np.argmax(predictions_single)])\n",
    "#print(class_names[np.where(predictions_single[:-4] == np.amax(predictions_single[:-4]))[0][0]])\n",
    "#print(class_names[np.where(predictions_single[-4:] == np.amax(predictions_single[-4:]))[0][0] + len(class_names) - 4])\n",
    "\n",
    "plt.imshow(img, cmap='gray')"
   ]
  },
  {
   "cell_type": "code",
   "execution_count": 21,
   "metadata": {},
   "outputs": [
    {
     "data": {
      "image/png": "[encoded data removed]",
      "text/plain": [
       "<Figure size 720x720 with 6 Axes>"
      ]
     },
     "metadata": {},
     "output_type": "display_data"
    }
   ],
   "source": [
    "plt.figure(figsize=(10,10))\n",
    "for i in range(6):\n",
    "    plt.subplot(5,5,i+1)\n",
    "    plt.xticks([])\n",
    "    plt.yticks([])\n",
    "    plt.grid(False)\n",
    "    plt.imshow(train_images[i], cmap='gray')\n",
    "\n",
    "    predictions_single = model.predict(train_images[i].reshape(-1,32,32,1))[0]\n",
    "    # The CIFAR labels happen to be arrays, \n",
    "    # which is why you need the extra index\n",
    "    plt.xlabel(class_names[np.argmax(predictions_single)])\n",
    "    #plt.xlabel(class_names[np.where(predictions_single[:-4] == np.amax(predictions_single[:-4]))[0][0]])\n",
    "plt.show()"
   ]
  },
  {
   "cell_type": "code",
   "execution_count": 22,
   "metadata": {},
   "outputs": [
    {
     "name": "stdout",
     "output_type": "stream",
     "text": [
      "2/2 [==============================] - 0s 13ms/step - loss: 9.0186e-04 - binary_accuracy: 1.0000\n",
      "[[0 0 0 1 0]\n",
      " [0 1 0 0 0]\n",
      " [0 0 0 0 1]\n",
      " [1 0 0 0 0]\n",
      " [1 0 0 0 0]\n",
      " [0 0 0 0 1]\n",
      " [1 0 0 0 0]\n",
      " [0 1 0 0 0]\n",
      " [1 0 0 0 0]\n",
      " [0 0 0 1 0]\n",
      " [0 1 0 0 0]\n",
      " [0 1 0 0 0]\n",
      " [1 0 0 0 0]\n",
      " [0 1 0 0 0]\n",
      " [1 0 0 0 0]\n",
      " [0 0 0 1 0]\n",
      " [0 0 0 1 0]\n",
      " [0 1 0 0 0]\n",
      " [0 0 1 0 0]\n",
      " [0 0 0 0 1]\n",
      " [0 1 0 0 0]\n",
      " [0 1 0 0 0]\n",
      " [0 0 0 1 0]\n",
      " [0 0 1 0 0]\n",
      " [0 0 0 1 0]\n",
      " [0 0 0 1 0]\n",
      " [1 0 0 0 0]\n",
      " [0 0 0 1 0]\n",
      " [1 0 0 0 0]\n",
      " [0 1 0 0 0]\n",
      " [0 1 0 0 0]\n",
      " [0 0 1 0 0]\n",
      " [0 0 1 0 0]\n",
      " [0 0 0 1 0]\n",
      " [0 1 0 0 0]]\n",
      "1.0\n",
      "0.0009018630953505635\n"
     ]
    },
    {
     "data": {
      "image/png": "[encoded data removed]",
      "text/plain": [
       "<Figure size 432x288 with 1 Axes>"
      ]
     },
     "metadata": {
      "needs_background": "light"
     },
     "output_type": "display_data"
    }
   ],
   "source": [
    "plt.plot(history.history['val_binary_accuracy'], label='val_accuracy')\n",
    "plt.plot(history.history['binary_accuracy'], label = 'accuracy')\n",
    "plt.xlabel('Epoch')\n",
    "plt.ylabel('Accuracy')\n",
    "plt.ylim([0, 1])\n",
    "plt.legend(loc='lower right')\n",
    "\n",
    "test_loss, test_acc = model.evaluate(test_images,  test_labels, verbose=1)\n",
    "#test_loss, test_acc = model.evaluate(train_images,  train_labels, verbose=1)\n",
    "print(test_labels)\n",
    "print(test_acc)\n",
    "print(test_loss)"
   ]
  }
 ],
 "metadata": {
  "interpreter": {
   "hash": "6c255580c1376a53e8d62a65f4b290fc9e06ee65b5dbb546bacb4a0a6e644e58"
  },
  "kernelspec": {
   "display_name": "Python 3.9.9 64-bit (windows store)",
   "name": "python3"
  },
  "language_info": {
   "codemirror_mode": {
    "name": "ipython",
    "version": 3
   },
   "file_extension": ".py",
   "mimetype": "text/x-python",
   "name": "python",
   "nbconvert_exporter": "python",
   "pygments_lexer": "ipython3",
   "version": "3.9.7"
  },
  "orig_nbformat": 4
 },
 "nbformat": 4,
 "nbformat_minor": 2
}
