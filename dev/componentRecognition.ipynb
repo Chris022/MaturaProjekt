{
 "cells": [
  {
   "cell_type": "code",
   "execution_count": 32,
   "metadata": {},
   "outputs": [],
   "source": [
    "import sys\n",
    "sys.path.append('../')\n",
    "\n",
    "import tensorflow as tf\n",
    "\n",
    "from tensorflow.keras import layers, models\n",
    "import numpy as np\n",
    "import matplotlib.pyplot as plt\n",
    "import lib.utils as utils\n",
    "import os\n",
    "import cv2\n",
    "import random"
   ]
  },
  {
   "cell_type": "code",
   "execution_count": 33,
   "metadata": {},
   "outputs": [],
   "source": [
    "def convertImg(image, size=(32,32)):\n",
    "    image = cv2.resize(image, size, interpolation=cv2.INTER_AREA)\n",
    "    converted = np.zeros(shape=(size[0], size[1], 1))\n",
    "    for y in range(0, len(image)):\n",
    "        for x in range(0, len(image[y])):\n",
    "            converted[y][x][0] = image[y][x]\n",
    "\n",
    "    converted = converted/255\n",
    "    return converted"
   ]
  },
  {
   "cell_type": "code",
   "execution_count": 34,
   "metadata": {},
   "outputs": [
    {
     "name": "stdout",
     "output_type": "stream",
     "text": [
      "['capacitor', 'ground', 'inductor', 'resistor', 'voltage']\n",
      "['capacitor', 'ground', 'inductor', 'resistor', 'voltage']\n",
      "220\n",
      "92\n"
     ]
    }
   ],
   "source": [
    "# trainImages / Images\n",
    "ratio = 0.7\n",
    "train_data = []\n",
    "test_data = []\n",
    "\n",
    "class_names = os.listdir('./../resources/trainData_new')\n",
    "print(class_names)\n",
    "\n",
    "for class_name in class_names:\n",
    "    data = os.listdir('./../resources/trainData_new/{class_name}'.format(class_name=class_name))\n",
    "    for i in range(0, len(data)):\n",
    "        image = convertImg(utils.loadImage(path='./../resources/trainData_new/{class_name}'.format(class_name=class_name), name=data[i], resize=(32,32)))\n",
    "        #image = convertImg(utils.loadImage(path='./trainData/{class_name}'.format(class_name=class_name), name=data[i], resize=(32,32)))\n",
    "\n",
    "        label = [0 for i in range(0,len(class_names))]# + 4)]\n",
    "        #if 'u' in data[i]: label[len(label)-4] = 1\n",
    "        #if 'd' in data[i]: label[len(label)-3] = 1\n",
    "        #if 'l' in data[i]: label[len(label)-2] = 1\n",
    "        #if 'r' in data[i]: label[len(label)-1] = 1\n",
    "        label[class_names.index(class_name)] = 1\n",
    "\n",
    "        if(i/len(data) < ratio):\n",
    "            train_data.append((image,label))\n",
    "        else:\n",
    "            test_data.append((image,label))\n",
    "\n",
    "#class_names += ['up', 'down', 'left', 'right']\n",
    "print(class_names)\n",
    "\n",
    "random.shuffle(train_data)\n",
    "random.shuffle(test_data)\n",
    "\n",
    "train_images = []\n",
    "train_labels = []\n",
    "test_images = []\n",
    "test_labels = []\n",
    "\n",
    "for data in train_data:\n",
    "    train_images.append(data[0])\n",
    "    train_labels.append(data[1])\n",
    "\n",
    "for data in test_data:\n",
    "    test_images.append(data[0])\n",
    "    test_labels.append(data[1])\n",
    "\n",
    "\n",
    "train_images = np.asarray(train_images)\n",
    "train_labels = np.asarray(train_labels)\n",
    "test_images = np.asarray(test_images)\n",
    "test_labels = np.asarray(test_labels)\n",
    "\n",
    "print(len(train_images))\n",
    "print(len(test_images))"
   ]
  },
  {
   "cell_type": "code",
   "execution_count": 35,
   "metadata": {},
   "outputs": [
    {
     "data": {
      "image/png": "[encoded data removed]",
      "text/plain": [
       "<Figure size 720x720 with 6 Axes>"
      ]
     },
     "metadata": {},
     "output_type": "display_data"
    }
   ],
   "source": [
    "plt.figure(figsize=(10,10))\n",
    "for i in range(6):\n",
    "    plt.subplot(5,5,i+1)\n",
    "    plt.xticks([])\n",
    "    plt.yticks([])\n",
    "    plt.grid(False)\n",
    "    plt.imshow(train_images[i], cmap='gray')\n",
    "    # The CIFAR labels happen to be arrays, \n",
    "    # which is why you need the extra index\n",
    "    #plt.xlabel(class_names[train_labels[i][0]])\n",
    "plt.show()"
   ]
  },
  {
   "cell_type": "code",
   "execution_count": 36,
   "metadata": {},
   "outputs": [
    {
     "name": "stdout",
     "output_type": "stream",
     "text": [
      "Model: \"sequential_1\"\n",
      "_________________________________________________________________\n",
      "Layer (type)                 Output Shape              Param #   \n",
      "=================================================================\n",
      "conv2d_3 (Conv2D)            (None, 30, 30, 128)       1280      \n",
      "_________________________________________________________________\n",
      "max_pooling2d_2 (MaxPooling2 (None, 15, 15, 128)       0         \n",
      "_________________________________________________________________\n",
      "conv2d_4 (Conv2D)            (None, 13, 13, 256)       295168    \n",
      "_________________________________________________________________\n",
      "conv2d_5 (Conv2D)            (None, 11, 11, 512)       1180160   \n",
      "_________________________________________________________________\n",
      "max_pooling2d_3 (MaxPooling2 (None, 5, 5, 512)         0         \n",
      "_________________________________________________________________\n",
      "conv2d_6 (Conv2D)            (None, 3, 3, 1024)        4719616   \n",
      "_________________________________________________________________\n",
      "flatten_1 (Flatten)          (None, 9216)              0         \n",
      "_________________________________________________________________\n",
      "dense_3 (Dense)              (None, 256)               2359552   \n",
      "_________________________________________________________________\n",
      "dense_4 (Dense)              (None, 128)               32896     \n",
      "_________________________________________________________________\n",
      "dense_5 (Dense)              (None, 5)                 645       \n",
      "=================================================================\n",
      "Total params: 8,589,317\n",
      "Trainable params: 8,589,317\n",
      "Non-trainable params: 0\n",
      "_________________________________________________________________\n"
     ]
    }
   ],
   "source": [
    "model = models.Sequential()\n",
    "model.add(layers.Conv2D(128, (3, 3), activation='relu', input_shape=(32, 32, 1)))\n",
    "model.add(layers.MaxPooling2D((2, 2)))\n",
    "model.add(layers.Conv2D(256, (3, 3), activation='relu'))\n",
    "model.add(layers.Conv2D(512, (3, 3), activation='relu'))\n",
    "model.add(layers.MaxPooling2D((2, 2)))\n",
    "model.add(layers.Conv2D(1024, (3, 3), activation='relu'))\n",
    "\n",
    "model.add(layers.Flatten())\n",
    "model.add(layers.Dense(256, activation='relu'))\n",
    "model.add(layers.Dense(128, activation='relu'))\n",
    "#model.add(layers.Dense(len(class_names)))\n",
    "model.add(layers.Dense(len(class_names), activation='softmax'))\n",
    "\n",
    "model.summary()"
   ]
  },
  {
   "cell_type": "code",
   "execution_count": 37,
   "metadata": {},
   "outputs": [
    {
     "name": "stdout",
     "output_type": "stream",
     "text": [
      "Epoch 1/20\n",
      "7/7 [==============================] - 6s 763ms/step - loss: 0.6487 - binary_accuracy: 0.7882 - val_loss: 0.6033 - val_binary_accuracy: 0.8000\n",
      "Epoch 2/20\n",
      "7/7 [==============================] - 6s 821ms/step - loss: 0.5138 - binary_accuracy: 0.7809 - val_loss: 0.4545 - val_binary_accuracy: 0.7543\n",
      "Epoch 3/20\n",
      "7/7 [==============================] - 7s 955ms/step - loss: 0.4325 - binary_accuracy: 0.8127 - val_loss: 0.3384 - val_binary_accuracy: 0.8783\n",
      "Epoch 4/20\n",
      "7/7 [==============================] - 5s 782ms/step - loss: 0.2492 - binary_accuracy: 0.9209 - val_loss: 0.1897 - val_binary_accuracy: 0.9391\n",
      "Epoch 5/20\n",
      "7/7 [==============================] - 5s 785ms/step - loss: 0.1144 - binary_accuracy: 0.9591 - val_loss: 0.0877 - val_binary_accuracy: 0.9826\n",
      "Epoch 6/20\n",
      "7/7 [==============================] - 5s 772ms/step - loss: 0.0536 - binary_accuracy: 0.9827 - val_loss: 0.1039 - val_binary_accuracy: 0.9478\n",
      "Epoch 7/20\n",
      "7/7 [==============================] - 5s 763ms/step - loss: 0.0677 - binary_accuracy: 0.9891 - val_loss: 0.0514 - val_binary_accuracy: 0.9870\n",
      "Epoch 8/20\n",
      "7/7 [==============================] - 5s 769ms/step - loss: 0.0164 - binary_accuracy: 0.9964 - val_loss: 0.0136 - val_binary_accuracy: 1.0000\n",
      "Epoch 9/20\n",
      "7/7 [==============================] - 5s 770ms/step - loss: 0.0066 - binary_accuracy: 1.0000 - val_loss: 0.0119 - val_binary_accuracy: 1.0000\n",
      "Epoch 10/20\n",
      "7/7 [==============================] - 5s 786ms/step - loss: 0.0069 - binary_accuracy: 0.9982 - val_loss: 0.0141 - val_binary_accuracy: 1.0000\n",
      "Epoch 11/20\n",
      "7/7 [==============================] - 5s 770ms/step - loss: 0.0055 - binary_accuracy: 1.0000 - val_loss: 0.2109 - val_binary_accuracy: 0.9391\n",
      "Epoch 12/20\n",
      "7/7 [==============================] - 5s 763ms/step - loss: 0.0112 - binary_accuracy: 0.9964 - val_loss: 0.0522 - val_binary_accuracy: 0.9652\n",
      "Epoch 13/20\n",
      "7/7 [==============================] - 5s 768ms/step - loss: 1.5057e-04 - binary_accuracy: 1.0000 - val_loss: 0.0269 - val_binary_accuracy: 0.9913\n",
      "Epoch 14/20\n",
      "7/7 [==============================] - 6s 829ms/step - loss: 9.2213e-05 - binary_accuracy: 1.0000 - val_loss: 0.0195 - val_binary_accuracy: 1.0000\n",
      "Epoch 15/20\n",
      "7/7 [==============================] - 7s 950ms/step - loss: 8.8885e-05 - binary_accuracy: 1.0000 - val_loss: 0.0155 - val_binary_accuracy: 1.0000\n",
      "Epoch 16/20\n",
      "7/7 [==============================] - 6s 870ms/step - loss: 6.4251e-05 - binary_accuracy: 1.0000 - val_loss: 0.0130 - val_binary_accuracy: 1.0000\n",
      "Epoch 17/20\n",
      "7/7 [==============================] - 6s 934ms/step - loss: 4.5523e-05 - binary_accuracy: 1.0000 - val_loss: 0.0116 - val_binary_accuracy: 1.0000\n",
      "Epoch 18/20\n",
      "7/7 [==============================] - 6s 822ms/step - loss: 3.6321e-05 - binary_accuracy: 1.0000 - val_loss: 0.0106 - val_binary_accuracy: 1.0000\n",
      "Epoch 19/20\n",
      "7/7 [==============================] - 6s 816ms/step - loss: 2.9932e-05 - binary_accuracy: 1.0000 - val_loss: 0.0101 - val_binary_accuracy: 1.0000\n",
      "Epoch 20/20\n",
      "7/7 [==============================] - 6s 850ms/step - loss: 2.4650e-05 - binary_accuracy: 1.0000 - val_loss: 0.0098 - val_binary_accuracy: 1.0000\n"
     ]
    }
   ],
   "source": [
    "#model.compile(optimizer='adam',\n",
    "#              loss=tf.keras.losses.SparseCategoricalCrossentropy(from_logits=True),\n",
    "#              metrics=['accuracy'])\n",
    "\n",
    "\n",
    "model.compile(optimizer='adam',\n",
    "              loss=tf.keras.losses.BinaryCrossentropy(),\n",
    "              metrics=[tf.keras.metrics.BinaryAccuracy()])\n",
    "              \n",
    "\n",
    "#history = model.fit(train_images, train_labels, epochs=10, \n",
    "#                    validation_data=(test_images, test_labels))\n",
    "\n",
    "history = model.fit(train_images, train_labels, epochs=20, \n",
    "                    validation_data=(test_images, test_labels))\n"
   ]
  },
  {
   "cell_type": "code",
   "execution_count": 38,
   "metadata": {},
   "outputs": [
    {
     "name": "stdout",
     "output_type": "stream",
     "text": [
      "INFO:tensorflow:Assets written to: ./../resources/saved_model/my_model\\assets\n"
     ]
    }
   ],
   "source": [
    "model.save('./../resources/saved_model/my_model')"
   ]
  },
  {
   "cell_type": "code",
   "execution_count": 39,
   "metadata": {},
   "outputs": [],
   "source": [
    "#boxes = [[[45,118],[80,184]],[[250,115],[300,141]]]\n",
    "#image = utils.loadImage(\"../src/testImages\", \"1.png\")\n",
    "\n",
    "def classify(boxes, image):\n",
    "    \n",
    "    model = tf.keras.models.load_model('./../resources/saved_model/my_model')\n",
    "\n",
    "    components = []\n",
    "    for box in boxes:\n",
    "        component = image[box[0][1]:box[1][1], box[0][0]:box[1][0]]\n",
    "        components.append(convertImg(component).reshape(-1,32,32,1))\n",
    "\n",
    "    modelPredictions = model.predict(np.vstack(components))\n",
    "\n",
    "    predictions = []\n",
    "\n",
    "    for prediction in modelPredictions:\n",
    "        print(prediction)\n",
    "        predictions.append(class_names[np.argmax(predictions_single)])\n",
    "        #predictions.append([class_names[np.argmax(prediction[:-4])],class_names[-4:][np.argmax(prediction[-4:])]])\n",
    "\n",
    "        #predictions.append(class_names[np.argmax(prediction)])\n",
    "\n",
    "    return predictions"
   ]
  },
  {
   "cell_type": "code",
   "execution_count": 40,
   "metadata": {},
   "outputs": [],
   "source": [
    "model = tf.keras.models.load_model('./../resources/saved_model/my_model')"
   ]
  },
  {
   "cell_type": "code",
   "execution_count": 41,
   "metadata": {},
   "outputs": [
    {
     "name": "stdout",
     "output_type": "stream",
     "text": [
      "['capacitor', 'ground', 'inductor', 'resistor', 'voltage']\n",
      "[1.3936667e-18 2.1133357e-16 1.0000000e+00 1.3062073e-23 5.6967515e-20]\n",
      "inductor\n"
     ]
    },
    {
     "data": {
      "text/plain": [
       "<matplotlib.image.AxesImage at 0x224c71c0dc0>"
      ]
     },
     "execution_count": 41,
     "metadata": {},
     "output_type": "execute_result"
    },
    {
     "data": {
      "image/png": "[encoded data removed]",
      "text/plain": [
       "<Figure size 432x288 with 1 Axes>"
      ]
     },
     "metadata": {
      "needs_background": "light"
     },
     "output_type": "display_data"
    }
   ],
   "source": [
    "\n",
    "# Check its architecture\n",
    "#new_model.summary()\n",
    "\n",
    "#img = convertImg(utils.loadImage(path='./../resources/trainData', name='3.png', resize=(32,32)))\n",
    "\n",
    "img = test_images[0]\n",
    "#img = train_images[12]\n",
    "\n",
    "\n",
    "predictions_single = model.predict(img.reshape(-1,32,32,1))[0]\n",
    "print(class_names)\n",
    "print(predictions_single)\n",
    "print(class_names[np.argmax(predictions_single)])\n",
    "#print(class_names[np.where(predictions_single[:-4] == np.amax(predictions_single[:-4]))[0][0]])\n",
    "#print(class_names[np.where(predictions_single[-4:] == np.amax(predictions_single[-4:]))[0][0] + len(class_names) - 4])\n",
    "\n",
    "plt.imshow(img, cmap='gray')"
   ]
  },
  {
   "cell_type": "code",
   "execution_count": 42,
   "metadata": {},
   "outputs": [
    {
     "data": {
      "image/png": "[encoded data removed]",
      "text/plain": [
       "<Figure size 720x720 with 6 Axes>"
      ]
     },
     "metadata": {},
     "output_type": "display_data"
    }
   ],
   "source": [
    "plt.figure(figsize=(10,10))\n",
    "for i in range(6):\n",
    "    plt.subplot(5,5,i+1)\n",
    "    plt.xticks([])\n",
    "    plt.yticks([])\n",
    "    plt.grid(False)\n",
    "    plt.imshow(test_images[i], cmap='gray')\n",
    "\n",
    "    predictions_single = model.predict(test_images[i].reshape(-1,32,32,1))[0]\n",
    "    # The CIFAR labels happen to be arrays, \n",
    "    # which is why you need the extra index\n",
    "    plt.xlabel(class_names[np.argmax(predictions_single)])\n",
    "    #plt.xlabel(class_names[np.where(predictions_single[:-4] == np.amax(predictions_single[:-4]))[0][0]])\n",
    "plt.show()"
   ]
  },
  {
   "cell_type": "code",
   "execution_count": 43,
   "metadata": {},
   "outputs": [
    {
     "name": "stdout",
     "output_type": "stream",
     "text": [
      "3/3 [==============================] - 0s 94ms/step - loss: 0.0098 - binary_accuracy: 1.0000\n",
      "[[0 0 1 0 0]\n",
      " [0 0 0 0 1]\n",
      " [0 0 0 1 0]\n",
      " [0 1 0 0 0]\n",
      " [0 0 0 1 0]\n",
      " [1 0 0 0 0]\n",
      " [1 0 0 0 0]\n",
      " [0 1 0 0 0]\n",
      " [0 0 0 1 0]\n",
      " [1 0 0 0 0]\n",
      " [0 1 0 0 0]\n",
      " [1 0 0 0 0]\n",
      " [0 0 0 1 0]\n",
      " [0 0 1 0 0]\n",
      " [1 0 0 0 0]\n",
      " [0 0 0 1 0]\n",
      " [0 0 0 1 0]\n",
      " [0 1 0 0 0]\n",
      " [1 0 0 0 0]\n",
      " [0 0 0 1 0]\n",
      " [1 0 0 0 0]\n",
      " [0 0 0 1 0]\n",
      " [0 0 0 1 0]\n",
      " [0 1 0 0 0]\n",
      " [0 1 0 0 0]\n",
      " [0 0 0 1 0]\n",
      " [1 0 0 0 0]\n",
      " [1 0 0 0 0]\n",
      " [0 1 0 0 0]\n",
      " [1 0 0 0 0]\n",
      " [1 0 0 0 0]\n",
      " [0 1 0 0 0]\n",
      " [1 0 0 0 0]\n",
      " [0 0 1 0 0]\n",
      " [0 0 1 0 0]\n",
      " [0 0 1 0 0]\n",
      " [0 1 0 0 0]\n",
      " [0 0 0 1 0]\n",
      " [0 0 0 1 0]\n",
      " [0 0 0 1 0]\n",
      " [0 1 0 0 0]\n",
      " [0 0 0 1 0]\n",
      " [0 0 0 1 0]\n",
      " [1 0 0 0 0]\n",
      " [0 1 0 0 0]\n",
      " [0 1 0 0 0]\n",
      " [0 0 0 1 0]\n",
      " [0 0 0 1 0]\n",
      " [1 0 0 0 0]\n",
      " [0 1 0 0 0]\n",
      " [0 0 0 1 0]\n",
      " [0 0 1 0 0]\n",
      " [0 1 0 0 0]\n",
      " [1 0 0 0 0]\n",
      " [0 0 0 1 0]\n",
      " [0 0 0 0 1]\n",
      " [1 0 0 0 0]\n",
      " [0 0 0 0 1]\n",
      " [1 0 0 0 0]\n",
      " [0 0 0 1 0]\n",
      " [1 0 0 0 0]\n",
      " [0 0 1 0 0]\n",
      " [0 0 0 1 0]\n",
      " [0 0 1 0 0]\n",
      " [0 1 0 0 0]\n",
      " [1 0 0 0 0]\n",
      " [0 1 0 0 0]\n",
      " [0 0 0 0 1]\n",
      " [0 1 0 0 0]\n",
      " [1 0 0 0 0]\n",
      " [1 0 0 0 0]\n",
      " [0 0 0 1 0]\n",
      " [0 1 0 0 0]\n",
      " [0 1 0 0 0]\n",
      " [0 0 0 1 0]\n",
      " [0 1 0 0 0]\n",
      " [0 0 0 1 0]\n",
      " [0 0 0 1 0]\n",
      " [0 0 0 1 0]\n",
      " [1 0 0 0 0]\n",
      " [0 0 0 0 1]\n",
      " [1 0 0 0 0]\n",
      " [0 0 0 0 1]\n",
      " [0 0 1 0 0]\n",
      " [0 0 0 1 0]\n",
      " [0 1 0 0 0]\n",
      " [0 0 0 1 0]\n",
      " [1 0 0 0 0]\n",
      " [0 0 0 1 0]\n",
      " [0 0 0 1 0]\n",
      " [0 0 0 0 1]\n",
      " [0 0 0 1 0]]\n",
      "1.0\n",
      "0.009786044247448444\n"
     ]
    },
    {
     "data": {
      "image/png": "[encoded data removed]",
      "text/plain": [
       "<Figure size 432x288 with 1 Axes>"
      ]
     },
     "metadata": {
      "needs_background": "light"
     },
     "output_type": "display_data"
    }
   ],
   "source": [
    "plt.plot(history.history['val_binary_accuracy'], label='val_accuracy')\n",
    "plt.plot(history.history['binary_accuracy'], label = 'accuracy')\n",
    "plt.xlabel('Epoch')\n",
    "plt.ylabel('Accuracy')\n",
    "plt.ylim([0, 1])\n",
    "plt.legend(loc='lower right')\n",
    "\n",
    "test_loss, test_acc = model.evaluate(test_images,  test_labels, verbose=1)\n",
    "#test_loss, test_acc = model.evaluate(train_images,  train_labels, verbose=1)\n",
    "print(test_labels)\n",
    "print(test_acc)\n",
    "print(test_loss)"
   ]
  }
 ],
 "metadata": {
  "interpreter": {
   "hash": "6c255580c1376a53e8d62a65f4b290fc9e06ee65b5dbb546bacb4a0a6e644e58"
  },
  "kernelspec": {
   "display_name": "Python 3.9.9 64-bit (windows store)",
   "name": "python3"
  },
  "language_info": {
   "codemirror_mode": {
    "name": "ipython",
    "version": 3
   },
   "file_extension": ".py",
   "mimetype": "text/x-python",
   "name": "python",
   "nbconvert_exporter": "python",
   "pygments_lexer": "ipython3",
   "version": "3.9.7"
  },
  "orig_nbformat": 4
 },
 "nbformat": 4,
 "nbformat_minor": 2
}
