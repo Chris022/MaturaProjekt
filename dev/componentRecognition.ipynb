{
 "cells": [
  {
   "cell_type": "code",
   "execution_count": 20,
   "metadata": {},
   "outputs": [],
   "source": [
    "import tensorflow as tf\n",
    "\n",
    "from tensorflow.keras import layers, models\n",
    "import numpy as np\n",
    "import matplotlib.pyplot as plt\n",
    "import utils\n",
    "import os\n",
    "import cv2\n",
    "import random"
   ]
  },
  {
   "cell_type": "code",
   "execution_count": 21,
   "metadata": {},
   "outputs": [],
   "source": [
    "def convertImg(image, size=(32,32)):\n",
    "    image = cv2.resize(image, size, interpolation=cv2.INTER_AREA)\n",
    "    converted = np.zeros(shape=(size[0], size[1], 1))\n",
    "    for y in range(0, len(image)):\n",
    "        for x in range(0, len(image[y])):\n",
    "            converted[y][x][0] = image[y][x]\n",
    "\n",
    "    converted = converted/255\n",
    "    return converted"
   ]
  },
  {
   "cell_type": "code",
   "execution_count": 22,
   "metadata": {},
   "outputs": [
    {
     "name": "stdout",
     "output_type": "stream",
     "text": [
      "['capacitor', 'ground', 'inductor', 'resistor']\n"
     ]
    }
   ],
   "source": [
    "# trainImages / Images\n",
    "ratio = 0.8\n",
    "train_data = []\n",
    "test_data = []\n",
    "\n",
    "class_names = os.listdir('./trainData')\n",
    "print(class_names)\n",
    "\n",
    "for class_name in class_names:\n",
    "    data = os.listdir('./trainData/{class_name}'.format(class_name=class_name))\n",
    "    for i in range(0, len(data)):\n",
    "        image = convertImg(utils.loadImage(path='./trainData/{class_name}'.format(class_name=class_name), name=data[i], resize=(32,32)))\n",
    "        if(i/len(data) < ratio):\n",
    "            train_data.append((image,class_names.index(class_name)))\n",
    "        else:\n",
    "            test_data.append((image,class_names.index(class_name)))\n",
    "\n",
    "random.shuffle(train_data)\n",
    "random.shuffle(test_data)\n",
    "\n",
    "train_images = []\n",
    "train_labels = []\n",
    "test_images = []\n",
    "test_labels = []\n",
    "\n",
    "for data in train_data:\n",
    "    train_images.append(data[0])\n",
    "    train_labels.append([data[1]])\n",
    "\n",
    "for data in test_data:\n",
    "    test_images.append(data[0])\n",
    "    test_labels.append([data[1]])\n",
    "\n",
    "train_images = np.asarray(train_images)\n",
    "train_labels = np.asarray(train_labels)\n",
    "test_images = np.asarray(test_images)\n",
    "test_labels = np.asarray(test_labels)"
   ]
  },
  {
   "cell_type": "code",
   "execution_count": 23,
   "metadata": {},
   "outputs": [
    {
     "data": {
      "image/png": "[encoded data removed]",
      "text/plain": [
       "<Figure size 720x720 with 3 Axes>"
      ]
     },
     "metadata": {},
     "output_type": "display_data"
    }
   ],
   "source": [
    "plt.figure(figsize=(10,10))\n",
    "for i in range(3):\n",
    "    plt.subplot(5,5,i+1)\n",
    "    plt.xticks([])\n",
    "    plt.yticks([])\n",
    "    plt.grid(False)\n",
    "    plt.imshow(train_images[i], cmap='gray')\n",
    "    # The CIFAR labels happen to be arrays, \n",
    "    # which is why you need the extra index\n",
    "    plt.xlabel(class_names[train_labels[i][0]])\n",
    "plt.show()"
   ]
  },
  {
   "cell_type": "code",
   "execution_count": 24,
   "metadata": {},
   "outputs": [
    {
     "name": "stdout",
     "output_type": "stream",
     "text": [
      "Model: \"sequential_2\"\n",
      "_________________________________________________________________\n",
      "Layer (type)                 Output Shape              Param #   \n",
      "=================================================================\n",
      "conv2d_6 (Conv2D)            (None, 30, 30, 32)        320       \n",
      "_________________________________________________________________\n",
      "max_pooling2d_4 (MaxPooling2 (None, 15, 15, 32)        0         \n",
      "_________________________________________________________________\n",
      "conv2d_7 (Conv2D)            (None, 13, 13, 64)        18496     \n",
      "_________________________________________________________________\n",
      "max_pooling2d_5 (MaxPooling2 (None, 6, 6, 64)          0         \n",
      "_________________________________________________________________\n",
      "conv2d_8 (Conv2D)            (None, 4, 4, 64)          36928     \n",
      "_________________________________________________________________\n",
      "flatten_2 (Flatten)          (None, 1024)              0         \n",
      "_________________________________________________________________\n",
      "dense_4 (Dense)              (None, 64)                65600     \n",
      "_________________________________________________________________\n",
      "dense_5 (Dense)              (None, 4)                 260       \n",
      "=================================================================\n",
      "Total params: 121,604\n",
      "Trainable params: 121,604\n",
      "Non-trainable params: 0\n",
      "_________________________________________________________________\n"
     ]
    }
   ],
   "source": [
    "model = models.Sequential()\n",
    "model.add(layers.Conv2D(32, (3, 3), activation='relu', input_shape=(32, 32, 1)))\n",
    "model.add(layers.MaxPooling2D((2, 2)))\n",
    "model.add(layers.Conv2D(64, (3, 3), activation='relu'))\n",
    "model.add(layers.MaxPooling2D((2, 2)))\n",
    "model.add(layers.Conv2D(64, (3, 3), activation='relu'))\n",
    "\n",
    "model.add(layers.Flatten())\n",
    "model.add(layers.Dense(64, activation='relu'))\n",
    "model.add(layers.Dense(len(class_names)))\n",
    "\n",
    "model.summary()"
   ]
  },
  {
   "cell_type": "code",
   "execution_count": 25,
   "metadata": {},
   "outputs": [
    {
     "name": "stdout",
     "output_type": "stream",
     "text": [
      "Epoch 1/50\n",
      "1/1 [==============================] - 0s 482ms/step - loss: 1.4162 - accuracy: 0.2143 - val_loss: 1.3278 - val_accuracy: 0.5000\n",
      "Epoch 2/50\n",
      "1/1 [==============================] - 0s 31ms/step - loss: 1.3278 - accuracy: 0.5000 - val_loss: 1.2557 - val_accuracy: 0.5000\n",
      "Epoch 3/50\n",
      "1/1 [==============================] - 0s 33ms/step - loss: 1.2557 - accuracy: 0.5000 - val_loss: 1.1832 - val_accuracy: 0.5000\n",
      "Epoch 4/50\n",
      "1/1 [==============================] - 0s 34ms/step - loss: 1.1832 - accuracy: 0.5000 - val_loss: 1.1006 - val_accuracy: 0.5000\n",
      "Epoch 5/50\n",
      "1/1 [==============================] - 0s 34ms/step - loss: 1.1006 - accuracy: 0.5000 - val_loss: 1.0172 - val_accuracy: 0.5714\n",
      "Epoch 6/50\n",
      "1/1 [==============================] - 0s 30ms/step - loss: 1.0172 - accuracy: 0.5714 - val_loss: 0.9257 - val_accuracy: 0.7857\n",
      "Epoch 7/50\n",
      "1/1 [==============================] - 0s 43ms/step - loss: 0.9257 - accuracy: 0.7857 - val_loss: 0.8387 - val_accuracy: 0.7143\n",
      "Epoch 8/50\n",
      "1/1 [==============================] - 0s 46ms/step - loss: 0.8387 - accuracy: 0.7143 - val_loss: 0.7488 - val_accuracy: 0.7857\n",
      "Epoch 9/50\n",
      "1/1 [==============================] - 0s 46ms/step - loss: 0.7488 - accuracy: 0.7857 - val_loss: 0.6668 - val_accuracy: 0.8571\n",
      "Epoch 10/50\n",
      "1/1 [==============================] - 0s 46ms/step - loss: 0.6668 - accuracy: 0.8571 - val_loss: 0.5963 - val_accuracy: 0.8571\n",
      "Epoch 11/50\n",
      "1/1 [==============================] - 0s 37ms/step - loss: 0.5963 - accuracy: 0.8571 - val_loss: 0.5317 - val_accuracy: 0.8571\n",
      "Epoch 12/50\n",
      "1/1 [==============================] - 0s 41ms/step - loss: 0.5317 - accuracy: 0.8571 - val_loss: 0.4827 - val_accuracy: 0.7857\n",
      "Epoch 13/50\n",
      "1/1 [==============================] - 0s 38ms/step - loss: 0.4827 - accuracy: 0.7857 - val_loss: 0.4315 - val_accuracy: 0.8571\n",
      "Epoch 14/50\n",
      "1/1 [==============================] - 0s 45ms/step - loss: 0.4315 - accuracy: 0.8571 - val_loss: 0.3892 - val_accuracy: 0.8571\n",
      "Epoch 15/50\n",
      "1/1 [==============================] - 0s 44ms/step - loss: 0.3892 - accuracy: 0.8571 - val_loss: 0.3471 - val_accuracy: 0.8571\n",
      "Epoch 16/50\n",
      "1/1 [==============================] - 0s 38ms/step - loss: 0.3471 - accuracy: 0.8571 - val_loss: 0.3088 - val_accuracy: 0.8571\n",
      "Epoch 17/50\n",
      "1/1 [==============================] - 0s 48ms/step - loss: 0.3088 - accuracy: 0.8571 - val_loss: 0.2795 - val_accuracy: 0.8571\n",
      "Epoch 18/50\n",
      "1/1 [==============================] - 0s 40ms/step - loss: 0.2795 - accuracy: 0.8571 - val_loss: 0.2556 - val_accuracy: 0.9286\n",
      "Epoch 19/50\n",
      "1/1 [==============================] - 0s 39ms/step - loss: 0.2556 - accuracy: 0.9286 - val_loss: 0.2369 - val_accuracy: 0.9286\n",
      "Epoch 20/50\n",
      "1/1 [==============================] - 0s 46ms/step - loss: 0.2369 - accuracy: 0.9286 - val_loss: 0.2123 - val_accuracy: 1.0000\n",
      "Epoch 21/50\n",
      "1/1 [==============================] - 0s 36ms/step - loss: 0.2123 - accuracy: 1.0000 - val_loss: 0.1906 - val_accuracy: 1.0000\n",
      "Epoch 22/50\n",
      "1/1 [==============================] - 0s 44ms/step - loss: 0.1906 - accuracy: 1.0000 - val_loss: 0.1702 - val_accuracy: 1.0000\n",
      "Epoch 23/50\n",
      "1/1 [==============================] - 0s 36ms/step - loss: 0.1702 - accuracy: 1.0000 - val_loss: 0.1490 - val_accuracy: 1.0000\n",
      "Epoch 24/50\n",
      "1/1 [==============================] - 0s 43ms/step - loss: 0.1490 - accuracy: 1.0000 - val_loss: 0.1286 - val_accuracy: 1.0000\n",
      "Epoch 25/50\n",
      "1/1 [==============================] - 0s 43ms/step - loss: 0.1286 - accuracy: 1.0000 - val_loss: 0.1089 - val_accuracy: 1.0000\n",
      "Epoch 26/50\n",
      "1/1 [==============================] - 0s 38ms/step - loss: 0.1089 - accuracy: 1.0000 - val_loss: 0.0928 - val_accuracy: 1.0000\n",
      "Epoch 27/50\n",
      "1/1 [==============================] - 0s 43ms/step - loss: 0.0928 - accuracy: 1.0000 - val_loss: 0.0801 - val_accuracy: 1.0000\n",
      "Epoch 28/50\n",
      "1/1 [==============================] - 0s 36ms/step - loss: 0.0801 - accuracy: 1.0000 - val_loss: 0.0665 - val_accuracy: 1.0000\n",
      "Epoch 29/50\n",
      "1/1 [==============================] - 0s 47ms/step - loss: 0.0665 - accuracy: 1.0000 - val_loss: 0.0513 - val_accuracy: 1.0000\n",
      "Epoch 30/50\n",
      "1/1 [==============================] - 0s 36ms/step - loss: 0.0513 - accuracy: 1.0000 - val_loss: 0.0385 - val_accuracy: 1.0000\n",
      "Epoch 31/50\n",
      "1/1 [==============================] - 0s 40ms/step - loss: 0.0385 - accuracy: 1.0000 - val_loss: 0.0291 - val_accuracy: 1.0000\n",
      "Epoch 32/50\n",
      "1/1 [==============================] - 0s 44ms/step - loss: 0.0291 - accuracy: 1.0000 - val_loss: 0.0221 - val_accuracy: 1.0000\n",
      "Epoch 33/50\n",
      "1/1 [==============================] - 0s 37ms/step - loss: 0.0221 - accuracy: 1.0000 - val_loss: 0.0167 - val_accuracy: 1.0000\n",
      "Epoch 34/50\n",
      "1/1 [==============================] - 0s 44ms/step - loss: 0.0167 - accuracy: 1.0000 - val_loss: 0.0128 - val_accuracy: 1.0000\n",
      "Epoch 35/50\n",
      "1/1 [==============================] - 0s 37ms/step - loss: 0.0128 - accuracy: 1.0000 - val_loss: 0.0096 - val_accuracy: 1.0000\n",
      "Epoch 36/50\n",
      "1/1 [==============================] - 0s 44ms/step - loss: 0.0096 - accuracy: 1.0000 - val_loss: 0.0069 - val_accuracy: 1.0000\n",
      "Epoch 37/50\n",
      "1/1 [==============================] - 0s 40ms/step - loss: 0.0069 - accuracy: 1.0000 - val_loss: 0.0050 - val_accuracy: 1.0000\n",
      "Epoch 38/50\n",
      "1/1 [==============================] - 0s 50ms/step - loss: 0.0050 - accuracy: 1.0000 - val_loss: 0.0036 - val_accuracy: 1.0000\n",
      "Epoch 39/50\n",
      "1/1 [==============================] - 0s 35ms/step - loss: 0.0036 - accuracy: 1.0000 - val_loss: 0.0027 - val_accuracy: 1.0000\n",
      "Epoch 40/50\n",
      "1/1 [==============================] - 0s 81ms/step - loss: 0.0027 - accuracy: 1.0000 - val_loss: 0.0021 - val_accuracy: 1.0000\n",
      "Epoch 41/50\n",
      "1/1 [==============================] - 0s 47ms/step - loss: 0.0021 - accuracy: 1.0000 - val_loss: 0.0016 - val_accuracy: 1.0000\n",
      "Epoch 42/50\n",
      "1/1 [==============================] - 0s 36ms/step - loss: 0.0016 - accuracy: 1.0000 - val_loss: 0.0013 - val_accuracy: 1.0000\n",
      "Epoch 43/50\n",
      "1/1 [==============================] - 0s 40ms/step - loss: 0.0013 - accuracy: 1.0000 - val_loss: 0.0011 - val_accuracy: 1.0000\n",
      "Epoch 44/50\n",
      "1/1 [==============================] - 0s 47ms/step - loss: 0.0011 - accuracy: 1.0000 - val_loss: 9.2201e-04 - val_accuracy: 1.0000\n",
      "Epoch 45/50\n",
      "1/1 [==============================] - 0s 47ms/step - loss: 9.2201e-04 - accuracy: 1.0000 - val_loss: 7.8781e-04 - val_accuracy: 1.0000\n",
      "Epoch 46/50\n",
      "1/1 [==============================] - 0s 37ms/step - loss: 7.8781e-04 - accuracy: 1.0000 - val_loss: 6.7886e-04 - val_accuracy: 1.0000\n",
      "Epoch 47/50\n",
      "1/1 [==============================] - 0s 41ms/step - loss: 6.7886e-04 - accuracy: 1.0000 - val_loss: 5.8848e-04 - val_accuracy: 1.0000\n",
      "Epoch 48/50\n",
      "1/1 [==============================] - 0s 46ms/step - loss: 5.8848e-04 - accuracy: 1.0000 - val_loss: 5.1252e-04 - val_accuracy: 1.0000\n",
      "Epoch 49/50\n",
      "1/1 [==============================] - 0s 38ms/step - loss: 5.1252e-04 - accuracy: 1.0000 - val_loss: 4.4822e-04 - val_accuracy: 1.0000\n",
      "Epoch 50/50\n",
      "1/1 [==============================] - 0s 42ms/step - loss: 4.4822e-04 - accuracy: 1.0000 - val_loss: 3.9354e-04 - val_accuracy: 1.0000\n"
     ]
    }
   ],
   "source": [
    "model.compile(optimizer='adam',\n",
    "              loss=tf.keras.losses.SparseCategoricalCrossentropy(from_logits=True),\n",
    "              metrics=['accuracy'])\n",
    "              \n",
    "\n",
    "#history = model.fit(train_images, train_labels, epochs=10, \n",
    "#                    validation_data=(test_images, test_labels))\n",
    "\n",
    "history = model.fit(train_images, train_labels, epochs=150, \n",
    "                    validation_data=(train_images, train_labels))\n"
   ]
  },
  {
   "cell_type": "code",
   "execution_count": 26,
   "metadata": {},
   "outputs": [
    {
     "name": "stdout",
     "output_type": "stream",
     "text": [
      "INFO:tensorflow:Assets written to: saved_model/my_model\\assets\n",
      "INFO:tensorflow:Assets written to: ../src/saved_model/my_model\\assets\n"
     ]
    }
   ],
   "source": [
    "model.save('saved_model/my_model')\n",
    "model.save('../src/saved_model/my_model')"
   ]
  },
  {
   "cell_type": "code",
   "execution_count": 27,
   "metadata": {},
   "outputs": [],
   "source": [
    "#boxes = [[[100,100],[120,120]],[[140,100],[180,120]]]\n",
    "#image = utils.loadImage(\"../src/testImages\", \"1.png\")\n",
    "\n",
    "def classify(boxes, image):\n",
    "    \n",
    "    model = tf.keras.models.load_model('saved_model/my_model')\n",
    "\n",
    "    components = []\n",
    "    for box in boxes:\n",
    "        component = image[box[0][1]:box[1][1], box[0][0]:box[1][0]]\n",
    "        components.append(convertImg(component).reshape(-1,32,32,1))\n",
    "\n",
    "    modelPredictions = model.predict(np.vstack(components))\n",
    "\n",
    "    predictions = []\n",
    "\n",
    "    for prediction in modelPredictions:\n",
    "        predictions.append(class_names[np.argmax(prediction)])\n",
    "\n",
    "    return predictions\n"
   ]
  },
  {
   "cell_type": "code",
   "execution_count": 28,
   "metadata": {},
   "outputs": [],
   "source": [
    "#new_model = tf.keras.models.load_model('saved_model/my_model')\n",
    "#\n",
    "## Check its architecture\n",
    "##new_model.summary()\n",
    "#\n",
    "#img = convertImg(utils.loadImage(path='./../dev/trainData/inductor/', name='20.png', resize=(32,32)))\n",
    "#\n",
    "##img = train_images[3]\n",
    "#\n",
    "#\n",
    "#predictions_single = model.predict(img.reshape(-1,32,32,1))[0]\n",
    "#print(class_names)\n",
    "#print(predictions_single)\n",
    "#print(class_names[np.where(predictions_single == np.amax(predictions_single))[0][0]])\n",
    "#\n",
    "#plt.imshow(img, cmap='gray')"
   ]
  },
  {
   "cell_type": "code",
   "execution_count": 29,
   "metadata": {},
   "outputs": [
    {
     "name": "stdout",
     "output_type": "stream",
     "text": [
      "1/1 - 0s - loss: 3.9354e-04 - accuracy: 1.0000\n",
      "1.0\n"
     ]
    },
    {
     "data": {
      "image/png": "[encoded data removed]",
      "text/plain": [
       "<Figure size 432x288 with 1 Axes>"
      ]
     },
     "metadata": {
      "needs_background": "light"
     },
     "output_type": "display_data"
    }
   ],
   "source": [
    "plt.plot(history.history['accuracy'], label='accuracy')\n",
    "plt.plot(history.history['val_accuracy'], label = 'val_accuracy')\n",
    "plt.xlabel('Epoch')\n",
    "plt.ylabel('Accuracy')\n",
    "plt.ylim([0.5, 1])\n",
    "plt.legend(loc='lower right')\n",
    "\n",
    "#test_loss, test_acc = model.evaluate(test_images,  test_labels, verbose=2)\n",
    "test_loss, test_acc = model.evaluate(train_images,  train_labels, verbose=2)\n",
    "\n",
    "print(test_acc)"
   ]
  }
 ],
 "metadata": {
  "interpreter": {
   "hash": "6c255580c1376a53e8d62a65f4b290fc9e06ee65b5dbb546bacb4a0a6e644e58"
  },
  "kernelspec": {
   "display_name": "Python 3.9.9 64-bit (windows store)",
   "name": "python3"
  },
  "language_info": {
   "codemirror_mode": {
    "name": "ipython",
    "version": 3
   },
   "file_extension": ".py",
   "mimetype": "text/x-python",
   "name": "python",
   "nbconvert_exporter": "python",
   "pygments_lexer": "ipython3",
   "version": "3.9.7"
  },
  "orig_nbformat": 4
 },
 "nbformat": 4,
 "nbformat_minor": 2
}
