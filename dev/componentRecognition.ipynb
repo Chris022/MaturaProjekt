{
 "cells": [
  {
   "cell_type": "code",
   "execution_count": 1,
   "metadata": {},
   "outputs": [],
   "source": [
    "import sys\n",
    "sys.path.append('../')\n",
    "\n",
    "import tensorflow as tf\n",
    "\n",
    "from tensorflow.keras import layers, models\n",
    "import numpy as np\n",
    "import matplotlib.pyplot as plt\n",
    "import lib.utils as utils\n",
    "import os\n",
    "import cv2\n",
    "import random\n",
    "from keras.models import load_model"
   ]
  },
  {
   "cell_type": "code",
   "execution_count": 2,
   "metadata": {},
   "outputs": [],
   "source": [
    "def convertImg(image, size=(32,32)):\n",
    "    image = cv2.resize(image, size, interpolation=cv2.INTER_AREA)\n",
    "    converted = np.zeros(shape=(size[0], size[1], 1))\n",
    "    for y in range(0, len(image)):\n",
    "        for x in range(0, len(image[y])):\n",
    "            converted[y][x][0] = image[y][x]\n",
    "\n",
    "    converted = converted/255\n",
    "    return converted"
   ]
  },
  {
   "cell_type": "code",
   "execution_count": 3,
   "metadata": {},
   "outputs": [
    {
     "name": "stdout",
     "output_type": "stream",
     "text": [
      "['capacitor', 'ground', 'inductor', 'resistor', 'voltage']\n",
      "['capacitor', 'ground', 'inductor', 'resistor', 'voltage']\n",
      "504\n",
      "504\n"
     ]
    }
   ],
   "source": [
    "# trainImages / Images\n",
    "ratio = 0.7\n",
    "train_data = []\n",
    "test_data = []\n",
    "\n",
    "class_names = os.listdir('./../resources/trainData_new')\n",
    "print(class_names)\n",
    "\n",
    "for class_name in class_names:\n",
    "    data = os.listdir('./../resources/trainData_new/{class_name}'.format(class_name=class_name))\n",
    "    for i in range(0, len(data)):\n",
    "        image = convertImg(utils.loadImage(path='./../resources/trainData_new/{class_name}'.format(class_name=class_name), name=data[i], resize=(32,32)))\n",
    "        #image = convertImg(utils.loadImage(path='./trainData/{class_name}'.format(class_name=class_name), name=data[i], resize=(32,32)))\n",
    "\n",
    "        label = [0 for i in range(0,len(class_names))]# + 4)]\n",
    "        #if 'u' in data[i]: label[len(label)-4] = 1\n",
    "        #if 'd' in data[i]: label[len(label)-3] = 1\n",
    "        #if 'l' in data[i]: label[len(label)-2] = 1\n",
    "        #if 'r' in data[i]: label[len(label)-1] = 1\n",
    "        label[class_names.index(class_name)] = 1\n",
    "\n",
    "        #if(i/len(data) < ratio):\n",
    "        train_data.append((image,label))\n",
    "        #else:\n",
    "        test_data.append((image,label))\n",
    "\n",
    "#class_names += ['up', 'down', 'left', 'right']\n",
    "print(class_names)\n",
    "\n",
    "random.shuffle(train_data)\n",
    "random.shuffle(test_data)\n",
    "\n",
    "train_images = []\n",
    "train_labels = []\n",
    "test_images = []\n",
    "test_labels = []\n",
    "\n",
    "for data in train_data:\n",
    "    train_images.append(data[0])\n",
    "    train_labels.append(data[1])\n",
    "\n",
    "for data in test_data:\n",
    "    test_images.append(data[0])\n",
    "    test_labels.append(data[1])\n",
    "\n",
    "\n",
    "train_images = np.asarray(train_images)\n",
    "train_labels = np.asarray(train_labels)\n",
    "test_images = np.asarray(test_images)\n",
    "test_labels = np.asarray(test_labels)\n",
    "\n",
    "print(len(train_images))\n",
    "print(len(test_images))"
   ]
  },
  {
   "cell_type": "code",
   "execution_count": 4,
   "metadata": {},
   "outputs": [
    {
     "data": {
      "image/png": "[encoded data removed]",
      "text/plain": [
       "<Figure size 720x720 with 6 Axes>"
      ]
     },
     "metadata": {},
     "output_type": "display_data"
    }
   ],
   "source": [
    "plt.figure(figsize=(10,10))\n",
    "for i in range(6):\n",
    "    plt.subplot(5,5,i+1)\n",
    "    plt.xticks([])\n",
    "    plt.yticks([])\n",
    "    plt.grid(False)\n",
    "    plt.imshow(train_images[i], cmap='gray')\n",
    "    # The CIFAR labels happen to be arrays, \n",
    "    # which is why you need the extra index\n",
    "    #plt.xlabel(class_names[train_labels[i][0]])\n",
    "plt.show()"
   ]
  },
  {
   "cell_type": "code",
   "execution_count": 5,
   "metadata": {},
   "outputs": [
    {
     "name": "stdout",
     "output_type": "stream",
     "text": [
      "Model: \"sequential\"\n",
      "_________________________________________________________________\n",
      " Layer (type)                Output Shape              Param #   \n",
      "=================================================================\n",
      " conv2d (Conv2D)             (None, 30, 30, 128)       1280      \n",
      "                                                                 \n",
      " max_pooling2d (MaxPooling2D  (None, 15, 15, 128)      0         \n",
      " )                                                               \n",
      "                                                                 \n",
      " conv2d_1 (Conv2D)           (None, 13, 13, 256)       295168    \n",
      "                                                                 \n",
      " conv2d_2 (Conv2D)           (None, 11, 11, 512)       1180160   \n",
      "                                                                 \n",
      " max_pooling2d_1 (MaxPooling  (None, 5, 5, 512)        0         \n",
      " 2D)                                                             \n",
      "                                                                 \n",
      " conv2d_3 (Conv2D)           (None, 3, 3, 1024)        4719616   \n",
      "                                                                 \n",
      " flatten (Flatten)           (None, 9216)              0         \n",
      "                                                                 \n",
      " dense (Dense)               (None, 256)               2359552   \n",
      "                                                                 \n",
      " dense_1 (Dense)             (None, 128)               32896     \n",
      "                                                                 \n",
      " dense_2 (Dense)             (None, 5)                 645       \n",
      "                                                                 \n",
      "=================================================================\n",
      "Total params: 8,589,317\n",
      "Trainable params: 8,589,317\n",
      "Non-trainable params: 0\n",
      "_________________________________________________________________\n"
     ]
    }
   ],
   "source": [
    "model = models.Sequential()\n",
    "model.add(layers.Conv2D(128, (3, 3), activation='relu', input_shape=(32, 32, 1)))\n",
    "model.add(layers.MaxPooling2D((2, 2)))\n",
    "model.add(layers.Conv2D(256, (3, 3), activation='relu'))\n",
    "model.add(layers.Conv2D(512, (3, 3), activation='relu'))\n",
    "model.add(layers.MaxPooling2D((2, 2)))\n",
    "model.add(layers.Conv2D(1024, (3, 3), activation='relu'))\n",
    "\n",
    "model.add(layers.Flatten())\n",
    "model.add(layers.Dense(256, activation='relu'))\n",
    "model.add(layers.Dense(128, activation='relu'))\n",
    "#model.add(layers.Dense(len(class_names)))\n",
    "model.add(layers.Dense(len(class_names), activation='softmax'))\n",
    "\n",
    "model.summary()"
   ]
  },
  {
   "cell_type": "code",
   "execution_count": 6,
   "metadata": {},
   "outputs": [
    {
     "name": "stdout",
     "output_type": "stream",
     "text": [
      "Epoch 1/5\n",
      "16/16 [==============================] - 14s 872ms/step - loss: 0.4093 - binary_accuracy: 0.8317 - val_loss: 0.2270 - val_binary_accuracy: 0.9028\n",
      "Epoch 2/5\n",
      "16/16 [==============================] - 15s 949ms/step - loss: 0.1319 - binary_accuracy: 0.9476 - val_loss: 0.0574 - val_binary_accuracy: 0.9841\n",
      "Epoch 3/5\n",
      "16/16 [==============================] - 16s 980ms/step - loss: 0.0535 - binary_accuracy: 0.9845 - val_loss: 0.0123 - val_binary_accuracy: 0.9960\n",
      "Epoch 4/5\n",
      "16/16 [==============================] - 14s 874ms/step - loss: 0.0108 - binary_accuracy: 0.9976 - val_loss: 0.0307 - val_binary_accuracy: 0.9944\n",
      "Epoch 5/5\n",
      "16/16 [==============================] - 14s 880ms/step - loss: 0.0208 - binary_accuracy: 0.9952 - val_loss: 0.0052 - val_binary_accuracy: 0.9992\n"
     ]
    }
   ],
   "source": [
    "#model.compile(optimizer='adam',\n",
    "#              loss=tf.keras.losses.SparseCategoricalCrossentropy(from_logits=True),\n",
    "#              metrics=['accuracy'])\n",
    "\n",
    "\n",
    "model.compile(optimizer='adam',\n",
    "              loss=tf.keras.losses.BinaryCrossentropy(),\n",
    "              metrics=[tf.keras.metrics.BinaryAccuracy()])\n",
    "              \n",
    "\n",
    "#history = model.fit(train_images, train_labels, epochs=10, \n",
    "#                    validation_data=(test_images, test_labels))\n",
    "\n",
    "history = model.fit(train_images, train_labels, epochs=5, \n",
    "                    validation_data=(test_images, test_labels))\n"
   ]
  },
  {
   "cell_type": "code",
   "execution_count": 7,
   "metadata": {},
   "outputs": [],
   "source": [
    "#model.save('./../resources/saved_model/my_model')\n",
    "\n",
    "model.save('./../resources/saved_model/my_model.h5')\n",
    "del model\n",
    "\n",
    "# returns a compiled model\n",
    "# identical to the previous one"
   ]
  },
  {
   "cell_type": "code",
   "execution_count": 8,
   "metadata": {},
   "outputs": [],
   "source": [
    "#boxes = [[[45,118],[80,184]],[[250,115],[300,141]]]\n",
    "#image = utils.loadImage(\"../src/testImages\", \"1.png\")\n",
    "\n",
    "def classify(boxes, image):\n",
    "    \n",
    "    model = tf.keras.models.load_model('./../resources/saved_model/my_model')\n",
    "\n",
    "    components = []\n",
    "    for box in boxes:\n",
    "        component = image[box[0][1]:box[1][1], box[0][0]:box[1][0]]\n",
    "        components.append(convertImg(component).reshape(-1,32,32,1))\n",
    "\n",
    "    modelPredictions = model.predict(np.vstack(components))\n",
    "\n",
    "    predictions = []\n",
    "\n",
    "    for prediction in modelPredictions:\n",
    "        print(prediction)\n",
    "        predictions.append(class_names[np.argmax(predictions_single)])\n",
    "        #predictions.append([class_names[np.argmax(prediction[:-4])],class_names[-4:][np.argmax(prediction[-4:])]])\n",
    "\n",
    "        #predictions.append(class_names[np.argmax(prediction)])\n",
    "\n",
    "    return predictions"
   ]
  },
  {
   "cell_type": "code",
   "execution_count": 9,
   "metadata": {},
   "outputs": [],
   "source": [
    "#model = tf.keras.models.load_model('./../resources/saved_model/my_model')\n",
    "\n",
    "model = load_model('./../resources/saved_model/my_model.h5')"
   ]
  },
  {
   "cell_type": "code",
   "execution_count": 10,
   "metadata": {},
   "outputs": [
    {
     "name": "stdout",
     "output_type": "stream",
     "text": [
      "['capacitor', 'ground', 'inductor', 'resistor', 'voltage']\n",
      "[1.0000000e+00 8.5028005e-16 6.7959193e-12 4.7503895e-13 3.5615252e-12]\n",
      "capacitor\n"
     ]
    },
    {
     "data": {
      "text/plain": [
       "<matplotlib.image.AxesImage at 0x1fe49c28a90>"
      ]
     },
     "execution_count": 10,
     "metadata": {},
     "output_type": "execute_result"
    },
    {
     "data": {
      "image/png": "[encoded data removed]",
      "text/plain": [
       "<Figure size 432x288 with 1 Axes>"
      ]
     },
     "metadata": {
      "needs_background": "light"
     },
     "output_type": "display_data"
    }
   ],
   "source": [
    "\n",
    "# Check its architecture\n",
    "#new_model.summary()\n",
    "\n",
    "#img = convertImg(utils.loadImage(path='./../resources/trainData', name='3.png', resize=(32,32)))\n",
    "\n",
    "img = test_images[0]\n",
    "#img = train_images[12]\n",
    "\n",
    "\n",
    "predictions_single = model.predict(img.reshape(-1,32,32,1))[0]\n",
    "print(class_names)\n",
    "print(predictions_single)\n",
    "print(class_names[np.argmax(predictions_single)])\n",
    "#print(class_names[np.where(predictions_single[:-4] == np.amax(predictions_single[:-4]))[0][0]])\n",
    "#print(class_names[np.where(predictions_single[-4:] == np.amax(predictions_single[-4:]))[0][0] + len(class_names) - 4])\n",
    "\n",
    "plt.imshow(img, cmap='gray')"
   ]
  },
  {
   "cell_type": "code",
   "execution_count": 11,
   "metadata": {},
   "outputs": [
    {
     "data": {
      "image/png": "[encoded data removed]",
      "text/plain": [
       "<Figure size 720x720 with 6 Axes>"
      ]
     },
     "metadata": {},
     "output_type": "display_data"
    }
   ],
   "source": [
    "plt.figure(figsize=(10,10))\n",
    "for i in range(6):\n",
    "    plt.subplot(5,5,i+1)\n",
    "    plt.xticks([])\n",
    "    plt.yticks([])\n",
    "    plt.grid(False)\n",
    "    plt.imshow(test_images[i], cmap='gray')\n",
    "\n",
    "    predictions_single = model.predict(test_images[i].reshape(-1,32,32,1))[0]\n",
    "    # The CIFAR labels happen to be arrays, \n",
    "    # which is why you need the extra index\n",
    "    plt.xlabel(class_names[np.argmax(predictions_single)])\n",
    "    #plt.xlabel(class_names[np.where(predictions_single[:-4] == np.amax(predictions_single[:-4]))[0][0]])\n",
    "plt.show()"
   ]
  },
  {
   "cell_type": "code",
   "execution_count": 12,
   "metadata": {},
   "outputs": [
    {
     "name": "stdout",
     "output_type": "stream",
     "text": [
      "16/16 [==============================] - 2s 139ms/step - loss: 0.0052 - binary_accuracy: 0.9992\n",
      "[[1 0 0 0 0]\n",
      " [0 0 0 1 0]\n",
      " [1 0 0 0 0]\n",
      " ...\n",
      " [0 0 0 1 0]\n",
      " [0 0 0 1 0]\n",
      " [0 0 0 1 0]]\n",
      "0.9992063641548157\n",
      "0.005175991449505091\n"
     ]
    },
    {
     "data": {
      "image/png": "[encoded data removed]",
      "text/plain": [
       "<Figure size 432x288 with 1 Axes>"
      ]
     },
     "metadata": {
      "needs_background": "light"
     },
     "output_type": "display_data"
    }
   ],
   "source": [
    "plt.plot(history.history['val_binary_accuracy'], label='val_accuracy')\n",
    "plt.plot(history.history['binary_accuracy'], label = 'accuracy')\n",
    "plt.xlabel('Epoch')\n",
    "plt.ylabel('Accuracy')\n",
    "plt.ylim([0, 1])\n",
    "plt.legend(loc='lower right')\n",
    "\n",
    "test_loss, test_acc = model.evaluate(test_images,  test_labels, verbose=1)\n",
    "#test_loss, test_acc = model.evaluate(train_images,  train_labels, verbose=1)\n",
    "print(test_labels)\n",
    "print(test_acc)\n",
    "print(test_loss)"
   ]
  }
 ],
 "metadata": {
  "interpreter": {
   "hash": "6c255580c1376a53e8d62a65f4b290fc9e06ee65b5dbb546bacb4a0a6e644e58"
  },
  "kernelspec": {
   "display_name": "Python 3.9.9 64-bit (windows store)",
   "name": "python3"
  },
  "language_info": {
   "codemirror_mode": {
    "name": "ipython",
    "version": 3
   },
   "file_extension": ".py",
   "mimetype": "text/x-python",
   "name": "python",
   "nbconvert_exporter": "python",
   "pygments_lexer": "ipython3",
   "version": "3.9.7"
  },
  "orig_nbformat": 4
 },
 "nbformat": 4,
 "nbformat_minor": 2
}
