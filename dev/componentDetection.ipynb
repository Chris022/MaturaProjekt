{
 "cells": [
  {
   "cell_type": "code",
   "execution_count": 1,
   "metadata": {},
   "outputs": [],
   "source": [
    "import sys\n",
    "sys.path.append('../')\n",
    "\n",
    "import tensorflow as tf\n",
    "\n",
    "from tensorflow.keras import layers, models\n",
    "import numpy as np\n",
    "import matplotlib.pyplot as plt\n",
    "import lib.utils as utils\n",
    "from lib.constants import S, B, C, INPUT_SIZE, CLASS_NAMES,CLASS_COLORS, LAMBDA_COORD, LAMBDA_NOOBJ\n",
    "import os\n",
    "import cv2\n",
    "import math\n",
    "import pickle"
   ]
  },
  {
   "cell_type": "code",
   "execution_count": 2,
   "metadata": {},
   "outputs": [
    {
     "name": "stdout",
     "output_type": "stream",
     "text": [
      "['0.txt', '1.txt', '2.txt', '3.txt']\n"
     ]
    }
   ],
   "source": [
    "label_names = os.listdir('./../resources/labeled_data/labels')\n",
    "print(label_names)\n",
    "\n",
    "labels = []\n",
    "for label_name in label_names:\n",
    "    file = open(str('./../resources/labeled_data/labels/' + label_name), 'rb')\n",
    "    label = pickle.load(file)\n",
    "    file.close()\n",
    "    labels.append(label)"
   ]
  },
  {
   "cell_type": "code",
   "execution_count": 3,
   "metadata": {},
   "outputs": [
    {
     "name": "stdout",
     "output_type": "stream",
     "text": [
      "['0.png', '1.png', '2.png', '3.png']\n"
     ]
    }
   ],
   "source": [
    "image_names = os.listdir('./../resources/labeled_data/images')\n",
    "print(image_names)\n",
    "\n",
    "images = []\n",
    "for image_name in image_names:\n",
    "    image = utils.loadImage(path='./../resources/labeled_data/images', name=image_name, resize=(INPUT_SIZE,INPUT_SIZE),color=False)\n",
    "    images.append(image)\n",
    "\n",
    "if len(images) != len(labels):\n",
    "    sys.exit('#labels != #images')"
   ]
  },
  {
   "cell_type": "code",
   "execution_count": 4,
   "metadata": {},
   "outputs": [],
   "source": [
    "#Pc  Bx  By  Bw  Bh     C1 C2\n",
    "#0   0   0   0   0      0  0"
   ]
  },
  {
   "cell_type": "code",
   "execution_count": 5,
   "metadata": {},
   "outputs": [],
   "source": [
    "#only works for B=1\n",
    "def get_output_tensor(label):\n",
    "    shape = (S,S,5*B+C)\n",
    "    out = np.zeros(shape)\n",
    "    cell_size = (int)(INPUT_SIZE/S)\n",
    "\n",
    "\n",
    "    for box in label:\n",
    "        \n",
    "        x_cell = math.floor(box['b_x']/cell_size)\n",
    "        y_cell = math.floor(box['b_y']/cell_size)\n",
    "\n",
    "        if not np.array_equal(out[x_cell][y_cell], np.zeros(5*B+C)):\n",
    "            sys.exit('More then one bounding box in cell')\n",
    "\n",
    "        y = np.zeros(5*B+C)\n",
    "        y[CLASS_NAMES.index(box['c'])-C] = 1\n",
    "\n",
    "        y[0] = 1\n",
    "        y[1] = (box['b_x'] - cell_size*x_cell) / cell_size\n",
    "        y[2] = (box['b_y'] - cell_size*y_cell) / cell_size\n",
    "        y[3] = box['b_w'] / INPUT_SIZE\n",
    "        y[4] = box['b_h'] / INPUT_SIZE\n",
    "\n",
    "        out[x_cell][y_cell] = y\n",
    "    return out"
   ]
  },
  {
   "cell_type": "code",
   "execution_count": 6,
   "metadata": {},
   "outputs": [
    {
     "name": "stdout",
     "output_type": "stream",
     "text": [
      "(16, 448, 448)\n",
      "(16, 490)\n"
     ]
    }
   ],
   "source": [
    "train_images = []\n",
    "train_labels = []\n",
    "\n",
    "for i in range(0, len(images)):\n",
    "    img = images[i]/255\n",
    "    out_tensor = get_output_tensor(labels[i])\n",
    "\n",
    "    train_images.append(img)\n",
    "    train_labels.append(out_tensor.flatten())\n",
    "    for x in range(0,3):\n",
    "        img = cv2.rotate(img, cv2.ROTATE_90_CLOCKWISE)\n",
    "        out_tensor = np.rot90(out_tensor, k=1)\n",
    "\n",
    "        for x_cell in range(0, len(out_tensor)):\n",
    "            for y_cell in range(0, len(out_tensor[x_cell])):\n",
    "                box = out_tensor[x_cell][y_cell]\n",
    "                if box[0] == 1:\n",
    "                    y = utils.createIndependetCopy(box)\n",
    "                    y[1] = math.cos(math.pi/2)*(box[1]-0.5) - math.sin(math.pi/2)*(box[2]-0.5) + 0.5\n",
    "                    y[2] = math.sin(math.pi/2)*(box[1]-0.5) + math.cos(math.pi/2)*(box[2]-0.5) + 0.5\n",
    "                    y[3] = box[4]\n",
    "                    y[4] = box[3]\n",
    "                    out_tensor[x_cell][y_cell] = y\n",
    "\n",
    "        train_images.append(img)\n",
    "        train_labels.append(out_tensor.flatten())\n",
    "\n",
    "train_images = np.asarray(train_images)\n",
    "train_labels = np.asarray(train_labels)\n",
    "\n",
    "print(train_images.shape)\n",
    "print(train_labels.shape)"
   ]
  },
  {
   "cell_type": "code",
   "execution_count": 7,
   "metadata": {},
   "outputs": [],
   "source": [
    "def leaky_reLu(x):\n",
    "    return tf.keras.activations.relu(x, alpha=0.1)"
   ]
  },
  {
   "cell_type": "code",
   "execution_count": 8,
   "metadata": {},
   "outputs": [],
   "source": [
    "def createModel():    \n",
    "    model = models.Sequential()\n",
    "\n",
    "    model.add(layers.Conv2D(filters=64, kernel_size=(7, 7), strides=2, padding='same', activation=leaky_reLu, input_shape=(INPUT_SIZE, INPUT_SIZE, 1)))\n",
    "    model.add(layers.MaxPooling2D(pool_size=(2, 2), strides=2))\n",
    "\n",
    "    #model.add(layers.Conv2D(filters=192, kernel_size=(3, 3), padding='same', activation=leaky_reLu))\n",
    "    model.add(layers.MaxPooling2D(pool_size=(2, 2)))\n",
    "    #model.add(layers.Conv2D(filters=128, kernel_size=(1, 1), padding='same', activation=leaky_reLu))\n",
    "    model.add(layers.Conv2D(filters=256, kernel_size=(3, 3), padding='same', activation=leaky_reLu))\n",
    "    model.add(layers.Conv2D(filters=128, kernel_size=(1, 1), padding='same', activation=leaky_reLu)) #256\n",
    "    #model.add(layers.Conv2D(filters=512, kernel_size=(3, 3), padding='same', activation=leaky_reLu))\n",
    "    model.add(layers.MaxPooling2D(pool_size=(2, 2)))\n",
    "\n",
    "    #for i in range(0,4):\n",
    "    #    model.add(layers.Conv2D(filters=256, kernel_size=(1, 1), padding='same', activation=leaky_reLu))\n",
    "    #    model.add(layers.Conv2D(filters=512, kernel_size=(3, 3), padding='same', activation=leaky_reLu))\n",
    "    model.add(layers.Conv2D(filters=512, kernel_size=(1, 1), padding='same', activation=leaky_reLu))\n",
    "    #model.add(layers.Conv2D(filters=1024, kernel_size=(3, 3), padding='same', activation=leaky_reLu))\n",
    "    model.add(layers.MaxPooling2D(pool_size=(2, 2)))\n",
    "\n",
    "    ##remove\n",
    "    model.add(layers.Conv2D(filters=128, kernel_size=(3, 3), strides=2, padding='same', activation=leaky_reLu))\n",
    "    model.add(layers.Conv2D(filters=64, kernel_size=(3, 3), strides=2, padding='same', activation=leaky_reLu))\n",
    "\n",
    "    #for i in range(0,2):\n",
    "    #    model.add(layers.Conv2D(filters=512, kernel_size=(1, 1), padding='same', activation=leaky_reLu))\n",
    "    #    model.add(layers.Conv2D(filters=1024, kernel_size=(3, 3), padding='same', activation=leaky_reLu))\n",
    "    #model.add(layers.Conv2D(filters=1024, kernel_size=(3, 3), padding='same', activation=leaky_reLu))\n",
    "    #model.add(layers.Conv2D(filters=1024, kernel_size=(3, 3), strides=2, padding='same', activation=leaky_reLu))\n",
    "#\n",
    "    #model.add(layers.Conv2D(filters=1024, kernel_size=(3, 3), padding='same', activation=leaky_reLu))\n",
    "    #model.add(layers.Conv2D(filters=1024, kernel_size=(3, 3), padding='same', activation=leaky_reLu))\n",
    "\n",
    "    model.add(layers.Flatten())\n",
    " \n",
    "    model.add(layers.Dense(4096, activation=leaky_reLu))\n",
    "    model.add(layers.Dense(S*S*(5*B+C)))\n",
    "    \n",
    "    model.summary()\n",
    "    \n",
    "    return model"
   ]
  },
  {
   "cell_type": "code",
   "execution_count": 9,
   "metadata": {},
   "outputs": [],
   "source": [
    "def loss(y_true, y_pred):\n",
    "\n",
    "  #print(y_true)\n",
    "  #print('--------------------------------------')\n",
    "  #print(y_pred)\n",
    "\n",
    "  y_true = tf.reshape(y_true, (-1, S, S, 5*B+C))\n",
    "  y_pred = tf.reshape(y_pred, (-1, S, S, 5*B+C))\n",
    "\n",
    "  #print(y_true)\n",
    "  #print(y_pred)\n",
    "\n",
    "  #loss = tf.square(y_true - y_pred)\n",
    "  # ignore elements where BOTH y_true & y_pred < 0.1\n",
    "  #mask = tf.cast(tf.logical_or(y_true < 0, 1 >= 0.1) ,tf.float32)\n",
    "  #loss *= mask\n",
    "\n",
    "\n",
    "  #exists_box = tf.reshape(y_true[...,0:1], (-1,S*S))\n",
    "\n",
    "  exists_box = y_true[...,0:1]\n",
    "\n",
    "\n",
    "  y_pred_obj = tf.multiply(y_pred, exists_box)\n",
    "\n",
    "  y_pred_no_obj = tf.multiply(y_pred, tf.subtract(1, exists_box))\n",
    "  y_pred_no_obj = tf.add(y_pred_no_obj, tf.multiply(tf.cast(tf.fill(((1, S, S, 5*B+C)),1), 'float32') ,exists_box))\n",
    "\n",
    "  #print(y_true[...,1:3])\n",
    "\n",
    "  #box loss\n",
    "  box_loss1 = tf.math.reduce_sum(tf.math.squared_difference(y_true[...,1:3], y_pred_obj[...,1:3]))\n",
    "  box_loss2 = tf.math.reduce_sum(tf.math.squared_difference(tf.math.sqrt(tf.math.abs(y_true[...,3:5])), tf.math.sqrt(tf.math.abs(y_pred_obj[...,3:5]))))\n",
    "\n",
    "  box_loss = tf.math.add(box_loss1, box_loss2)\n",
    "\n",
    "  #print(box_loss1)\n",
    "  #print(box_loss2)\n",
    "\n",
    "  #object loss\n",
    "  object_loss = tf.math.reduce_sum(tf.math.squared_difference(y_true[...,0:1], y_pred_obj[...,0:1]))\n",
    "\n",
    "  #print(object_loss)\n",
    "\n",
    "  #no object loss\n",
    "  no_object_loss = tf.math.reduce_sum(tf.math.squared_difference(y_true[...,0:1], y_pred_no_obj[...,0:1]))\n",
    "\n",
    "  #print(no_object_loss)\n",
    "\n",
    "  #class loss\n",
    "  class_loss = tf.math.reduce_sum(tf.math.squared_difference(y_true[...,5:10], y_pred_obj[...,5:10]))\n",
    "\n",
    "  #print(class_loss)\n",
    "\n",
    "  loss = tf.math.add_n([tf.math.multiply(LAMBDA_COORD, box_loss), tf.math.multiply(LAMBDA_NOOBJ, no_object_loss), object_loss, class_loss])\n",
    "\n",
    "\n",
    "  return loss#tf.reduce_sum(loss)# / tf.reduce_sum(mask)"
   ]
  },
  {
   "cell_type": "code",
   "execution_count": 10,
   "metadata": {},
   "outputs": [
    {
     "name": "stdout",
     "output_type": "stream",
     "text": [
      "Model: \"sequential\"\n",
      "_________________________________________________________________\n",
      "Layer (type)                 Output Shape              Param #   \n",
      "=================================================================\n",
      "conv2d (Conv2D)              (None, 224, 224, 64)      3200      \n",
      "_________________________________________________________________\n",
      "max_pooling2d (MaxPooling2D) (None, 112, 112, 64)      0         \n",
      "_________________________________________________________________\n",
      "max_pooling2d_1 (MaxPooling2 (None, 56, 56, 64)        0         \n",
      "_________________________________________________________________\n",
      "conv2d_1 (Conv2D)            (None, 56, 56, 256)       147712    \n",
      "_________________________________________________________________\n",
      "conv2d_2 (Conv2D)            (None, 56, 56, 128)       32896     \n",
      "_________________________________________________________________\n",
      "max_pooling2d_2 (MaxPooling2 (None, 28, 28, 128)       0         \n",
      "_________________________________________________________________\n",
      "conv2d_3 (Conv2D)            (None, 28, 28, 512)       66048     \n",
      "_________________________________________________________________\n",
      "max_pooling2d_3 (MaxPooling2 (None, 14, 14, 512)       0         \n",
      "_________________________________________________________________\n",
      "conv2d_4 (Conv2D)            (None, 7, 7, 128)         589952    \n",
      "_________________________________________________________________\n",
      "conv2d_5 (Conv2D)            (None, 4, 4, 64)          73792     \n",
      "_________________________________________________________________\n",
      "flatten (Flatten)            (None, 1024)              0         \n",
      "_________________________________________________________________\n",
      "dense (Dense)                (None, 4096)              4198400   \n",
      "_________________________________________________________________\n",
      "dense_1 (Dense)              (None, 490)               2007530   \n",
      "=================================================================\n",
      "Total params: 7,119,530\n",
      "Trainable params: 7,119,530\n",
      "Non-trainable params: 0\n",
      "_________________________________________________________________\n"
     ]
    }
   ],
   "source": [
    "#model = tf.keras.models.load_model('./../resources/saved_model/my_model', compile=False)\n",
    "\n",
    "model = createModel()"
   ]
  },
  {
   "cell_type": "code",
   "execution_count": 34,
   "metadata": {},
   "outputs": [],
   "source": [
    "model.compile(optimizer=tf.keras.optimizers.Adam(learning_rate=0.0001),\n",
    "              #loss=tf.keras.losses.BinaryCrossentropy(from_logits=True),\n",
    "              loss=loss,\n",
    "              run_eagerly=True,\n",
    "              metrics=['accuracy'])\n",
    "\n",
    "train_labels = tf.convert_to_tensor(train_labels)\n",
    "\n",
    "#print(train_labels)\n",
    "train_images = tf.expand_dims(train_images, axis=-1)"
   ]
  },
  {
   "cell_type": "code",
   "execution_count": 58,
   "metadata": {},
   "outputs": [
    {
     "name": "stdout",
     "output_type": "stream",
     "text": [
      "Epoch 1/50\n",
      "2/2 [==============================] - 2s 904ms/step - loss: 0.0602 - accuracy: 0.0000e+00\n",
      "Epoch 2/50\n",
      "2/2 [==============================] - 2s 891ms/step - loss: 0.0834 - accuracy: 0.0000e+00\n",
      "Epoch 3/50\n",
      "2/2 [==============================] - 2s 891ms/step - loss: 0.0870 - accuracy: 0.1250\n",
      "Epoch 4/50\n",
      "2/2 [==============================] - 2s 1s/step - loss: 0.0683 - accuracy: 0.0625\n",
      "Epoch 5/50\n",
      "2/2 [==============================] - 3s 1s/step - loss: 0.0291 - accuracy: 0.0000e+00\n",
      "Epoch 6/50\n",
      "2/2 [==============================] - 2s 975ms/step - loss: 0.0452 - accuracy: 0.0625\n",
      "Epoch 7/50\n",
      "2/2 [==============================] - 2s 1s/step - loss: 0.0466 - accuracy: 0.0000e+00\n",
      "Epoch 8/50\n",
      "2/2 [==============================] - 2s 974ms/step - loss: 0.0616 - accuracy: 0.0000e+00\n",
      "Epoch 9/50\n",
      "2/2 [==============================] - 2s 955ms/step - loss: 0.0469 - accuracy: 0.1250\n",
      "Epoch 10/50\n",
      "2/2 [==============================] - 2s 940ms/step - loss: 0.0336 - accuracy: 0.2500\n",
      "Epoch 11/50\n",
      "2/2 [==============================] - 2s 947ms/step - loss: 0.0272 - accuracy: 0.1250\n",
      "Epoch 12/50\n",
      "2/2 [==============================] - 2s 942ms/step - loss: 0.0460 - accuracy: 0.0625\n",
      "Epoch 13/50\n",
      "2/2 [==============================] - 2s 954ms/step - loss: 0.0516 - accuracy: 0.1250\n",
      "Epoch 14/50\n",
      "2/2 [==============================] - 2s 949ms/step - loss: 0.0339 - accuracy: 0.0000e+00\n",
      "Epoch 15/50\n",
      "2/2 [==============================] - 2s 945ms/step - loss: 0.0220 - accuracy: 0.0625\n",
      "Epoch 16/50\n",
      "2/2 [==============================] - 2s 927ms/step - loss: 0.0247 - accuracy: 0.0625\n",
      "Epoch 17/50\n",
      "2/2 [==============================] - 2s 1s/step - loss: 0.0386 - accuracy: 0.0625\n",
      "Epoch 18/50\n",
      "2/2 [==============================] - 2s 959ms/step - loss: 0.0302 - accuracy: 0.0000e+00\n",
      "Epoch 19/50\n",
      "2/2 [==============================] - 2s 1s/step - loss: 0.0168 - accuracy: 0.1250\n",
      "Epoch 20/50\n",
      "2/2 [==============================] - 3s 2s/step - loss: 0.0211 - accuracy: 0.1875\n",
      "Epoch 21/50\n",
      "2/2 [==============================] - 3s 1s/step - loss: 0.0236 - accuracy: 0.0000e+00\n",
      "Epoch 22/50\n",
      "2/2 [==============================] - 2s 1s/step - loss: 0.0216 - accuracy: 0.0000e+00\n",
      "Epoch 23/50\n",
      "2/2 [==============================] - 2s 1s/step - loss: 0.0085 - accuracy: 0.1250\n",
      "Epoch 24/50\n",
      "2/2 [==============================] - 2s 1s/step - loss: 0.0110 - accuracy: 0.0000e+00\n",
      "Epoch 25/50\n",
      "2/2 [==============================] - 2s 1s/step - loss: 0.0153 - accuracy: 0.0000e+00\n",
      "Epoch 26/50\n",
      "2/2 [==============================] - 2s 995ms/step - loss: 0.0204 - accuracy: 0.0625\n",
      "Epoch 27/50\n",
      "2/2 [==============================] - 2s 962ms/step - loss: 0.0125 - accuracy: 0.0625\n",
      "Epoch 28/50\n",
      "2/2 [==============================] - 2s 1s/step - loss: 0.0082 - accuracy: 0.0000e+00\n",
      "Epoch 29/50\n",
      "2/2 [==============================] - 3s 1s/step - loss: 0.0202 - accuracy: 0.0625\n",
      "Epoch 30/50\n",
      "2/2 [==============================] - 2s 1s/step - loss: 0.0361 - accuracy: 0.0625\n",
      "Epoch 31/50\n",
      "2/2 [==============================] - 2s 993ms/step - loss: 0.0192 - accuracy: 0.0000e+00\n",
      "Epoch 32/50\n",
      "2/2 [==============================] - 2s 1s/step - loss: 0.0211 - accuracy: 0.0000e+00\n",
      "Epoch 33/50\n",
      "2/2 [==============================] - 2s 1s/step - loss: 0.0329 - accuracy: 0.0625\n",
      "Epoch 34/50\n",
      "2/2 [==============================] - 3s 2s/step - loss: 0.0257 - accuracy: 0.0000e+00\n",
      "Epoch 35/50\n",
      "2/2 [==============================] - 3s 2s/step - loss: 0.0166 - accuracy: 0.0000e+00\n",
      "Epoch 36/50\n",
      "2/2 [==============================] - 2s 1s/step - loss: 0.0100 - accuracy: 0.0625\n",
      "Epoch 37/50\n",
      "2/2 [==============================] - 3s 971ms/step - loss: 0.0134 - accuracy: 0.1875\n",
      "Epoch 38/50\n",
      "2/2 [==============================] - 2s 968ms/step - loss: 0.0140 - accuracy: 0.0625\n",
      "Epoch 39/50\n",
      "2/2 [==============================] - 2s 970ms/step - loss: 0.0139 - accuracy: 0.1250\n",
      "Epoch 40/50\n",
      "2/2 [==============================] - 2s 952ms/step - loss: 0.0097 - accuracy: 0.1250\n",
      "Epoch 41/50\n",
      "2/2 [==============================] - 2s 946ms/step - loss: 0.0085 - accuracy: 0.1250\n",
      "Epoch 42/50\n",
      "2/2 [==============================] - 2s 962ms/step - loss: 0.0090 - accuracy: 0.0625\n",
      "Epoch 43/50\n",
      "2/2 [==============================] - 2s 947ms/step - loss: 0.0085 - accuracy: 0.0000e+00\n",
      "Epoch 44/50\n",
      "2/2 [==============================] - 2s 951ms/step - loss: 0.0072 - accuracy: 0.0000e+00\n",
      "Epoch 45/50\n",
      "2/2 [==============================] - 2s 942ms/step - loss: 0.0059 - accuracy: 0.0625\n",
      "Epoch 46/50\n",
      "2/2 [==============================] - 2s 934ms/step - loss: 0.0057 - accuracy: 0.0000e+00\n",
      "Epoch 47/50\n",
      "2/2 [==============================] - 2s 923ms/step - loss: 0.0051 - accuracy: 0.0000e+00\n",
      "Epoch 48/50\n",
      "2/2 [==============================] - 2s 945ms/step - loss: 0.0070 - accuracy: 0.0000e+00\n",
      "Epoch 49/50\n",
      "2/2 [==============================] - 2s 941ms/step - loss: 0.0061 - accuracy: 0.0000e+00\n",
      "Epoch 50/50\n",
      "2/2 [==============================] - 2s 957ms/step - loss: 0.0040 - accuracy: 0.0625\n"
     ]
    }
   ],
   "source": [
    "history = model.fit(train_images, train_labels, batch_size=8, epochs=50, use_multiprocessing=True)"
   ]
  },
  {
   "cell_type": "code",
   "execution_count": 59,
   "metadata": {},
   "outputs": [
    {
     "name": "stdout",
     "output_type": "stream",
     "text": [
      "INFO:tensorflow:Assets written to: ./../resources/saved_model/my_model\\assets\n"
     ]
    }
   ],
   "source": [
    "model.save('./../resources/saved_model/my_model')"
   ]
  },
  {
   "cell_type": "code",
   "execution_count": 60,
   "metadata": {},
   "outputs": [],
   "source": [
    "#model = tf.keras.models.load_model('./../resources/saved_model/my_model')"
   ]
  },
  {
   "cell_type": "code",
   "execution_count": 61,
   "metadata": {},
   "outputs": [
    {
     "name": "stdout",
     "output_type": "stream",
     "text": [
      "1/1 - 1s - loss: 0.0159 - accuracy: 0.0625\n"
     ]
    },
    {
     "data": {
      "image/png": "[encoded data removed]",
      "text/plain": [
       "<Figure size 432x288 with 1 Axes>"
      ]
     },
     "metadata": {
      "needs_background": "light"
     },
     "output_type": "display_data"
    }
   ],
   "source": [
    "plt.plot(history.history['accuracy'], label='accuracy')\n",
    "#plt.plot(history.history['val_accuracy'], label = 'val_accuracy')\n",
    "plt.xlabel('Epoch')\n",
    "plt.ylabel('Accuracy')\n",
    "plt.ylim([0, 1])\n",
    "plt.legend(loc='lower right')\n",
    "\n",
    "#test_loss, test_acc = model.evaluate(test_images,  test_labels, verbose=2)\n",
    "test_loss, test_acc = model.evaluate(train_images,  train_labels, verbose=2)"
   ]
  },
  {
   "cell_type": "code",
   "execution_count": 62,
   "metadata": {},
   "outputs": [],
   "source": [
    "def convertImage(image):\n",
    "    for y in range(0,len(image)):\n",
    "        for x in range(0, len(image[y])):\n",
    "            value = (image.item(y,x,0) + image.item(y,x,1) + image.item(y,x,2)) / (image.item(y,x,0)+1)\n",
    "            if value < 3.2 and value > 2.8:\n",
    "                image.itemset((y,x,0),255)\n",
    "                image.itemset((y,x,1),255)\n",
    "                image.itemset((y,x,2),255)\n",
    "\n",
    "    return cv2.cvtColor(image,cv2.COLOR_BGR2GRAY)"
   ]
  },
  {
   "cell_type": "code",
   "execution_count": 68,
   "metadata": {},
   "outputs": [
    {
     "data": {
      "text/plain": [
       "<matplotlib.image.AxesImage at 0x2df05dd5880>"
      ]
     },
     "execution_count": 68,
     "metadata": {},
     "output_type": "execute_result"
    },
    {
     "data": {
      "image/png": "[encoded data removed]",
      "text/plain": [
       "<Figure size 432x288 with 1 Axes>"
      ]
     },
     "metadata": {
      "needs_background": "light"
     },
     "output_type": "display_data"
    }
   ],
   "source": [
    "#img = tf.expand_dims(train_images[3], axis=0)\n",
    "\n",
    "img = utils.loadImage('./../resources/test_images/', 'hand_test_1.png', resize=(INPUT_SIZE,INPUT_SIZE), color=True)\n",
    "img = convertImage(img)\n",
    "img = img/255\n",
    "img = img.reshape(1, INPUT_SIZE, INPUT_SIZE, 1)\n",
    "\n",
    "#img = np.asarray(train_images[12]).reshape(1, INPUT_SIZE, INPUT_SIZE, 1)\n",
    "\n",
    "prediction = model.predict(img).reshape((S,S,(5*B)+C))\n",
    "\n",
    "#prediction = np.asarray(train_labels[4]).reshape((S,S,(5*B)+C))\n",
    "\n",
    "color_img = utils.createIndependetCopy(img*255)\n",
    "color_img = color_img.reshape(INPUT_SIZE,INPUT_SIZE)\n",
    "color_img = np.float32(color_img)\n",
    "color_img = cv2.cvtColor(color_img, cv2.COLOR_GRAY2BGR)\n",
    "\n",
    "color_img = np.uint8(color_img)\n",
    "\n",
    "for x in range(0, S):\n",
    "    for y in range(0, INPUT_SIZE):\n",
    "        color_img[y][x*(int)(INPUT_SIZE/S)] = (0,0,0)\n",
    "\n",
    "\n",
    "for y in range(0, S):\n",
    "    for x in range(0, INPUT_SIZE):\n",
    "        color_img[y*(int)(INPUT_SIZE/S)][x] = (0,0,0)\n",
    "\n",
    "size = INPUT_SIZE / S\n",
    "\n",
    "for i in range(0,7):\n",
    "    for j in range(0,7):\n",
    "        if prediction[i][j][0] != 0.5:\n",
    "            color = CLASS_COLORS[np.argmax(prediction[i][j][-C:])]\n",
    "            class_name = CLASS_NAMES[np.argmax(prediction[i][j][-C:])]\n",
    "\n",
    "            center_x = (int)(prediction[i][j][1]*size + i*size)\n",
    "            center_y = (int)(prediction[i][j][2]*size + j*size)\n",
    "            width = prediction[i][j][3] * INPUT_SIZE\n",
    "            height = prediction[i][j][4] * INPUT_SIZE\n",
    "            #cv2.circle(color_img, ((int)(center_x),(int)(center_y)),5,color,-1)\n",
    "            #cv2.putText(color_img, class_name, (center_x, center_y), cv2.FONT_HERSHEY_SIMPLEX, 1, color, thickness=3)\n",
    "            cv2.rectangle(color_img, ((int)(center_x-width/2), (int)(center_y-height/2)), ((int)(center_x+width/2), (int)(center_y+height/2)), color, thickness=(int)(5*prediction[i][j][0]))\n",
    "plt.imshow(color_img)#, cmap='gray')"
   ]
  },
  {
   "cell_type": "code",
   "execution_count": 64,
   "metadata": {},
   "outputs": [
    {
     "name": "stdout",
     "output_type": "stream",
     "text": [
      "tf.Tensor(\n",
      "[[[1.  1.5 0.5 0.7 0.7 1.  1.  0.  0.  0. ]\n",
      "  [0.  0.  0.  0.  0.  0.  0.  0.  0.  0. ]]\n",
      "\n",
      " [[1.  0.3 0.4 0.8 0.8 1.  0.  1.  0.  0. ]\n",
      "  [0.  0.  0.  0.  0.  0.  0.  0.  0.  0. ]]], shape=(2, 2, 10), dtype=float32)\n",
      "tf.Tensor(\n",
      "[[[1.]\n",
      "  [0.]]\n",
      "\n",
      " [[1.]\n",
      "  [0.]]], shape=(2, 2, 1), dtype=float32)\n"
     ]
    }
   ],
   "source": [
    "t1 = tf.constant([[[1,2,3,4,5,6],[1,2,3,4,5,6]],[[1,2,3,4,5,6],[1,2,3,4,5,6]]])\n",
    "\n",
    "#print(t1)\n",
    "\n",
    "#print(t3)\n",
    "t_pred = tf.constant([1,1.5,0.5,0.7,0.7,1,1,0,0,0,  0,0,0,0,0,0,0,0,0,0, 1,0.3,0.4,0.8,0.8,1,0,1,0,0,   0,0,0,0,0,0,0,0,0,0, ])\n",
    "t_pred = tf.reshape(t_pred, (2,2,10))\n",
    "\n",
    "print(t_pred)\n",
    "print(t_pred[...,0:1])"
   ]
  },
  {
   "cell_type": "code",
   "execution_count": 65,
   "metadata": {},
   "outputs": [
    {
     "ename": "NameError",
     "evalue": "name 'custom_loss' is not defined",
     "output_type": "error",
     "traceback": [
      "\u001b[1;31m---------------------------------------------------------------------------\u001b[0m",
      "\u001b[1;31mNameError\u001b[0m                                 Traceback (most recent call last)",
      "\u001b[1;32mC:\\Users\\MARKUS~1\\AppData\\Local\\Temp/ipykernel_8988/2307868686.py\u001b[0m in \u001b[0;36m<module>\u001b[1;34m\u001b[0m\n\u001b[0;32m     12\u001b[0m \u001b[1;33m\u001b[0m\u001b[0m\n\u001b[0;32m     13\u001b[0m \u001b[1;33m\u001b[0m\u001b[0m\n\u001b[1;32m---> 14\u001b[1;33m \u001b[0mx\u001b[0m \u001b[1;33m=\u001b[0m \u001b[0mcustom_loss\u001b[0m\u001b[1;33m(\u001b[0m\u001b[0mt_true\u001b[0m\u001b[1;33m,\u001b[0m \u001b[0mt_pred\u001b[0m\u001b[1;33m)\u001b[0m\u001b[1;33m\u001b[0m\u001b[1;33m\u001b[0m\u001b[0m\n\u001b[0m\u001b[0;32m     15\u001b[0m \u001b[1;33m\u001b[0m\u001b[0m\n\u001b[0;32m     16\u001b[0m \u001b[0mprint\u001b[0m\u001b[1;33m(\u001b[0m\u001b[0mx\u001b[0m\u001b[1;33m)\u001b[0m\u001b[1;33m\u001b[0m\u001b[1;33m\u001b[0m\u001b[0m\n",
      "\u001b[1;31mNameError\u001b[0m: name 'custom_loss' is not defined"
     ]
    }
   ],
   "source": [
    "t1 = tf.constant([[[1,2,3,4,5,6],[1,2,3,4,5,6]],[[1,2,3,4,5,6],[1,2,3,4,5,6]]])\n",
    "t3 = tf.constant([1,1,1,1])\n",
    "t3 = tf.cast(t3, 'float32')\n",
    "#print(t3)\n",
    "\n",
    "\n",
    "t_true = tf.constant([1,0.5,0.5,0.7,0.7,0,1,0,0,0,  0,0,0,0,0,0,0,0,0,0, 1,0.3,0.4,0.8,0.8,1,0,0,0,0,   0,0,0,0,0,0,0,0,0,0, ])\n",
    "#t_pred = tf.constant([1,1.5,0.5,0.7,0.7,1,1,0,0,0,  1,0,0,0,0,0,1,0,0,0, 1,0.3,0.4,0.8,0.8,1,0,0,0,0,   1,0,0,0,0,1,0,0,0,0, ])\n",
    "\n",
    "t_pred = tf.constant([1,1.5,0.5,0.7,0.7,1,1,0,0,0,  0,0,0,0,0,0,0,0,0,0, 1,0.3,0.4,0.8,0.8,1,0,1,0,0,   0,0,0,0,0,0,0,0,0,0, ])\n",
    "\n",
    "\n",
    "\n",
    "x = custom_loss(t_true, t_pred)\n",
    "\n",
    "print(x)\n",
    "\n",
    "t_true = tf.reshape(t_true, (2,2,10))\n",
    "t_pred = tf.reshape(t_pred, (2,2,10))\n",
    "\n",
    "\n",
    "exists_box = t_true[...,0:1]\n",
    "\n",
    "#print(tf.reshape(exists_box, 4))\n",
    "#\n",
    "#print(t_pred)\n",
    "#print(exists_box)\n",
    "#\n",
    "#test = tf.multiply(t_pred, exists_box)\n",
    "#\n",
    "#print(test)\n",
    "\n",
    "\n",
    "\n",
    "#t_pred = tf.map_fn(lambda x: 2*x, t_pred)\n",
    "\n",
    "#t_pred = tf.math.multiply(t_pred, tf.constant())\n",
    "\n",
    "#print(t_true[...,1:3])\n",
    "#\n",
    "#t_l = tf.math.squared_difference(t_true, t_pred)\n",
    "#\n",
    "#print(t_l)\n",
    "#\n",
    "#t_l = tf.math.reduce_sum(t_l)\n",
    "\n",
    "#print(t_true)\n",
    "#\n",
    "#print(t_pred)\n",
    "\n",
    "#print(t_l)"
   ]
  }
 ],
 "metadata": {
  "interpreter": {
   "hash": "6c255580c1376a53e8d62a65f4b290fc9e06ee65b5dbb546bacb4a0a6e644e58"
  },
  "kernelspec": {
   "display_name": "Python 3.9.9 64-bit (windows store)",
   "name": "python3"
  },
  "language_info": {
   "codemirror_mode": {
    "name": "ipython",
    "version": 3
   },
   "file_extension": ".py",
   "mimetype": "text/x-python",
   "name": "python",
   "nbconvert_exporter": "python",
   "pygments_lexer": "ipython3",
   "version": "3.9.7"
  },
  "orig_nbformat": 4
 },
 "nbformat": 4,
 "nbformat_minor": 2
}
